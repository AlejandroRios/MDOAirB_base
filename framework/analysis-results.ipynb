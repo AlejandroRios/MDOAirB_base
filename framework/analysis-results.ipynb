{
 "cells": [
  {
   "cell_type": "code",
   "execution_count": 328,
   "metadata": {},
   "outputs": [],
   "source": [
    "import pandas as pd\n",
    "import os\n",
    "import matplotlib.pyplot as plt\n",
    "import plotly\n",
    "from plotly.graph_objects import *\n",
    "from plotly.graph_objs import *\n",
    "import plotly.graph_objects as go\n",
    "import numpy as np\n",
    "\n",
    "plt.rcParams['figure.figsize'] = [12, 7]\n",
    "plt.rcParams['figure.dpi'] = 130 \n",
    "\n",
    "def draw_carpet(x,y,z,xname,yname,zname):\n",
    "    fig = go.Figure()\n",
    "    fig.add_trace(go.Carpet(\n",
    "    \ta=x,\n",
    "    \tb=y,\n",
    "    \ty=z,\n",
    "    \tcheaterslope=0.8,\n",
    "    \taaxis=dict(\n",
    "        \ttitle = xname,\n",
    "        \tsmoothing=0.1,\n",
    "        \tminorgridcount=10\n",
    "    \t),\n",
    "    \tbaxis=dict(\n",
    "        \ttitle =yname,\n",
    "        \tsmoothing=0.2,\n",
    "        \tminorgridcount=10,\n",
    "    \t), yaxis = \"y\"\n",
    "))\n",
    "    fig.update_yaxes(title=zname)\n",
    "    fig.show()\n",
    "    \n",
    "def draw_figure(x, y1, y2, labelx, labely1, labely2):\n",
    "    fig, host = plt.subplots()\n",
    "    par1 = host.twinx()\n",
    "    par1.set_ylabel(labely2)\n",
    "    p1, = host.plot(x, y1, label=labely1)\n",
    "    p2, = par1.plot(x, y2, label=labely2, color='r')\n",
    "    host.set_ylabel(labely1)\n",
    "    host.set_xlabel(labelx)\n",
    "    host.tick_params(axis='y', colors=p1.get_color())\n",
    "    par1.tick_params(axis='y', colors=p2.get_color())\n",
    "    plt.grid()\n",
    "    plt.draw()\n",
    "    plt.show()\n",
    "    \n",
    "def draw_figure_alt_mach_multi(xdf, y1df, y2df, n1, n2, labelx, labely1, labely2, input1, input2):\n",
    "    fig, axs = plt.subplots(n1,n2, sharex=True, sharey=True)\n",
    "    fig.suptitle(\"x = \"+labelx+\", y_blue = \"+labely1+\", y_red = \"+labely2)\n",
    "    fig.subplots_adjust(right=0.75)\n",
    "    for i in range(n1):\n",
    "        for j in range(n2):\n",
    "            y1 = np.array(y1df[n2*i+j].split(']')[0].split('[')[1].split()).astype(float)\n",
    "            y2 = np.array(y2df[n2*i+j].split(']')[0].split('[')[1].split()).astype(float)\n",
    "            x = np.array(xdf[n2*i+j].split(']')[0].split('[')[1].split()).astype(float)\n",
    "            host = axs[i,j]    \n",
    "            par1 = host.twinx()\n",
    "            p1, = host.plot(x, y1)\n",
    "            p2, = par1.plot(x, y2, color='r')\n",
    "            host.tick_params(axis='y', colors=p1.get_color())\n",
    "            par1.tick_params(axis='y', colors=p2.get_color())\n",
    "            host.set_title(\"wa={} m2, fd={} m\".format(round(input1[n2*i+j]),round(input2[n2*i+j],1)),fontsize=6)\n",
    "            if ((j+1) % n2 != 0):\n",
    "                par1.tick_params('y', labelright=False) \n",
    "    plt.grid()\n",
    "    plt.draw()\n",
    "    plt.show()"
   ]
  },
  {
   "cell_type": "code",
   "execution_count": 329,
   "metadata": {},
   "outputs": [
    {
     "name": "stdout",
     "output_type": "stream",
     "text": [
      "/Users/to127534/MDO_Projects/MDOAirB_base/framework\n"
     ]
    }
   ],
   "source": [
    "path = os.getcwd()\n",
    "print(path)\n",
    "input = pd.read_csv(path + \"/Results/analysis_input_refstudy.csv\")\n",
    "output = pd.read_csv(path + \"/Results/analysis_output_refstudy.csv\")\n"
   ]
  },
  {
   "cell_type": "code",
   "execution_count": 330,
   "metadata": {},
   "outputs": [
    {
     "name": "stdout",
     "output_type": "stream",
     "text": [
      "Failure rate =  0.0 %\n"
     ]
    }
   ],
   "source": [
    "print(\"Failure rate = \",output[\"design_status\"].sum()/output[\"status\"].count()*100,\"%\")"
   ]
  },
  {
   "cell_type": "code",
   "execution_count": 331,
   "metadata": {},
   "outputs": [
    {
     "data": {
      "text/html": [
       "<div>\n",
       "<style scoped>\n",
       "    .dataframe tbody tr th:only-of-type {\n",
       "        vertical-align: middle;\n",
       "    }\n",
       "\n",
       "    .dataframe tbody tr th {\n",
       "        vertical-align: top;\n",
       "    }\n",
       "\n",
       "    .dataframe thead th {\n",
       "        text-align: right;\n",
       "    }\n",
       "</style>\n",
       "<table border=\"1\" class=\"dataframe\">\n",
       "  <thead>\n",
       "    <tr style=\"text-align: right;\">\n",
       "      <th></th>\n",
       "      <th>WingArea</th>\n",
       "      <th>x1</th>\n",
       "      <th>x2</th>\n",
       "      <th>x3</th>\n",
       "      <th>x4</th>\n",
       "      <th>x5</th>\n",
       "      <th>x6</th>\n",
       "      <th>x7</th>\n",
       "      <th>x8</th>\n",
       "      <th>x9</th>\n",
       "      <th>FanDiameter</th>\n",
       "      <th>x11</th>\n",
       "      <th>x12</th>\n",
       "      <th>x13</th>\n",
       "      <th>x14</th>\n",
       "      <th>x15</th>\n",
       "    </tr>\n",
       "  </thead>\n",
       "  <tbody>\n",
       "    <tr>\n",
       "      <th>0</th>\n",
       "      <td>150.0</td>\n",
       "      <td>117.600000</td>\n",
       "      <td>30.0</td>\n",
       "      <td>25.0</td>\n",
       "      <td>-2.25</td>\n",
       "      <td>38.5</td>\n",
       "      <td>250.0</td>\n",
       "      <td>6.0</td>\n",
       "      <td>3000.0</td>\n",
       "      <td>80.0</td>\n",
       "      <td>16.305441</td>\n",
       "      <td>27.0</td>\n",
       "      <td>1350.0</td>\n",
       "      <td>15.0</td>\n",
       "      <td>38000.0</td>\n",
       "      <td>78.0</td>\n",
       "    </tr>\n",
       "    <tr>\n",
       "      <th>1</th>\n",
       "      <td>150.0</td>\n",
       "      <td>117.600000</td>\n",
       "      <td>30.0</td>\n",
       "      <td>25.0</td>\n",
       "      <td>-2.25</td>\n",
       "      <td>38.5</td>\n",
       "      <td>250.0</td>\n",
       "      <td>6.0</td>\n",
       "      <td>3000.0</td>\n",
       "      <td>80.0</td>\n",
       "      <td>22.000000</td>\n",
       "      <td>27.0</td>\n",
       "      <td>1350.0</td>\n",
       "      <td>15.0</td>\n",
       "      <td>38000.0</td>\n",
       "      <td>78.0</td>\n",
       "    </tr>\n",
       "    <tr>\n",
       "      <th>2</th>\n",
       "      <td>150.0</td>\n",
       "      <td>117.600000</td>\n",
       "      <td>30.0</td>\n",
       "      <td>25.0</td>\n",
       "      <td>-2.25</td>\n",
       "      <td>38.5</td>\n",
       "      <td>250.0</td>\n",
       "      <td>6.0</td>\n",
       "      <td>3000.0</td>\n",
       "      <td>80.0</td>\n",
       "      <td>27.694559</td>\n",
       "      <td>27.0</td>\n",
       "      <td>1350.0</td>\n",
       "      <td>15.0</td>\n",
       "      <td>38000.0</td>\n",
       "      <td>78.0</td>\n",
       "    </tr>\n",
       "    <tr>\n",
       "      <th>3</th>\n",
       "      <td>155.0</td>\n",
       "      <td>113.806452</td>\n",
       "      <td>30.0</td>\n",
       "      <td>25.0</td>\n",
       "      <td>-2.25</td>\n",
       "      <td>38.5</td>\n",
       "      <td>250.0</td>\n",
       "      <td>6.0</td>\n",
       "      <td>3000.0</td>\n",
       "      <td>80.0</td>\n",
       "      <td>16.305441</td>\n",
       "      <td>27.0</td>\n",
       "      <td>1350.0</td>\n",
       "      <td>15.0</td>\n",
       "      <td>38000.0</td>\n",
       "      <td>78.0</td>\n",
       "    </tr>\n",
       "    <tr>\n",
       "      <th>4</th>\n",
       "      <td>155.0</td>\n",
       "      <td>113.806452</td>\n",
       "      <td>30.0</td>\n",
       "      <td>25.0</td>\n",
       "      <td>-2.25</td>\n",
       "      <td>38.5</td>\n",
       "      <td>250.0</td>\n",
       "      <td>6.0</td>\n",
       "      <td>3000.0</td>\n",
       "      <td>80.0</td>\n",
       "      <td>22.000000</td>\n",
       "      <td>27.0</td>\n",
       "      <td>1350.0</td>\n",
       "      <td>15.0</td>\n",
       "      <td>38000.0</td>\n",
       "      <td>78.0</td>\n",
       "    </tr>\n",
       "    <tr>\n",
       "      <th>5</th>\n",
       "      <td>155.0</td>\n",
       "      <td>113.806452</td>\n",
       "      <td>30.0</td>\n",
       "      <td>25.0</td>\n",
       "      <td>-2.25</td>\n",
       "      <td>38.5</td>\n",
       "      <td>250.0</td>\n",
       "      <td>6.0</td>\n",
       "      <td>3000.0</td>\n",
       "      <td>80.0</td>\n",
       "      <td>27.694559</td>\n",
       "      <td>27.0</td>\n",
       "      <td>1350.0</td>\n",
       "      <td>15.0</td>\n",
       "      <td>38000.0</td>\n",
       "      <td>78.0</td>\n",
       "    </tr>\n",
       "    <tr>\n",
       "      <th>6</th>\n",
       "      <td>160.0</td>\n",
       "      <td>110.250000</td>\n",
       "      <td>30.0</td>\n",
       "      <td>25.0</td>\n",
       "      <td>-2.25</td>\n",
       "      <td>38.5</td>\n",
       "      <td>250.0</td>\n",
       "      <td>6.0</td>\n",
       "      <td>3000.0</td>\n",
       "      <td>80.0</td>\n",
       "      <td>16.305441</td>\n",
       "      <td>27.0</td>\n",
       "      <td>1350.0</td>\n",
       "      <td>15.0</td>\n",
       "      <td>38000.0</td>\n",
       "      <td>78.0</td>\n",
       "    </tr>\n",
       "    <tr>\n",
       "      <th>7</th>\n",
       "      <td>160.0</td>\n",
       "      <td>110.250000</td>\n",
       "      <td>30.0</td>\n",
       "      <td>25.0</td>\n",
       "      <td>-2.25</td>\n",
       "      <td>38.5</td>\n",
       "      <td>250.0</td>\n",
       "      <td>6.0</td>\n",
       "      <td>3000.0</td>\n",
       "      <td>80.0</td>\n",
       "      <td>22.000000</td>\n",
       "      <td>27.0</td>\n",
       "      <td>1350.0</td>\n",
       "      <td>15.0</td>\n",
       "      <td>38000.0</td>\n",
       "      <td>78.0</td>\n",
       "    </tr>\n",
       "    <tr>\n",
       "      <th>8</th>\n",
       "      <td>160.0</td>\n",
       "      <td>110.250000</td>\n",
       "      <td>30.0</td>\n",
       "      <td>25.0</td>\n",
       "      <td>-2.25</td>\n",
       "      <td>38.5</td>\n",
       "      <td>250.0</td>\n",
       "      <td>6.0</td>\n",
       "      <td>3000.0</td>\n",
       "      <td>80.0</td>\n",
       "      <td>27.694559</td>\n",
       "      <td>27.0</td>\n",
       "      <td>1350.0</td>\n",
       "      <td>15.0</td>\n",
       "      <td>38000.0</td>\n",
       "      <td>78.0</td>\n",
       "    </tr>\n",
       "  </tbody>\n",
       "</table>\n",
       "</div>"
      ],
      "text/plain": [
       "   WingArea          x1    x2    x3    x4    x5     x6   x7      x8    x9  \\\n",
       "0     150.0  117.600000  30.0  25.0 -2.25  38.5  250.0  6.0  3000.0  80.0   \n",
       "1     150.0  117.600000  30.0  25.0 -2.25  38.5  250.0  6.0  3000.0  80.0   \n",
       "2     150.0  117.600000  30.0  25.0 -2.25  38.5  250.0  6.0  3000.0  80.0   \n",
       "3     155.0  113.806452  30.0  25.0 -2.25  38.5  250.0  6.0  3000.0  80.0   \n",
       "4     155.0  113.806452  30.0  25.0 -2.25  38.5  250.0  6.0  3000.0  80.0   \n",
       "5     155.0  113.806452  30.0  25.0 -2.25  38.5  250.0  6.0  3000.0  80.0   \n",
       "6     160.0  110.250000  30.0  25.0 -2.25  38.5  250.0  6.0  3000.0  80.0   \n",
       "7     160.0  110.250000  30.0  25.0 -2.25  38.5  250.0  6.0  3000.0  80.0   \n",
       "8     160.0  110.250000  30.0  25.0 -2.25  38.5  250.0  6.0  3000.0  80.0   \n",
       "\n",
       "   FanDiameter   x11     x12   x13      x14   x15  \n",
       "0    16.305441  27.0  1350.0  15.0  38000.0  78.0  \n",
       "1    22.000000  27.0  1350.0  15.0  38000.0  78.0  \n",
       "2    27.694559  27.0  1350.0  15.0  38000.0  78.0  \n",
       "3    16.305441  27.0  1350.0  15.0  38000.0  78.0  \n",
       "4    22.000000  27.0  1350.0  15.0  38000.0  78.0  \n",
       "5    27.694559  27.0  1350.0  15.0  38000.0  78.0  \n",
       "6    16.305441  27.0  1350.0  15.0  38000.0  78.0  \n",
       "7    22.000000  27.0  1350.0  15.0  38000.0  78.0  \n",
       "8    27.694559  27.0  1350.0  15.0  38000.0  78.0  "
      ]
     },
     "execution_count": 331,
     "metadata": {},
     "output_type": "execute_result"
    }
   ],
   "source": [
    "input"
   ]
  },
  {
   "cell_type": "code",
   "execution_count": 332,
   "metadata": {},
   "outputs": [
    {
     "data": {
      "text/html": [
       "<div>\n",
       "<style scoped>\n",
       "    .dataframe tbody tr th:only-of-type {\n",
       "        vertical-align: middle;\n",
       "    }\n",
       "\n",
       "    .dataframe tbody tr th {\n",
       "        vertical-align: top;\n",
       "    }\n",
       "\n",
       "    .dataframe thead th {\n",
       "        text-align: right;\n",
       "    }\n",
       "</style>\n",
       "<table border=\"1\" class=\"dataframe\">\n",
       "  <thead>\n",
       "    <tr style=\"text-align: right;\">\n",
       "      <th></th>\n",
       "      <th>MTOW</th>\n",
       "      <th>DOC</th>\n",
       "      <th>fuel_mass</th>\n",
       "      <th>total_mission_flight_time</th>\n",
       "      <th>mach</th>\n",
       "      <th>passenger_capacity</th>\n",
       "      <th>SAR</th>\n",
       "      <th>landing_field_length_computed</th>\n",
       "      <th>takeoff_field_length_computed</th>\n",
       "      <th>app_speed</th>\n",
       "      <th>...</th>\n",
       "      <th>mass</th>\n",
       "      <th>time</th>\n",
       "      <th>sfc</th>\n",
       "      <th>thrust</th>\n",
       "      <th>CL</th>\n",
       "      <th>CD</th>\n",
       "      <th>LoD</th>\n",
       "      <th>throttle</th>\n",
       "      <th>vcas</th>\n",
       "      <th>OWE</th>\n",
       "    </tr>\n",
       "  </thead>\n",
       "  <tbody>\n",
       "    <tr>\n",
       "      <th>0</th>\n",
       "      <td>109916.458599</td>\n",
       "      <td>12209.683362</td>\n",
       "      <td>5338.242967</td>\n",
       "      <td>237.514385</td>\n",
       "      <td>[0.43446873 0.43446873 0.43446873 0.43446875 0...</td>\n",
       "      <td>249.0</td>\n",
       "      <td>6.672804</td>\n",
       "      <td>1926.601845</td>\n",
       "      <td>3868.989418</td>\n",
       "      <td>71.767156</td>\n",
       "      <td>...</td>\n",
       "      <td>[92778.05906943 92778.05906942 92778.05906941 ...</td>\n",
       "      <td>[0.00000000e+00 1.09349049e-10 2.18698097e-10 ...</td>\n",
       "      <td>[0.42130741 0.42130741 0.42130741 0.42130741 0...</td>\n",
       "      <td>[50393.58772235 50393.58772218 50393.58772201 ...</td>\n",
       "      <td>[0.47841776 0.47841776 0.47841776 0.47841776 0...</td>\n",
       "      <td>[0.02735842 0.02735842 0.02735842 0.02735842 0...</td>\n",
       "      <td>[17.4870411  17.4870411  17.4870411  17.487041...</td>\n",
       "      <td>[0.95 0.95 0.95 0.95 0.95 0.95 0.95 0.95 0.95 ...</td>\n",
       "      <td>[280.00000474 280.00000474 280.00000474 280.00...</td>\n",
       "      <td>56884.950121</td>\n",
       "    </tr>\n",
       "    <tr>\n",
       "      <th>1</th>\n",
       "      <td>115254.631598</td>\n",
       "      <td>12338.001784</td>\n",
       "      <td>5890.652094</td>\n",
       "      <td>220.081170</td>\n",
       "      <td>[0.43446873 0.43446873 0.43446873 0.43446877 0...</td>\n",
       "      <td>244.0</td>\n",
       "      <td>7.363315</td>\n",
       "      <td>1961.310695</td>\n",
       "      <td>2067.062293</td>\n",
       "      <td>72.508408</td>\n",
       "      <td>...</td>\n",
       "      <td>[95163.47185933 95163.47185932 95163.4718593  ...</td>\n",
       "      <td>[0.00000000e+00 1.10105985e-10 2.20211970e-10 ...</td>\n",
       "      <td>[0.42130741 0.42130741 0.42130741 0.42130742 0...</td>\n",
       "      <td>[91739.32309621 91739.32309539 91739.32309458 ...</td>\n",
       "      <td>[0.49071833 0.49071833 0.49071833 0.49071834 0...</td>\n",
       "      <td>[0.02803544 0.02803544 0.02803544 0.02803544 0...</td>\n",
       "      <td>[17.50350002 17.50350002 17.50350002 17.503500...</td>\n",
       "      <td>[0.95 0.95 0.95 0.95 0.95 0.95 0.95 0.95 0.95 ...</td>\n",
       "      <td>[280.00000474 280.00000474 280.00000474 280.00...</td>\n",
       "      <td>59157.500254</td>\n",
       "    </tr>\n",
       "    <tr>\n",
       "      <th>2</th>\n",
       "      <td>123757.825317</td>\n",
       "      <td>13753.142615</td>\n",
       "      <td>6233.581751</td>\n",
       "      <td>218.952043</td>\n",
       "      <td>[0.43446873 0.43446873 0.43446873 0.43446879 0...</td>\n",
       "      <td>239.0</td>\n",
       "      <td>7.791977</td>\n",
       "      <td>2087.155170</td>\n",
       "      <td>1469.219204</td>\n",
       "      <td>75.134680</td>\n",
       "      <td>...</td>\n",
       "      <td>[102070.61433623 102070.61433621 102070.614336...</td>\n",
       "      <td>[0.00000000e+00 1.11777568e-10 2.23555136e-10 ...</td>\n",
       "      <td>[0.42130741 0.42130741 0.42130741 0.42130742 0...</td>\n",
       "      <td>[145378.12776495 145378.12776276 145378.127760...</td>\n",
       "      <td>[0.52633559 0.52633559 0.52633559 0.52633559 0...</td>\n",
       "      <td>[0.02958091 0.02958091 0.02958091 0.02958091 0...</td>\n",
       "      <td>[17.7930839  17.7930839  17.7930839  17.793083...</td>\n",
       "      <td>[0.95 0.95 0.95 0.95 0.95 0.95 0.95 0.95 0.95 ...</td>\n",
       "      <td>[280.00000474 280.00000474 280.00000474 280.00...</td>\n",
       "      <td>66103.002882</td>\n",
       "    </tr>\n",
       "    <tr>\n",
       "      <th>3</th>\n",
       "      <td>109423.408092</td>\n",
       "      <td>12144.752550</td>\n",
       "      <td>5394.216590</td>\n",
       "      <td>236.627169</td>\n",
       "      <td>[0.43446873 0.43446873 0.43446873 0.43446875 0...</td>\n",
       "      <td>250.0</td>\n",
       "      <td>6.742771</td>\n",
       "      <td>1866.906602</td>\n",
       "      <td>3715.453549</td>\n",
       "      <td>70.474054</td>\n",
       "      <td>...</td>\n",
       "      <td>[92485.28025666 92485.28025665 92485.28025664 ...</td>\n",
       "      <td>[0.00000000e+00 1.09347883e-10 2.18695767e-10 ...</td>\n",
       "      <td>[0.42130741 0.42130741 0.42130741 0.42130741 0...</td>\n",
       "      <td>[50393.58772235 50393.58772218 50393.58772201 ...</td>\n",
       "      <td>[0.46152389 0.46152389 0.46152389 0.46152389 0...</td>\n",
       "      <td>[0.0266655  0.0266655  0.0266655  0.0266655  0...</td>\n",
       "      <td>[17.30790406 17.30790406 17.30790406 17.307904...</td>\n",
       "      <td>[0.95 0.95 0.95 0.95 0.95 0.95 0.95 0.95 0.95 ...</td>\n",
       "      <td>[280.00000474 280.00000474 280.00000474 280.00...</td>\n",
       "      <td>56456.719820</td>\n",
       "    </tr>\n",
       "    <tr>\n",
       "      <th>4</th>\n",
       "      <td>115689.754008</td>\n",
       "      <td>12457.724587</td>\n",
       "      <td>5888.671544</td>\n",
       "      <td>221.390995</td>\n",
       "      <td>[0.43446873 0.43446873 0.43446873 0.43446877 0...</td>\n",
       "      <td>246.0</td>\n",
       "      <td>7.360839</td>\n",
       "      <td>1906.916458</td>\n",
       "      <td>2023.374762</td>\n",
       "      <td>71.343326</td>\n",
       "      <td>...</td>\n",
       "      <td>[95196.01417542 95196.01417541 95196.01417539 ...</td>\n",
       "      <td>[0.00000000e+00 1.10099304e-10 2.20198607e-10 ...</td>\n",
       "      <td>[0.42130741 0.42130741 0.42130741 0.42130742 0...</td>\n",
       "      <td>[91739.32309621 91739.3230954  91739.32309459 ...</td>\n",
       "      <td>[0.4750511  0.4750511  0.4750511  0.47505111 0...</td>\n",
       "      <td>[0.02735559 0.02735559 0.02735559 0.02735559 0...</td>\n",
       "      <td>[17.36577932 17.36577932 17.36577932 17.365779...</td>\n",
       "      <td>[0.95 0.95 0.95 0.95 0.95 0.95 0.95 0.95 0.95 ...</td>\n",
       "      <td>[280.00000474 280.00000474 280.00000474 280.00...</td>\n",
       "      <td>59038.676870</td>\n",
       "    </tr>\n",
       "  </tbody>\n",
       "</table>\n",
       "<p>5 rows × 24 columns</p>\n",
       "</div>"
      ],
      "text/plain": [
       "            MTOW           DOC    fuel_mass  total_mission_flight_time  \\\n",
       "0  109916.458599  12209.683362  5338.242967                 237.514385   \n",
       "1  115254.631598  12338.001784  5890.652094                 220.081170   \n",
       "2  123757.825317  13753.142615  6233.581751                 218.952043   \n",
       "3  109423.408092  12144.752550  5394.216590                 236.627169   \n",
       "4  115689.754008  12457.724587  5888.671544                 221.390995   \n",
       "\n",
       "                                                mach  passenger_capacity  \\\n",
       "0  [0.43446873 0.43446873 0.43446873 0.43446875 0...               249.0   \n",
       "1  [0.43446873 0.43446873 0.43446873 0.43446877 0...               244.0   \n",
       "2  [0.43446873 0.43446873 0.43446873 0.43446879 0...               239.0   \n",
       "3  [0.43446873 0.43446873 0.43446873 0.43446875 0...               250.0   \n",
       "4  [0.43446873 0.43446873 0.43446873 0.43446877 0...               246.0   \n",
       "\n",
       "        SAR  landing_field_length_computed  takeoff_field_length_computed  \\\n",
       "0  6.672804                    1926.601845                    3868.989418   \n",
       "1  7.363315                    1961.310695                    2067.062293   \n",
       "2  7.791977                    2087.155170                    1469.219204   \n",
       "3  6.742771                    1866.906602                    3715.453549   \n",
       "4  7.360839                    1906.916458                    2023.374762   \n",
       "\n",
       "   app_speed  ...                                               mass  \\\n",
       "0  71.767156  ...  [92778.05906943 92778.05906942 92778.05906941 ...   \n",
       "1  72.508408  ...  [95163.47185933 95163.47185932 95163.4718593  ...   \n",
       "2  75.134680  ...  [102070.61433623 102070.61433621 102070.614336...   \n",
       "3  70.474054  ...  [92485.28025666 92485.28025665 92485.28025664 ...   \n",
       "4  71.343326  ...  [95196.01417542 95196.01417541 95196.01417539 ...   \n",
       "\n",
       "                                                time  \\\n",
       "0  [0.00000000e+00 1.09349049e-10 2.18698097e-10 ...   \n",
       "1  [0.00000000e+00 1.10105985e-10 2.20211970e-10 ...   \n",
       "2  [0.00000000e+00 1.11777568e-10 2.23555136e-10 ...   \n",
       "3  [0.00000000e+00 1.09347883e-10 2.18695767e-10 ...   \n",
       "4  [0.00000000e+00 1.10099304e-10 2.20198607e-10 ...   \n",
       "\n",
       "                                                 sfc  \\\n",
       "0  [0.42130741 0.42130741 0.42130741 0.42130741 0...   \n",
       "1  [0.42130741 0.42130741 0.42130741 0.42130742 0...   \n",
       "2  [0.42130741 0.42130741 0.42130741 0.42130742 0...   \n",
       "3  [0.42130741 0.42130741 0.42130741 0.42130741 0...   \n",
       "4  [0.42130741 0.42130741 0.42130741 0.42130742 0...   \n",
       "\n",
       "                                              thrust  \\\n",
       "0  [50393.58772235 50393.58772218 50393.58772201 ...   \n",
       "1  [91739.32309621 91739.32309539 91739.32309458 ...   \n",
       "2  [145378.12776495 145378.12776276 145378.127760...   \n",
       "3  [50393.58772235 50393.58772218 50393.58772201 ...   \n",
       "4  [91739.32309621 91739.3230954  91739.32309459 ...   \n",
       "\n",
       "                                                  CL  \\\n",
       "0  [0.47841776 0.47841776 0.47841776 0.47841776 0...   \n",
       "1  [0.49071833 0.49071833 0.49071833 0.49071834 0...   \n",
       "2  [0.52633559 0.52633559 0.52633559 0.52633559 0...   \n",
       "3  [0.46152389 0.46152389 0.46152389 0.46152389 0...   \n",
       "4  [0.4750511  0.4750511  0.4750511  0.47505111 0...   \n",
       "\n",
       "                                                  CD  \\\n",
       "0  [0.02735842 0.02735842 0.02735842 0.02735842 0...   \n",
       "1  [0.02803544 0.02803544 0.02803544 0.02803544 0...   \n",
       "2  [0.02958091 0.02958091 0.02958091 0.02958091 0...   \n",
       "3  [0.0266655  0.0266655  0.0266655  0.0266655  0...   \n",
       "4  [0.02735559 0.02735559 0.02735559 0.02735559 0...   \n",
       "\n",
       "                                                 LoD  \\\n",
       "0  [17.4870411  17.4870411  17.4870411  17.487041...   \n",
       "1  [17.50350002 17.50350002 17.50350002 17.503500...   \n",
       "2  [17.7930839  17.7930839  17.7930839  17.793083...   \n",
       "3  [17.30790406 17.30790406 17.30790406 17.307904...   \n",
       "4  [17.36577932 17.36577932 17.36577932 17.365779...   \n",
       "\n",
       "                                            throttle  \\\n",
       "0  [0.95 0.95 0.95 0.95 0.95 0.95 0.95 0.95 0.95 ...   \n",
       "1  [0.95 0.95 0.95 0.95 0.95 0.95 0.95 0.95 0.95 ...   \n",
       "2  [0.95 0.95 0.95 0.95 0.95 0.95 0.95 0.95 0.95 ...   \n",
       "3  [0.95 0.95 0.95 0.95 0.95 0.95 0.95 0.95 0.95 ...   \n",
       "4  [0.95 0.95 0.95 0.95 0.95 0.95 0.95 0.95 0.95 ...   \n",
       "\n",
       "                                                vcas           OWE  \n",
       "0  [280.00000474 280.00000474 280.00000474 280.00...  56884.950121  \n",
       "1  [280.00000474 280.00000474 280.00000474 280.00...  59157.500254  \n",
       "2  [280.00000474 280.00000474 280.00000474 280.00...  66103.002882  \n",
       "3  [280.00000474 280.00000474 280.00000474 280.00...  56456.719820  \n",
       "4  [280.00000474 280.00000474 280.00000474 280.00...  59038.676870  \n",
       "\n",
       "[5 rows x 24 columns]"
      ]
     },
     "execution_count": 332,
     "metadata": {},
     "output_type": "execute_result"
    }
   ],
   "source": [
    "output.head()"
   ]
  },
  {
   "cell_type": "code",
   "execution_count": 349,
   "metadata": {},
   "outputs": [
    {
     "data": {
      "application/vnd.plotly.v1+json": {
       "config": {
        "plotlyServerURL": "https://plot.ly"
       },
       "data": [
        {
         "a": [
          150,
          150,
          150,
          155,
          155,
          155,
          160,
          160,
          160
         ],
         "aaxis": {
          "minorgridcount": 10,
          "smoothing": 0.1,
          "title": {
           "text": "Wing Area (m2)"
          }
         },
         "b": [
          1.6305441193560295,
          2.2,
          2.7694558806439704,
          1.6305441193560295,
          2.2,
          2.7694558806439704,
          1.6305441193560295,
          2.2,
          2.7694558806439704
         ],
         "baxis": {
          "minorgridcount": 10,
          "smoothing": 0.2,
          "title": {
           "text": "Fan Diameter (m)"
          }
         },
         "cheaterslope": 0.8,
         "type": "carpet",
         "y": [
          5338.242967186012,
          5890.65209351687,
          6233.5817513249,
          5394.216589928273,
          5888.671544003008,
          6298.294473078401,
          5323.297653410252,
          5931.8209122837225,
          6319.359822461578
         ],
         "yaxis": "y"
        }
       ],
       "layout": {
        "template": {
         "data": {
          "bar": [
           {
            "error_x": {
             "color": "#2a3f5f"
            },
            "error_y": {
             "color": "#2a3f5f"
            },
            "marker": {
             "line": {
              "color": "#E5ECF6",
              "width": 0.5
             },
             "pattern": {
              "fillmode": "overlay",
              "size": 10,
              "solidity": 0.2
             }
            },
            "type": "bar"
           }
          ],
          "barpolar": [
           {
            "marker": {
             "line": {
              "color": "#E5ECF6",
              "width": 0.5
             },
             "pattern": {
              "fillmode": "overlay",
              "size": 10,
              "solidity": 0.2
             }
            },
            "type": "barpolar"
           }
          ],
          "carpet": [
           {
            "aaxis": {
             "endlinecolor": "#2a3f5f",
             "gridcolor": "white",
             "linecolor": "white",
             "minorgridcolor": "white",
             "startlinecolor": "#2a3f5f"
            },
            "baxis": {
             "endlinecolor": "#2a3f5f",
             "gridcolor": "white",
             "linecolor": "white",
             "minorgridcolor": "white",
             "startlinecolor": "#2a3f5f"
            },
            "type": "carpet"
           }
          ],
          "choropleth": [
           {
            "colorbar": {
             "outlinewidth": 0,
             "ticks": ""
            },
            "type": "choropleth"
           }
          ],
          "contour": [
           {
            "colorbar": {
             "outlinewidth": 0,
             "ticks": ""
            },
            "colorscale": [
             [
              0,
              "#0d0887"
             ],
             [
              0.1111111111111111,
              "#46039f"
             ],
             [
              0.2222222222222222,
              "#7201a8"
             ],
             [
              0.3333333333333333,
              "#9c179e"
             ],
             [
              0.4444444444444444,
              "#bd3786"
             ],
             [
              0.5555555555555556,
              "#d8576b"
             ],
             [
              0.6666666666666666,
              "#ed7953"
             ],
             [
              0.7777777777777778,
              "#fb9f3a"
             ],
             [
              0.8888888888888888,
              "#fdca26"
             ],
             [
              1,
              "#f0f921"
             ]
            ],
            "type": "contour"
           }
          ],
          "contourcarpet": [
           {
            "colorbar": {
             "outlinewidth": 0,
             "ticks": ""
            },
            "type": "contourcarpet"
           }
          ],
          "heatmap": [
           {
            "colorbar": {
             "outlinewidth": 0,
             "ticks": ""
            },
            "colorscale": [
             [
              0,
              "#0d0887"
             ],
             [
              0.1111111111111111,
              "#46039f"
             ],
             [
              0.2222222222222222,
              "#7201a8"
             ],
             [
              0.3333333333333333,
              "#9c179e"
             ],
             [
              0.4444444444444444,
              "#bd3786"
             ],
             [
              0.5555555555555556,
              "#d8576b"
             ],
             [
              0.6666666666666666,
              "#ed7953"
             ],
             [
              0.7777777777777778,
              "#fb9f3a"
             ],
             [
              0.8888888888888888,
              "#fdca26"
             ],
             [
              1,
              "#f0f921"
             ]
            ],
            "type": "heatmap"
           }
          ],
          "heatmapgl": [
           {
            "colorbar": {
             "outlinewidth": 0,
             "ticks": ""
            },
            "colorscale": [
             [
              0,
              "#0d0887"
             ],
             [
              0.1111111111111111,
              "#46039f"
             ],
             [
              0.2222222222222222,
              "#7201a8"
             ],
             [
              0.3333333333333333,
              "#9c179e"
             ],
             [
              0.4444444444444444,
              "#bd3786"
             ],
             [
              0.5555555555555556,
              "#d8576b"
             ],
             [
              0.6666666666666666,
              "#ed7953"
             ],
             [
              0.7777777777777778,
              "#fb9f3a"
             ],
             [
              0.8888888888888888,
              "#fdca26"
             ],
             [
              1,
              "#f0f921"
             ]
            ],
            "type": "heatmapgl"
           }
          ],
          "histogram": [
           {
            "marker": {
             "pattern": {
              "fillmode": "overlay",
              "size": 10,
              "solidity": 0.2
             }
            },
            "type": "histogram"
           }
          ],
          "histogram2d": [
           {
            "colorbar": {
             "outlinewidth": 0,
             "ticks": ""
            },
            "colorscale": [
             [
              0,
              "#0d0887"
             ],
             [
              0.1111111111111111,
              "#46039f"
             ],
             [
              0.2222222222222222,
              "#7201a8"
             ],
             [
              0.3333333333333333,
              "#9c179e"
             ],
             [
              0.4444444444444444,
              "#bd3786"
             ],
             [
              0.5555555555555556,
              "#d8576b"
             ],
             [
              0.6666666666666666,
              "#ed7953"
             ],
             [
              0.7777777777777778,
              "#fb9f3a"
             ],
             [
              0.8888888888888888,
              "#fdca26"
             ],
             [
              1,
              "#f0f921"
             ]
            ],
            "type": "histogram2d"
           }
          ],
          "histogram2dcontour": [
           {
            "colorbar": {
             "outlinewidth": 0,
             "ticks": ""
            },
            "colorscale": [
             [
              0,
              "#0d0887"
             ],
             [
              0.1111111111111111,
              "#46039f"
             ],
             [
              0.2222222222222222,
              "#7201a8"
             ],
             [
              0.3333333333333333,
              "#9c179e"
             ],
             [
              0.4444444444444444,
              "#bd3786"
             ],
             [
              0.5555555555555556,
              "#d8576b"
             ],
             [
              0.6666666666666666,
              "#ed7953"
             ],
             [
              0.7777777777777778,
              "#fb9f3a"
             ],
             [
              0.8888888888888888,
              "#fdca26"
             ],
             [
              1,
              "#f0f921"
             ]
            ],
            "type": "histogram2dcontour"
           }
          ],
          "mesh3d": [
           {
            "colorbar": {
             "outlinewidth": 0,
             "ticks": ""
            },
            "type": "mesh3d"
           }
          ],
          "parcoords": [
           {
            "line": {
             "colorbar": {
              "outlinewidth": 0,
              "ticks": ""
             }
            },
            "type": "parcoords"
           }
          ],
          "pie": [
           {
            "automargin": true,
            "type": "pie"
           }
          ],
          "scatter": [
           {
            "marker": {
             "colorbar": {
              "outlinewidth": 0,
              "ticks": ""
             }
            },
            "type": "scatter"
           }
          ],
          "scatter3d": [
           {
            "line": {
             "colorbar": {
              "outlinewidth": 0,
              "ticks": ""
             }
            },
            "marker": {
             "colorbar": {
              "outlinewidth": 0,
              "ticks": ""
             }
            },
            "type": "scatter3d"
           }
          ],
          "scattercarpet": [
           {
            "marker": {
             "colorbar": {
              "outlinewidth": 0,
              "ticks": ""
             }
            },
            "type": "scattercarpet"
           }
          ],
          "scattergeo": [
           {
            "marker": {
             "colorbar": {
              "outlinewidth": 0,
              "ticks": ""
             }
            },
            "type": "scattergeo"
           }
          ],
          "scattergl": [
           {
            "marker": {
             "colorbar": {
              "outlinewidth": 0,
              "ticks": ""
             }
            },
            "type": "scattergl"
           }
          ],
          "scattermapbox": [
           {
            "marker": {
             "colorbar": {
              "outlinewidth": 0,
              "ticks": ""
             }
            },
            "type": "scattermapbox"
           }
          ],
          "scatterpolar": [
           {
            "marker": {
             "colorbar": {
              "outlinewidth": 0,
              "ticks": ""
             }
            },
            "type": "scatterpolar"
           }
          ],
          "scatterpolargl": [
           {
            "marker": {
             "colorbar": {
              "outlinewidth": 0,
              "ticks": ""
             }
            },
            "type": "scatterpolargl"
           }
          ],
          "scatterternary": [
           {
            "marker": {
             "colorbar": {
              "outlinewidth": 0,
              "ticks": ""
             }
            },
            "type": "scatterternary"
           }
          ],
          "surface": [
           {
            "colorbar": {
             "outlinewidth": 0,
             "ticks": ""
            },
            "colorscale": [
             [
              0,
              "#0d0887"
             ],
             [
              0.1111111111111111,
              "#46039f"
             ],
             [
              0.2222222222222222,
              "#7201a8"
             ],
             [
              0.3333333333333333,
              "#9c179e"
             ],
             [
              0.4444444444444444,
              "#bd3786"
             ],
             [
              0.5555555555555556,
              "#d8576b"
             ],
             [
              0.6666666666666666,
              "#ed7953"
             ],
             [
              0.7777777777777778,
              "#fb9f3a"
             ],
             [
              0.8888888888888888,
              "#fdca26"
             ],
             [
              1,
              "#f0f921"
             ]
            ],
            "type": "surface"
           }
          ],
          "table": [
           {
            "cells": {
             "fill": {
              "color": "#EBF0F8"
             },
             "line": {
              "color": "white"
             }
            },
            "header": {
             "fill": {
              "color": "#C8D4E3"
             },
             "line": {
              "color": "white"
             }
            },
            "type": "table"
           }
          ]
         },
         "layout": {
          "annotationdefaults": {
           "arrowcolor": "#2a3f5f",
           "arrowhead": 0,
           "arrowwidth": 1
          },
          "autotypenumbers": "strict",
          "coloraxis": {
           "colorbar": {
            "outlinewidth": 0,
            "ticks": ""
           }
          },
          "colorscale": {
           "diverging": [
            [
             0,
             "#8e0152"
            ],
            [
             0.1,
             "#c51b7d"
            ],
            [
             0.2,
             "#de77ae"
            ],
            [
             0.3,
             "#f1b6da"
            ],
            [
             0.4,
             "#fde0ef"
            ],
            [
             0.5,
             "#f7f7f7"
            ],
            [
             0.6,
             "#e6f5d0"
            ],
            [
             0.7,
             "#b8e186"
            ],
            [
             0.8,
             "#7fbc41"
            ],
            [
             0.9,
             "#4d9221"
            ],
            [
             1,
             "#276419"
            ]
           ],
           "sequential": [
            [
             0,
             "#0d0887"
            ],
            [
             0.1111111111111111,
             "#46039f"
            ],
            [
             0.2222222222222222,
             "#7201a8"
            ],
            [
             0.3333333333333333,
             "#9c179e"
            ],
            [
             0.4444444444444444,
             "#bd3786"
            ],
            [
             0.5555555555555556,
             "#d8576b"
            ],
            [
             0.6666666666666666,
             "#ed7953"
            ],
            [
             0.7777777777777778,
             "#fb9f3a"
            ],
            [
             0.8888888888888888,
             "#fdca26"
            ],
            [
             1,
             "#f0f921"
            ]
           ],
           "sequentialminus": [
            [
             0,
             "#0d0887"
            ],
            [
             0.1111111111111111,
             "#46039f"
            ],
            [
             0.2222222222222222,
             "#7201a8"
            ],
            [
             0.3333333333333333,
             "#9c179e"
            ],
            [
             0.4444444444444444,
             "#bd3786"
            ],
            [
             0.5555555555555556,
             "#d8576b"
            ],
            [
             0.6666666666666666,
             "#ed7953"
            ],
            [
             0.7777777777777778,
             "#fb9f3a"
            ],
            [
             0.8888888888888888,
             "#fdca26"
            ],
            [
             1,
             "#f0f921"
            ]
           ]
          },
          "colorway": [
           "#636efa",
           "#EF553B",
           "#00cc96",
           "#ab63fa",
           "#FFA15A",
           "#19d3f3",
           "#FF6692",
           "#B6E880",
           "#FF97FF",
           "#FECB52"
          ],
          "font": {
           "color": "#2a3f5f"
          },
          "geo": {
           "bgcolor": "white",
           "lakecolor": "white",
           "landcolor": "#E5ECF6",
           "showlakes": true,
           "showland": true,
           "subunitcolor": "white"
          },
          "hoverlabel": {
           "align": "left"
          },
          "hovermode": "closest",
          "mapbox": {
           "style": "light"
          },
          "paper_bgcolor": "white",
          "plot_bgcolor": "#E5ECF6",
          "polar": {
           "angularaxis": {
            "gridcolor": "white",
            "linecolor": "white",
            "ticks": ""
           },
           "bgcolor": "#E5ECF6",
           "radialaxis": {
            "gridcolor": "white",
            "linecolor": "white",
            "ticks": ""
           }
          },
          "scene": {
           "xaxis": {
            "backgroundcolor": "#E5ECF6",
            "gridcolor": "white",
            "gridwidth": 2,
            "linecolor": "white",
            "showbackground": true,
            "ticks": "",
            "zerolinecolor": "white"
           },
           "yaxis": {
            "backgroundcolor": "#E5ECF6",
            "gridcolor": "white",
            "gridwidth": 2,
            "linecolor": "white",
            "showbackground": true,
            "ticks": "",
            "zerolinecolor": "white"
           },
           "zaxis": {
            "backgroundcolor": "#E5ECF6",
            "gridcolor": "white",
            "gridwidth": 2,
            "linecolor": "white",
            "showbackground": true,
            "ticks": "",
            "zerolinecolor": "white"
           }
          },
          "shapedefaults": {
           "line": {
            "color": "#2a3f5f"
           }
          },
          "ternary": {
           "aaxis": {
            "gridcolor": "white",
            "linecolor": "white",
            "ticks": ""
           },
           "baxis": {
            "gridcolor": "white",
            "linecolor": "white",
            "ticks": ""
           },
           "bgcolor": "#E5ECF6",
           "caxis": {
            "gridcolor": "white",
            "linecolor": "white",
            "ticks": ""
           }
          },
          "title": {
           "x": 0.05
          },
          "xaxis": {
           "automargin": true,
           "gridcolor": "white",
           "linecolor": "white",
           "ticks": "",
           "title": {
            "standoff": 15
           },
           "zerolinecolor": "white",
           "zerolinewidth": 2
          },
          "yaxis": {
           "automargin": true,
           "gridcolor": "white",
           "linecolor": "white",
           "ticks": "",
           "title": {
            "standoff": 15
           },
           "zerolinecolor": "white",
           "zerolinewidth": 2
          }
         }
        },
        "yaxis": {
         "title": {
          "text": "Fuel (kg)"
         }
        }
       }
      },
      "text/html": [
       "<div>                            <div id=\"641fddbb-b678-4fd0-a96b-58dfb3eab941\" class=\"plotly-graph-div\" style=\"height:525px; width:100%;\"></div>            <script type=\"text/javascript\">                require([\"plotly\"], function(Plotly) {                    window.PLOTLYENV=window.PLOTLYENV || {};                                    if (document.getElementById(\"641fddbb-b678-4fd0-a96b-58dfb3eab941\")) {                    Plotly.newPlot(                        \"641fddbb-b678-4fd0-a96b-58dfb3eab941\",                        [{\"a\":[150.0,150.0,150.0,155.0,155.0,155.0,160.0,160.0,160.0],\"aaxis\":{\"minorgridcount\":10,\"smoothing\":0.1,\"title\":{\"text\":\"Wing Area (m2)\"}},\"b\":[1.6305441193560295,2.2,2.7694558806439704,1.6305441193560295,2.2,2.7694558806439704,1.6305441193560295,2.2,2.7694558806439704],\"baxis\":{\"minorgridcount\":10,\"smoothing\":0.2,\"title\":{\"text\":\"Fan Diameter (m)\"}},\"cheaterslope\":0.8,\"y\":[5338.242967186012,5890.65209351687,6233.5817513249,5394.216589928273,5888.671544003008,6298.294473078401,5323.297653410252,5931.8209122837225,6319.359822461578],\"yaxis\":\"y\",\"type\":\"carpet\"}],                        {\"template\":{\"data\":{\"bar\":[{\"error_x\":{\"color\":\"#2a3f5f\"},\"error_y\":{\"color\":\"#2a3f5f\"},\"marker\":{\"line\":{\"color\":\"#E5ECF6\",\"width\":0.5},\"pattern\":{\"fillmode\":\"overlay\",\"size\":10,\"solidity\":0.2}},\"type\":\"bar\"}],\"barpolar\":[{\"marker\":{\"line\":{\"color\":\"#E5ECF6\",\"width\":0.5},\"pattern\":{\"fillmode\":\"overlay\",\"size\":10,\"solidity\":0.2}},\"type\":\"barpolar\"}],\"carpet\":[{\"aaxis\":{\"endlinecolor\":\"#2a3f5f\",\"gridcolor\":\"white\",\"linecolor\":\"white\",\"minorgridcolor\":\"white\",\"startlinecolor\":\"#2a3f5f\"},\"baxis\":{\"endlinecolor\":\"#2a3f5f\",\"gridcolor\":\"white\",\"linecolor\":\"white\",\"minorgridcolor\":\"white\",\"startlinecolor\":\"#2a3f5f\"},\"type\":\"carpet\"}],\"choropleth\":[{\"colorbar\":{\"outlinewidth\":0,\"ticks\":\"\"},\"type\":\"choropleth\"}],\"contour\":[{\"colorbar\":{\"outlinewidth\":0,\"ticks\":\"\"},\"colorscale\":[[0.0,\"#0d0887\"],[0.1111111111111111,\"#46039f\"],[0.2222222222222222,\"#7201a8\"],[0.3333333333333333,\"#9c179e\"],[0.4444444444444444,\"#bd3786\"],[0.5555555555555556,\"#d8576b\"],[0.6666666666666666,\"#ed7953\"],[0.7777777777777778,\"#fb9f3a\"],[0.8888888888888888,\"#fdca26\"],[1.0,\"#f0f921\"]],\"type\":\"contour\"}],\"contourcarpet\":[{\"colorbar\":{\"outlinewidth\":0,\"ticks\":\"\"},\"type\":\"contourcarpet\"}],\"heatmap\":[{\"colorbar\":{\"outlinewidth\":0,\"ticks\":\"\"},\"colorscale\":[[0.0,\"#0d0887\"],[0.1111111111111111,\"#46039f\"],[0.2222222222222222,\"#7201a8\"],[0.3333333333333333,\"#9c179e\"],[0.4444444444444444,\"#bd3786\"],[0.5555555555555556,\"#d8576b\"],[0.6666666666666666,\"#ed7953\"],[0.7777777777777778,\"#fb9f3a\"],[0.8888888888888888,\"#fdca26\"],[1.0,\"#f0f921\"]],\"type\":\"heatmap\"}],\"heatmapgl\":[{\"colorbar\":{\"outlinewidth\":0,\"ticks\":\"\"},\"colorscale\":[[0.0,\"#0d0887\"],[0.1111111111111111,\"#46039f\"],[0.2222222222222222,\"#7201a8\"],[0.3333333333333333,\"#9c179e\"],[0.4444444444444444,\"#bd3786\"],[0.5555555555555556,\"#d8576b\"],[0.6666666666666666,\"#ed7953\"],[0.7777777777777778,\"#fb9f3a\"],[0.8888888888888888,\"#fdca26\"],[1.0,\"#f0f921\"]],\"type\":\"heatmapgl\"}],\"histogram\":[{\"marker\":{\"pattern\":{\"fillmode\":\"overlay\",\"size\":10,\"solidity\":0.2}},\"type\":\"histogram\"}],\"histogram2d\":[{\"colorbar\":{\"outlinewidth\":0,\"ticks\":\"\"},\"colorscale\":[[0.0,\"#0d0887\"],[0.1111111111111111,\"#46039f\"],[0.2222222222222222,\"#7201a8\"],[0.3333333333333333,\"#9c179e\"],[0.4444444444444444,\"#bd3786\"],[0.5555555555555556,\"#d8576b\"],[0.6666666666666666,\"#ed7953\"],[0.7777777777777778,\"#fb9f3a\"],[0.8888888888888888,\"#fdca26\"],[1.0,\"#f0f921\"]],\"type\":\"histogram2d\"}],\"histogram2dcontour\":[{\"colorbar\":{\"outlinewidth\":0,\"ticks\":\"\"},\"colorscale\":[[0.0,\"#0d0887\"],[0.1111111111111111,\"#46039f\"],[0.2222222222222222,\"#7201a8\"],[0.3333333333333333,\"#9c179e\"],[0.4444444444444444,\"#bd3786\"],[0.5555555555555556,\"#d8576b\"],[0.6666666666666666,\"#ed7953\"],[0.7777777777777778,\"#fb9f3a\"],[0.8888888888888888,\"#fdca26\"],[1.0,\"#f0f921\"]],\"type\":\"histogram2dcontour\"}],\"mesh3d\":[{\"colorbar\":{\"outlinewidth\":0,\"ticks\":\"\"},\"type\":\"mesh3d\"}],\"parcoords\":[{\"line\":{\"colorbar\":{\"outlinewidth\":0,\"ticks\":\"\"}},\"type\":\"parcoords\"}],\"pie\":[{\"automargin\":true,\"type\":\"pie\"}],\"scatter\":[{\"marker\":{\"colorbar\":{\"outlinewidth\":0,\"ticks\":\"\"}},\"type\":\"scatter\"}],\"scatter3d\":[{\"line\":{\"colorbar\":{\"outlinewidth\":0,\"ticks\":\"\"}},\"marker\":{\"colorbar\":{\"outlinewidth\":0,\"ticks\":\"\"}},\"type\":\"scatter3d\"}],\"scattercarpet\":[{\"marker\":{\"colorbar\":{\"outlinewidth\":0,\"ticks\":\"\"}},\"type\":\"scattercarpet\"}],\"scattergeo\":[{\"marker\":{\"colorbar\":{\"outlinewidth\":0,\"ticks\":\"\"}},\"type\":\"scattergeo\"}],\"scattergl\":[{\"marker\":{\"colorbar\":{\"outlinewidth\":0,\"ticks\":\"\"}},\"type\":\"scattergl\"}],\"scattermapbox\":[{\"marker\":{\"colorbar\":{\"outlinewidth\":0,\"ticks\":\"\"}},\"type\":\"scattermapbox\"}],\"scatterpolar\":[{\"marker\":{\"colorbar\":{\"outlinewidth\":0,\"ticks\":\"\"}},\"type\":\"scatterpolar\"}],\"scatterpolargl\":[{\"marker\":{\"colorbar\":{\"outlinewidth\":0,\"ticks\":\"\"}},\"type\":\"scatterpolargl\"}],\"scatterternary\":[{\"marker\":{\"colorbar\":{\"outlinewidth\":0,\"ticks\":\"\"}},\"type\":\"scatterternary\"}],\"surface\":[{\"colorbar\":{\"outlinewidth\":0,\"ticks\":\"\"},\"colorscale\":[[0.0,\"#0d0887\"],[0.1111111111111111,\"#46039f\"],[0.2222222222222222,\"#7201a8\"],[0.3333333333333333,\"#9c179e\"],[0.4444444444444444,\"#bd3786\"],[0.5555555555555556,\"#d8576b\"],[0.6666666666666666,\"#ed7953\"],[0.7777777777777778,\"#fb9f3a\"],[0.8888888888888888,\"#fdca26\"],[1.0,\"#f0f921\"]],\"type\":\"surface\"}],\"table\":[{\"cells\":{\"fill\":{\"color\":\"#EBF0F8\"},\"line\":{\"color\":\"white\"}},\"header\":{\"fill\":{\"color\":\"#C8D4E3\"},\"line\":{\"color\":\"white\"}},\"type\":\"table\"}]},\"layout\":{\"annotationdefaults\":{\"arrowcolor\":\"#2a3f5f\",\"arrowhead\":0,\"arrowwidth\":1},\"autotypenumbers\":\"strict\",\"coloraxis\":{\"colorbar\":{\"outlinewidth\":0,\"ticks\":\"\"}},\"colorscale\":{\"diverging\":[[0,\"#8e0152\"],[0.1,\"#c51b7d\"],[0.2,\"#de77ae\"],[0.3,\"#f1b6da\"],[0.4,\"#fde0ef\"],[0.5,\"#f7f7f7\"],[0.6,\"#e6f5d0\"],[0.7,\"#b8e186\"],[0.8,\"#7fbc41\"],[0.9,\"#4d9221\"],[1,\"#276419\"]],\"sequential\":[[0.0,\"#0d0887\"],[0.1111111111111111,\"#46039f\"],[0.2222222222222222,\"#7201a8\"],[0.3333333333333333,\"#9c179e\"],[0.4444444444444444,\"#bd3786\"],[0.5555555555555556,\"#d8576b\"],[0.6666666666666666,\"#ed7953\"],[0.7777777777777778,\"#fb9f3a\"],[0.8888888888888888,\"#fdca26\"],[1.0,\"#f0f921\"]],\"sequentialminus\":[[0.0,\"#0d0887\"],[0.1111111111111111,\"#46039f\"],[0.2222222222222222,\"#7201a8\"],[0.3333333333333333,\"#9c179e\"],[0.4444444444444444,\"#bd3786\"],[0.5555555555555556,\"#d8576b\"],[0.6666666666666666,\"#ed7953\"],[0.7777777777777778,\"#fb9f3a\"],[0.8888888888888888,\"#fdca26\"],[1.0,\"#f0f921\"]]},\"colorway\":[\"#636efa\",\"#EF553B\",\"#00cc96\",\"#ab63fa\",\"#FFA15A\",\"#19d3f3\",\"#FF6692\",\"#B6E880\",\"#FF97FF\",\"#FECB52\"],\"font\":{\"color\":\"#2a3f5f\"},\"geo\":{\"bgcolor\":\"white\",\"lakecolor\":\"white\",\"landcolor\":\"#E5ECF6\",\"showlakes\":true,\"showland\":true,\"subunitcolor\":\"white\"},\"hoverlabel\":{\"align\":\"left\"},\"hovermode\":\"closest\",\"mapbox\":{\"style\":\"light\"},\"paper_bgcolor\":\"white\",\"plot_bgcolor\":\"#E5ECF6\",\"polar\":{\"angularaxis\":{\"gridcolor\":\"white\",\"linecolor\":\"white\",\"ticks\":\"\"},\"bgcolor\":\"#E5ECF6\",\"radialaxis\":{\"gridcolor\":\"white\",\"linecolor\":\"white\",\"ticks\":\"\"}},\"scene\":{\"xaxis\":{\"backgroundcolor\":\"#E5ECF6\",\"gridcolor\":\"white\",\"gridwidth\":2,\"linecolor\":\"white\",\"showbackground\":true,\"ticks\":\"\",\"zerolinecolor\":\"white\"},\"yaxis\":{\"backgroundcolor\":\"#E5ECF6\",\"gridcolor\":\"white\",\"gridwidth\":2,\"linecolor\":\"white\",\"showbackground\":true,\"ticks\":\"\",\"zerolinecolor\":\"white\"},\"zaxis\":{\"backgroundcolor\":\"#E5ECF6\",\"gridcolor\":\"white\",\"gridwidth\":2,\"linecolor\":\"white\",\"showbackground\":true,\"ticks\":\"\",\"zerolinecolor\":\"white\"}},\"shapedefaults\":{\"line\":{\"color\":\"#2a3f5f\"}},\"ternary\":{\"aaxis\":{\"gridcolor\":\"white\",\"linecolor\":\"white\",\"ticks\":\"\"},\"baxis\":{\"gridcolor\":\"white\",\"linecolor\":\"white\",\"ticks\":\"\"},\"bgcolor\":\"#E5ECF6\",\"caxis\":{\"gridcolor\":\"white\",\"linecolor\":\"white\",\"ticks\":\"\"}},\"title\":{\"x\":0.05},\"xaxis\":{\"automargin\":true,\"gridcolor\":\"white\",\"linecolor\":\"white\",\"ticks\":\"\",\"title\":{\"standoff\":15},\"zerolinecolor\":\"white\",\"zerolinewidth\":2},\"yaxis\":{\"automargin\":true,\"gridcolor\":\"white\",\"linecolor\":\"white\",\"ticks\":\"\",\"title\":{\"standoff\":15},\"zerolinecolor\":\"white\",\"zerolinewidth\":2}}},\"yaxis\":{\"title\":{\"text\":\"Fuel (kg)\"}}},                        {\"responsive\": true}                    ).then(function(){\n",
       "                            \n",
       "var gd = document.getElementById('641fddbb-b678-4fd0-a96b-58dfb3eab941');\n",
       "var x = new MutationObserver(function (mutations, observer) {{\n",
       "        var display = window.getComputedStyle(gd).display;\n",
       "        if (!display || display === 'none') {{\n",
       "            console.log([gd, 'removed!']);\n",
       "            Plotly.purge(gd);\n",
       "            observer.disconnect();\n",
       "        }}\n",
       "}});\n",
       "\n",
       "// Listen for the removal of the full notebook cells\n",
       "var notebookContainer = gd.closest('#notebook-container');\n",
       "if (notebookContainer) {{\n",
       "    x.observe(notebookContainer, {childList: true});\n",
       "}}\n",
       "\n",
       "// Listen for the clearing of the current output cell\n",
       "var outputEl = gd.closest('.output');\n",
       "if (outputEl) {{\n",
       "    x.observe(outputEl, {childList: true});\n",
       "}}\n",
       "\n",
       "                        })                };                });            </script>        </div>"
      ]
     },
     "metadata": {},
     "output_type": "display_data"
    }
   ],
   "source": [
    "draw_carpet(input[\"WingArea\"],input[\"FanDiameter\"]/10,output[\"fuel_mass\"],'Wing Area (m2)',\"Fan Diameter (m)\",\"Fuel (kg)\")"
   ]
  },
  {
   "cell_type": "code",
   "execution_count": 350,
   "metadata": {},
   "outputs": [
    {
     "data": {
      "application/vnd.plotly.v1+json": {
       "config": {
        "plotlyServerURL": "https://plot.ly"
       },
       "data": [
        {
         "a": [
          150,
          150,
          150,
          155,
          155,
          155,
          160,
          160,
          160
         ],
         "aaxis": {
          "minorgridcount": 10,
          "smoothing": 0.1,
          "title": {
           "text": "Wing Area (m2)"
          }
         },
         "b": [
          1.6305441193560295,
          2.2,
          2.7694558806439704,
          1.6305441193560295,
          2.2,
          2.7694558806439704,
          1.6305441193560295,
          2.2,
          2.7694558806439704
         ],
         "baxis": {
          "minorgridcount": 10,
          "smoothing": 0.2,
          "title": {
           "text": "Fan Diameter (m)"
          }
         },
         "cheaterslope": 0.8,
         "type": "carpet",
         "y": [
          12209.68336180219,
          12338.00178426756,
          13753.14261491756,
          12144.752549605038,
          12457.724586720238,
          13773.122954698698,
          12237.42364195,
          12284.98160881767,
          13848.965097880113
         ],
         "yaxis": "y"
        }
       ],
       "layout": {
        "template": {
         "data": {
          "bar": [
           {
            "error_x": {
             "color": "#2a3f5f"
            },
            "error_y": {
             "color": "#2a3f5f"
            },
            "marker": {
             "line": {
              "color": "#E5ECF6",
              "width": 0.5
             },
             "pattern": {
              "fillmode": "overlay",
              "size": 10,
              "solidity": 0.2
             }
            },
            "type": "bar"
           }
          ],
          "barpolar": [
           {
            "marker": {
             "line": {
              "color": "#E5ECF6",
              "width": 0.5
             },
             "pattern": {
              "fillmode": "overlay",
              "size": 10,
              "solidity": 0.2
             }
            },
            "type": "barpolar"
           }
          ],
          "carpet": [
           {
            "aaxis": {
             "endlinecolor": "#2a3f5f",
             "gridcolor": "white",
             "linecolor": "white",
             "minorgridcolor": "white",
             "startlinecolor": "#2a3f5f"
            },
            "baxis": {
             "endlinecolor": "#2a3f5f",
             "gridcolor": "white",
             "linecolor": "white",
             "minorgridcolor": "white",
             "startlinecolor": "#2a3f5f"
            },
            "type": "carpet"
           }
          ],
          "choropleth": [
           {
            "colorbar": {
             "outlinewidth": 0,
             "ticks": ""
            },
            "type": "choropleth"
           }
          ],
          "contour": [
           {
            "colorbar": {
             "outlinewidth": 0,
             "ticks": ""
            },
            "colorscale": [
             [
              0,
              "#0d0887"
             ],
             [
              0.1111111111111111,
              "#46039f"
             ],
             [
              0.2222222222222222,
              "#7201a8"
             ],
             [
              0.3333333333333333,
              "#9c179e"
             ],
             [
              0.4444444444444444,
              "#bd3786"
             ],
             [
              0.5555555555555556,
              "#d8576b"
             ],
             [
              0.6666666666666666,
              "#ed7953"
             ],
             [
              0.7777777777777778,
              "#fb9f3a"
             ],
             [
              0.8888888888888888,
              "#fdca26"
             ],
             [
              1,
              "#f0f921"
             ]
            ],
            "type": "contour"
           }
          ],
          "contourcarpet": [
           {
            "colorbar": {
             "outlinewidth": 0,
             "ticks": ""
            },
            "type": "contourcarpet"
           }
          ],
          "heatmap": [
           {
            "colorbar": {
             "outlinewidth": 0,
             "ticks": ""
            },
            "colorscale": [
             [
              0,
              "#0d0887"
             ],
             [
              0.1111111111111111,
              "#46039f"
             ],
             [
              0.2222222222222222,
              "#7201a8"
             ],
             [
              0.3333333333333333,
              "#9c179e"
             ],
             [
              0.4444444444444444,
              "#bd3786"
             ],
             [
              0.5555555555555556,
              "#d8576b"
             ],
             [
              0.6666666666666666,
              "#ed7953"
             ],
             [
              0.7777777777777778,
              "#fb9f3a"
             ],
             [
              0.8888888888888888,
              "#fdca26"
             ],
             [
              1,
              "#f0f921"
             ]
            ],
            "type": "heatmap"
           }
          ],
          "heatmapgl": [
           {
            "colorbar": {
             "outlinewidth": 0,
             "ticks": ""
            },
            "colorscale": [
             [
              0,
              "#0d0887"
             ],
             [
              0.1111111111111111,
              "#46039f"
             ],
             [
              0.2222222222222222,
              "#7201a8"
             ],
             [
              0.3333333333333333,
              "#9c179e"
             ],
             [
              0.4444444444444444,
              "#bd3786"
             ],
             [
              0.5555555555555556,
              "#d8576b"
             ],
             [
              0.6666666666666666,
              "#ed7953"
             ],
             [
              0.7777777777777778,
              "#fb9f3a"
             ],
             [
              0.8888888888888888,
              "#fdca26"
             ],
             [
              1,
              "#f0f921"
             ]
            ],
            "type": "heatmapgl"
           }
          ],
          "histogram": [
           {
            "marker": {
             "pattern": {
              "fillmode": "overlay",
              "size": 10,
              "solidity": 0.2
             }
            },
            "type": "histogram"
           }
          ],
          "histogram2d": [
           {
            "colorbar": {
             "outlinewidth": 0,
             "ticks": ""
            },
            "colorscale": [
             [
              0,
              "#0d0887"
             ],
             [
              0.1111111111111111,
              "#46039f"
             ],
             [
              0.2222222222222222,
              "#7201a8"
             ],
             [
              0.3333333333333333,
              "#9c179e"
             ],
             [
              0.4444444444444444,
              "#bd3786"
             ],
             [
              0.5555555555555556,
              "#d8576b"
             ],
             [
              0.6666666666666666,
              "#ed7953"
             ],
             [
              0.7777777777777778,
              "#fb9f3a"
             ],
             [
              0.8888888888888888,
              "#fdca26"
             ],
             [
              1,
              "#f0f921"
             ]
            ],
            "type": "histogram2d"
           }
          ],
          "histogram2dcontour": [
           {
            "colorbar": {
             "outlinewidth": 0,
             "ticks": ""
            },
            "colorscale": [
             [
              0,
              "#0d0887"
             ],
             [
              0.1111111111111111,
              "#46039f"
             ],
             [
              0.2222222222222222,
              "#7201a8"
             ],
             [
              0.3333333333333333,
              "#9c179e"
             ],
             [
              0.4444444444444444,
              "#bd3786"
             ],
             [
              0.5555555555555556,
              "#d8576b"
             ],
             [
              0.6666666666666666,
              "#ed7953"
             ],
             [
              0.7777777777777778,
              "#fb9f3a"
             ],
             [
              0.8888888888888888,
              "#fdca26"
             ],
             [
              1,
              "#f0f921"
             ]
            ],
            "type": "histogram2dcontour"
           }
          ],
          "mesh3d": [
           {
            "colorbar": {
             "outlinewidth": 0,
             "ticks": ""
            },
            "type": "mesh3d"
           }
          ],
          "parcoords": [
           {
            "line": {
             "colorbar": {
              "outlinewidth": 0,
              "ticks": ""
             }
            },
            "type": "parcoords"
           }
          ],
          "pie": [
           {
            "automargin": true,
            "type": "pie"
           }
          ],
          "scatter": [
           {
            "marker": {
             "colorbar": {
              "outlinewidth": 0,
              "ticks": ""
             }
            },
            "type": "scatter"
           }
          ],
          "scatter3d": [
           {
            "line": {
             "colorbar": {
              "outlinewidth": 0,
              "ticks": ""
             }
            },
            "marker": {
             "colorbar": {
              "outlinewidth": 0,
              "ticks": ""
             }
            },
            "type": "scatter3d"
           }
          ],
          "scattercarpet": [
           {
            "marker": {
             "colorbar": {
              "outlinewidth": 0,
              "ticks": ""
             }
            },
            "type": "scattercarpet"
           }
          ],
          "scattergeo": [
           {
            "marker": {
             "colorbar": {
              "outlinewidth": 0,
              "ticks": ""
             }
            },
            "type": "scattergeo"
           }
          ],
          "scattergl": [
           {
            "marker": {
             "colorbar": {
              "outlinewidth": 0,
              "ticks": ""
             }
            },
            "type": "scattergl"
           }
          ],
          "scattermapbox": [
           {
            "marker": {
             "colorbar": {
              "outlinewidth": 0,
              "ticks": ""
             }
            },
            "type": "scattermapbox"
           }
          ],
          "scatterpolar": [
           {
            "marker": {
             "colorbar": {
              "outlinewidth": 0,
              "ticks": ""
             }
            },
            "type": "scatterpolar"
           }
          ],
          "scatterpolargl": [
           {
            "marker": {
             "colorbar": {
              "outlinewidth": 0,
              "ticks": ""
             }
            },
            "type": "scatterpolargl"
           }
          ],
          "scatterternary": [
           {
            "marker": {
             "colorbar": {
              "outlinewidth": 0,
              "ticks": ""
             }
            },
            "type": "scatterternary"
           }
          ],
          "surface": [
           {
            "colorbar": {
             "outlinewidth": 0,
             "ticks": ""
            },
            "colorscale": [
             [
              0,
              "#0d0887"
             ],
             [
              0.1111111111111111,
              "#46039f"
             ],
             [
              0.2222222222222222,
              "#7201a8"
             ],
             [
              0.3333333333333333,
              "#9c179e"
             ],
             [
              0.4444444444444444,
              "#bd3786"
             ],
             [
              0.5555555555555556,
              "#d8576b"
             ],
             [
              0.6666666666666666,
              "#ed7953"
             ],
             [
              0.7777777777777778,
              "#fb9f3a"
             ],
             [
              0.8888888888888888,
              "#fdca26"
             ],
             [
              1,
              "#f0f921"
             ]
            ],
            "type": "surface"
           }
          ],
          "table": [
           {
            "cells": {
             "fill": {
              "color": "#EBF0F8"
             },
             "line": {
              "color": "white"
             }
            },
            "header": {
             "fill": {
              "color": "#C8D4E3"
             },
             "line": {
              "color": "white"
             }
            },
            "type": "table"
           }
          ]
         },
         "layout": {
          "annotationdefaults": {
           "arrowcolor": "#2a3f5f",
           "arrowhead": 0,
           "arrowwidth": 1
          },
          "autotypenumbers": "strict",
          "coloraxis": {
           "colorbar": {
            "outlinewidth": 0,
            "ticks": ""
           }
          },
          "colorscale": {
           "diverging": [
            [
             0,
             "#8e0152"
            ],
            [
             0.1,
             "#c51b7d"
            ],
            [
             0.2,
             "#de77ae"
            ],
            [
             0.3,
             "#f1b6da"
            ],
            [
             0.4,
             "#fde0ef"
            ],
            [
             0.5,
             "#f7f7f7"
            ],
            [
             0.6,
             "#e6f5d0"
            ],
            [
             0.7,
             "#b8e186"
            ],
            [
             0.8,
             "#7fbc41"
            ],
            [
             0.9,
             "#4d9221"
            ],
            [
             1,
             "#276419"
            ]
           ],
           "sequential": [
            [
             0,
             "#0d0887"
            ],
            [
             0.1111111111111111,
             "#46039f"
            ],
            [
             0.2222222222222222,
             "#7201a8"
            ],
            [
             0.3333333333333333,
             "#9c179e"
            ],
            [
             0.4444444444444444,
             "#bd3786"
            ],
            [
             0.5555555555555556,
             "#d8576b"
            ],
            [
             0.6666666666666666,
             "#ed7953"
            ],
            [
             0.7777777777777778,
             "#fb9f3a"
            ],
            [
             0.8888888888888888,
             "#fdca26"
            ],
            [
             1,
             "#f0f921"
            ]
           ],
           "sequentialminus": [
            [
             0,
             "#0d0887"
            ],
            [
             0.1111111111111111,
             "#46039f"
            ],
            [
             0.2222222222222222,
             "#7201a8"
            ],
            [
             0.3333333333333333,
             "#9c179e"
            ],
            [
             0.4444444444444444,
             "#bd3786"
            ],
            [
             0.5555555555555556,
             "#d8576b"
            ],
            [
             0.6666666666666666,
             "#ed7953"
            ],
            [
             0.7777777777777778,
             "#fb9f3a"
            ],
            [
             0.8888888888888888,
             "#fdca26"
            ],
            [
             1,
             "#f0f921"
            ]
           ]
          },
          "colorway": [
           "#636efa",
           "#EF553B",
           "#00cc96",
           "#ab63fa",
           "#FFA15A",
           "#19d3f3",
           "#FF6692",
           "#B6E880",
           "#FF97FF",
           "#FECB52"
          ],
          "font": {
           "color": "#2a3f5f"
          },
          "geo": {
           "bgcolor": "white",
           "lakecolor": "white",
           "landcolor": "#E5ECF6",
           "showlakes": true,
           "showland": true,
           "subunitcolor": "white"
          },
          "hoverlabel": {
           "align": "left"
          },
          "hovermode": "closest",
          "mapbox": {
           "style": "light"
          },
          "paper_bgcolor": "white",
          "plot_bgcolor": "#E5ECF6",
          "polar": {
           "angularaxis": {
            "gridcolor": "white",
            "linecolor": "white",
            "ticks": ""
           },
           "bgcolor": "#E5ECF6",
           "radialaxis": {
            "gridcolor": "white",
            "linecolor": "white",
            "ticks": ""
           }
          },
          "scene": {
           "xaxis": {
            "backgroundcolor": "#E5ECF6",
            "gridcolor": "white",
            "gridwidth": 2,
            "linecolor": "white",
            "showbackground": true,
            "ticks": "",
            "zerolinecolor": "white"
           },
           "yaxis": {
            "backgroundcolor": "#E5ECF6",
            "gridcolor": "white",
            "gridwidth": 2,
            "linecolor": "white",
            "showbackground": true,
            "ticks": "",
            "zerolinecolor": "white"
           },
           "zaxis": {
            "backgroundcolor": "#E5ECF6",
            "gridcolor": "white",
            "gridwidth": 2,
            "linecolor": "white",
            "showbackground": true,
            "ticks": "",
            "zerolinecolor": "white"
           }
          },
          "shapedefaults": {
           "line": {
            "color": "#2a3f5f"
           }
          },
          "ternary": {
           "aaxis": {
            "gridcolor": "white",
            "linecolor": "white",
            "ticks": ""
           },
           "baxis": {
            "gridcolor": "white",
            "linecolor": "white",
            "ticks": ""
           },
           "bgcolor": "#E5ECF6",
           "caxis": {
            "gridcolor": "white",
            "linecolor": "white",
            "ticks": ""
           }
          },
          "title": {
           "x": 0.05
          },
          "xaxis": {
           "automargin": true,
           "gridcolor": "white",
           "linecolor": "white",
           "ticks": "",
           "title": {
            "standoff": 15
           },
           "zerolinecolor": "white",
           "zerolinewidth": 2
          },
          "yaxis": {
           "automargin": true,
           "gridcolor": "white",
           "linecolor": "white",
           "ticks": "",
           "title": {
            "standoff": 15
           },
           "zerolinecolor": "white",
           "zerolinewidth": 2
          }
         }
        },
        "yaxis": {
         "title": {
          "text": "DOC ($)"
         }
        }
       }
      },
      "text/html": [
       "<div>                            <div id=\"452664ef-c04a-4cba-b952-39f13b5d36f8\" class=\"plotly-graph-div\" style=\"height:525px; width:100%;\"></div>            <script type=\"text/javascript\">                require([\"plotly\"], function(Plotly) {                    window.PLOTLYENV=window.PLOTLYENV || {};                                    if (document.getElementById(\"452664ef-c04a-4cba-b952-39f13b5d36f8\")) {                    Plotly.newPlot(                        \"452664ef-c04a-4cba-b952-39f13b5d36f8\",                        [{\"a\":[150.0,150.0,150.0,155.0,155.0,155.0,160.0,160.0,160.0],\"aaxis\":{\"minorgridcount\":10,\"smoothing\":0.1,\"title\":{\"text\":\"Wing Area (m2)\"}},\"b\":[1.6305441193560295,2.2,2.7694558806439704,1.6305441193560295,2.2,2.7694558806439704,1.6305441193560295,2.2,2.7694558806439704],\"baxis\":{\"minorgridcount\":10,\"smoothing\":0.2,\"title\":{\"text\":\"Fan Diameter (m)\"}},\"cheaterslope\":0.8,\"y\":[12209.68336180219,12338.00178426756,13753.14261491756,12144.752549605038,12457.724586720238,13773.122954698698,12237.42364195,12284.98160881767,13848.965097880113],\"yaxis\":\"y\",\"type\":\"carpet\"}],                        {\"template\":{\"data\":{\"bar\":[{\"error_x\":{\"color\":\"#2a3f5f\"},\"error_y\":{\"color\":\"#2a3f5f\"},\"marker\":{\"line\":{\"color\":\"#E5ECF6\",\"width\":0.5},\"pattern\":{\"fillmode\":\"overlay\",\"size\":10,\"solidity\":0.2}},\"type\":\"bar\"}],\"barpolar\":[{\"marker\":{\"line\":{\"color\":\"#E5ECF6\",\"width\":0.5},\"pattern\":{\"fillmode\":\"overlay\",\"size\":10,\"solidity\":0.2}},\"type\":\"barpolar\"}],\"carpet\":[{\"aaxis\":{\"endlinecolor\":\"#2a3f5f\",\"gridcolor\":\"white\",\"linecolor\":\"white\",\"minorgridcolor\":\"white\",\"startlinecolor\":\"#2a3f5f\"},\"baxis\":{\"endlinecolor\":\"#2a3f5f\",\"gridcolor\":\"white\",\"linecolor\":\"white\",\"minorgridcolor\":\"white\",\"startlinecolor\":\"#2a3f5f\"},\"type\":\"carpet\"}],\"choropleth\":[{\"colorbar\":{\"outlinewidth\":0,\"ticks\":\"\"},\"type\":\"choropleth\"}],\"contour\":[{\"colorbar\":{\"outlinewidth\":0,\"ticks\":\"\"},\"colorscale\":[[0.0,\"#0d0887\"],[0.1111111111111111,\"#46039f\"],[0.2222222222222222,\"#7201a8\"],[0.3333333333333333,\"#9c179e\"],[0.4444444444444444,\"#bd3786\"],[0.5555555555555556,\"#d8576b\"],[0.6666666666666666,\"#ed7953\"],[0.7777777777777778,\"#fb9f3a\"],[0.8888888888888888,\"#fdca26\"],[1.0,\"#f0f921\"]],\"type\":\"contour\"}],\"contourcarpet\":[{\"colorbar\":{\"outlinewidth\":0,\"ticks\":\"\"},\"type\":\"contourcarpet\"}],\"heatmap\":[{\"colorbar\":{\"outlinewidth\":0,\"ticks\":\"\"},\"colorscale\":[[0.0,\"#0d0887\"],[0.1111111111111111,\"#46039f\"],[0.2222222222222222,\"#7201a8\"],[0.3333333333333333,\"#9c179e\"],[0.4444444444444444,\"#bd3786\"],[0.5555555555555556,\"#d8576b\"],[0.6666666666666666,\"#ed7953\"],[0.7777777777777778,\"#fb9f3a\"],[0.8888888888888888,\"#fdca26\"],[1.0,\"#f0f921\"]],\"type\":\"heatmap\"}],\"heatmapgl\":[{\"colorbar\":{\"outlinewidth\":0,\"ticks\":\"\"},\"colorscale\":[[0.0,\"#0d0887\"],[0.1111111111111111,\"#46039f\"],[0.2222222222222222,\"#7201a8\"],[0.3333333333333333,\"#9c179e\"],[0.4444444444444444,\"#bd3786\"],[0.5555555555555556,\"#d8576b\"],[0.6666666666666666,\"#ed7953\"],[0.7777777777777778,\"#fb9f3a\"],[0.8888888888888888,\"#fdca26\"],[1.0,\"#f0f921\"]],\"type\":\"heatmapgl\"}],\"histogram\":[{\"marker\":{\"pattern\":{\"fillmode\":\"overlay\",\"size\":10,\"solidity\":0.2}},\"type\":\"histogram\"}],\"histogram2d\":[{\"colorbar\":{\"outlinewidth\":0,\"ticks\":\"\"},\"colorscale\":[[0.0,\"#0d0887\"],[0.1111111111111111,\"#46039f\"],[0.2222222222222222,\"#7201a8\"],[0.3333333333333333,\"#9c179e\"],[0.4444444444444444,\"#bd3786\"],[0.5555555555555556,\"#d8576b\"],[0.6666666666666666,\"#ed7953\"],[0.7777777777777778,\"#fb9f3a\"],[0.8888888888888888,\"#fdca26\"],[1.0,\"#f0f921\"]],\"type\":\"histogram2d\"}],\"histogram2dcontour\":[{\"colorbar\":{\"outlinewidth\":0,\"ticks\":\"\"},\"colorscale\":[[0.0,\"#0d0887\"],[0.1111111111111111,\"#46039f\"],[0.2222222222222222,\"#7201a8\"],[0.3333333333333333,\"#9c179e\"],[0.4444444444444444,\"#bd3786\"],[0.5555555555555556,\"#d8576b\"],[0.6666666666666666,\"#ed7953\"],[0.7777777777777778,\"#fb9f3a\"],[0.8888888888888888,\"#fdca26\"],[1.0,\"#f0f921\"]],\"type\":\"histogram2dcontour\"}],\"mesh3d\":[{\"colorbar\":{\"outlinewidth\":0,\"ticks\":\"\"},\"type\":\"mesh3d\"}],\"parcoords\":[{\"line\":{\"colorbar\":{\"outlinewidth\":0,\"ticks\":\"\"}},\"type\":\"parcoords\"}],\"pie\":[{\"automargin\":true,\"type\":\"pie\"}],\"scatter\":[{\"marker\":{\"colorbar\":{\"outlinewidth\":0,\"ticks\":\"\"}},\"type\":\"scatter\"}],\"scatter3d\":[{\"line\":{\"colorbar\":{\"outlinewidth\":0,\"ticks\":\"\"}},\"marker\":{\"colorbar\":{\"outlinewidth\":0,\"ticks\":\"\"}},\"type\":\"scatter3d\"}],\"scattercarpet\":[{\"marker\":{\"colorbar\":{\"outlinewidth\":0,\"ticks\":\"\"}},\"type\":\"scattercarpet\"}],\"scattergeo\":[{\"marker\":{\"colorbar\":{\"outlinewidth\":0,\"ticks\":\"\"}},\"type\":\"scattergeo\"}],\"scattergl\":[{\"marker\":{\"colorbar\":{\"outlinewidth\":0,\"ticks\":\"\"}},\"type\":\"scattergl\"}],\"scattermapbox\":[{\"marker\":{\"colorbar\":{\"outlinewidth\":0,\"ticks\":\"\"}},\"type\":\"scattermapbox\"}],\"scatterpolar\":[{\"marker\":{\"colorbar\":{\"outlinewidth\":0,\"ticks\":\"\"}},\"type\":\"scatterpolar\"}],\"scatterpolargl\":[{\"marker\":{\"colorbar\":{\"outlinewidth\":0,\"ticks\":\"\"}},\"type\":\"scatterpolargl\"}],\"scatterternary\":[{\"marker\":{\"colorbar\":{\"outlinewidth\":0,\"ticks\":\"\"}},\"type\":\"scatterternary\"}],\"surface\":[{\"colorbar\":{\"outlinewidth\":0,\"ticks\":\"\"},\"colorscale\":[[0.0,\"#0d0887\"],[0.1111111111111111,\"#46039f\"],[0.2222222222222222,\"#7201a8\"],[0.3333333333333333,\"#9c179e\"],[0.4444444444444444,\"#bd3786\"],[0.5555555555555556,\"#d8576b\"],[0.6666666666666666,\"#ed7953\"],[0.7777777777777778,\"#fb9f3a\"],[0.8888888888888888,\"#fdca26\"],[1.0,\"#f0f921\"]],\"type\":\"surface\"}],\"table\":[{\"cells\":{\"fill\":{\"color\":\"#EBF0F8\"},\"line\":{\"color\":\"white\"}},\"header\":{\"fill\":{\"color\":\"#C8D4E3\"},\"line\":{\"color\":\"white\"}},\"type\":\"table\"}]},\"layout\":{\"annotationdefaults\":{\"arrowcolor\":\"#2a3f5f\",\"arrowhead\":0,\"arrowwidth\":1},\"autotypenumbers\":\"strict\",\"coloraxis\":{\"colorbar\":{\"outlinewidth\":0,\"ticks\":\"\"}},\"colorscale\":{\"diverging\":[[0,\"#8e0152\"],[0.1,\"#c51b7d\"],[0.2,\"#de77ae\"],[0.3,\"#f1b6da\"],[0.4,\"#fde0ef\"],[0.5,\"#f7f7f7\"],[0.6,\"#e6f5d0\"],[0.7,\"#b8e186\"],[0.8,\"#7fbc41\"],[0.9,\"#4d9221\"],[1,\"#276419\"]],\"sequential\":[[0.0,\"#0d0887\"],[0.1111111111111111,\"#46039f\"],[0.2222222222222222,\"#7201a8\"],[0.3333333333333333,\"#9c179e\"],[0.4444444444444444,\"#bd3786\"],[0.5555555555555556,\"#d8576b\"],[0.6666666666666666,\"#ed7953\"],[0.7777777777777778,\"#fb9f3a\"],[0.8888888888888888,\"#fdca26\"],[1.0,\"#f0f921\"]],\"sequentialminus\":[[0.0,\"#0d0887\"],[0.1111111111111111,\"#46039f\"],[0.2222222222222222,\"#7201a8\"],[0.3333333333333333,\"#9c179e\"],[0.4444444444444444,\"#bd3786\"],[0.5555555555555556,\"#d8576b\"],[0.6666666666666666,\"#ed7953\"],[0.7777777777777778,\"#fb9f3a\"],[0.8888888888888888,\"#fdca26\"],[1.0,\"#f0f921\"]]},\"colorway\":[\"#636efa\",\"#EF553B\",\"#00cc96\",\"#ab63fa\",\"#FFA15A\",\"#19d3f3\",\"#FF6692\",\"#B6E880\",\"#FF97FF\",\"#FECB52\"],\"font\":{\"color\":\"#2a3f5f\"},\"geo\":{\"bgcolor\":\"white\",\"lakecolor\":\"white\",\"landcolor\":\"#E5ECF6\",\"showlakes\":true,\"showland\":true,\"subunitcolor\":\"white\"},\"hoverlabel\":{\"align\":\"left\"},\"hovermode\":\"closest\",\"mapbox\":{\"style\":\"light\"},\"paper_bgcolor\":\"white\",\"plot_bgcolor\":\"#E5ECF6\",\"polar\":{\"angularaxis\":{\"gridcolor\":\"white\",\"linecolor\":\"white\",\"ticks\":\"\"},\"bgcolor\":\"#E5ECF6\",\"radialaxis\":{\"gridcolor\":\"white\",\"linecolor\":\"white\",\"ticks\":\"\"}},\"scene\":{\"xaxis\":{\"backgroundcolor\":\"#E5ECF6\",\"gridcolor\":\"white\",\"gridwidth\":2,\"linecolor\":\"white\",\"showbackground\":true,\"ticks\":\"\",\"zerolinecolor\":\"white\"},\"yaxis\":{\"backgroundcolor\":\"#E5ECF6\",\"gridcolor\":\"white\",\"gridwidth\":2,\"linecolor\":\"white\",\"showbackground\":true,\"ticks\":\"\",\"zerolinecolor\":\"white\"},\"zaxis\":{\"backgroundcolor\":\"#E5ECF6\",\"gridcolor\":\"white\",\"gridwidth\":2,\"linecolor\":\"white\",\"showbackground\":true,\"ticks\":\"\",\"zerolinecolor\":\"white\"}},\"shapedefaults\":{\"line\":{\"color\":\"#2a3f5f\"}},\"ternary\":{\"aaxis\":{\"gridcolor\":\"white\",\"linecolor\":\"white\",\"ticks\":\"\"},\"baxis\":{\"gridcolor\":\"white\",\"linecolor\":\"white\",\"ticks\":\"\"},\"bgcolor\":\"#E5ECF6\",\"caxis\":{\"gridcolor\":\"white\",\"linecolor\":\"white\",\"ticks\":\"\"}},\"title\":{\"x\":0.05},\"xaxis\":{\"automargin\":true,\"gridcolor\":\"white\",\"linecolor\":\"white\",\"ticks\":\"\",\"title\":{\"standoff\":15},\"zerolinecolor\":\"white\",\"zerolinewidth\":2},\"yaxis\":{\"automargin\":true,\"gridcolor\":\"white\",\"linecolor\":\"white\",\"ticks\":\"\",\"title\":{\"standoff\":15},\"zerolinecolor\":\"white\",\"zerolinewidth\":2}}},\"yaxis\":{\"title\":{\"text\":\"DOC ($)\"}}},                        {\"responsive\": true}                    ).then(function(){\n",
       "                            \n",
       "var gd = document.getElementById('452664ef-c04a-4cba-b952-39f13b5d36f8');\n",
       "var x = new MutationObserver(function (mutations, observer) {{\n",
       "        var display = window.getComputedStyle(gd).display;\n",
       "        if (!display || display === 'none') {{\n",
       "            console.log([gd, 'removed!']);\n",
       "            Plotly.purge(gd);\n",
       "            observer.disconnect();\n",
       "        }}\n",
       "}});\n",
       "\n",
       "// Listen for the removal of the full notebook cells\n",
       "var notebookContainer = gd.closest('#notebook-container');\n",
       "if (notebookContainer) {{\n",
       "    x.observe(notebookContainer, {childList: true});\n",
       "}}\n",
       "\n",
       "// Listen for the clearing of the current output cell\n",
       "var outputEl = gd.closest('.output');\n",
       "if (outputEl) {{\n",
       "    x.observe(outputEl, {childList: true});\n",
       "}}\n",
       "\n",
       "                        })                };                });            </script>        </div>"
      ]
     },
     "metadata": {},
     "output_type": "display_data"
    }
   ],
   "source": [
    "draw_carpet(input[\"WingArea\"],input[\"FanDiameter\"]/10,output[\"DOC\"],'Wing Area (m2)',\"Fan Diameter (m)\",\"DOC ($)\")\n"
   ]
  },
  {
   "cell_type": "code",
   "execution_count": 351,
   "metadata": {},
   "outputs": [
    {
     "data": {
      "application/vnd.plotly.v1+json": {
       "config": {
        "plotlyServerURL": "https://plot.ly"
       },
       "data": [
        {
         "a": [
          150,
          150,
          150,
          155,
          155,
          155,
          160,
          160,
          160
         ],
         "aaxis": {
          "minorgridcount": 10,
          "smoothing": 0.1,
          "title": {
           "text": "Wing Area (m2)"
          }
         },
         "b": [
          16.305441193560295,
          22,
          27.694558806439705,
          16.305441193560295,
          22,
          27.694558806439705,
          16.305441193560295,
          22,
          27.694558806439705
         ],
         "baxis": {
          "minorgridcount": 10,
          "smoothing": 0.2,
          "title": {
           "text": "Fan Diameter (m)"
          }
         },
         "cheaterslope": 0.8,
         "type": "carpet",
         "y": [
          3868.989418357573,
          2067.062293437579,
          1469.2192035552755,
          3715.453548812952,
          2023.3747615229809,
          1422.220697511643,
          3630.160527090772,
          1950.7642986801015,
          1383.1156340493376
         ],
         "yaxis": "y"
        }
       ],
       "layout": {
        "template": {
         "data": {
          "bar": [
           {
            "error_x": {
             "color": "#2a3f5f"
            },
            "error_y": {
             "color": "#2a3f5f"
            },
            "marker": {
             "line": {
              "color": "#E5ECF6",
              "width": 0.5
             },
             "pattern": {
              "fillmode": "overlay",
              "size": 10,
              "solidity": 0.2
             }
            },
            "type": "bar"
           }
          ],
          "barpolar": [
           {
            "marker": {
             "line": {
              "color": "#E5ECF6",
              "width": 0.5
             },
             "pattern": {
              "fillmode": "overlay",
              "size": 10,
              "solidity": 0.2
             }
            },
            "type": "barpolar"
           }
          ],
          "carpet": [
           {
            "aaxis": {
             "endlinecolor": "#2a3f5f",
             "gridcolor": "white",
             "linecolor": "white",
             "minorgridcolor": "white",
             "startlinecolor": "#2a3f5f"
            },
            "baxis": {
             "endlinecolor": "#2a3f5f",
             "gridcolor": "white",
             "linecolor": "white",
             "minorgridcolor": "white",
             "startlinecolor": "#2a3f5f"
            },
            "type": "carpet"
           }
          ],
          "choropleth": [
           {
            "colorbar": {
             "outlinewidth": 0,
             "ticks": ""
            },
            "type": "choropleth"
           }
          ],
          "contour": [
           {
            "colorbar": {
             "outlinewidth": 0,
             "ticks": ""
            },
            "colorscale": [
             [
              0,
              "#0d0887"
             ],
             [
              0.1111111111111111,
              "#46039f"
             ],
             [
              0.2222222222222222,
              "#7201a8"
             ],
             [
              0.3333333333333333,
              "#9c179e"
             ],
             [
              0.4444444444444444,
              "#bd3786"
             ],
             [
              0.5555555555555556,
              "#d8576b"
             ],
             [
              0.6666666666666666,
              "#ed7953"
             ],
             [
              0.7777777777777778,
              "#fb9f3a"
             ],
             [
              0.8888888888888888,
              "#fdca26"
             ],
             [
              1,
              "#f0f921"
             ]
            ],
            "type": "contour"
           }
          ],
          "contourcarpet": [
           {
            "colorbar": {
             "outlinewidth": 0,
             "ticks": ""
            },
            "type": "contourcarpet"
           }
          ],
          "heatmap": [
           {
            "colorbar": {
             "outlinewidth": 0,
             "ticks": ""
            },
            "colorscale": [
             [
              0,
              "#0d0887"
             ],
             [
              0.1111111111111111,
              "#46039f"
             ],
             [
              0.2222222222222222,
              "#7201a8"
             ],
             [
              0.3333333333333333,
              "#9c179e"
             ],
             [
              0.4444444444444444,
              "#bd3786"
             ],
             [
              0.5555555555555556,
              "#d8576b"
             ],
             [
              0.6666666666666666,
              "#ed7953"
             ],
             [
              0.7777777777777778,
              "#fb9f3a"
             ],
             [
              0.8888888888888888,
              "#fdca26"
             ],
             [
              1,
              "#f0f921"
             ]
            ],
            "type": "heatmap"
           }
          ],
          "heatmapgl": [
           {
            "colorbar": {
             "outlinewidth": 0,
             "ticks": ""
            },
            "colorscale": [
             [
              0,
              "#0d0887"
             ],
             [
              0.1111111111111111,
              "#46039f"
             ],
             [
              0.2222222222222222,
              "#7201a8"
             ],
             [
              0.3333333333333333,
              "#9c179e"
             ],
             [
              0.4444444444444444,
              "#bd3786"
             ],
             [
              0.5555555555555556,
              "#d8576b"
             ],
             [
              0.6666666666666666,
              "#ed7953"
             ],
             [
              0.7777777777777778,
              "#fb9f3a"
             ],
             [
              0.8888888888888888,
              "#fdca26"
             ],
             [
              1,
              "#f0f921"
             ]
            ],
            "type": "heatmapgl"
           }
          ],
          "histogram": [
           {
            "marker": {
             "pattern": {
              "fillmode": "overlay",
              "size": 10,
              "solidity": 0.2
             }
            },
            "type": "histogram"
           }
          ],
          "histogram2d": [
           {
            "colorbar": {
             "outlinewidth": 0,
             "ticks": ""
            },
            "colorscale": [
             [
              0,
              "#0d0887"
             ],
             [
              0.1111111111111111,
              "#46039f"
             ],
             [
              0.2222222222222222,
              "#7201a8"
             ],
             [
              0.3333333333333333,
              "#9c179e"
             ],
             [
              0.4444444444444444,
              "#bd3786"
             ],
             [
              0.5555555555555556,
              "#d8576b"
             ],
             [
              0.6666666666666666,
              "#ed7953"
             ],
             [
              0.7777777777777778,
              "#fb9f3a"
             ],
             [
              0.8888888888888888,
              "#fdca26"
             ],
             [
              1,
              "#f0f921"
             ]
            ],
            "type": "histogram2d"
           }
          ],
          "histogram2dcontour": [
           {
            "colorbar": {
             "outlinewidth": 0,
             "ticks": ""
            },
            "colorscale": [
             [
              0,
              "#0d0887"
             ],
             [
              0.1111111111111111,
              "#46039f"
             ],
             [
              0.2222222222222222,
              "#7201a8"
             ],
             [
              0.3333333333333333,
              "#9c179e"
             ],
             [
              0.4444444444444444,
              "#bd3786"
             ],
             [
              0.5555555555555556,
              "#d8576b"
             ],
             [
              0.6666666666666666,
              "#ed7953"
             ],
             [
              0.7777777777777778,
              "#fb9f3a"
             ],
             [
              0.8888888888888888,
              "#fdca26"
             ],
             [
              1,
              "#f0f921"
             ]
            ],
            "type": "histogram2dcontour"
           }
          ],
          "mesh3d": [
           {
            "colorbar": {
             "outlinewidth": 0,
             "ticks": ""
            },
            "type": "mesh3d"
           }
          ],
          "parcoords": [
           {
            "line": {
             "colorbar": {
              "outlinewidth": 0,
              "ticks": ""
             }
            },
            "type": "parcoords"
           }
          ],
          "pie": [
           {
            "automargin": true,
            "type": "pie"
           }
          ],
          "scatter": [
           {
            "marker": {
             "colorbar": {
              "outlinewidth": 0,
              "ticks": ""
             }
            },
            "type": "scatter"
           }
          ],
          "scatter3d": [
           {
            "line": {
             "colorbar": {
              "outlinewidth": 0,
              "ticks": ""
             }
            },
            "marker": {
             "colorbar": {
              "outlinewidth": 0,
              "ticks": ""
             }
            },
            "type": "scatter3d"
           }
          ],
          "scattercarpet": [
           {
            "marker": {
             "colorbar": {
              "outlinewidth": 0,
              "ticks": ""
             }
            },
            "type": "scattercarpet"
           }
          ],
          "scattergeo": [
           {
            "marker": {
             "colorbar": {
              "outlinewidth": 0,
              "ticks": ""
             }
            },
            "type": "scattergeo"
           }
          ],
          "scattergl": [
           {
            "marker": {
             "colorbar": {
              "outlinewidth": 0,
              "ticks": ""
             }
            },
            "type": "scattergl"
           }
          ],
          "scattermapbox": [
           {
            "marker": {
             "colorbar": {
              "outlinewidth": 0,
              "ticks": ""
             }
            },
            "type": "scattermapbox"
           }
          ],
          "scatterpolar": [
           {
            "marker": {
             "colorbar": {
              "outlinewidth": 0,
              "ticks": ""
             }
            },
            "type": "scatterpolar"
           }
          ],
          "scatterpolargl": [
           {
            "marker": {
             "colorbar": {
              "outlinewidth": 0,
              "ticks": ""
             }
            },
            "type": "scatterpolargl"
           }
          ],
          "scatterternary": [
           {
            "marker": {
             "colorbar": {
              "outlinewidth": 0,
              "ticks": ""
             }
            },
            "type": "scatterternary"
           }
          ],
          "surface": [
           {
            "colorbar": {
             "outlinewidth": 0,
             "ticks": ""
            },
            "colorscale": [
             [
              0,
              "#0d0887"
             ],
             [
              0.1111111111111111,
              "#46039f"
             ],
             [
              0.2222222222222222,
              "#7201a8"
             ],
             [
              0.3333333333333333,
              "#9c179e"
             ],
             [
              0.4444444444444444,
              "#bd3786"
             ],
             [
              0.5555555555555556,
              "#d8576b"
             ],
             [
              0.6666666666666666,
              "#ed7953"
             ],
             [
              0.7777777777777778,
              "#fb9f3a"
             ],
             [
              0.8888888888888888,
              "#fdca26"
             ],
             [
              1,
              "#f0f921"
             ]
            ],
            "type": "surface"
           }
          ],
          "table": [
           {
            "cells": {
             "fill": {
              "color": "#EBF0F8"
             },
             "line": {
              "color": "white"
             }
            },
            "header": {
             "fill": {
              "color": "#C8D4E3"
             },
             "line": {
              "color": "white"
             }
            },
            "type": "table"
           }
          ]
         },
         "layout": {
          "annotationdefaults": {
           "arrowcolor": "#2a3f5f",
           "arrowhead": 0,
           "arrowwidth": 1
          },
          "autotypenumbers": "strict",
          "coloraxis": {
           "colorbar": {
            "outlinewidth": 0,
            "ticks": ""
           }
          },
          "colorscale": {
           "diverging": [
            [
             0,
             "#8e0152"
            ],
            [
             0.1,
             "#c51b7d"
            ],
            [
             0.2,
             "#de77ae"
            ],
            [
             0.3,
             "#f1b6da"
            ],
            [
             0.4,
             "#fde0ef"
            ],
            [
             0.5,
             "#f7f7f7"
            ],
            [
             0.6,
             "#e6f5d0"
            ],
            [
             0.7,
             "#b8e186"
            ],
            [
             0.8,
             "#7fbc41"
            ],
            [
             0.9,
             "#4d9221"
            ],
            [
             1,
             "#276419"
            ]
           ],
           "sequential": [
            [
             0,
             "#0d0887"
            ],
            [
             0.1111111111111111,
             "#46039f"
            ],
            [
             0.2222222222222222,
             "#7201a8"
            ],
            [
             0.3333333333333333,
             "#9c179e"
            ],
            [
             0.4444444444444444,
             "#bd3786"
            ],
            [
             0.5555555555555556,
             "#d8576b"
            ],
            [
             0.6666666666666666,
             "#ed7953"
            ],
            [
             0.7777777777777778,
             "#fb9f3a"
            ],
            [
             0.8888888888888888,
             "#fdca26"
            ],
            [
             1,
             "#f0f921"
            ]
           ],
           "sequentialminus": [
            [
             0,
             "#0d0887"
            ],
            [
             0.1111111111111111,
             "#46039f"
            ],
            [
             0.2222222222222222,
             "#7201a8"
            ],
            [
             0.3333333333333333,
             "#9c179e"
            ],
            [
             0.4444444444444444,
             "#bd3786"
            ],
            [
             0.5555555555555556,
             "#d8576b"
            ],
            [
             0.6666666666666666,
             "#ed7953"
            ],
            [
             0.7777777777777778,
             "#fb9f3a"
            ],
            [
             0.8888888888888888,
             "#fdca26"
            ],
            [
             1,
             "#f0f921"
            ]
           ]
          },
          "colorway": [
           "#636efa",
           "#EF553B",
           "#00cc96",
           "#ab63fa",
           "#FFA15A",
           "#19d3f3",
           "#FF6692",
           "#B6E880",
           "#FF97FF",
           "#FECB52"
          ],
          "font": {
           "color": "#2a3f5f"
          },
          "geo": {
           "bgcolor": "white",
           "lakecolor": "white",
           "landcolor": "#E5ECF6",
           "showlakes": true,
           "showland": true,
           "subunitcolor": "white"
          },
          "hoverlabel": {
           "align": "left"
          },
          "hovermode": "closest",
          "mapbox": {
           "style": "light"
          },
          "paper_bgcolor": "white",
          "plot_bgcolor": "#E5ECF6",
          "polar": {
           "angularaxis": {
            "gridcolor": "white",
            "linecolor": "white",
            "ticks": ""
           },
           "bgcolor": "#E5ECF6",
           "radialaxis": {
            "gridcolor": "white",
            "linecolor": "white",
            "ticks": ""
           }
          },
          "scene": {
           "xaxis": {
            "backgroundcolor": "#E5ECF6",
            "gridcolor": "white",
            "gridwidth": 2,
            "linecolor": "white",
            "showbackground": true,
            "ticks": "",
            "zerolinecolor": "white"
           },
           "yaxis": {
            "backgroundcolor": "#E5ECF6",
            "gridcolor": "white",
            "gridwidth": 2,
            "linecolor": "white",
            "showbackground": true,
            "ticks": "",
            "zerolinecolor": "white"
           },
           "zaxis": {
            "backgroundcolor": "#E5ECF6",
            "gridcolor": "white",
            "gridwidth": 2,
            "linecolor": "white",
            "showbackground": true,
            "ticks": "",
            "zerolinecolor": "white"
           }
          },
          "shapedefaults": {
           "line": {
            "color": "#2a3f5f"
           }
          },
          "ternary": {
           "aaxis": {
            "gridcolor": "white",
            "linecolor": "white",
            "ticks": ""
           },
           "baxis": {
            "gridcolor": "white",
            "linecolor": "white",
            "ticks": ""
           },
           "bgcolor": "#E5ECF6",
           "caxis": {
            "gridcolor": "white",
            "linecolor": "white",
            "ticks": ""
           }
          },
          "title": {
           "x": 0.05
          },
          "xaxis": {
           "automargin": true,
           "gridcolor": "white",
           "linecolor": "white",
           "ticks": "",
           "title": {
            "standoff": 15
           },
           "zerolinecolor": "white",
           "zerolinewidth": 2
          },
          "yaxis": {
           "automargin": true,
           "gridcolor": "white",
           "linecolor": "white",
           "ticks": "",
           "title": {
            "standoff": 15
           },
           "zerolinecolor": "white",
           "zerolinewidth": 2
          }
         }
        },
        "yaxis": {
         "title": {
          "text": "TOFL (m)"
         }
        }
       }
      },
      "text/html": [
       "<div>                            <div id=\"4de4fbd5-61ca-4f9d-a3ca-5a63d446f418\" class=\"plotly-graph-div\" style=\"height:525px; width:100%;\"></div>            <script type=\"text/javascript\">                require([\"plotly\"], function(Plotly) {                    window.PLOTLYENV=window.PLOTLYENV || {};                                    if (document.getElementById(\"4de4fbd5-61ca-4f9d-a3ca-5a63d446f418\")) {                    Plotly.newPlot(                        \"4de4fbd5-61ca-4f9d-a3ca-5a63d446f418\",                        [{\"a\":[150.0,150.0,150.0,155.0,155.0,155.0,160.0,160.0,160.0],\"aaxis\":{\"minorgridcount\":10,\"smoothing\":0.1,\"title\":{\"text\":\"Wing Area (m2)\"}},\"b\":[16.305441193560295,22.0,27.694558806439705,16.305441193560295,22.0,27.694558806439705,16.305441193560295,22.0,27.694558806439705],\"baxis\":{\"minorgridcount\":10,\"smoothing\":0.2,\"title\":{\"text\":\"Fan Diameter (m)\"}},\"cheaterslope\":0.8,\"y\":[3868.989418357573,2067.062293437579,1469.2192035552755,3715.453548812952,2023.3747615229809,1422.220697511643,3630.160527090772,1950.7642986801015,1383.1156340493376],\"yaxis\":\"y\",\"type\":\"carpet\"}],                        {\"template\":{\"data\":{\"bar\":[{\"error_x\":{\"color\":\"#2a3f5f\"},\"error_y\":{\"color\":\"#2a3f5f\"},\"marker\":{\"line\":{\"color\":\"#E5ECF6\",\"width\":0.5},\"pattern\":{\"fillmode\":\"overlay\",\"size\":10,\"solidity\":0.2}},\"type\":\"bar\"}],\"barpolar\":[{\"marker\":{\"line\":{\"color\":\"#E5ECF6\",\"width\":0.5},\"pattern\":{\"fillmode\":\"overlay\",\"size\":10,\"solidity\":0.2}},\"type\":\"barpolar\"}],\"carpet\":[{\"aaxis\":{\"endlinecolor\":\"#2a3f5f\",\"gridcolor\":\"white\",\"linecolor\":\"white\",\"minorgridcolor\":\"white\",\"startlinecolor\":\"#2a3f5f\"},\"baxis\":{\"endlinecolor\":\"#2a3f5f\",\"gridcolor\":\"white\",\"linecolor\":\"white\",\"minorgridcolor\":\"white\",\"startlinecolor\":\"#2a3f5f\"},\"type\":\"carpet\"}],\"choropleth\":[{\"colorbar\":{\"outlinewidth\":0,\"ticks\":\"\"},\"type\":\"choropleth\"}],\"contour\":[{\"colorbar\":{\"outlinewidth\":0,\"ticks\":\"\"},\"colorscale\":[[0.0,\"#0d0887\"],[0.1111111111111111,\"#46039f\"],[0.2222222222222222,\"#7201a8\"],[0.3333333333333333,\"#9c179e\"],[0.4444444444444444,\"#bd3786\"],[0.5555555555555556,\"#d8576b\"],[0.6666666666666666,\"#ed7953\"],[0.7777777777777778,\"#fb9f3a\"],[0.8888888888888888,\"#fdca26\"],[1.0,\"#f0f921\"]],\"type\":\"contour\"}],\"contourcarpet\":[{\"colorbar\":{\"outlinewidth\":0,\"ticks\":\"\"},\"type\":\"contourcarpet\"}],\"heatmap\":[{\"colorbar\":{\"outlinewidth\":0,\"ticks\":\"\"},\"colorscale\":[[0.0,\"#0d0887\"],[0.1111111111111111,\"#46039f\"],[0.2222222222222222,\"#7201a8\"],[0.3333333333333333,\"#9c179e\"],[0.4444444444444444,\"#bd3786\"],[0.5555555555555556,\"#d8576b\"],[0.6666666666666666,\"#ed7953\"],[0.7777777777777778,\"#fb9f3a\"],[0.8888888888888888,\"#fdca26\"],[1.0,\"#f0f921\"]],\"type\":\"heatmap\"}],\"heatmapgl\":[{\"colorbar\":{\"outlinewidth\":0,\"ticks\":\"\"},\"colorscale\":[[0.0,\"#0d0887\"],[0.1111111111111111,\"#46039f\"],[0.2222222222222222,\"#7201a8\"],[0.3333333333333333,\"#9c179e\"],[0.4444444444444444,\"#bd3786\"],[0.5555555555555556,\"#d8576b\"],[0.6666666666666666,\"#ed7953\"],[0.7777777777777778,\"#fb9f3a\"],[0.8888888888888888,\"#fdca26\"],[1.0,\"#f0f921\"]],\"type\":\"heatmapgl\"}],\"histogram\":[{\"marker\":{\"pattern\":{\"fillmode\":\"overlay\",\"size\":10,\"solidity\":0.2}},\"type\":\"histogram\"}],\"histogram2d\":[{\"colorbar\":{\"outlinewidth\":0,\"ticks\":\"\"},\"colorscale\":[[0.0,\"#0d0887\"],[0.1111111111111111,\"#46039f\"],[0.2222222222222222,\"#7201a8\"],[0.3333333333333333,\"#9c179e\"],[0.4444444444444444,\"#bd3786\"],[0.5555555555555556,\"#d8576b\"],[0.6666666666666666,\"#ed7953\"],[0.7777777777777778,\"#fb9f3a\"],[0.8888888888888888,\"#fdca26\"],[1.0,\"#f0f921\"]],\"type\":\"histogram2d\"}],\"histogram2dcontour\":[{\"colorbar\":{\"outlinewidth\":0,\"ticks\":\"\"},\"colorscale\":[[0.0,\"#0d0887\"],[0.1111111111111111,\"#46039f\"],[0.2222222222222222,\"#7201a8\"],[0.3333333333333333,\"#9c179e\"],[0.4444444444444444,\"#bd3786\"],[0.5555555555555556,\"#d8576b\"],[0.6666666666666666,\"#ed7953\"],[0.7777777777777778,\"#fb9f3a\"],[0.8888888888888888,\"#fdca26\"],[1.0,\"#f0f921\"]],\"type\":\"histogram2dcontour\"}],\"mesh3d\":[{\"colorbar\":{\"outlinewidth\":0,\"ticks\":\"\"},\"type\":\"mesh3d\"}],\"parcoords\":[{\"line\":{\"colorbar\":{\"outlinewidth\":0,\"ticks\":\"\"}},\"type\":\"parcoords\"}],\"pie\":[{\"automargin\":true,\"type\":\"pie\"}],\"scatter\":[{\"marker\":{\"colorbar\":{\"outlinewidth\":0,\"ticks\":\"\"}},\"type\":\"scatter\"}],\"scatter3d\":[{\"line\":{\"colorbar\":{\"outlinewidth\":0,\"ticks\":\"\"}},\"marker\":{\"colorbar\":{\"outlinewidth\":0,\"ticks\":\"\"}},\"type\":\"scatter3d\"}],\"scattercarpet\":[{\"marker\":{\"colorbar\":{\"outlinewidth\":0,\"ticks\":\"\"}},\"type\":\"scattercarpet\"}],\"scattergeo\":[{\"marker\":{\"colorbar\":{\"outlinewidth\":0,\"ticks\":\"\"}},\"type\":\"scattergeo\"}],\"scattergl\":[{\"marker\":{\"colorbar\":{\"outlinewidth\":0,\"ticks\":\"\"}},\"type\":\"scattergl\"}],\"scattermapbox\":[{\"marker\":{\"colorbar\":{\"outlinewidth\":0,\"ticks\":\"\"}},\"type\":\"scattermapbox\"}],\"scatterpolar\":[{\"marker\":{\"colorbar\":{\"outlinewidth\":0,\"ticks\":\"\"}},\"type\":\"scatterpolar\"}],\"scatterpolargl\":[{\"marker\":{\"colorbar\":{\"outlinewidth\":0,\"ticks\":\"\"}},\"type\":\"scatterpolargl\"}],\"scatterternary\":[{\"marker\":{\"colorbar\":{\"outlinewidth\":0,\"ticks\":\"\"}},\"type\":\"scatterternary\"}],\"surface\":[{\"colorbar\":{\"outlinewidth\":0,\"ticks\":\"\"},\"colorscale\":[[0.0,\"#0d0887\"],[0.1111111111111111,\"#46039f\"],[0.2222222222222222,\"#7201a8\"],[0.3333333333333333,\"#9c179e\"],[0.4444444444444444,\"#bd3786\"],[0.5555555555555556,\"#d8576b\"],[0.6666666666666666,\"#ed7953\"],[0.7777777777777778,\"#fb9f3a\"],[0.8888888888888888,\"#fdca26\"],[1.0,\"#f0f921\"]],\"type\":\"surface\"}],\"table\":[{\"cells\":{\"fill\":{\"color\":\"#EBF0F8\"},\"line\":{\"color\":\"white\"}},\"header\":{\"fill\":{\"color\":\"#C8D4E3\"},\"line\":{\"color\":\"white\"}},\"type\":\"table\"}]},\"layout\":{\"annotationdefaults\":{\"arrowcolor\":\"#2a3f5f\",\"arrowhead\":0,\"arrowwidth\":1},\"autotypenumbers\":\"strict\",\"coloraxis\":{\"colorbar\":{\"outlinewidth\":0,\"ticks\":\"\"}},\"colorscale\":{\"diverging\":[[0,\"#8e0152\"],[0.1,\"#c51b7d\"],[0.2,\"#de77ae\"],[0.3,\"#f1b6da\"],[0.4,\"#fde0ef\"],[0.5,\"#f7f7f7\"],[0.6,\"#e6f5d0\"],[0.7,\"#b8e186\"],[0.8,\"#7fbc41\"],[0.9,\"#4d9221\"],[1,\"#276419\"]],\"sequential\":[[0.0,\"#0d0887\"],[0.1111111111111111,\"#46039f\"],[0.2222222222222222,\"#7201a8\"],[0.3333333333333333,\"#9c179e\"],[0.4444444444444444,\"#bd3786\"],[0.5555555555555556,\"#d8576b\"],[0.6666666666666666,\"#ed7953\"],[0.7777777777777778,\"#fb9f3a\"],[0.8888888888888888,\"#fdca26\"],[1.0,\"#f0f921\"]],\"sequentialminus\":[[0.0,\"#0d0887\"],[0.1111111111111111,\"#46039f\"],[0.2222222222222222,\"#7201a8\"],[0.3333333333333333,\"#9c179e\"],[0.4444444444444444,\"#bd3786\"],[0.5555555555555556,\"#d8576b\"],[0.6666666666666666,\"#ed7953\"],[0.7777777777777778,\"#fb9f3a\"],[0.8888888888888888,\"#fdca26\"],[1.0,\"#f0f921\"]]},\"colorway\":[\"#636efa\",\"#EF553B\",\"#00cc96\",\"#ab63fa\",\"#FFA15A\",\"#19d3f3\",\"#FF6692\",\"#B6E880\",\"#FF97FF\",\"#FECB52\"],\"font\":{\"color\":\"#2a3f5f\"},\"geo\":{\"bgcolor\":\"white\",\"lakecolor\":\"white\",\"landcolor\":\"#E5ECF6\",\"showlakes\":true,\"showland\":true,\"subunitcolor\":\"white\"},\"hoverlabel\":{\"align\":\"left\"},\"hovermode\":\"closest\",\"mapbox\":{\"style\":\"light\"},\"paper_bgcolor\":\"white\",\"plot_bgcolor\":\"#E5ECF6\",\"polar\":{\"angularaxis\":{\"gridcolor\":\"white\",\"linecolor\":\"white\",\"ticks\":\"\"},\"bgcolor\":\"#E5ECF6\",\"radialaxis\":{\"gridcolor\":\"white\",\"linecolor\":\"white\",\"ticks\":\"\"}},\"scene\":{\"xaxis\":{\"backgroundcolor\":\"#E5ECF6\",\"gridcolor\":\"white\",\"gridwidth\":2,\"linecolor\":\"white\",\"showbackground\":true,\"ticks\":\"\",\"zerolinecolor\":\"white\"},\"yaxis\":{\"backgroundcolor\":\"#E5ECF6\",\"gridcolor\":\"white\",\"gridwidth\":2,\"linecolor\":\"white\",\"showbackground\":true,\"ticks\":\"\",\"zerolinecolor\":\"white\"},\"zaxis\":{\"backgroundcolor\":\"#E5ECF6\",\"gridcolor\":\"white\",\"gridwidth\":2,\"linecolor\":\"white\",\"showbackground\":true,\"ticks\":\"\",\"zerolinecolor\":\"white\"}},\"shapedefaults\":{\"line\":{\"color\":\"#2a3f5f\"}},\"ternary\":{\"aaxis\":{\"gridcolor\":\"white\",\"linecolor\":\"white\",\"ticks\":\"\"},\"baxis\":{\"gridcolor\":\"white\",\"linecolor\":\"white\",\"ticks\":\"\"},\"bgcolor\":\"#E5ECF6\",\"caxis\":{\"gridcolor\":\"white\",\"linecolor\":\"white\",\"ticks\":\"\"}},\"title\":{\"x\":0.05},\"xaxis\":{\"automargin\":true,\"gridcolor\":\"white\",\"linecolor\":\"white\",\"ticks\":\"\",\"title\":{\"standoff\":15},\"zerolinecolor\":\"white\",\"zerolinewidth\":2},\"yaxis\":{\"automargin\":true,\"gridcolor\":\"white\",\"linecolor\":\"white\",\"ticks\":\"\",\"title\":{\"standoff\":15},\"zerolinecolor\":\"white\",\"zerolinewidth\":2}}},\"yaxis\":{\"title\":{\"text\":\"TOFL (m)\"}}},                        {\"responsive\": true}                    ).then(function(){\n",
       "                            \n",
       "var gd = document.getElementById('4de4fbd5-61ca-4f9d-a3ca-5a63d446f418');\n",
       "var x = new MutationObserver(function (mutations, observer) {{\n",
       "        var display = window.getComputedStyle(gd).display;\n",
       "        if (!display || display === 'none') {{\n",
       "            console.log([gd, 'removed!']);\n",
       "            Plotly.purge(gd);\n",
       "            observer.disconnect();\n",
       "        }}\n",
       "}});\n",
       "\n",
       "// Listen for the removal of the full notebook cells\n",
       "var notebookContainer = gd.closest('#notebook-container');\n",
       "if (notebookContainer) {{\n",
       "    x.observe(notebookContainer, {childList: true});\n",
       "}}\n",
       "\n",
       "// Listen for the clearing of the current output cell\n",
       "var outputEl = gd.closest('.output');\n",
       "if (outputEl) {{\n",
       "    x.observe(outputEl, {childList: true});\n",
       "}}\n",
       "\n",
       "                        })                };                });            </script>        </div>"
      ]
     },
     "metadata": {},
     "output_type": "display_data"
    }
   ],
   "source": [
    "draw_carpet(input[\"WingArea\"],input[\"FanDiameter\"],output[\"takeoff_field_length_computed\"],'Wing Area (m2)',\"Fan Diameter (m)\",\"TOFL (m)\")"
   ]
  },
  {
   "cell_type": "code",
   "execution_count": 352,
   "metadata": {},
   "outputs": [
    {
     "data": {
      "application/vnd.plotly.v1+json": {
       "config": {
        "plotlyServerURL": "https://plot.ly"
       },
       "data": [
        {
         "a": [
          150,
          150,
          150,
          155,
          155,
          155,
          160,
          160,
          160
         ],
         "aaxis": {
          "minorgridcount": 10,
          "smoothing": 0.1,
          "title": {
           "text": "Wing Area (m2)"
          }
         },
         "b": [
          1.6305441193560295,
          2.2,
          2.7694558806439704,
          1.6305441193560295,
          2.2,
          2.7694558806439704,
          1.6305441193560295,
          2.2,
          2.7694558806439704
         ],
         "baxis": {
          "minorgridcount": 10,
          "smoothing": 0.2,
          "title": {
           "text": "Fan Diameter (m)"
          }
         },
         "cheaterslope": 0.8,
         "type": "carpet",
         "y": [
          71.76715593952922,
          72.50840826533572,
          75.13468001150137,
          70.47405353948517,
          71.34332647307185,
          73.8824292063335,
          69.45116976924761,
          70.08464938640553,
          72.5829812408884
         ],
         "yaxis": "y"
        }
       ],
       "layout": {
        "template": {
         "data": {
          "bar": [
           {
            "error_x": {
             "color": "#2a3f5f"
            },
            "error_y": {
             "color": "#2a3f5f"
            },
            "marker": {
             "line": {
              "color": "#E5ECF6",
              "width": 0.5
             },
             "pattern": {
              "fillmode": "overlay",
              "size": 10,
              "solidity": 0.2
             }
            },
            "type": "bar"
           }
          ],
          "barpolar": [
           {
            "marker": {
             "line": {
              "color": "#E5ECF6",
              "width": 0.5
             },
             "pattern": {
              "fillmode": "overlay",
              "size": 10,
              "solidity": 0.2
             }
            },
            "type": "barpolar"
           }
          ],
          "carpet": [
           {
            "aaxis": {
             "endlinecolor": "#2a3f5f",
             "gridcolor": "white",
             "linecolor": "white",
             "minorgridcolor": "white",
             "startlinecolor": "#2a3f5f"
            },
            "baxis": {
             "endlinecolor": "#2a3f5f",
             "gridcolor": "white",
             "linecolor": "white",
             "minorgridcolor": "white",
             "startlinecolor": "#2a3f5f"
            },
            "type": "carpet"
           }
          ],
          "choropleth": [
           {
            "colorbar": {
             "outlinewidth": 0,
             "ticks": ""
            },
            "type": "choropleth"
           }
          ],
          "contour": [
           {
            "colorbar": {
             "outlinewidth": 0,
             "ticks": ""
            },
            "colorscale": [
             [
              0,
              "#0d0887"
             ],
             [
              0.1111111111111111,
              "#46039f"
             ],
             [
              0.2222222222222222,
              "#7201a8"
             ],
             [
              0.3333333333333333,
              "#9c179e"
             ],
             [
              0.4444444444444444,
              "#bd3786"
             ],
             [
              0.5555555555555556,
              "#d8576b"
             ],
             [
              0.6666666666666666,
              "#ed7953"
             ],
             [
              0.7777777777777778,
              "#fb9f3a"
             ],
             [
              0.8888888888888888,
              "#fdca26"
             ],
             [
              1,
              "#f0f921"
             ]
            ],
            "type": "contour"
           }
          ],
          "contourcarpet": [
           {
            "colorbar": {
             "outlinewidth": 0,
             "ticks": ""
            },
            "type": "contourcarpet"
           }
          ],
          "heatmap": [
           {
            "colorbar": {
             "outlinewidth": 0,
             "ticks": ""
            },
            "colorscale": [
             [
              0,
              "#0d0887"
             ],
             [
              0.1111111111111111,
              "#46039f"
             ],
             [
              0.2222222222222222,
              "#7201a8"
             ],
             [
              0.3333333333333333,
              "#9c179e"
             ],
             [
              0.4444444444444444,
              "#bd3786"
             ],
             [
              0.5555555555555556,
              "#d8576b"
             ],
             [
              0.6666666666666666,
              "#ed7953"
             ],
             [
              0.7777777777777778,
              "#fb9f3a"
             ],
             [
              0.8888888888888888,
              "#fdca26"
             ],
             [
              1,
              "#f0f921"
             ]
            ],
            "type": "heatmap"
           }
          ],
          "heatmapgl": [
           {
            "colorbar": {
             "outlinewidth": 0,
             "ticks": ""
            },
            "colorscale": [
             [
              0,
              "#0d0887"
             ],
             [
              0.1111111111111111,
              "#46039f"
             ],
             [
              0.2222222222222222,
              "#7201a8"
             ],
             [
              0.3333333333333333,
              "#9c179e"
             ],
             [
              0.4444444444444444,
              "#bd3786"
             ],
             [
              0.5555555555555556,
              "#d8576b"
             ],
             [
              0.6666666666666666,
              "#ed7953"
             ],
             [
              0.7777777777777778,
              "#fb9f3a"
             ],
             [
              0.8888888888888888,
              "#fdca26"
             ],
             [
              1,
              "#f0f921"
             ]
            ],
            "type": "heatmapgl"
           }
          ],
          "histogram": [
           {
            "marker": {
             "pattern": {
              "fillmode": "overlay",
              "size": 10,
              "solidity": 0.2
             }
            },
            "type": "histogram"
           }
          ],
          "histogram2d": [
           {
            "colorbar": {
             "outlinewidth": 0,
             "ticks": ""
            },
            "colorscale": [
             [
              0,
              "#0d0887"
             ],
             [
              0.1111111111111111,
              "#46039f"
             ],
             [
              0.2222222222222222,
              "#7201a8"
             ],
             [
              0.3333333333333333,
              "#9c179e"
             ],
             [
              0.4444444444444444,
              "#bd3786"
             ],
             [
              0.5555555555555556,
              "#d8576b"
             ],
             [
              0.6666666666666666,
              "#ed7953"
             ],
             [
              0.7777777777777778,
              "#fb9f3a"
             ],
             [
              0.8888888888888888,
              "#fdca26"
             ],
             [
              1,
              "#f0f921"
             ]
            ],
            "type": "histogram2d"
           }
          ],
          "histogram2dcontour": [
           {
            "colorbar": {
             "outlinewidth": 0,
             "ticks": ""
            },
            "colorscale": [
             [
              0,
              "#0d0887"
             ],
             [
              0.1111111111111111,
              "#46039f"
             ],
             [
              0.2222222222222222,
              "#7201a8"
             ],
             [
              0.3333333333333333,
              "#9c179e"
             ],
             [
              0.4444444444444444,
              "#bd3786"
             ],
             [
              0.5555555555555556,
              "#d8576b"
             ],
             [
              0.6666666666666666,
              "#ed7953"
             ],
             [
              0.7777777777777778,
              "#fb9f3a"
             ],
             [
              0.8888888888888888,
              "#fdca26"
             ],
             [
              1,
              "#f0f921"
             ]
            ],
            "type": "histogram2dcontour"
           }
          ],
          "mesh3d": [
           {
            "colorbar": {
             "outlinewidth": 0,
             "ticks": ""
            },
            "type": "mesh3d"
           }
          ],
          "parcoords": [
           {
            "line": {
             "colorbar": {
              "outlinewidth": 0,
              "ticks": ""
             }
            },
            "type": "parcoords"
           }
          ],
          "pie": [
           {
            "automargin": true,
            "type": "pie"
           }
          ],
          "scatter": [
           {
            "marker": {
             "colorbar": {
              "outlinewidth": 0,
              "ticks": ""
             }
            },
            "type": "scatter"
           }
          ],
          "scatter3d": [
           {
            "line": {
             "colorbar": {
              "outlinewidth": 0,
              "ticks": ""
             }
            },
            "marker": {
             "colorbar": {
              "outlinewidth": 0,
              "ticks": ""
             }
            },
            "type": "scatter3d"
           }
          ],
          "scattercarpet": [
           {
            "marker": {
             "colorbar": {
              "outlinewidth": 0,
              "ticks": ""
             }
            },
            "type": "scattercarpet"
           }
          ],
          "scattergeo": [
           {
            "marker": {
             "colorbar": {
              "outlinewidth": 0,
              "ticks": ""
             }
            },
            "type": "scattergeo"
           }
          ],
          "scattergl": [
           {
            "marker": {
             "colorbar": {
              "outlinewidth": 0,
              "ticks": ""
             }
            },
            "type": "scattergl"
           }
          ],
          "scattermapbox": [
           {
            "marker": {
             "colorbar": {
              "outlinewidth": 0,
              "ticks": ""
             }
            },
            "type": "scattermapbox"
           }
          ],
          "scatterpolar": [
           {
            "marker": {
             "colorbar": {
              "outlinewidth": 0,
              "ticks": ""
             }
            },
            "type": "scatterpolar"
           }
          ],
          "scatterpolargl": [
           {
            "marker": {
             "colorbar": {
              "outlinewidth": 0,
              "ticks": ""
             }
            },
            "type": "scatterpolargl"
           }
          ],
          "scatterternary": [
           {
            "marker": {
             "colorbar": {
              "outlinewidth": 0,
              "ticks": ""
             }
            },
            "type": "scatterternary"
           }
          ],
          "surface": [
           {
            "colorbar": {
             "outlinewidth": 0,
             "ticks": ""
            },
            "colorscale": [
             [
              0,
              "#0d0887"
             ],
             [
              0.1111111111111111,
              "#46039f"
             ],
             [
              0.2222222222222222,
              "#7201a8"
             ],
             [
              0.3333333333333333,
              "#9c179e"
             ],
             [
              0.4444444444444444,
              "#bd3786"
             ],
             [
              0.5555555555555556,
              "#d8576b"
             ],
             [
              0.6666666666666666,
              "#ed7953"
             ],
             [
              0.7777777777777778,
              "#fb9f3a"
             ],
             [
              0.8888888888888888,
              "#fdca26"
             ],
             [
              1,
              "#f0f921"
             ]
            ],
            "type": "surface"
           }
          ],
          "table": [
           {
            "cells": {
             "fill": {
              "color": "#EBF0F8"
             },
             "line": {
              "color": "white"
             }
            },
            "header": {
             "fill": {
              "color": "#C8D4E3"
             },
             "line": {
              "color": "white"
             }
            },
            "type": "table"
           }
          ]
         },
         "layout": {
          "annotationdefaults": {
           "arrowcolor": "#2a3f5f",
           "arrowhead": 0,
           "arrowwidth": 1
          },
          "autotypenumbers": "strict",
          "coloraxis": {
           "colorbar": {
            "outlinewidth": 0,
            "ticks": ""
           }
          },
          "colorscale": {
           "diverging": [
            [
             0,
             "#8e0152"
            ],
            [
             0.1,
             "#c51b7d"
            ],
            [
             0.2,
             "#de77ae"
            ],
            [
             0.3,
             "#f1b6da"
            ],
            [
             0.4,
             "#fde0ef"
            ],
            [
             0.5,
             "#f7f7f7"
            ],
            [
             0.6,
             "#e6f5d0"
            ],
            [
             0.7,
             "#b8e186"
            ],
            [
             0.8,
             "#7fbc41"
            ],
            [
             0.9,
             "#4d9221"
            ],
            [
             1,
             "#276419"
            ]
           ],
           "sequential": [
            [
             0,
             "#0d0887"
            ],
            [
             0.1111111111111111,
             "#46039f"
            ],
            [
             0.2222222222222222,
             "#7201a8"
            ],
            [
             0.3333333333333333,
             "#9c179e"
            ],
            [
             0.4444444444444444,
             "#bd3786"
            ],
            [
             0.5555555555555556,
             "#d8576b"
            ],
            [
             0.6666666666666666,
             "#ed7953"
            ],
            [
             0.7777777777777778,
             "#fb9f3a"
            ],
            [
             0.8888888888888888,
             "#fdca26"
            ],
            [
             1,
             "#f0f921"
            ]
           ],
           "sequentialminus": [
            [
             0,
             "#0d0887"
            ],
            [
             0.1111111111111111,
             "#46039f"
            ],
            [
             0.2222222222222222,
             "#7201a8"
            ],
            [
             0.3333333333333333,
             "#9c179e"
            ],
            [
             0.4444444444444444,
             "#bd3786"
            ],
            [
             0.5555555555555556,
             "#d8576b"
            ],
            [
             0.6666666666666666,
             "#ed7953"
            ],
            [
             0.7777777777777778,
             "#fb9f3a"
            ],
            [
             0.8888888888888888,
             "#fdca26"
            ],
            [
             1,
             "#f0f921"
            ]
           ]
          },
          "colorway": [
           "#636efa",
           "#EF553B",
           "#00cc96",
           "#ab63fa",
           "#FFA15A",
           "#19d3f3",
           "#FF6692",
           "#B6E880",
           "#FF97FF",
           "#FECB52"
          ],
          "font": {
           "color": "#2a3f5f"
          },
          "geo": {
           "bgcolor": "white",
           "lakecolor": "white",
           "landcolor": "#E5ECF6",
           "showlakes": true,
           "showland": true,
           "subunitcolor": "white"
          },
          "hoverlabel": {
           "align": "left"
          },
          "hovermode": "closest",
          "mapbox": {
           "style": "light"
          },
          "paper_bgcolor": "white",
          "plot_bgcolor": "#E5ECF6",
          "polar": {
           "angularaxis": {
            "gridcolor": "white",
            "linecolor": "white",
            "ticks": ""
           },
           "bgcolor": "#E5ECF6",
           "radialaxis": {
            "gridcolor": "white",
            "linecolor": "white",
            "ticks": ""
           }
          },
          "scene": {
           "xaxis": {
            "backgroundcolor": "#E5ECF6",
            "gridcolor": "white",
            "gridwidth": 2,
            "linecolor": "white",
            "showbackground": true,
            "ticks": "",
            "zerolinecolor": "white"
           },
           "yaxis": {
            "backgroundcolor": "#E5ECF6",
            "gridcolor": "white",
            "gridwidth": 2,
            "linecolor": "white",
            "showbackground": true,
            "ticks": "",
            "zerolinecolor": "white"
           },
           "zaxis": {
            "backgroundcolor": "#E5ECF6",
            "gridcolor": "white",
            "gridwidth": 2,
            "linecolor": "white",
            "showbackground": true,
            "ticks": "",
            "zerolinecolor": "white"
           }
          },
          "shapedefaults": {
           "line": {
            "color": "#2a3f5f"
           }
          },
          "ternary": {
           "aaxis": {
            "gridcolor": "white",
            "linecolor": "white",
            "ticks": ""
           },
           "baxis": {
            "gridcolor": "white",
            "linecolor": "white",
            "ticks": ""
           },
           "bgcolor": "#E5ECF6",
           "caxis": {
            "gridcolor": "white",
            "linecolor": "white",
            "ticks": ""
           }
          },
          "title": {
           "x": 0.05
          },
          "xaxis": {
           "automargin": true,
           "gridcolor": "white",
           "linecolor": "white",
           "ticks": "",
           "title": {
            "standoff": 15
           },
           "zerolinecolor": "white",
           "zerolinewidth": 2
          },
          "yaxis": {
           "automargin": true,
           "gridcolor": "white",
           "linecolor": "white",
           "ticks": "",
           "title": {
            "standoff": 15
           },
           "zerolinecolor": "white",
           "zerolinewidth": 2
          }
         }
        },
        "yaxis": {
         "title": {
          "text": "App Speed (kts)"
         }
        }
       }
      },
      "text/html": [
       "<div>                            <div id=\"f996c3c8-cb66-4970-b4ee-5a0529addcef\" class=\"plotly-graph-div\" style=\"height:525px; width:100%;\"></div>            <script type=\"text/javascript\">                require([\"plotly\"], function(Plotly) {                    window.PLOTLYENV=window.PLOTLYENV || {};                                    if (document.getElementById(\"f996c3c8-cb66-4970-b4ee-5a0529addcef\")) {                    Plotly.newPlot(                        \"f996c3c8-cb66-4970-b4ee-5a0529addcef\",                        [{\"a\":[150.0,150.0,150.0,155.0,155.0,155.0,160.0,160.0,160.0],\"aaxis\":{\"minorgridcount\":10,\"smoothing\":0.1,\"title\":{\"text\":\"Wing Area (m2)\"}},\"b\":[1.6305441193560295,2.2,2.7694558806439704,1.6305441193560295,2.2,2.7694558806439704,1.6305441193560295,2.2,2.7694558806439704],\"baxis\":{\"minorgridcount\":10,\"smoothing\":0.2,\"title\":{\"text\":\"Fan Diameter (m)\"}},\"cheaterslope\":0.8,\"y\":[71.76715593952922,72.50840826533572,75.13468001150137,70.47405353948517,71.34332647307185,73.8824292063335,69.45116976924761,70.08464938640553,72.5829812408884],\"yaxis\":\"y\",\"type\":\"carpet\"}],                        {\"template\":{\"data\":{\"bar\":[{\"error_x\":{\"color\":\"#2a3f5f\"},\"error_y\":{\"color\":\"#2a3f5f\"},\"marker\":{\"line\":{\"color\":\"#E5ECF6\",\"width\":0.5},\"pattern\":{\"fillmode\":\"overlay\",\"size\":10,\"solidity\":0.2}},\"type\":\"bar\"}],\"barpolar\":[{\"marker\":{\"line\":{\"color\":\"#E5ECF6\",\"width\":0.5},\"pattern\":{\"fillmode\":\"overlay\",\"size\":10,\"solidity\":0.2}},\"type\":\"barpolar\"}],\"carpet\":[{\"aaxis\":{\"endlinecolor\":\"#2a3f5f\",\"gridcolor\":\"white\",\"linecolor\":\"white\",\"minorgridcolor\":\"white\",\"startlinecolor\":\"#2a3f5f\"},\"baxis\":{\"endlinecolor\":\"#2a3f5f\",\"gridcolor\":\"white\",\"linecolor\":\"white\",\"minorgridcolor\":\"white\",\"startlinecolor\":\"#2a3f5f\"},\"type\":\"carpet\"}],\"choropleth\":[{\"colorbar\":{\"outlinewidth\":0,\"ticks\":\"\"},\"type\":\"choropleth\"}],\"contour\":[{\"colorbar\":{\"outlinewidth\":0,\"ticks\":\"\"},\"colorscale\":[[0.0,\"#0d0887\"],[0.1111111111111111,\"#46039f\"],[0.2222222222222222,\"#7201a8\"],[0.3333333333333333,\"#9c179e\"],[0.4444444444444444,\"#bd3786\"],[0.5555555555555556,\"#d8576b\"],[0.6666666666666666,\"#ed7953\"],[0.7777777777777778,\"#fb9f3a\"],[0.8888888888888888,\"#fdca26\"],[1.0,\"#f0f921\"]],\"type\":\"contour\"}],\"contourcarpet\":[{\"colorbar\":{\"outlinewidth\":0,\"ticks\":\"\"},\"type\":\"contourcarpet\"}],\"heatmap\":[{\"colorbar\":{\"outlinewidth\":0,\"ticks\":\"\"},\"colorscale\":[[0.0,\"#0d0887\"],[0.1111111111111111,\"#46039f\"],[0.2222222222222222,\"#7201a8\"],[0.3333333333333333,\"#9c179e\"],[0.4444444444444444,\"#bd3786\"],[0.5555555555555556,\"#d8576b\"],[0.6666666666666666,\"#ed7953\"],[0.7777777777777778,\"#fb9f3a\"],[0.8888888888888888,\"#fdca26\"],[1.0,\"#f0f921\"]],\"type\":\"heatmap\"}],\"heatmapgl\":[{\"colorbar\":{\"outlinewidth\":0,\"ticks\":\"\"},\"colorscale\":[[0.0,\"#0d0887\"],[0.1111111111111111,\"#46039f\"],[0.2222222222222222,\"#7201a8\"],[0.3333333333333333,\"#9c179e\"],[0.4444444444444444,\"#bd3786\"],[0.5555555555555556,\"#d8576b\"],[0.6666666666666666,\"#ed7953\"],[0.7777777777777778,\"#fb9f3a\"],[0.8888888888888888,\"#fdca26\"],[1.0,\"#f0f921\"]],\"type\":\"heatmapgl\"}],\"histogram\":[{\"marker\":{\"pattern\":{\"fillmode\":\"overlay\",\"size\":10,\"solidity\":0.2}},\"type\":\"histogram\"}],\"histogram2d\":[{\"colorbar\":{\"outlinewidth\":0,\"ticks\":\"\"},\"colorscale\":[[0.0,\"#0d0887\"],[0.1111111111111111,\"#46039f\"],[0.2222222222222222,\"#7201a8\"],[0.3333333333333333,\"#9c179e\"],[0.4444444444444444,\"#bd3786\"],[0.5555555555555556,\"#d8576b\"],[0.6666666666666666,\"#ed7953\"],[0.7777777777777778,\"#fb9f3a\"],[0.8888888888888888,\"#fdca26\"],[1.0,\"#f0f921\"]],\"type\":\"histogram2d\"}],\"histogram2dcontour\":[{\"colorbar\":{\"outlinewidth\":0,\"ticks\":\"\"},\"colorscale\":[[0.0,\"#0d0887\"],[0.1111111111111111,\"#46039f\"],[0.2222222222222222,\"#7201a8\"],[0.3333333333333333,\"#9c179e\"],[0.4444444444444444,\"#bd3786\"],[0.5555555555555556,\"#d8576b\"],[0.6666666666666666,\"#ed7953\"],[0.7777777777777778,\"#fb9f3a\"],[0.8888888888888888,\"#fdca26\"],[1.0,\"#f0f921\"]],\"type\":\"histogram2dcontour\"}],\"mesh3d\":[{\"colorbar\":{\"outlinewidth\":0,\"ticks\":\"\"},\"type\":\"mesh3d\"}],\"parcoords\":[{\"line\":{\"colorbar\":{\"outlinewidth\":0,\"ticks\":\"\"}},\"type\":\"parcoords\"}],\"pie\":[{\"automargin\":true,\"type\":\"pie\"}],\"scatter\":[{\"marker\":{\"colorbar\":{\"outlinewidth\":0,\"ticks\":\"\"}},\"type\":\"scatter\"}],\"scatter3d\":[{\"line\":{\"colorbar\":{\"outlinewidth\":0,\"ticks\":\"\"}},\"marker\":{\"colorbar\":{\"outlinewidth\":0,\"ticks\":\"\"}},\"type\":\"scatter3d\"}],\"scattercarpet\":[{\"marker\":{\"colorbar\":{\"outlinewidth\":0,\"ticks\":\"\"}},\"type\":\"scattercarpet\"}],\"scattergeo\":[{\"marker\":{\"colorbar\":{\"outlinewidth\":0,\"ticks\":\"\"}},\"type\":\"scattergeo\"}],\"scattergl\":[{\"marker\":{\"colorbar\":{\"outlinewidth\":0,\"ticks\":\"\"}},\"type\":\"scattergl\"}],\"scattermapbox\":[{\"marker\":{\"colorbar\":{\"outlinewidth\":0,\"ticks\":\"\"}},\"type\":\"scattermapbox\"}],\"scatterpolar\":[{\"marker\":{\"colorbar\":{\"outlinewidth\":0,\"ticks\":\"\"}},\"type\":\"scatterpolar\"}],\"scatterpolargl\":[{\"marker\":{\"colorbar\":{\"outlinewidth\":0,\"ticks\":\"\"}},\"type\":\"scatterpolargl\"}],\"scatterternary\":[{\"marker\":{\"colorbar\":{\"outlinewidth\":0,\"ticks\":\"\"}},\"type\":\"scatterternary\"}],\"surface\":[{\"colorbar\":{\"outlinewidth\":0,\"ticks\":\"\"},\"colorscale\":[[0.0,\"#0d0887\"],[0.1111111111111111,\"#46039f\"],[0.2222222222222222,\"#7201a8\"],[0.3333333333333333,\"#9c179e\"],[0.4444444444444444,\"#bd3786\"],[0.5555555555555556,\"#d8576b\"],[0.6666666666666666,\"#ed7953\"],[0.7777777777777778,\"#fb9f3a\"],[0.8888888888888888,\"#fdca26\"],[1.0,\"#f0f921\"]],\"type\":\"surface\"}],\"table\":[{\"cells\":{\"fill\":{\"color\":\"#EBF0F8\"},\"line\":{\"color\":\"white\"}},\"header\":{\"fill\":{\"color\":\"#C8D4E3\"},\"line\":{\"color\":\"white\"}},\"type\":\"table\"}]},\"layout\":{\"annotationdefaults\":{\"arrowcolor\":\"#2a3f5f\",\"arrowhead\":0,\"arrowwidth\":1},\"autotypenumbers\":\"strict\",\"coloraxis\":{\"colorbar\":{\"outlinewidth\":0,\"ticks\":\"\"}},\"colorscale\":{\"diverging\":[[0,\"#8e0152\"],[0.1,\"#c51b7d\"],[0.2,\"#de77ae\"],[0.3,\"#f1b6da\"],[0.4,\"#fde0ef\"],[0.5,\"#f7f7f7\"],[0.6,\"#e6f5d0\"],[0.7,\"#b8e186\"],[0.8,\"#7fbc41\"],[0.9,\"#4d9221\"],[1,\"#276419\"]],\"sequential\":[[0.0,\"#0d0887\"],[0.1111111111111111,\"#46039f\"],[0.2222222222222222,\"#7201a8\"],[0.3333333333333333,\"#9c179e\"],[0.4444444444444444,\"#bd3786\"],[0.5555555555555556,\"#d8576b\"],[0.6666666666666666,\"#ed7953\"],[0.7777777777777778,\"#fb9f3a\"],[0.8888888888888888,\"#fdca26\"],[1.0,\"#f0f921\"]],\"sequentialminus\":[[0.0,\"#0d0887\"],[0.1111111111111111,\"#46039f\"],[0.2222222222222222,\"#7201a8\"],[0.3333333333333333,\"#9c179e\"],[0.4444444444444444,\"#bd3786\"],[0.5555555555555556,\"#d8576b\"],[0.6666666666666666,\"#ed7953\"],[0.7777777777777778,\"#fb9f3a\"],[0.8888888888888888,\"#fdca26\"],[1.0,\"#f0f921\"]]},\"colorway\":[\"#636efa\",\"#EF553B\",\"#00cc96\",\"#ab63fa\",\"#FFA15A\",\"#19d3f3\",\"#FF6692\",\"#B6E880\",\"#FF97FF\",\"#FECB52\"],\"font\":{\"color\":\"#2a3f5f\"},\"geo\":{\"bgcolor\":\"white\",\"lakecolor\":\"white\",\"landcolor\":\"#E5ECF6\",\"showlakes\":true,\"showland\":true,\"subunitcolor\":\"white\"},\"hoverlabel\":{\"align\":\"left\"},\"hovermode\":\"closest\",\"mapbox\":{\"style\":\"light\"},\"paper_bgcolor\":\"white\",\"plot_bgcolor\":\"#E5ECF6\",\"polar\":{\"angularaxis\":{\"gridcolor\":\"white\",\"linecolor\":\"white\",\"ticks\":\"\"},\"bgcolor\":\"#E5ECF6\",\"radialaxis\":{\"gridcolor\":\"white\",\"linecolor\":\"white\",\"ticks\":\"\"}},\"scene\":{\"xaxis\":{\"backgroundcolor\":\"#E5ECF6\",\"gridcolor\":\"white\",\"gridwidth\":2,\"linecolor\":\"white\",\"showbackground\":true,\"ticks\":\"\",\"zerolinecolor\":\"white\"},\"yaxis\":{\"backgroundcolor\":\"#E5ECF6\",\"gridcolor\":\"white\",\"gridwidth\":2,\"linecolor\":\"white\",\"showbackground\":true,\"ticks\":\"\",\"zerolinecolor\":\"white\"},\"zaxis\":{\"backgroundcolor\":\"#E5ECF6\",\"gridcolor\":\"white\",\"gridwidth\":2,\"linecolor\":\"white\",\"showbackground\":true,\"ticks\":\"\",\"zerolinecolor\":\"white\"}},\"shapedefaults\":{\"line\":{\"color\":\"#2a3f5f\"}},\"ternary\":{\"aaxis\":{\"gridcolor\":\"white\",\"linecolor\":\"white\",\"ticks\":\"\"},\"baxis\":{\"gridcolor\":\"white\",\"linecolor\":\"white\",\"ticks\":\"\"},\"bgcolor\":\"#E5ECF6\",\"caxis\":{\"gridcolor\":\"white\",\"linecolor\":\"white\",\"ticks\":\"\"}},\"title\":{\"x\":0.05},\"xaxis\":{\"automargin\":true,\"gridcolor\":\"white\",\"linecolor\":\"white\",\"ticks\":\"\",\"title\":{\"standoff\":15},\"zerolinecolor\":\"white\",\"zerolinewidth\":2},\"yaxis\":{\"automargin\":true,\"gridcolor\":\"white\",\"linecolor\":\"white\",\"ticks\":\"\",\"title\":{\"standoff\":15},\"zerolinecolor\":\"white\",\"zerolinewidth\":2}}},\"yaxis\":{\"title\":{\"text\":\"App Speed (kts)\"}}},                        {\"responsive\": true}                    ).then(function(){\n",
       "                            \n",
       "var gd = document.getElementById('f996c3c8-cb66-4970-b4ee-5a0529addcef');\n",
       "var x = new MutationObserver(function (mutations, observer) {{\n",
       "        var display = window.getComputedStyle(gd).display;\n",
       "        if (!display || display === 'none') {{\n",
       "            console.log([gd, 'removed!']);\n",
       "            Plotly.purge(gd);\n",
       "            observer.disconnect();\n",
       "        }}\n",
       "}});\n",
       "\n",
       "// Listen for the removal of the full notebook cells\n",
       "var notebookContainer = gd.closest('#notebook-container');\n",
       "if (notebookContainer) {{\n",
       "    x.observe(notebookContainer, {childList: true});\n",
       "}}\n",
       "\n",
       "// Listen for the clearing of the current output cell\n",
       "var outputEl = gd.closest('.output');\n",
       "if (outputEl) {{\n",
       "    x.observe(outputEl, {childList: true});\n",
       "}}\n",
       "\n",
       "                        })                };                });            </script>        </div>"
      ]
     },
     "metadata": {},
     "output_type": "display_data"
    }
   ],
   "source": [
    "draw_carpet(input[\"WingArea\"],input[\"FanDiameter\"]/10,output[\"app_speed\"],'Wing Area (m2)',\"Fan Diameter (m)\",\"App Speed (kts)\")\n"
   ]
  },
  {
   "cell_type": "code",
   "execution_count": 353,
   "metadata": {},
   "outputs": [
    {
     "data": {
      "application/vnd.plotly.v1+json": {
       "config": {
        "plotlyServerURL": "https://plot.ly"
       },
       "data": [
        {
         "a": [
          150,
          150,
          150,
          155,
          155,
          155,
          160,
          160,
          160
         ],
         "aaxis": {
          "minorgridcount": 10,
          "smoothing": 0.1,
          "title": {
           "text": "Wing Area (m2)"
          }
         },
         "b": [
          1.6305441193560295,
          2.2,
          2.7694558806439704,
          1.6305441193560295,
          2.2,
          2.7694558806439704,
          1.6305441193560295,
          2.2,
          2.7694558806439704
         ],
         "baxis": {
          "minorgridcount": 10,
          "smoothing": 0.2,
          "title": {
           "text": "Fan Diameter (m)"
          }
         },
         "cheaterslope": 0.8,
         "type": "carpet",
         "y": [
          56884.95012145678,
          59157.50025393477,
          66103.00288166793,
          56456.71982024681,
          59038.67686969467,
          65901.10937695939,
          56385.886774070656,
          58695.99317323216,
          65582.1071505815
         ],
         "yaxis": "y"
        }
       ],
       "layout": {
        "template": {
         "data": {
          "bar": [
           {
            "error_x": {
             "color": "#2a3f5f"
            },
            "error_y": {
             "color": "#2a3f5f"
            },
            "marker": {
             "line": {
              "color": "#E5ECF6",
              "width": 0.5
             },
             "pattern": {
              "fillmode": "overlay",
              "size": 10,
              "solidity": 0.2
             }
            },
            "type": "bar"
           }
          ],
          "barpolar": [
           {
            "marker": {
             "line": {
              "color": "#E5ECF6",
              "width": 0.5
             },
             "pattern": {
              "fillmode": "overlay",
              "size": 10,
              "solidity": 0.2
             }
            },
            "type": "barpolar"
           }
          ],
          "carpet": [
           {
            "aaxis": {
             "endlinecolor": "#2a3f5f",
             "gridcolor": "white",
             "linecolor": "white",
             "minorgridcolor": "white",
             "startlinecolor": "#2a3f5f"
            },
            "baxis": {
             "endlinecolor": "#2a3f5f",
             "gridcolor": "white",
             "linecolor": "white",
             "minorgridcolor": "white",
             "startlinecolor": "#2a3f5f"
            },
            "type": "carpet"
           }
          ],
          "choropleth": [
           {
            "colorbar": {
             "outlinewidth": 0,
             "ticks": ""
            },
            "type": "choropleth"
           }
          ],
          "contour": [
           {
            "colorbar": {
             "outlinewidth": 0,
             "ticks": ""
            },
            "colorscale": [
             [
              0,
              "#0d0887"
             ],
             [
              0.1111111111111111,
              "#46039f"
             ],
             [
              0.2222222222222222,
              "#7201a8"
             ],
             [
              0.3333333333333333,
              "#9c179e"
             ],
             [
              0.4444444444444444,
              "#bd3786"
             ],
             [
              0.5555555555555556,
              "#d8576b"
             ],
             [
              0.6666666666666666,
              "#ed7953"
             ],
             [
              0.7777777777777778,
              "#fb9f3a"
             ],
             [
              0.8888888888888888,
              "#fdca26"
             ],
             [
              1,
              "#f0f921"
             ]
            ],
            "type": "contour"
           }
          ],
          "contourcarpet": [
           {
            "colorbar": {
             "outlinewidth": 0,
             "ticks": ""
            },
            "type": "contourcarpet"
           }
          ],
          "heatmap": [
           {
            "colorbar": {
             "outlinewidth": 0,
             "ticks": ""
            },
            "colorscale": [
             [
              0,
              "#0d0887"
             ],
             [
              0.1111111111111111,
              "#46039f"
             ],
             [
              0.2222222222222222,
              "#7201a8"
             ],
             [
              0.3333333333333333,
              "#9c179e"
             ],
             [
              0.4444444444444444,
              "#bd3786"
             ],
             [
              0.5555555555555556,
              "#d8576b"
             ],
             [
              0.6666666666666666,
              "#ed7953"
             ],
             [
              0.7777777777777778,
              "#fb9f3a"
             ],
             [
              0.8888888888888888,
              "#fdca26"
             ],
             [
              1,
              "#f0f921"
             ]
            ],
            "type": "heatmap"
           }
          ],
          "heatmapgl": [
           {
            "colorbar": {
             "outlinewidth": 0,
             "ticks": ""
            },
            "colorscale": [
             [
              0,
              "#0d0887"
             ],
             [
              0.1111111111111111,
              "#46039f"
             ],
             [
              0.2222222222222222,
              "#7201a8"
             ],
             [
              0.3333333333333333,
              "#9c179e"
             ],
             [
              0.4444444444444444,
              "#bd3786"
             ],
             [
              0.5555555555555556,
              "#d8576b"
             ],
             [
              0.6666666666666666,
              "#ed7953"
             ],
             [
              0.7777777777777778,
              "#fb9f3a"
             ],
             [
              0.8888888888888888,
              "#fdca26"
             ],
             [
              1,
              "#f0f921"
             ]
            ],
            "type": "heatmapgl"
           }
          ],
          "histogram": [
           {
            "marker": {
             "pattern": {
              "fillmode": "overlay",
              "size": 10,
              "solidity": 0.2
             }
            },
            "type": "histogram"
           }
          ],
          "histogram2d": [
           {
            "colorbar": {
             "outlinewidth": 0,
             "ticks": ""
            },
            "colorscale": [
             [
              0,
              "#0d0887"
             ],
             [
              0.1111111111111111,
              "#46039f"
             ],
             [
              0.2222222222222222,
              "#7201a8"
             ],
             [
              0.3333333333333333,
              "#9c179e"
             ],
             [
              0.4444444444444444,
              "#bd3786"
             ],
             [
              0.5555555555555556,
              "#d8576b"
             ],
             [
              0.6666666666666666,
              "#ed7953"
             ],
             [
              0.7777777777777778,
              "#fb9f3a"
             ],
             [
              0.8888888888888888,
              "#fdca26"
             ],
             [
              1,
              "#f0f921"
             ]
            ],
            "type": "histogram2d"
           }
          ],
          "histogram2dcontour": [
           {
            "colorbar": {
             "outlinewidth": 0,
             "ticks": ""
            },
            "colorscale": [
             [
              0,
              "#0d0887"
             ],
             [
              0.1111111111111111,
              "#46039f"
             ],
             [
              0.2222222222222222,
              "#7201a8"
             ],
             [
              0.3333333333333333,
              "#9c179e"
             ],
             [
              0.4444444444444444,
              "#bd3786"
             ],
             [
              0.5555555555555556,
              "#d8576b"
             ],
             [
              0.6666666666666666,
              "#ed7953"
             ],
             [
              0.7777777777777778,
              "#fb9f3a"
             ],
             [
              0.8888888888888888,
              "#fdca26"
             ],
             [
              1,
              "#f0f921"
             ]
            ],
            "type": "histogram2dcontour"
           }
          ],
          "mesh3d": [
           {
            "colorbar": {
             "outlinewidth": 0,
             "ticks": ""
            },
            "type": "mesh3d"
           }
          ],
          "parcoords": [
           {
            "line": {
             "colorbar": {
              "outlinewidth": 0,
              "ticks": ""
             }
            },
            "type": "parcoords"
           }
          ],
          "pie": [
           {
            "automargin": true,
            "type": "pie"
           }
          ],
          "scatter": [
           {
            "marker": {
             "colorbar": {
              "outlinewidth": 0,
              "ticks": ""
             }
            },
            "type": "scatter"
           }
          ],
          "scatter3d": [
           {
            "line": {
             "colorbar": {
              "outlinewidth": 0,
              "ticks": ""
             }
            },
            "marker": {
             "colorbar": {
              "outlinewidth": 0,
              "ticks": ""
             }
            },
            "type": "scatter3d"
           }
          ],
          "scattercarpet": [
           {
            "marker": {
             "colorbar": {
              "outlinewidth": 0,
              "ticks": ""
             }
            },
            "type": "scattercarpet"
           }
          ],
          "scattergeo": [
           {
            "marker": {
             "colorbar": {
              "outlinewidth": 0,
              "ticks": ""
             }
            },
            "type": "scattergeo"
           }
          ],
          "scattergl": [
           {
            "marker": {
             "colorbar": {
              "outlinewidth": 0,
              "ticks": ""
             }
            },
            "type": "scattergl"
           }
          ],
          "scattermapbox": [
           {
            "marker": {
             "colorbar": {
              "outlinewidth": 0,
              "ticks": ""
             }
            },
            "type": "scattermapbox"
           }
          ],
          "scatterpolar": [
           {
            "marker": {
             "colorbar": {
              "outlinewidth": 0,
              "ticks": ""
             }
            },
            "type": "scatterpolar"
           }
          ],
          "scatterpolargl": [
           {
            "marker": {
             "colorbar": {
              "outlinewidth": 0,
              "ticks": ""
             }
            },
            "type": "scatterpolargl"
           }
          ],
          "scatterternary": [
           {
            "marker": {
             "colorbar": {
              "outlinewidth": 0,
              "ticks": ""
             }
            },
            "type": "scatterternary"
           }
          ],
          "surface": [
           {
            "colorbar": {
             "outlinewidth": 0,
             "ticks": ""
            },
            "colorscale": [
             [
              0,
              "#0d0887"
             ],
             [
              0.1111111111111111,
              "#46039f"
             ],
             [
              0.2222222222222222,
              "#7201a8"
             ],
             [
              0.3333333333333333,
              "#9c179e"
             ],
             [
              0.4444444444444444,
              "#bd3786"
             ],
             [
              0.5555555555555556,
              "#d8576b"
             ],
             [
              0.6666666666666666,
              "#ed7953"
             ],
             [
              0.7777777777777778,
              "#fb9f3a"
             ],
             [
              0.8888888888888888,
              "#fdca26"
             ],
             [
              1,
              "#f0f921"
             ]
            ],
            "type": "surface"
           }
          ],
          "table": [
           {
            "cells": {
             "fill": {
              "color": "#EBF0F8"
             },
             "line": {
              "color": "white"
             }
            },
            "header": {
             "fill": {
              "color": "#C8D4E3"
             },
             "line": {
              "color": "white"
             }
            },
            "type": "table"
           }
          ]
         },
         "layout": {
          "annotationdefaults": {
           "arrowcolor": "#2a3f5f",
           "arrowhead": 0,
           "arrowwidth": 1
          },
          "autotypenumbers": "strict",
          "coloraxis": {
           "colorbar": {
            "outlinewidth": 0,
            "ticks": ""
           }
          },
          "colorscale": {
           "diverging": [
            [
             0,
             "#8e0152"
            ],
            [
             0.1,
             "#c51b7d"
            ],
            [
             0.2,
             "#de77ae"
            ],
            [
             0.3,
             "#f1b6da"
            ],
            [
             0.4,
             "#fde0ef"
            ],
            [
             0.5,
             "#f7f7f7"
            ],
            [
             0.6,
             "#e6f5d0"
            ],
            [
             0.7,
             "#b8e186"
            ],
            [
             0.8,
             "#7fbc41"
            ],
            [
             0.9,
             "#4d9221"
            ],
            [
             1,
             "#276419"
            ]
           ],
           "sequential": [
            [
             0,
             "#0d0887"
            ],
            [
             0.1111111111111111,
             "#46039f"
            ],
            [
             0.2222222222222222,
             "#7201a8"
            ],
            [
             0.3333333333333333,
             "#9c179e"
            ],
            [
             0.4444444444444444,
             "#bd3786"
            ],
            [
             0.5555555555555556,
             "#d8576b"
            ],
            [
             0.6666666666666666,
             "#ed7953"
            ],
            [
             0.7777777777777778,
             "#fb9f3a"
            ],
            [
             0.8888888888888888,
             "#fdca26"
            ],
            [
             1,
             "#f0f921"
            ]
           ],
           "sequentialminus": [
            [
             0,
             "#0d0887"
            ],
            [
             0.1111111111111111,
             "#46039f"
            ],
            [
             0.2222222222222222,
             "#7201a8"
            ],
            [
             0.3333333333333333,
             "#9c179e"
            ],
            [
             0.4444444444444444,
             "#bd3786"
            ],
            [
             0.5555555555555556,
             "#d8576b"
            ],
            [
             0.6666666666666666,
             "#ed7953"
            ],
            [
             0.7777777777777778,
             "#fb9f3a"
            ],
            [
             0.8888888888888888,
             "#fdca26"
            ],
            [
             1,
             "#f0f921"
            ]
           ]
          },
          "colorway": [
           "#636efa",
           "#EF553B",
           "#00cc96",
           "#ab63fa",
           "#FFA15A",
           "#19d3f3",
           "#FF6692",
           "#B6E880",
           "#FF97FF",
           "#FECB52"
          ],
          "font": {
           "color": "#2a3f5f"
          },
          "geo": {
           "bgcolor": "white",
           "lakecolor": "white",
           "landcolor": "#E5ECF6",
           "showlakes": true,
           "showland": true,
           "subunitcolor": "white"
          },
          "hoverlabel": {
           "align": "left"
          },
          "hovermode": "closest",
          "mapbox": {
           "style": "light"
          },
          "paper_bgcolor": "white",
          "plot_bgcolor": "#E5ECF6",
          "polar": {
           "angularaxis": {
            "gridcolor": "white",
            "linecolor": "white",
            "ticks": ""
           },
           "bgcolor": "#E5ECF6",
           "radialaxis": {
            "gridcolor": "white",
            "linecolor": "white",
            "ticks": ""
           }
          },
          "scene": {
           "xaxis": {
            "backgroundcolor": "#E5ECF6",
            "gridcolor": "white",
            "gridwidth": 2,
            "linecolor": "white",
            "showbackground": true,
            "ticks": "",
            "zerolinecolor": "white"
           },
           "yaxis": {
            "backgroundcolor": "#E5ECF6",
            "gridcolor": "white",
            "gridwidth": 2,
            "linecolor": "white",
            "showbackground": true,
            "ticks": "",
            "zerolinecolor": "white"
           },
           "zaxis": {
            "backgroundcolor": "#E5ECF6",
            "gridcolor": "white",
            "gridwidth": 2,
            "linecolor": "white",
            "showbackground": true,
            "ticks": "",
            "zerolinecolor": "white"
           }
          },
          "shapedefaults": {
           "line": {
            "color": "#2a3f5f"
           }
          },
          "ternary": {
           "aaxis": {
            "gridcolor": "white",
            "linecolor": "white",
            "ticks": ""
           },
           "baxis": {
            "gridcolor": "white",
            "linecolor": "white",
            "ticks": ""
           },
           "bgcolor": "#E5ECF6",
           "caxis": {
            "gridcolor": "white",
            "linecolor": "white",
            "ticks": ""
           }
          },
          "title": {
           "x": 0.05
          },
          "xaxis": {
           "automargin": true,
           "gridcolor": "white",
           "linecolor": "white",
           "ticks": "",
           "title": {
            "standoff": 15
           },
           "zerolinecolor": "white",
           "zerolinewidth": 2
          },
          "yaxis": {
           "automargin": true,
           "gridcolor": "white",
           "linecolor": "white",
           "ticks": "",
           "title": {
            "standoff": 15
           },
           "zerolinecolor": "white",
           "zerolinewidth": 2
          }
         }
        },
        "yaxis": {
         "title": {
          "text": "OWE (kg)"
         }
        }
       }
      },
      "text/html": [
       "<div>                            <div id=\"37a54e30-1d86-4123-bc8a-bf9fc803378a\" class=\"plotly-graph-div\" style=\"height:525px; width:100%;\"></div>            <script type=\"text/javascript\">                require([\"plotly\"], function(Plotly) {                    window.PLOTLYENV=window.PLOTLYENV || {};                                    if (document.getElementById(\"37a54e30-1d86-4123-bc8a-bf9fc803378a\")) {                    Plotly.newPlot(                        \"37a54e30-1d86-4123-bc8a-bf9fc803378a\",                        [{\"a\":[150.0,150.0,150.0,155.0,155.0,155.0,160.0,160.0,160.0],\"aaxis\":{\"minorgridcount\":10,\"smoothing\":0.1,\"title\":{\"text\":\"Wing Area (m2)\"}},\"b\":[1.6305441193560295,2.2,2.7694558806439704,1.6305441193560295,2.2,2.7694558806439704,1.6305441193560295,2.2,2.7694558806439704],\"baxis\":{\"minorgridcount\":10,\"smoothing\":0.2,\"title\":{\"text\":\"Fan Diameter (m)\"}},\"cheaterslope\":0.8,\"y\":[56884.95012145678,59157.50025393477,66103.00288166793,56456.71982024681,59038.67686969467,65901.10937695939,56385.886774070656,58695.99317323216,65582.1071505815],\"yaxis\":\"y\",\"type\":\"carpet\"}],                        {\"template\":{\"data\":{\"bar\":[{\"error_x\":{\"color\":\"#2a3f5f\"},\"error_y\":{\"color\":\"#2a3f5f\"},\"marker\":{\"line\":{\"color\":\"#E5ECF6\",\"width\":0.5},\"pattern\":{\"fillmode\":\"overlay\",\"size\":10,\"solidity\":0.2}},\"type\":\"bar\"}],\"barpolar\":[{\"marker\":{\"line\":{\"color\":\"#E5ECF6\",\"width\":0.5},\"pattern\":{\"fillmode\":\"overlay\",\"size\":10,\"solidity\":0.2}},\"type\":\"barpolar\"}],\"carpet\":[{\"aaxis\":{\"endlinecolor\":\"#2a3f5f\",\"gridcolor\":\"white\",\"linecolor\":\"white\",\"minorgridcolor\":\"white\",\"startlinecolor\":\"#2a3f5f\"},\"baxis\":{\"endlinecolor\":\"#2a3f5f\",\"gridcolor\":\"white\",\"linecolor\":\"white\",\"minorgridcolor\":\"white\",\"startlinecolor\":\"#2a3f5f\"},\"type\":\"carpet\"}],\"choropleth\":[{\"colorbar\":{\"outlinewidth\":0,\"ticks\":\"\"},\"type\":\"choropleth\"}],\"contour\":[{\"colorbar\":{\"outlinewidth\":0,\"ticks\":\"\"},\"colorscale\":[[0.0,\"#0d0887\"],[0.1111111111111111,\"#46039f\"],[0.2222222222222222,\"#7201a8\"],[0.3333333333333333,\"#9c179e\"],[0.4444444444444444,\"#bd3786\"],[0.5555555555555556,\"#d8576b\"],[0.6666666666666666,\"#ed7953\"],[0.7777777777777778,\"#fb9f3a\"],[0.8888888888888888,\"#fdca26\"],[1.0,\"#f0f921\"]],\"type\":\"contour\"}],\"contourcarpet\":[{\"colorbar\":{\"outlinewidth\":0,\"ticks\":\"\"},\"type\":\"contourcarpet\"}],\"heatmap\":[{\"colorbar\":{\"outlinewidth\":0,\"ticks\":\"\"},\"colorscale\":[[0.0,\"#0d0887\"],[0.1111111111111111,\"#46039f\"],[0.2222222222222222,\"#7201a8\"],[0.3333333333333333,\"#9c179e\"],[0.4444444444444444,\"#bd3786\"],[0.5555555555555556,\"#d8576b\"],[0.6666666666666666,\"#ed7953\"],[0.7777777777777778,\"#fb9f3a\"],[0.8888888888888888,\"#fdca26\"],[1.0,\"#f0f921\"]],\"type\":\"heatmap\"}],\"heatmapgl\":[{\"colorbar\":{\"outlinewidth\":0,\"ticks\":\"\"},\"colorscale\":[[0.0,\"#0d0887\"],[0.1111111111111111,\"#46039f\"],[0.2222222222222222,\"#7201a8\"],[0.3333333333333333,\"#9c179e\"],[0.4444444444444444,\"#bd3786\"],[0.5555555555555556,\"#d8576b\"],[0.6666666666666666,\"#ed7953\"],[0.7777777777777778,\"#fb9f3a\"],[0.8888888888888888,\"#fdca26\"],[1.0,\"#f0f921\"]],\"type\":\"heatmapgl\"}],\"histogram\":[{\"marker\":{\"pattern\":{\"fillmode\":\"overlay\",\"size\":10,\"solidity\":0.2}},\"type\":\"histogram\"}],\"histogram2d\":[{\"colorbar\":{\"outlinewidth\":0,\"ticks\":\"\"},\"colorscale\":[[0.0,\"#0d0887\"],[0.1111111111111111,\"#46039f\"],[0.2222222222222222,\"#7201a8\"],[0.3333333333333333,\"#9c179e\"],[0.4444444444444444,\"#bd3786\"],[0.5555555555555556,\"#d8576b\"],[0.6666666666666666,\"#ed7953\"],[0.7777777777777778,\"#fb9f3a\"],[0.8888888888888888,\"#fdca26\"],[1.0,\"#f0f921\"]],\"type\":\"histogram2d\"}],\"histogram2dcontour\":[{\"colorbar\":{\"outlinewidth\":0,\"ticks\":\"\"},\"colorscale\":[[0.0,\"#0d0887\"],[0.1111111111111111,\"#46039f\"],[0.2222222222222222,\"#7201a8\"],[0.3333333333333333,\"#9c179e\"],[0.4444444444444444,\"#bd3786\"],[0.5555555555555556,\"#d8576b\"],[0.6666666666666666,\"#ed7953\"],[0.7777777777777778,\"#fb9f3a\"],[0.8888888888888888,\"#fdca26\"],[1.0,\"#f0f921\"]],\"type\":\"histogram2dcontour\"}],\"mesh3d\":[{\"colorbar\":{\"outlinewidth\":0,\"ticks\":\"\"},\"type\":\"mesh3d\"}],\"parcoords\":[{\"line\":{\"colorbar\":{\"outlinewidth\":0,\"ticks\":\"\"}},\"type\":\"parcoords\"}],\"pie\":[{\"automargin\":true,\"type\":\"pie\"}],\"scatter\":[{\"marker\":{\"colorbar\":{\"outlinewidth\":0,\"ticks\":\"\"}},\"type\":\"scatter\"}],\"scatter3d\":[{\"line\":{\"colorbar\":{\"outlinewidth\":0,\"ticks\":\"\"}},\"marker\":{\"colorbar\":{\"outlinewidth\":0,\"ticks\":\"\"}},\"type\":\"scatter3d\"}],\"scattercarpet\":[{\"marker\":{\"colorbar\":{\"outlinewidth\":0,\"ticks\":\"\"}},\"type\":\"scattercarpet\"}],\"scattergeo\":[{\"marker\":{\"colorbar\":{\"outlinewidth\":0,\"ticks\":\"\"}},\"type\":\"scattergeo\"}],\"scattergl\":[{\"marker\":{\"colorbar\":{\"outlinewidth\":0,\"ticks\":\"\"}},\"type\":\"scattergl\"}],\"scattermapbox\":[{\"marker\":{\"colorbar\":{\"outlinewidth\":0,\"ticks\":\"\"}},\"type\":\"scattermapbox\"}],\"scatterpolar\":[{\"marker\":{\"colorbar\":{\"outlinewidth\":0,\"ticks\":\"\"}},\"type\":\"scatterpolar\"}],\"scatterpolargl\":[{\"marker\":{\"colorbar\":{\"outlinewidth\":0,\"ticks\":\"\"}},\"type\":\"scatterpolargl\"}],\"scatterternary\":[{\"marker\":{\"colorbar\":{\"outlinewidth\":0,\"ticks\":\"\"}},\"type\":\"scatterternary\"}],\"surface\":[{\"colorbar\":{\"outlinewidth\":0,\"ticks\":\"\"},\"colorscale\":[[0.0,\"#0d0887\"],[0.1111111111111111,\"#46039f\"],[0.2222222222222222,\"#7201a8\"],[0.3333333333333333,\"#9c179e\"],[0.4444444444444444,\"#bd3786\"],[0.5555555555555556,\"#d8576b\"],[0.6666666666666666,\"#ed7953\"],[0.7777777777777778,\"#fb9f3a\"],[0.8888888888888888,\"#fdca26\"],[1.0,\"#f0f921\"]],\"type\":\"surface\"}],\"table\":[{\"cells\":{\"fill\":{\"color\":\"#EBF0F8\"},\"line\":{\"color\":\"white\"}},\"header\":{\"fill\":{\"color\":\"#C8D4E3\"},\"line\":{\"color\":\"white\"}},\"type\":\"table\"}]},\"layout\":{\"annotationdefaults\":{\"arrowcolor\":\"#2a3f5f\",\"arrowhead\":0,\"arrowwidth\":1},\"autotypenumbers\":\"strict\",\"coloraxis\":{\"colorbar\":{\"outlinewidth\":0,\"ticks\":\"\"}},\"colorscale\":{\"diverging\":[[0,\"#8e0152\"],[0.1,\"#c51b7d\"],[0.2,\"#de77ae\"],[0.3,\"#f1b6da\"],[0.4,\"#fde0ef\"],[0.5,\"#f7f7f7\"],[0.6,\"#e6f5d0\"],[0.7,\"#b8e186\"],[0.8,\"#7fbc41\"],[0.9,\"#4d9221\"],[1,\"#276419\"]],\"sequential\":[[0.0,\"#0d0887\"],[0.1111111111111111,\"#46039f\"],[0.2222222222222222,\"#7201a8\"],[0.3333333333333333,\"#9c179e\"],[0.4444444444444444,\"#bd3786\"],[0.5555555555555556,\"#d8576b\"],[0.6666666666666666,\"#ed7953\"],[0.7777777777777778,\"#fb9f3a\"],[0.8888888888888888,\"#fdca26\"],[1.0,\"#f0f921\"]],\"sequentialminus\":[[0.0,\"#0d0887\"],[0.1111111111111111,\"#46039f\"],[0.2222222222222222,\"#7201a8\"],[0.3333333333333333,\"#9c179e\"],[0.4444444444444444,\"#bd3786\"],[0.5555555555555556,\"#d8576b\"],[0.6666666666666666,\"#ed7953\"],[0.7777777777777778,\"#fb9f3a\"],[0.8888888888888888,\"#fdca26\"],[1.0,\"#f0f921\"]]},\"colorway\":[\"#636efa\",\"#EF553B\",\"#00cc96\",\"#ab63fa\",\"#FFA15A\",\"#19d3f3\",\"#FF6692\",\"#B6E880\",\"#FF97FF\",\"#FECB52\"],\"font\":{\"color\":\"#2a3f5f\"},\"geo\":{\"bgcolor\":\"white\",\"lakecolor\":\"white\",\"landcolor\":\"#E5ECF6\",\"showlakes\":true,\"showland\":true,\"subunitcolor\":\"white\"},\"hoverlabel\":{\"align\":\"left\"},\"hovermode\":\"closest\",\"mapbox\":{\"style\":\"light\"},\"paper_bgcolor\":\"white\",\"plot_bgcolor\":\"#E5ECF6\",\"polar\":{\"angularaxis\":{\"gridcolor\":\"white\",\"linecolor\":\"white\",\"ticks\":\"\"},\"bgcolor\":\"#E5ECF6\",\"radialaxis\":{\"gridcolor\":\"white\",\"linecolor\":\"white\",\"ticks\":\"\"}},\"scene\":{\"xaxis\":{\"backgroundcolor\":\"#E5ECF6\",\"gridcolor\":\"white\",\"gridwidth\":2,\"linecolor\":\"white\",\"showbackground\":true,\"ticks\":\"\",\"zerolinecolor\":\"white\"},\"yaxis\":{\"backgroundcolor\":\"#E5ECF6\",\"gridcolor\":\"white\",\"gridwidth\":2,\"linecolor\":\"white\",\"showbackground\":true,\"ticks\":\"\",\"zerolinecolor\":\"white\"},\"zaxis\":{\"backgroundcolor\":\"#E5ECF6\",\"gridcolor\":\"white\",\"gridwidth\":2,\"linecolor\":\"white\",\"showbackground\":true,\"ticks\":\"\",\"zerolinecolor\":\"white\"}},\"shapedefaults\":{\"line\":{\"color\":\"#2a3f5f\"}},\"ternary\":{\"aaxis\":{\"gridcolor\":\"white\",\"linecolor\":\"white\",\"ticks\":\"\"},\"baxis\":{\"gridcolor\":\"white\",\"linecolor\":\"white\",\"ticks\":\"\"},\"bgcolor\":\"#E5ECF6\",\"caxis\":{\"gridcolor\":\"white\",\"linecolor\":\"white\",\"ticks\":\"\"}},\"title\":{\"x\":0.05},\"xaxis\":{\"automargin\":true,\"gridcolor\":\"white\",\"linecolor\":\"white\",\"ticks\":\"\",\"title\":{\"standoff\":15},\"zerolinecolor\":\"white\",\"zerolinewidth\":2},\"yaxis\":{\"automargin\":true,\"gridcolor\":\"white\",\"linecolor\":\"white\",\"ticks\":\"\",\"title\":{\"standoff\":15},\"zerolinecolor\":\"white\",\"zerolinewidth\":2}}},\"yaxis\":{\"title\":{\"text\":\"OWE (kg)\"}}},                        {\"responsive\": true}                    ).then(function(){\n",
       "                            \n",
       "var gd = document.getElementById('37a54e30-1d86-4123-bc8a-bf9fc803378a');\n",
       "var x = new MutationObserver(function (mutations, observer) {{\n",
       "        var display = window.getComputedStyle(gd).display;\n",
       "        if (!display || display === 'none') {{\n",
       "            console.log([gd, 'removed!']);\n",
       "            Plotly.purge(gd);\n",
       "            observer.disconnect();\n",
       "        }}\n",
       "}});\n",
       "\n",
       "// Listen for the removal of the full notebook cells\n",
       "var notebookContainer = gd.closest('#notebook-container');\n",
       "if (notebookContainer) {{\n",
       "    x.observe(notebookContainer, {childList: true});\n",
       "}}\n",
       "\n",
       "// Listen for the clearing of the current output cell\n",
       "var outputEl = gd.closest('.output');\n",
       "if (outputEl) {{\n",
       "    x.observe(outputEl, {childList: true});\n",
       "}}\n",
       "\n",
       "                        })                };                });            </script>        </div>"
      ]
     },
     "metadata": {},
     "output_type": "display_data"
    }
   ],
   "source": [
    "draw_carpet(input[\"WingArea\"],input[\"FanDiameter\"]/10,output[\"OWE\"],'Wing Area (m2)',\"Fan Diameter (m)\",\"OWE (kg)\")"
   ]
  },
  {
   "cell_type": "code",
   "execution_count": 354,
   "metadata": {},
   "outputs": [
    {
     "data": {
      "application/vnd.plotly.v1+json": {
       "config": {
        "plotlyServerURL": "https://plot.ly"
       },
       "data": [
        {
         "a": [
          150,
          150,
          150,
          155,
          155,
          155,
          160,
          160,
          160
         ],
         "aaxis": {
          "minorgridcount": 10,
          "smoothing": 0.1,
          "title": {
           "text": "Wing Area (m2)"
          }
         },
         "b": [
          1.6305441193560295,
          2.2,
          2.7694558806439704,
          1.6305441193560295,
          2.2,
          2.7694558806439704,
          1.6305441193560295,
          2.2,
          2.7694558806439704
         ],
         "baxis": {
          "minorgridcount": 10,
          "smoothing": 0.2,
          "title": {
           "text": "Fan Diameter (m)"
          }
         },
         "cheaterslope": 0.8,
         "type": "carpet",
         "y": [
          109916.45859930308,
          115254.6315981712,
          123757.8253165301,
          109423.40809177254,
          115689.75400790406,
          123417.03440225428,
          109725.65412092382,
          115174.04338084364,
          123321.0728323518
         ],
         "yaxis": "y"
        }
       ],
       "layout": {
        "template": {
         "data": {
          "bar": [
           {
            "error_x": {
             "color": "#2a3f5f"
            },
            "error_y": {
             "color": "#2a3f5f"
            },
            "marker": {
             "line": {
              "color": "#E5ECF6",
              "width": 0.5
             },
             "pattern": {
              "fillmode": "overlay",
              "size": 10,
              "solidity": 0.2
             }
            },
            "type": "bar"
           }
          ],
          "barpolar": [
           {
            "marker": {
             "line": {
              "color": "#E5ECF6",
              "width": 0.5
             },
             "pattern": {
              "fillmode": "overlay",
              "size": 10,
              "solidity": 0.2
             }
            },
            "type": "barpolar"
           }
          ],
          "carpet": [
           {
            "aaxis": {
             "endlinecolor": "#2a3f5f",
             "gridcolor": "white",
             "linecolor": "white",
             "minorgridcolor": "white",
             "startlinecolor": "#2a3f5f"
            },
            "baxis": {
             "endlinecolor": "#2a3f5f",
             "gridcolor": "white",
             "linecolor": "white",
             "minorgridcolor": "white",
             "startlinecolor": "#2a3f5f"
            },
            "type": "carpet"
           }
          ],
          "choropleth": [
           {
            "colorbar": {
             "outlinewidth": 0,
             "ticks": ""
            },
            "type": "choropleth"
           }
          ],
          "contour": [
           {
            "colorbar": {
             "outlinewidth": 0,
             "ticks": ""
            },
            "colorscale": [
             [
              0,
              "#0d0887"
             ],
             [
              0.1111111111111111,
              "#46039f"
             ],
             [
              0.2222222222222222,
              "#7201a8"
             ],
             [
              0.3333333333333333,
              "#9c179e"
             ],
             [
              0.4444444444444444,
              "#bd3786"
             ],
             [
              0.5555555555555556,
              "#d8576b"
             ],
             [
              0.6666666666666666,
              "#ed7953"
             ],
             [
              0.7777777777777778,
              "#fb9f3a"
             ],
             [
              0.8888888888888888,
              "#fdca26"
             ],
             [
              1,
              "#f0f921"
             ]
            ],
            "type": "contour"
           }
          ],
          "contourcarpet": [
           {
            "colorbar": {
             "outlinewidth": 0,
             "ticks": ""
            },
            "type": "contourcarpet"
           }
          ],
          "heatmap": [
           {
            "colorbar": {
             "outlinewidth": 0,
             "ticks": ""
            },
            "colorscale": [
             [
              0,
              "#0d0887"
             ],
             [
              0.1111111111111111,
              "#46039f"
             ],
             [
              0.2222222222222222,
              "#7201a8"
             ],
             [
              0.3333333333333333,
              "#9c179e"
             ],
             [
              0.4444444444444444,
              "#bd3786"
             ],
             [
              0.5555555555555556,
              "#d8576b"
             ],
             [
              0.6666666666666666,
              "#ed7953"
             ],
             [
              0.7777777777777778,
              "#fb9f3a"
             ],
             [
              0.8888888888888888,
              "#fdca26"
             ],
             [
              1,
              "#f0f921"
             ]
            ],
            "type": "heatmap"
           }
          ],
          "heatmapgl": [
           {
            "colorbar": {
             "outlinewidth": 0,
             "ticks": ""
            },
            "colorscale": [
             [
              0,
              "#0d0887"
             ],
             [
              0.1111111111111111,
              "#46039f"
             ],
             [
              0.2222222222222222,
              "#7201a8"
             ],
             [
              0.3333333333333333,
              "#9c179e"
             ],
             [
              0.4444444444444444,
              "#bd3786"
             ],
             [
              0.5555555555555556,
              "#d8576b"
             ],
             [
              0.6666666666666666,
              "#ed7953"
             ],
             [
              0.7777777777777778,
              "#fb9f3a"
             ],
             [
              0.8888888888888888,
              "#fdca26"
             ],
             [
              1,
              "#f0f921"
             ]
            ],
            "type": "heatmapgl"
           }
          ],
          "histogram": [
           {
            "marker": {
             "pattern": {
              "fillmode": "overlay",
              "size": 10,
              "solidity": 0.2
             }
            },
            "type": "histogram"
           }
          ],
          "histogram2d": [
           {
            "colorbar": {
             "outlinewidth": 0,
             "ticks": ""
            },
            "colorscale": [
             [
              0,
              "#0d0887"
             ],
             [
              0.1111111111111111,
              "#46039f"
             ],
             [
              0.2222222222222222,
              "#7201a8"
             ],
             [
              0.3333333333333333,
              "#9c179e"
             ],
             [
              0.4444444444444444,
              "#bd3786"
             ],
             [
              0.5555555555555556,
              "#d8576b"
             ],
             [
              0.6666666666666666,
              "#ed7953"
             ],
             [
              0.7777777777777778,
              "#fb9f3a"
             ],
             [
              0.8888888888888888,
              "#fdca26"
             ],
             [
              1,
              "#f0f921"
             ]
            ],
            "type": "histogram2d"
           }
          ],
          "histogram2dcontour": [
           {
            "colorbar": {
             "outlinewidth": 0,
             "ticks": ""
            },
            "colorscale": [
             [
              0,
              "#0d0887"
             ],
             [
              0.1111111111111111,
              "#46039f"
             ],
             [
              0.2222222222222222,
              "#7201a8"
             ],
             [
              0.3333333333333333,
              "#9c179e"
             ],
             [
              0.4444444444444444,
              "#bd3786"
             ],
             [
              0.5555555555555556,
              "#d8576b"
             ],
             [
              0.6666666666666666,
              "#ed7953"
             ],
             [
              0.7777777777777778,
              "#fb9f3a"
             ],
             [
              0.8888888888888888,
              "#fdca26"
             ],
             [
              1,
              "#f0f921"
             ]
            ],
            "type": "histogram2dcontour"
           }
          ],
          "mesh3d": [
           {
            "colorbar": {
             "outlinewidth": 0,
             "ticks": ""
            },
            "type": "mesh3d"
           }
          ],
          "parcoords": [
           {
            "line": {
             "colorbar": {
              "outlinewidth": 0,
              "ticks": ""
             }
            },
            "type": "parcoords"
           }
          ],
          "pie": [
           {
            "automargin": true,
            "type": "pie"
           }
          ],
          "scatter": [
           {
            "marker": {
             "colorbar": {
              "outlinewidth": 0,
              "ticks": ""
             }
            },
            "type": "scatter"
           }
          ],
          "scatter3d": [
           {
            "line": {
             "colorbar": {
              "outlinewidth": 0,
              "ticks": ""
             }
            },
            "marker": {
             "colorbar": {
              "outlinewidth": 0,
              "ticks": ""
             }
            },
            "type": "scatter3d"
           }
          ],
          "scattercarpet": [
           {
            "marker": {
             "colorbar": {
              "outlinewidth": 0,
              "ticks": ""
             }
            },
            "type": "scattercarpet"
           }
          ],
          "scattergeo": [
           {
            "marker": {
             "colorbar": {
              "outlinewidth": 0,
              "ticks": ""
             }
            },
            "type": "scattergeo"
           }
          ],
          "scattergl": [
           {
            "marker": {
             "colorbar": {
              "outlinewidth": 0,
              "ticks": ""
             }
            },
            "type": "scattergl"
           }
          ],
          "scattermapbox": [
           {
            "marker": {
             "colorbar": {
              "outlinewidth": 0,
              "ticks": ""
             }
            },
            "type": "scattermapbox"
           }
          ],
          "scatterpolar": [
           {
            "marker": {
             "colorbar": {
              "outlinewidth": 0,
              "ticks": ""
             }
            },
            "type": "scatterpolar"
           }
          ],
          "scatterpolargl": [
           {
            "marker": {
             "colorbar": {
              "outlinewidth": 0,
              "ticks": ""
             }
            },
            "type": "scatterpolargl"
           }
          ],
          "scatterternary": [
           {
            "marker": {
             "colorbar": {
              "outlinewidth": 0,
              "ticks": ""
             }
            },
            "type": "scatterternary"
           }
          ],
          "surface": [
           {
            "colorbar": {
             "outlinewidth": 0,
             "ticks": ""
            },
            "colorscale": [
             [
              0,
              "#0d0887"
             ],
             [
              0.1111111111111111,
              "#46039f"
             ],
             [
              0.2222222222222222,
              "#7201a8"
             ],
             [
              0.3333333333333333,
              "#9c179e"
             ],
             [
              0.4444444444444444,
              "#bd3786"
             ],
             [
              0.5555555555555556,
              "#d8576b"
             ],
             [
              0.6666666666666666,
              "#ed7953"
             ],
             [
              0.7777777777777778,
              "#fb9f3a"
             ],
             [
              0.8888888888888888,
              "#fdca26"
             ],
             [
              1,
              "#f0f921"
             ]
            ],
            "type": "surface"
           }
          ],
          "table": [
           {
            "cells": {
             "fill": {
              "color": "#EBF0F8"
             },
             "line": {
              "color": "white"
             }
            },
            "header": {
             "fill": {
              "color": "#C8D4E3"
             },
             "line": {
              "color": "white"
             }
            },
            "type": "table"
           }
          ]
         },
         "layout": {
          "annotationdefaults": {
           "arrowcolor": "#2a3f5f",
           "arrowhead": 0,
           "arrowwidth": 1
          },
          "autotypenumbers": "strict",
          "coloraxis": {
           "colorbar": {
            "outlinewidth": 0,
            "ticks": ""
           }
          },
          "colorscale": {
           "diverging": [
            [
             0,
             "#8e0152"
            ],
            [
             0.1,
             "#c51b7d"
            ],
            [
             0.2,
             "#de77ae"
            ],
            [
             0.3,
             "#f1b6da"
            ],
            [
             0.4,
             "#fde0ef"
            ],
            [
             0.5,
             "#f7f7f7"
            ],
            [
             0.6,
             "#e6f5d0"
            ],
            [
             0.7,
             "#b8e186"
            ],
            [
             0.8,
             "#7fbc41"
            ],
            [
             0.9,
             "#4d9221"
            ],
            [
             1,
             "#276419"
            ]
           ],
           "sequential": [
            [
             0,
             "#0d0887"
            ],
            [
             0.1111111111111111,
             "#46039f"
            ],
            [
             0.2222222222222222,
             "#7201a8"
            ],
            [
             0.3333333333333333,
             "#9c179e"
            ],
            [
             0.4444444444444444,
             "#bd3786"
            ],
            [
             0.5555555555555556,
             "#d8576b"
            ],
            [
             0.6666666666666666,
             "#ed7953"
            ],
            [
             0.7777777777777778,
             "#fb9f3a"
            ],
            [
             0.8888888888888888,
             "#fdca26"
            ],
            [
             1,
             "#f0f921"
            ]
           ],
           "sequentialminus": [
            [
             0,
             "#0d0887"
            ],
            [
             0.1111111111111111,
             "#46039f"
            ],
            [
             0.2222222222222222,
             "#7201a8"
            ],
            [
             0.3333333333333333,
             "#9c179e"
            ],
            [
             0.4444444444444444,
             "#bd3786"
            ],
            [
             0.5555555555555556,
             "#d8576b"
            ],
            [
             0.6666666666666666,
             "#ed7953"
            ],
            [
             0.7777777777777778,
             "#fb9f3a"
            ],
            [
             0.8888888888888888,
             "#fdca26"
            ],
            [
             1,
             "#f0f921"
            ]
           ]
          },
          "colorway": [
           "#636efa",
           "#EF553B",
           "#00cc96",
           "#ab63fa",
           "#FFA15A",
           "#19d3f3",
           "#FF6692",
           "#B6E880",
           "#FF97FF",
           "#FECB52"
          ],
          "font": {
           "color": "#2a3f5f"
          },
          "geo": {
           "bgcolor": "white",
           "lakecolor": "white",
           "landcolor": "#E5ECF6",
           "showlakes": true,
           "showland": true,
           "subunitcolor": "white"
          },
          "hoverlabel": {
           "align": "left"
          },
          "hovermode": "closest",
          "mapbox": {
           "style": "light"
          },
          "paper_bgcolor": "white",
          "plot_bgcolor": "#E5ECF6",
          "polar": {
           "angularaxis": {
            "gridcolor": "white",
            "linecolor": "white",
            "ticks": ""
           },
           "bgcolor": "#E5ECF6",
           "radialaxis": {
            "gridcolor": "white",
            "linecolor": "white",
            "ticks": ""
           }
          },
          "scene": {
           "xaxis": {
            "backgroundcolor": "#E5ECF6",
            "gridcolor": "white",
            "gridwidth": 2,
            "linecolor": "white",
            "showbackground": true,
            "ticks": "",
            "zerolinecolor": "white"
           },
           "yaxis": {
            "backgroundcolor": "#E5ECF6",
            "gridcolor": "white",
            "gridwidth": 2,
            "linecolor": "white",
            "showbackground": true,
            "ticks": "",
            "zerolinecolor": "white"
           },
           "zaxis": {
            "backgroundcolor": "#E5ECF6",
            "gridcolor": "white",
            "gridwidth": 2,
            "linecolor": "white",
            "showbackground": true,
            "ticks": "",
            "zerolinecolor": "white"
           }
          },
          "shapedefaults": {
           "line": {
            "color": "#2a3f5f"
           }
          },
          "ternary": {
           "aaxis": {
            "gridcolor": "white",
            "linecolor": "white",
            "ticks": ""
           },
           "baxis": {
            "gridcolor": "white",
            "linecolor": "white",
            "ticks": ""
           },
           "bgcolor": "#E5ECF6",
           "caxis": {
            "gridcolor": "white",
            "linecolor": "white",
            "ticks": ""
           }
          },
          "title": {
           "x": 0.05
          },
          "xaxis": {
           "automargin": true,
           "gridcolor": "white",
           "linecolor": "white",
           "ticks": "",
           "title": {
            "standoff": 15
           },
           "zerolinecolor": "white",
           "zerolinewidth": 2
          },
          "yaxis": {
           "automargin": true,
           "gridcolor": "white",
           "linecolor": "white",
           "ticks": "",
           "title": {
            "standoff": 15
           },
           "zerolinecolor": "white",
           "zerolinewidth": 2
          }
         }
        },
        "yaxis": {
         "title": {
          "text": "MTOW (kg)"
         }
        }
       }
      },
      "text/html": [
       "<div>                            <div id=\"36b7c0e9-1d8c-4d3c-88d8-871b23e4589c\" class=\"plotly-graph-div\" style=\"height:525px; width:100%;\"></div>            <script type=\"text/javascript\">                require([\"plotly\"], function(Plotly) {                    window.PLOTLYENV=window.PLOTLYENV || {};                                    if (document.getElementById(\"36b7c0e9-1d8c-4d3c-88d8-871b23e4589c\")) {                    Plotly.newPlot(                        \"36b7c0e9-1d8c-4d3c-88d8-871b23e4589c\",                        [{\"a\":[150.0,150.0,150.0,155.0,155.0,155.0,160.0,160.0,160.0],\"aaxis\":{\"minorgridcount\":10,\"smoothing\":0.1,\"title\":{\"text\":\"Wing Area (m2)\"}},\"b\":[1.6305441193560295,2.2,2.7694558806439704,1.6305441193560295,2.2,2.7694558806439704,1.6305441193560295,2.2,2.7694558806439704],\"baxis\":{\"minorgridcount\":10,\"smoothing\":0.2,\"title\":{\"text\":\"Fan Diameter (m)\"}},\"cheaterslope\":0.8,\"y\":[109916.45859930308,115254.6315981712,123757.8253165301,109423.40809177254,115689.75400790406,123417.03440225428,109725.65412092382,115174.04338084364,123321.0728323518],\"yaxis\":\"y\",\"type\":\"carpet\"}],                        {\"template\":{\"data\":{\"bar\":[{\"error_x\":{\"color\":\"#2a3f5f\"},\"error_y\":{\"color\":\"#2a3f5f\"},\"marker\":{\"line\":{\"color\":\"#E5ECF6\",\"width\":0.5},\"pattern\":{\"fillmode\":\"overlay\",\"size\":10,\"solidity\":0.2}},\"type\":\"bar\"}],\"barpolar\":[{\"marker\":{\"line\":{\"color\":\"#E5ECF6\",\"width\":0.5},\"pattern\":{\"fillmode\":\"overlay\",\"size\":10,\"solidity\":0.2}},\"type\":\"barpolar\"}],\"carpet\":[{\"aaxis\":{\"endlinecolor\":\"#2a3f5f\",\"gridcolor\":\"white\",\"linecolor\":\"white\",\"minorgridcolor\":\"white\",\"startlinecolor\":\"#2a3f5f\"},\"baxis\":{\"endlinecolor\":\"#2a3f5f\",\"gridcolor\":\"white\",\"linecolor\":\"white\",\"minorgridcolor\":\"white\",\"startlinecolor\":\"#2a3f5f\"},\"type\":\"carpet\"}],\"choropleth\":[{\"colorbar\":{\"outlinewidth\":0,\"ticks\":\"\"},\"type\":\"choropleth\"}],\"contour\":[{\"colorbar\":{\"outlinewidth\":0,\"ticks\":\"\"},\"colorscale\":[[0.0,\"#0d0887\"],[0.1111111111111111,\"#46039f\"],[0.2222222222222222,\"#7201a8\"],[0.3333333333333333,\"#9c179e\"],[0.4444444444444444,\"#bd3786\"],[0.5555555555555556,\"#d8576b\"],[0.6666666666666666,\"#ed7953\"],[0.7777777777777778,\"#fb9f3a\"],[0.8888888888888888,\"#fdca26\"],[1.0,\"#f0f921\"]],\"type\":\"contour\"}],\"contourcarpet\":[{\"colorbar\":{\"outlinewidth\":0,\"ticks\":\"\"},\"type\":\"contourcarpet\"}],\"heatmap\":[{\"colorbar\":{\"outlinewidth\":0,\"ticks\":\"\"},\"colorscale\":[[0.0,\"#0d0887\"],[0.1111111111111111,\"#46039f\"],[0.2222222222222222,\"#7201a8\"],[0.3333333333333333,\"#9c179e\"],[0.4444444444444444,\"#bd3786\"],[0.5555555555555556,\"#d8576b\"],[0.6666666666666666,\"#ed7953\"],[0.7777777777777778,\"#fb9f3a\"],[0.8888888888888888,\"#fdca26\"],[1.0,\"#f0f921\"]],\"type\":\"heatmap\"}],\"heatmapgl\":[{\"colorbar\":{\"outlinewidth\":0,\"ticks\":\"\"},\"colorscale\":[[0.0,\"#0d0887\"],[0.1111111111111111,\"#46039f\"],[0.2222222222222222,\"#7201a8\"],[0.3333333333333333,\"#9c179e\"],[0.4444444444444444,\"#bd3786\"],[0.5555555555555556,\"#d8576b\"],[0.6666666666666666,\"#ed7953\"],[0.7777777777777778,\"#fb9f3a\"],[0.8888888888888888,\"#fdca26\"],[1.0,\"#f0f921\"]],\"type\":\"heatmapgl\"}],\"histogram\":[{\"marker\":{\"pattern\":{\"fillmode\":\"overlay\",\"size\":10,\"solidity\":0.2}},\"type\":\"histogram\"}],\"histogram2d\":[{\"colorbar\":{\"outlinewidth\":0,\"ticks\":\"\"},\"colorscale\":[[0.0,\"#0d0887\"],[0.1111111111111111,\"#46039f\"],[0.2222222222222222,\"#7201a8\"],[0.3333333333333333,\"#9c179e\"],[0.4444444444444444,\"#bd3786\"],[0.5555555555555556,\"#d8576b\"],[0.6666666666666666,\"#ed7953\"],[0.7777777777777778,\"#fb9f3a\"],[0.8888888888888888,\"#fdca26\"],[1.0,\"#f0f921\"]],\"type\":\"histogram2d\"}],\"histogram2dcontour\":[{\"colorbar\":{\"outlinewidth\":0,\"ticks\":\"\"},\"colorscale\":[[0.0,\"#0d0887\"],[0.1111111111111111,\"#46039f\"],[0.2222222222222222,\"#7201a8\"],[0.3333333333333333,\"#9c179e\"],[0.4444444444444444,\"#bd3786\"],[0.5555555555555556,\"#d8576b\"],[0.6666666666666666,\"#ed7953\"],[0.7777777777777778,\"#fb9f3a\"],[0.8888888888888888,\"#fdca26\"],[1.0,\"#f0f921\"]],\"type\":\"histogram2dcontour\"}],\"mesh3d\":[{\"colorbar\":{\"outlinewidth\":0,\"ticks\":\"\"},\"type\":\"mesh3d\"}],\"parcoords\":[{\"line\":{\"colorbar\":{\"outlinewidth\":0,\"ticks\":\"\"}},\"type\":\"parcoords\"}],\"pie\":[{\"automargin\":true,\"type\":\"pie\"}],\"scatter\":[{\"marker\":{\"colorbar\":{\"outlinewidth\":0,\"ticks\":\"\"}},\"type\":\"scatter\"}],\"scatter3d\":[{\"line\":{\"colorbar\":{\"outlinewidth\":0,\"ticks\":\"\"}},\"marker\":{\"colorbar\":{\"outlinewidth\":0,\"ticks\":\"\"}},\"type\":\"scatter3d\"}],\"scattercarpet\":[{\"marker\":{\"colorbar\":{\"outlinewidth\":0,\"ticks\":\"\"}},\"type\":\"scattercarpet\"}],\"scattergeo\":[{\"marker\":{\"colorbar\":{\"outlinewidth\":0,\"ticks\":\"\"}},\"type\":\"scattergeo\"}],\"scattergl\":[{\"marker\":{\"colorbar\":{\"outlinewidth\":0,\"ticks\":\"\"}},\"type\":\"scattergl\"}],\"scattermapbox\":[{\"marker\":{\"colorbar\":{\"outlinewidth\":0,\"ticks\":\"\"}},\"type\":\"scattermapbox\"}],\"scatterpolar\":[{\"marker\":{\"colorbar\":{\"outlinewidth\":0,\"ticks\":\"\"}},\"type\":\"scatterpolar\"}],\"scatterpolargl\":[{\"marker\":{\"colorbar\":{\"outlinewidth\":0,\"ticks\":\"\"}},\"type\":\"scatterpolargl\"}],\"scatterternary\":[{\"marker\":{\"colorbar\":{\"outlinewidth\":0,\"ticks\":\"\"}},\"type\":\"scatterternary\"}],\"surface\":[{\"colorbar\":{\"outlinewidth\":0,\"ticks\":\"\"},\"colorscale\":[[0.0,\"#0d0887\"],[0.1111111111111111,\"#46039f\"],[0.2222222222222222,\"#7201a8\"],[0.3333333333333333,\"#9c179e\"],[0.4444444444444444,\"#bd3786\"],[0.5555555555555556,\"#d8576b\"],[0.6666666666666666,\"#ed7953\"],[0.7777777777777778,\"#fb9f3a\"],[0.8888888888888888,\"#fdca26\"],[1.0,\"#f0f921\"]],\"type\":\"surface\"}],\"table\":[{\"cells\":{\"fill\":{\"color\":\"#EBF0F8\"},\"line\":{\"color\":\"white\"}},\"header\":{\"fill\":{\"color\":\"#C8D4E3\"},\"line\":{\"color\":\"white\"}},\"type\":\"table\"}]},\"layout\":{\"annotationdefaults\":{\"arrowcolor\":\"#2a3f5f\",\"arrowhead\":0,\"arrowwidth\":1},\"autotypenumbers\":\"strict\",\"coloraxis\":{\"colorbar\":{\"outlinewidth\":0,\"ticks\":\"\"}},\"colorscale\":{\"diverging\":[[0,\"#8e0152\"],[0.1,\"#c51b7d\"],[0.2,\"#de77ae\"],[0.3,\"#f1b6da\"],[0.4,\"#fde0ef\"],[0.5,\"#f7f7f7\"],[0.6,\"#e6f5d0\"],[0.7,\"#b8e186\"],[0.8,\"#7fbc41\"],[0.9,\"#4d9221\"],[1,\"#276419\"]],\"sequential\":[[0.0,\"#0d0887\"],[0.1111111111111111,\"#46039f\"],[0.2222222222222222,\"#7201a8\"],[0.3333333333333333,\"#9c179e\"],[0.4444444444444444,\"#bd3786\"],[0.5555555555555556,\"#d8576b\"],[0.6666666666666666,\"#ed7953\"],[0.7777777777777778,\"#fb9f3a\"],[0.8888888888888888,\"#fdca26\"],[1.0,\"#f0f921\"]],\"sequentialminus\":[[0.0,\"#0d0887\"],[0.1111111111111111,\"#46039f\"],[0.2222222222222222,\"#7201a8\"],[0.3333333333333333,\"#9c179e\"],[0.4444444444444444,\"#bd3786\"],[0.5555555555555556,\"#d8576b\"],[0.6666666666666666,\"#ed7953\"],[0.7777777777777778,\"#fb9f3a\"],[0.8888888888888888,\"#fdca26\"],[1.0,\"#f0f921\"]]},\"colorway\":[\"#636efa\",\"#EF553B\",\"#00cc96\",\"#ab63fa\",\"#FFA15A\",\"#19d3f3\",\"#FF6692\",\"#B6E880\",\"#FF97FF\",\"#FECB52\"],\"font\":{\"color\":\"#2a3f5f\"},\"geo\":{\"bgcolor\":\"white\",\"lakecolor\":\"white\",\"landcolor\":\"#E5ECF6\",\"showlakes\":true,\"showland\":true,\"subunitcolor\":\"white\"},\"hoverlabel\":{\"align\":\"left\"},\"hovermode\":\"closest\",\"mapbox\":{\"style\":\"light\"},\"paper_bgcolor\":\"white\",\"plot_bgcolor\":\"#E5ECF6\",\"polar\":{\"angularaxis\":{\"gridcolor\":\"white\",\"linecolor\":\"white\",\"ticks\":\"\"},\"bgcolor\":\"#E5ECF6\",\"radialaxis\":{\"gridcolor\":\"white\",\"linecolor\":\"white\",\"ticks\":\"\"}},\"scene\":{\"xaxis\":{\"backgroundcolor\":\"#E5ECF6\",\"gridcolor\":\"white\",\"gridwidth\":2,\"linecolor\":\"white\",\"showbackground\":true,\"ticks\":\"\",\"zerolinecolor\":\"white\"},\"yaxis\":{\"backgroundcolor\":\"#E5ECF6\",\"gridcolor\":\"white\",\"gridwidth\":2,\"linecolor\":\"white\",\"showbackground\":true,\"ticks\":\"\",\"zerolinecolor\":\"white\"},\"zaxis\":{\"backgroundcolor\":\"#E5ECF6\",\"gridcolor\":\"white\",\"gridwidth\":2,\"linecolor\":\"white\",\"showbackground\":true,\"ticks\":\"\",\"zerolinecolor\":\"white\"}},\"shapedefaults\":{\"line\":{\"color\":\"#2a3f5f\"}},\"ternary\":{\"aaxis\":{\"gridcolor\":\"white\",\"linecolor\":\"white\",\"ticks\":\"\"},\"baxis\":{\"gridcolor\":\"white\",\"linecolor\":\"white\",\"ticks\":\"\"},\"bgcolor\":\"#E5ECF6\",\"caxis\":{\"gridcolor\":\"white\",\"linecolor\":\"white\",\"ticks\":\"\"}},\"title\":{\"x\":0.05},\"xaxis\":{\"automargin\":true,\"gridcolor\":\"white\",\"linecolor\":\"white\",\"ticks\":\"\",\"title\":{\"standoff\":15},\"zerolinecolor\":\"white\",\"zerolinewidth\":2},\"yaxis\":{\"automargin\":true,\"gridcolor\":\"white\",\"linecolor\":\"white\",\"ticks\":\"\",\"title\":{\"standoff\":15},\"zerolinecolor\":\"white\",\"zerolinewidth\":2}}},\"yaxis\":{\"title\":{\"text\":\"MTOW (kg)\"}}},                        {\"responsive\": true}                    ).then(function(){\n",
       "                            \n",
       "var gd = document.getElementById('36b7c0e9-1d8c-4d3c-88d8-871b23e4589c');\n",
       "var x = new MutationObserver(function (mutations, observer) {{\n",
       "        var display = window.getComputedStyle(gd).display;\n",
       "        if (!display || display === 'none') {{\n",
       "            console.log([gd, 'removed!']);\n",
       "            Plotly.purge(gd);\n",
       "            observer.disconnect();\n",
       "        }}\n",
       "}});\n",
       "\n",
       "// Listen for the removal of the full notebook cells\n",
       "var notebookContainer = gd.closest('#notebook-container');\n",
       "if (notebookContainer) {{\n",
       "    x.observe(notebookContainer, {childList: true});\n",
       "}}\n",
       "\n",
       "// Listen for the clearing of the current output cell\n",
       "var outputEl = gd.closest('.output');\n",
       "if (outputEl) {{\n",
       "    x.observe(outputEl, {childList: true});\n",
       "}}\n",
       "\n",
       "                        })                };                });            </script>        </div>"
      ]
     },
     "metadata": {},
     "output_type": "display_data"
    }
   ],
   "source": [
    "draw_carpet(input[\"WingArea\"],input[\"FanDiameter\"]/10,output[\"MTOW\"],'Wing Area (m2)',\"Fan Diameter (m)\",\"MTOW (kg)\")"
   ]
  },
  {
   "cell_type": "code",
   "execution_count": 348,
   "metadata": {},
   "outputs": [
    {
     "data": {
      "application/vnd.jupyter.widget-view+json": {
       "model_id": "29738e0fc8a646289d1086ba45f88674",
       "version_major": 2,
       "version_minor": 0
      },
      "image/png": "[encoded data removed]",
      "text/html": [
       "\n",
       "            <div style=\"display: inline-block;\">\n",
       "                <div class=\"jupyter-widgets widget-label\" style=\"text-align: center;\">\n",
       "                    Figure\n",
       "                </div>\n",
       "                <img src='data:image/png;base64,iVBORw0KGgoAAAANSUhEUgAABhgAAAOOCAYAAADyFRh4AAAAOXRFWHRTb2Z0d2FyZQBNYXRwbG90bGliIHZlcnNpb24zLjUuMSwgaHR0cHM6Ly9tYXRwbG90bGliLm9yZy/YYfK9AAAACXBIWXMAABP+AAAT/gEHlDmEAADyN0lEQVR4nOzddXRUV9vG4Xtm4kKE4CTB3RJcSpVCqVEqVKhRd6NC3d46UipvW+pKjXpLS3n5ihYpDgWChOASIy4z8/1xkpmEYJNMcibJ71orK/ucOWefh7VaSOaevR+L0+l0CgAAAAAAAAAAwANWswsAAAAAAAAAAAC1DwEDAAAAAAAAAADwGAEDAAAAAAAAAADwGAEDAAAAAAAAAADwGAEDAAAAAAAAAADwGAEDAAAAAAAAAADwGAEDAAAAAAAAAADwGAEDAAAAAAAAAADwGAEDAAAAAAAAAADwGAEDAAAAAAAAAADwGAEDAAAAAAAAAADwGAEDAAAAAAAAAADwGAEDAAAAAAAAAADwGAEDAAAAAAAAAADwGAEDAAAAAAAAAADwGAEDAAAAAAAAAADwGAEDAAAAAAAAAADwGAEDAAAAAAAAAADwGAEDAAAAAAAAAADwGAEDAAAAAAAAAADwGAEDAAAAAAAAAADwGAEDAAAAAAAAAADwGAEDAAAAAAAAAADwGAEDAAAAAAAAAADwGAEDAAAAAAAAAADwGAEDAAAAAAAAAADwGAEDAAAAAAAAAADwGAEDAAAAAAAAAADwGAEDAAAAAAAAAADwGAEDAAAAAAAAAADwGAEDAAAAAAAAAADwGAEDAAAAAAAAAADwGAEDAAAAAAAAAADwGAEDAAAAAAAAAADwGAEDAAAAAAAAAADwGAEDAAAAAAAAAADwGAEDAAAAAAAAAADwGAEDAAAAAAAAAADwGAEDAAAAAAAAAADwGAEDAAAAAAAAAADwGAEDAAAAAAAAAADwGAEDAAAAAAAAAADwGAEDAAAAAAAAAADwGAEDAAAAAAAAAADwGAEDAAAAAAAAAADwGAEDAAAAAAAAAADwGAEDAAAAAAAAAADwGAEDAAAAAAAAAADwGAEDAAAAAAAAAADwGAEDAAAAAAAAAADwGAEDAAAAAAAAAADwGAEDAAAAAAAAAADwGAEDAAAAAAAAAADwGAEDAAAAAAAAAADwGAEDAAAAAAAAAADwGAEDAAAAAAAAAADwGAEDAAAAAAAAAADwGAEDAAAAAAAAAADwGAEDAAAAAAAAAADwGAEDAAAAAAAAAADwGAEDAAAAAAAAAADwGAEDAAAAAAAAAADwGAEDAAAAAAAAAADwGAEDAAAAAAAAAADwGAEDAAAAAAAAAADwGAEDAAAAAAAAAADwGAEDAAAAAAAAAADwGAEDAAAAAAAAAADwGAEDAAAAAAAAAADwGAEDAAAAAAAAAADwGAEDAAAAAAAAAADwGAEDAAAAAAAAAADwGAEDAAAAAAAAAADwGAEDAAAAAAAAAADwGAEDAAAAAAAAAADwGAEDAAAAAAAAAADwGAEDAAAAAAAAAADwGAEDAAAAAAAAAADwGAEDAAAAAAAAAADwGAEDAAAAAAAAAADwGAEDAAAAAAAAAADwGAEDAAAAAAAAAADwGAEDAAAAAAAAAADwGAEDAAAAAAAAAADwGAEDAAAAAAAAAADwGAEDAAAAAAAAAADwGAEDAAAAAAAAAADwGAEDAAAAAAAAAADwGAEDAAAAAAAAAADwGAEDAAAAAAAAAADwGAEDAAAAAAAAAADwGAEDAAAAAAAAAADwGAEDAAAAAAAAAADwGAEDAAAAAAAAAADwGAEDAAAAAAAAAADwGAEDAAAAAAAAAADwGAEDAAAAAAAAAADwGAEDAAAAAAAAAADwGAEDAAAAAAAAAADwGAEDAAAAAAAAAADwGAEDAAAAAAAAAADwGAEDAAAAAAAAAADwGAEDAAAAAAAAAADwGAEDAAAAAAAAAADwGAEDAAAAAAAAAADwGAEDAAAAAAAAAADwGAEDAAAAAAAAAADwmJ/ZBQC+YPny5Zo0aZJ69OihyMhIs8sBAAAAAAAAPJaRkaHVq1fr3nvvVWJiotnloB6wOJ1Op9lFAGYbO3asPvvsM7PLAAAAAAAAAKrsiiuu0Keffmp2GagHWMEASOrRo4c+++wzXXHFFRo6dKjZ5QAAAAAAAAAemzt3rj777DP16NHD7FJQTxAwAJJrW6ShQ4fqxhtvNLcYAAAAAAAAoJI+++wztgBHjaHJMwAAAAAAAAAA8BgBAwAAAAAAAAAA8BgBAwAAAAAAAAAA8BgBAwAAAAAAAAAA8BgBAwAAAAAAAAAA8BgBAwAAAAAAAAAA8BgBAwAAAAAAAAAA8Jif2QXAHFsPZOv7Fbs0N+mgUtJyVVBkV1zDUJ3dvanGDWmtkAD3fxqTZ23Sq7OTjjjPtYNb6Ylzu1Y4/8PKXZo2b6uS9mUrJMCmIe0b6cERHdUyKqTCtQeyCvTSzA2as3G/DuUXq01MqK4e1EqX9Ys74jM9mRsAAAAAAAAAUD0IGOqpr5bt1MeLknV65yY6v1dz+dusWrQ1Va/8sUk/r96j728brCB/W7l7Hjuni6JD/cuda9covMLcHy1M1hM/rlOf+Cg9dk4XpecU6v0F27RkW6p+vH2ImjQIcl2bmVeki99aqL2H8jVucGvFRodo1vp9mjBjjfYdytfdZ3So9NwAAAAAAAAAgOpDwFBPjezeVLec0lYRwe7AYOyAeLVuuFGvz9msr5bt0FUDW5W758wuTRQbfexVAuk5hXpp5gZ1a9FA028cID+bsQvXyR0b6fw3FmjSH5v04kU9XNe/9dcWJafm6q2xiRrRrZkk6bJ+cbr+o6V6Y85mXZjY0vVMT+cGAAAAAAAAAFQfejDUUz1aRpYLF0qd3cN4k3/D3qwj3pddUKwiu+Oo885av085hXZdM6i1KwAofV6/VtH6Zc0eFRa77/9hxS7FRge7woVS1w1poyK7Uz+t3l3puQEAAAAAAAAA1YcVDChn76F8SVJMaECF10a+Ok9ZBcWyWqSuzSN049A2Ordn83LXrNyZIUnqHR9V4f7e8VFavC1NWw5kq3OzBtqfla/dmfk6v1fzCtcmxkfKYpFW7cio1NwAAAAAAAAAgOpFwAAXu8OpqbOT5Ge16PyEFq7zDYL9dWnfWPWOj1JUSIC2p+Xq40XJuuOLFUo+mKM7Tm/vunZfphFQNIuo2Auh9NzezHx1btZA+zILJElNj3BtoJ9N0SEB2lsyn6dzH8vujDztKTOvJG1PzTnmPQAAAAAAAACA8ggY4PLkj+u0IiVD48/soLaNwlznrxvSusK1V/SP03mvz9ers5N0QWILtYwy+iTkFdklSQG2irtvBfrZyl1T+j3wCNca11td13g697F8uXSHXp2dVO5c1sotx70PAAAAAAAAqPO++EJ65RVp/XopNFQaNkx64QUpPv7E7rfbpWnTpA8+MOZwOqXWraVLLpEee8x93f/9n3TqqUeeo2dPaeXKqv5JUAMIGCBJeuX3jfrk7+26tG+sbju13XGvD/K36cahbTX+61Wal3RQl/WLkyQF+xtv9BfaHQqy2srdk19sL3dN6feCo/R0yC92qJG/ew5P5j6WMX1jNbRDo3LnZny+Sc/9ftxbAQAAAAAAgLrr9delO+6QBg+WJk+WDh6UpkyR5s6Vli6Vmlfc6rycoiJp9Ghp5kzp0kula6+VrFYpOVlKSTnyPTfeKJ10Uvlz0dHe+NOgBhAwQJNnbdLrczZrdGILPXdBd1kslhO6r2VUsCQpLafQda5JyVZFezLz1TomtNz1pdsdlW6J1CQisNz5svKL7ErPLVTfVu5+C57MfSzNI4PVPDK43Ll/GoYe5WoAAAAAAACgHkhNlSZMkBITjdUFfiVvHY8YIfXrJz3+uPTuu8ee49lnpV9/Nb6GDz+x5w4cKI0dW6XSYZ4j702DemPKn5uMbY4SWuiVi3rKaj2xcEGSkg8afQsahQW6zvVsGSFJ+md7eoXr/9mertAAm2v7pcbhQWoWEaTlKRWvXZGSIadT6tEyslJzAwAAAAAAAPDADz9I2dnSnXe6wwVJ6tNHGjpU+uorqbDw6Pfn5BirHc491wgXnE4pK+vEnp2bK+VX/BAyfB8BQz326p9JmvJnkkb1aq5XLj5yuFBsdyg9p+JfHJl5RXrz/7YowGYtt93QsC5NFexv04cLt6m4zNZHq3dmaElyms7u0UwBfu7/7M7r1Vw70vI0c+2ecvO/N3+r/KwWndujeaXnBgAAAAAAAHCCliwxvg8aVPG1QYOMsGDDhqPfP3++dOiQsdph/HgpMlJq0MDY7uiOO4wQ4Ujuusvo9RAcbPRqeOYZY6sl1ApskVRPfbwoWZP/3KQWkcEa0r6Rfly1q9zrMWGBOql9I+UU2jXg+dka0a2pOjYNV1RIgFLScvX1sh06mF2ox8/pUm5boujQAN0/vKOe/nm9Ln3nb12Q2ELpOYV6b/42xYQF6t5hHcs959aT2+m3NXt1z5ertGZXpmKjQjRr/T7N3rBfd57WTnENQyo9d2UUFxcrLS2tyvMAAAAAAAAANa24uFiSFLJli7RoUfkXW7aUYmOPfvOuXe7rDld6budOqUePI99fGj5MmSLZbMZ2Sc2bS99/b/R2+PdfadYsqXR7dn9/6ZxzpJEjjfn37pWmTze2YlqwQPrlF2Me+DQChnpq1Y5MSdKujDyN/3pVhdf7t47WSe0bKcjfqlG9WmjVzgzN2bBfuYV2RQT7q1dspMYNaa3B7WIq3DtuSGtFhwZo2rytevqn9QoOsGlIuxg9OKJThR4JESH++ubmgXrp942avmSHsgqK1aphiJ4d1U1jB1TsTO/J3JWRlZWlefPmVXkeAAAAAAAAoKZllWxJ1Pall6SXXir/4hNPSE8+efSbS1cYBAZWfC0oqPw1R3648T0tTVq9WurSxTi+8ELj+6efSn/84e7NMHiw9NNP5ee44Qbp+uul996TvvxSuvzyoz8PPoGAoZ6aeElPTbyk53GvC/Sz6cWLjpJKHsOohBYaldDihK5t3CBIr1x8/FoqM7enwsPDddLhXesBAAAAAACAWmBXySqELQ88oIGjRpV/8UgrE8oKKdlJpKDA2K6orLy88tccSek9/fu7w4VS48YZAcOcOcdv/vzYY0bA8MsvBAy1AAEDUIafn5+io6PNLgMAAAAAAADwmF9Jc+bctm2lgQM9u7lFyQd6d+6U2rcv/9qxtk8qVfpas2YVXys9dyJbk8fGGlsjHThw/GthOjriAgAAAAAAAEB917ev8X3hwoqvLVwohYVJnTod/f7+/Y3vO3ZUfC0lxfjepMnx69i6VbLbpaZNj38tTEfAAAAAAAAAAAD13fnnG1sgTZ0qlTSLliQtWybNnStdcokUEGCc27PHaOpctidDq1bS0KHS0qXS33+7zzud0htvGOORI93n9+6tWIPdLk2YYIzPO88rfyxUL7ZIAgAAAAAAAID6LiZGeu456e67pVNOka68Ujp4UJo82Vh58PTT7msnTJA++sjoqXDKKe7zr70mDRli9Fm44w5ja6QffzSaO48bV37bppEjpYYNjetbtJD27ZO+/lpatUoaPdrdHBo+jYABAAAAAAAAACDddZcRNEycaAQNISHSsGHS88+7ezQcS48e0qJFRqPmN9+UcnKkdu2MkOLOO8tfO2aMET688YaUnm48q1s36e23peuvlyyWavkjwrsIGAAAAAAAAAAAhiuuML6O5cMPja8j6dpVmjHj+M958EHjC7UaAQMAAPAeh0Navlzq3l0KDDS7Gq/LKSjWsu3pKix2mF0KAABAnRMTFqBesZGy8KllAKg1CBgAAIB3pKUZTcHmzzf225w50+yKvOrP9fv08HdrtD+rwOxSAAAA6qxHRnbWDUPbmF0GAOAEWc0uAAAA1AHJydLgwUa4IEn/+5+p5XhTek6h7p6+Qtd/vIxwAQAAoJp9uWyH2SUAADzACgYAAFA1K1ZII0dKe/e6zxUVSXPmmFeTlyzZlqr35ifrUF6RBpacO6l9jDo0DTO1LgAAgLrmvXnJxmC7lPFLviJDAkytp9K6dZMaNTK7CgCoMQQMAACg8n7/XbroIik7u+Jrp51W8/V4Wb+SLwAAAFSvM8oeTDerCi8ICJA2bpRatTK7EgCoEWyRBAAAKufDD6VzznGHC+ecI115paklAQAAAKYqLHRvGwoA9QArGAAAgGecTunZZ6XHH3efu+km6fXXpbw86dRTpdRU8+qrpKyCIv2+dq827nWvxogI9tfIHk3VJoYtkQAAAKqT3eHUpFkbVVjsVKPwAN04tK3ZJXlmxQrp88/NrgIAahwBAwAAOHHFxdKtt0rTprnP/ec/0oQJksUihYdL115rXn2V4HQ69cPK3Xryp3XKiC+S4o3zYwfE6a6zOisskB+XAAAAqptN0rpGS/R/Gw9IkkbffIZiwgLNLcoTX3xBwACgXuI3ZgAAcGKys6UxY6RffzWO/fyk996TrrrK3LqqYN+hfD3y3Rr9+e9+17nY6GC9eGEPDWobY2JlAAAA9U//1g1dAcOSbWka2b2ZyRUBAI6HgAEAABzfvn1Gj4Vly4zj8HDp22+lYcPMrauSnE6nvv5np575eb2y8oslGQswrh7YSg+M6KiQAH5EAgAAqGkD2kS7xou3phIwAEAtwG/PAADg2DZtks46S9q61Thu1sxYxdCrl6llVdbujDxNmLFGf2064DrXOiZUL13UQ31bRR/jTgAAAFSnbi0iFBJgU26hXYu21r6eXgBQHxEwAACAo1u0SDr3XHfT5s6dpZkzpbg4c+uqBKfTqelLd+g/v/yr7AL3qoXrh7TWvcM6KjjAZnKFAAAA9Zu/zao+raI1d9MBbdqXrdTsAjWsTX0YAKAeImAAAABH9sMP0qWXSvn5xvHQodL330tRUaaWVRk703P10LdrNH/zQde5to1C9fLFPZUYV/v+PAAAAHXVgDZGwCAZfRjOYpskAPBpVrMLAAAAPujNN6XRo93hwiWXSL//XuvCBafTqa+X7dCIKfNc4YLVIt1ySlv9cudJhAsAAAA+pn/rhq7x4m1pJlYCADgRrGAAAABuDof08MPSiy+6z917r/Tyy5K1dn0uITW7QBNmrNEf6/e5znVoEqaXL+qpnrGR5hUGAACAo+rRMkLB/jblFdm1aAt9GADA1xEwAAAAQ2GhNG6c9NlnxrHFIk2aJN19t6llVcaf6/fpoRmrdTC7UJLxR7lpaFvdM6y9Av3otQAAAOCrjD4MUZqXdFAb92UpLadQ0aEBZpcFADgKAgYAACBlZhpbIv3vf8ZxYKD0ySfSxRebW5eHsguK9cxP6/Xlsh2ucy2jgjXpkl7q1zraxMoAAABwoga0aah5Scb2lku2pWlEt6YmVwQAOBoCBgAA6rudO6WRI6U1a4zjqCijwfNJJ5lbl4eWJqfp3q9WakdanuvcmD6xeuzcLgoL5EceAACA2mJAG/cHQ/7emkrAAAA+jN+2AQCoz9aulc46ywgZJCk+XvrtN6lzZ3Pr8kBBsV2TZm3SO3O3yuk0zjUMDdALF/bQsC5NzC0OAAAAHuveIlJB/lblFzn091b6MACALyNgAACgvpozR7rgAmN7JElKSJB++UVq1szcujywYe8h3T19pTbszXKdG9aliZ4f3V0xYYEmVgYAAIDKCvCzqk98tOZvNvowZOQWKjKEPgwA4IusZhcAAABMMH26NGKEO1w480zpr79qTbhgdzj1ztwtOu+1Ba5wISzQTy9d1EPvXNmbcAEAAKCWK90myemUFm9LM7kaAMDRsIIBAID65p13pJtvlms/oWuuMc75+5ta1onakZar+75epSVlftHs1ypaEy/pqdjoEBMrAwAAgLf0b9PQNV68NU3Du9KHAQB8EQEDAAD1yZQp0j33uI8ffVR6+mnJYjGtpBPldDr19T879fRP65VdUCxJCrBZdd+ZHXT9SW1ks/r+nwEAAAAnpkfLCPowAEAtQMAAAEB98Z//GIFCqUmTyocNPuxgdoEmzFijWev3uc51ahquyWN6qXOzBiZWBgAAgOoQ6GdTYlyUFm5J1b97Dykzt0gRIbVjxS0A1Cf0YAAAoK5zOqVHHikfLvz3v7UmXJi1fp9GTJnrChcsFunmk9vqh9sHEy4AAADUYQNKtklyOqUlyfRhAABfxAoGAADqMqdTuv9+aeJE49hqlT74QLrqKnPrOgG5hcV6+qf1mr50h+tcy6hgTbqkl/q1jjaxMgAAANSEAeX6MKRqWJcmJlYDADgSAgYAAOoqp9NYpfDqq8axn5/0+efSxRebW9cJWLsrU3dOX6GtB3Jc58b0idVj53ZRWCA/vgAAANQHPWMjFOhnVUGxQ39vow8DAPgifkMHAKAucjikO+6Q3nzTOPb3l77+Wjr/fHPrOg6n06n3FyTrxd82qNDukCRFhwbohdHddWbXpiZXBwAAgJpU2odh0dZUrd99SJl5RYoIpg8DAPgSejAAAFDXOBzSLbe4w4WAAGnGDJ8PFw5mF+jaD5fqmZ/Xu8KFwe0a6re7TiJcAAAAqKf6tzG2xnQ4pWX0YQAAn8MKBgAA6hKHQ7rpJundd43jwEDp+++lESNMLet45m46oHu/WqWD2QWSJD+rRfed2VE3DW0jq9VicnUAAAAwi9GHIUmStHhbmk7vTB8GAPAlBAwAANQVDod0883ucCEoSPrxR2nYMHPrOobCYode+WOj3pm71XUuvmGIXr00Qb1iI80rDAAAAD6hV2ykAvysKix26O+t9GEAAF9DwAAAQF3gcEi33ipNm2YcBwVJP/8snX66uXUdw7aDObrzixVasyvTdW50Qgs9PaobjZwBAAAgSQryt6lXbKSWbEvT2l2ZysovUngQfRgAwFfQgwEAgNrO6ZRuv116+23jOChI+uknnw0XnE6nvl62Q2dPnecKF8IC/TRlTC9NGtOLcAEAAADlGNsklfZhSDe5GgBAWQQMAADUZk6ndOed0n//axwHBhrbIp1xhrl1HcWh/CLdOX2l7v9mtXIL7ZKknrGR+uXOIRqV0MLk6gAAAOCLBrSOdo3ZJgkAfAsfEQQAoLZyOqX77pNef904DgyUfvjBZ3suLE9J151frNDO9DxJksUi3XxyW907rIP8bXzmAQAAAEeWEBelAJtVhXaH/t6WZnY5AIAyCBgAAKiNnE7p4YelyZON44AA6bvvpOHDza3rCOwOp/77f5s1+c8k2R1OSVLj8EBNHtNLg9vFmFwdAAAAfF1wgE09YyO0NDlda3dlKrug2Pe21QwMdI/TCEEA1B98XBAAgNromWekF14wxn5+0jffSGedZW5NR7A3M19XvPu3XvljkytcOKNzY828eyjhAgAAAE5Y/9ZGHwa7w6l/tvtgH4aePd3jZcvMqwMAahgBAwAAtc3LL0tPPGGMbTZp+nTp3HPNrekI/li3VyNenau/txqf4Arws+qp87pq2lV9FB0aYHJ1AAAAqE1KGz1LPtqHoU0bKbqkV8SSJebWAgA1yMfWkwEAgGN64w3pgQeMscUiffyxdOGF5tZ0mPwiu/7zy7/65O/trnPtG4dp6mUJ6tysgYmVAQAAoLZKjI+Un9WiYodTi30xYLBYpH79pJkzpY0bpYwMKTLS7KoAoNqxggEAgNrigw+k2293H7/7rnT55ebVcwRbDmRr1BsLyoULV/SP04+3DyFcAAAAQKWFBPipR8sISdLqnZnKLSw2uaIj6N/fPWabJAD1BAEDAAC1wZdfStdf7z5+/XVp3Djz6jmCmWv36vzXF2jD3ixJUkSwv94a21v/uaC7ggNsJlcHAACA2q50m6RiX+3D0K+fe8w2SQDqCQIGAAB83W+/SWPHSg6Hcfzii9Jtt5lbUxl2h1Mvzdygmz/9R9kFxifJEuMi9etdJ2lEt6YmVwcAAIC6on+ZPgyLS/p8+ZS+fd1jAgYA9QQ9GAAA8GWLFhk9FopLloA/+qi7B4MPSM8p1J3TV2he0kHXuWsGtdIjZ3eWv43PMQAAAMB7esdHyWa1yO5wavE2H+zD0KiR1Lq1tG2btHix5HQavRkAoA7jN38AAHzVunXS2WdLeXnG8W23SU8/bW5NZazdlalzXpvvCheC/K2aPKannjyvK+ECAAAAvC4s0E/dWxh9GFbtyFR+kd3kio6gdJukvXulnTvNrQUAagC//QMA4Iu2b5eGD5fSS/aWHTNGmjrVZz4B9c0/O3XhfxdqV4YRfsRGB2vGLYN1QUJLkysDAABAXda/dbQkqdDu0PIU+jAAgNkIGAAA8DUHDkhnnint2mUcDxsmffyxZDX/n+3CYoce/X6Nxn+9SgXFRk+IUzo20k+3D1GX5g1Mrg4AAAB1Xf820a6xT/ZhIGAAUM/QgwEAAF+SlSWNHClt2mQc9+snzZghBQSYW5ekvZn5uuWzf7QiJcN17s7T2+vu09vLavWNlRUAAACo2/q0ipbVIjmc8s0+DImJks0m2e0EDADqBfM/CgkAAAwFBdIFF0jLlhnHnTpJv/wihYWZW5ekxVtTdc5r81zhQniQn969qo/uHdaBcAEAAAA1pkGQv2vl7IqUDBUU+1gfhpAQqXt3Y7xsmRE0AEAdRsAAAIAvsNulsWOl2bON45Ytpd9/l2JiTC3L6XTqvfnbdPm7i3Uwu1CS1LFJuH68fYjO6NLE1NoAAABQP/Vv3VCSVFDs0OqdmSZXcwSl2yRlZ0sbNphbCwBUMwIGAADM5nRKt90mffONcRwdLf3xhxQXZ2pZuYXFumv6Sj3z83rZHU5J0rk9m+u72wapdUyoqbUBAACg/urXumwfBh/cJqlsH4bFi82rAwBqAAEDAABme+IJ6e23jXFoqPTrr1LnzqaWlHwwR6PfXKgfV+2WJNmsFj16dmdNvbSXQgJo4QQAAADz9GtVJmDYRqNnADAT7xAAAGCm116TnnnGGPv7Gw2d+/c3taT/bdinu6avVFZ+sSQpJixAr12WqIFtG5paFwAAACBJUaEB6tQ0XBv2Zumf7ekqsjvkb/Ohz9B26WJ8cCgnh4ABQJ3nQ3/7AgBQz3zxhXTnncbYYpE+/lg680zTynE4nJry5yaN+3CZK1zoFRupn+4YQrgAAAAAn9K/ZJuk3EK71uzysT4MNpvUu7cxXr1ayssztx4AqEYEDAAAmGHmTOmqq9zHU6dKl15qWjmZuUW6/uNlmvJnkuvcFf3j9OVNA9QsIti0ugAAAIAj6d/G/QGYJb64TVLpqmS7XVqxwtxaAKAaETAAAFDT/v5buvBCqdhYJaDHH5duv920cv7dc0jnvj5f/9uwX5IU4GfVSxf10H8u6K5AP5tpdQEAAABH07dVLWr0zDZJAOowejAAAFCT1q+Xzj5bys01jm+9VXrySdPK+WHlLj347WrlFzkkSS0ig/XW2N7q3jLCtJoAAACA42kUHqi2jUK15UCOliWny+5wyma1mF2WW9mAYfFi8+oAgGrGCgYAAGpKSoo0fLiUVrKE+5JLjK2RLDX/i1CR3aGnflqnu6avdIULQ9rF6Kc7hhAuAAAAoFYo3SYpq6BY63cfMrmaw8TGSk2aGGNWMACowwgYAACoCQcPGg2cd+40js84w2jqbKv5LYjScwo19t3F+mBBsuvcLae01Ufj+ik6NKDG6wEAAAAqo7TRsyQt3uZj2yRZLO5VDFu3Gr8PAEAdRMAAAEB1y8qSRo6UNm40jvv2lWbMkAIDa7yU5IM5Gv3fhVpc0ggvNMCmt8Ym6sERnXxrSTkAAABwHP1buxs9L/bFRs9lt0lautS8OgCgGhEwAABQnQoKpNGj3b9QdOwo/fqrFB5e46UsS07TBW8u0LaDOZKk+IYh+uH2wRrRrVmN1wIAAABUVdOIIMU3DJEkLU1Ok8PhNLmiw9DoGUA9QMAAAEB1cTql666T/vzTOG7RQvrjDykmpsZL+WnVbl3+7mKl5xZJkvrER+m7WwerXeOaDzoAAAAAbyndJikjt0gb92WZXM1h+vZ1jwkYANRRBAwAAFSXp5+WPvvMGEdHG+FCXFyNluB0OvXWX1t0xxcrVFhsNHM+t2dzfXp9f/otAAAAoNYrt03SVh/rwxAVJXXoYIwXLzY+gAQAdQwBAwAA1eGzz6QnnzTGAQHS999LXbrUaAl2h1NP/rhOL/y2wXXu9lPb6dUxvRTkX/PNpQEAAABv69+mbKNnH+7DkJpqNHsGgDqGgAEAAG+bN08aN859/N570kkn1WgJ+UV23frZP/po0XZJks1q0Quju2v88I6y0swZAAAAdUTLqBC1iAyWJC3Zlianr60SoA8DgDqOgAEAAG/avFm64AKpsNA4fuIJaezYGi0hI7dQY99drN/X7ZMkBfvb9O5VfXRpv5rdngkAAACoCaV9GFJzCrXlQLbJ1Rymf3/3+O+/zasDAKoJAQMAAN6Sliadfbax/FmSLr/cCBhq0O6MPF301iIt254uSWoYGqDpNw7QqZ0a12gdAAAAQE0pu03S31t9bJukXr2kwEBjvHixqaUAQHUgYAAAwBsKC6XRo6VNm4zjwYONrZEsNbcd0eb9Wbrovwu1eb/xqa1WDUM049ZB6hkbWWM1AAAAADWtXKNnX+vDEBAgJSQY4xUrpIICc+sBAC8jYAAAoKqcTunGG6W//jKO27Y1mjoHBdVYCStS0nXRW4u0OzNfktS9RYS+uWWQ4huG1lgNAAAAgBniG4aoSQNjlcDiram+14ehdJukwkJp1SpzawEALyNgAACgqp57TvroI2McGSn98osUE1Njj/9r0wFdPm2xMnKLJEmD2zXUFzcOUExYYI3VAAAAAJjFYrGoX8kqhv1ZBdqemmtyRYehDwOAOoyAAQCAqvjyS+nRR42xn580Y4bUsWONPf6nVbt1/UdLlVdklySd3aOZ3r+mr8IC/WqsBgAAAMBspY2eJWnxtlQTKzmCAQPcY/owAKhjCBgAAKishQulq692H0+bJp16ao09/vPFKbpz+goV2Y0l4GMHxGnqpQkK9LPVWA0AAACALxjQpmzA4GN9GFq1kho1MsYEDADqGAIGAAAqY+tWadQod5O2hx+Wrrmmxh7/9l9b9PB3a1S6vewdp7XTM+d3k81ac02lAQAAAF/RtlGYokMDJElLfC1gsFjc2yRt2SIdPGhuPQDgRQQMAAB4KiNDOvts6cAB43jMGOmZZ2rk0U6nUxP/2Kjnf9vgOvfo2Z1135kdZbEQLgAAAKB+slgs6tfKWMWwMz1PuzPyTK7oMGX7MCxZYl4dAOBlBAwAAHiiqEi66CJpQ8kb/AMGSB98IFmr/59Up9Opp39er9f+t1mS8UGoF0Z31/Untan2ZwMAAAC+rm+ZPgxLk31sFQONngHUUQQMAACcKKdTuuUWafZs47hVK+mHH6Tg4Gp/tN3h1IQZa/TBgmRJkp/VoqmXJujSfnHV/mwAAACgNijf6NnHAoZ+/YxPCEn0YQBQpxAwAABwol56SXrvPWMcESH98ovUuHG1P7bY7tC9X63U9KU7JEkBfla9fWVvnduzebU/GwAAAKgtOjdroLBAP0nSUl8LGCIipE6djPGSJZLDYW49AOAlBAwAAJyIb76RHnrIGPv5GcddulT7Y41wYZV+WLlbkhTsb9MH1/TV6Z2bVPuzAQAAgNrEZrWod3yUJClpf7ZSswtMrugwpdskZWRISUmmlgIA3kLAAADA8SxZIl15pfv4zTelM86o9scW2x267+tV+nGVES6EBtj0yXX9NLhdTLU/GwAAAKiN+pXrw5BuYiVHQB8GAHUQAQMAAMeyfbt03nlSfr5xfP/90g03VPtj7Q6n7vvavXIhNMCmj6/rpz6too9zJwAAAFB/9a8tjZ7pwwCgjiBgAADgaDIzpbPPlvbtM45Hj5ZeeKHaH2t3OHXfVyvLhQsfjeun3vGECwAAAMCxdG8ZoUA/4+2uJb7Wh6F7dyk42BgTMACoIwgYAAA4ErtduvRSad0647hvX+mTTyRr9f7TaXc4Nf7rVfq+JFwICbDpw3GsXAAAAABORKCfTb1iIyVJ63ZnKiu/yNyCyvLzk/r0McarV0u5uebWAwBeQMAAAMCRPPqoNHOmMY6Lk378UQoJqdZHloYL363YJckIFz4a1099CRcAAACAE1a6TZLDKS1PyTC3mMOVbpNUXCwtX25uLQDgBQQMAAAc7uuv3VshBQcb4ULTptX6SLvDqfsJFwAAAIAq69e6oWu8ZFuqiZUcAX0YANQxBAwAAJS1dq107bXu4/ffl3r2rNZH2h1O3f/NKs0oEy58eC3hAgAAAFAZCXGRslktknywDwMBA4A6hoABAIBS6enSqFFSTo5xPH680YehGtkdTj3wzWrNWO4OFz64pq/6tSZcAAAAACojNNBP3VpESJJW7chUfpHd5IrKaNlSat7cGBMwAKgDCBgAAJCMps5XXCFt2WIcn3669Pzz1ftIh1MPfrta3y7fKUkK9jfChf5tGh7nTgAAAADHUtqHodDu0KodGeYWU5bF4l7FkJIi7dljbj0AUEUEDAAASNKTT0q//WaM4+Ol6dMlP79qe5zD4dRD367WN/+UCReuJVwAAAAAvKHsdqNskwQA1YeAAQCA776Tnn3WGAcFGccxMdX2OEfJyoWvy4QL71/TVwMIFwAAAACv6NsqyjVekuzDAcPff5tXBwB4AQEDAKB++/df6aqr3MfTpkkJCdX2OIfDqYdmVAwXBrYlXAAAAAC8JTIkQJ2ahkuS/tmermK7w+SKyujTR7KWvCXHCgYAtRwBAwCg/srMNJo6Z2cbx3ffLY0dW22PczicmjBjjb5aZoQLQf5WwgUAAACgmvQr6cOQW2jXut2HTK6mjLAwqXt3Y7x0qVRcbG49AFAFBAwAgPrJ4ZCuvFLatMk4PuUU6aWXqvFxTj383Rp9uWyHJMIFAAAAoLr5dB+GgQON7zk50tq15tYCAFVAwAAAqJ+eeUb66SdjHBsrffml5O9fLY9yOJx65Ps1mr60TLhwdV8Nalt9fR4AAACA+q50BYPkg30YBgxwj+nDAKAWI2AAANQ/P/4oPfmkMQ4MlGbMkBo3rpZHlYYLXywxwoVAP6veu7qvBrUjXAAAAACqU5MGQWrVMESStDQ5TQ6H0+SKyiBgAFBHEDAAAOqXDRvK91l46y2jyVo1cDqdevrn9eXChfev6avBhAsAAABAjSjdJikjt0hJ+7NNrqaMDh2kqChjTMAAoBYjYAAA1B+HDkkXXCBlZRnHt98uXXNNtT3u9f9t1ocLkyW5Vy4QLgAAAAA1x2e3SbJY3KsYNm6U0nyoNgDwAAEDAKB+cDikq682VjBI0kknSZMmVdvjPlu8XRNnGQ2kbVaL3hrbW0PaEy4AAAAANal/64ausc81ei67TdLixebVAQBVQMAAAKgfnntO+v57Y9yihfT119XW1PnXNXv06PdrXccvX9RDp3aqnh4PAAAAAI4uNjpYTRoESpKWbEuV00kfBgDwJgIGAEDd98sv0uOPG+OAAOnbb6UmTarlUQs2H9Td01eq9PeWR8/urNGJLavlWQAAAACOzWKxqF/JKoZ9hwqUkpZrckVl9O9vbJUkETAAqLUIGAAAdVtSknTFFXK94//mm8YP8tVgzc5M3fjxMhXaHZKkW05pq+tPalMtzwIAAABwYvq1inKNlyanm1jJYSIipM6djfHixca2rgBQyxAwAADqrqwsadQoKTPTOL75Zum666rlUVsPZOuaD5Yop9AuSRrTJ1YPDO9YLc8CAAAAcOL6lmn0vMyXGj1L7m2SMjPd/eIAoBYhYAAA1E1Op3TttdL69cbxoEHSq69Wy6P2HcrXle8tUWpOoSTpzC5N9J8LuslSutwZAAAAgGk6NA5XeJCfJGmprwUMAwe6x2yTBKAWImAAANRNL75o9FqQpGbNpG++MfoveFlmbpGuem+JdmXkSZL6t47W1MsS5Gfjn1gAAADAF1itFvWJN7ZJ2nIgR6nZBSZXVEbZRs+LFplXBwBUEu9+AADqnr/+kh55xBj7+xtBQ7NmXn9MXqFd1320VBv3ZUmSOjdroGlX91GQv83rzwIAAABQeeW2SdruQ30YOneWwsONMSsYANRCBAwAgLrlwAHp8svdDdKmTi2/7NhLiuwO3fb5ctcvJ3HRIfpoXF81CPL3+rMAAAAAVE3fVj7ah8Fmk/r1M8br1kmHDplbDwB4iIABAFB3OBzS1VdLu3cbx2PGSDfdVA2PcerBb1brfxv2S5JiwgL1yXX91Dg8yOvPAgAAAFB13VtEKKBkG9MlyT60gkFyfyDK6ZSWLjW3FgDwEAEDAKDumDRJ+u03Y9ymjfTOO5KXGy07nU499+u/mrFilyQpPNBPH43rq/iGoV59DgAAAADvCfK3qWdshCRp3a5M5RYWm1xRGfRhAFCLETAAAOqGxYulCROMsb+/9OWXUoMGXn/M23O36t352yRJAX5WTbu6j7o2j/D6cwAAAAB4V5+SbZKKHU6t3JFhbjFl9e/vHtOHAUAtQ8AAAKj9MjKkSy+Viks+hfTii1KfPl5/zFdLd+iF3zZIkqwW6bXLEjSgTUOvPwcAAACA9/VtFeUaL93mQ9skxcRI7dsb47//NrZKAsz0xRdS795ScLDx3+dll0nbt5/4/Xa79NZbRngWHi6FhUndu0vPPFPx2sJC6emnpbZtpcBAKT5eevBBKTfXe38eVCs/swsAAKBKnE7phhuk5GTj+JxzpLvv9vpjZq3fp4dmrHYdvzC6h4Z3ber15wAAAACoHr3jomWxGL9CLNvuQ42eJWObpKQkKTVV2rzZHTgANe3116U77pAGD5YmT5YOHpSmTJHmzjV6hDRvfuz7i4qk0aOlmTONDwJee61ktRq/s6ekVLz+8sulb7+VrrxSGjpUWrVKmjhRWrZMmjXLuBc+jYABAFC7vf229M03xrhFC+mDD7zed2Hx1lTd9vlyOUo+SPTgiE66pG+sV58BAAAAoHpFhPirY5NwbdibpeXb01Vsd8jP5iNvXg4YIH3yiTH++28CBpgjNdXYejgxUfq//5P8St46HjFC6tdPevxx6d13jz3Hs89Kv/5qfA0ffuxrf//dCBfuuEOaOtV9vlUrafx46fPPpbFjq/InQg3wkb9FAQCohNWr3asVrFZjGWdMjFcfsX73IV3/0TIVFjskSdcPaa2bT27j1WcAAAAAqBl9SrZJyim06989WSZXU0bZRs/0YYBZfvhBys6W7rzTHS5IxhbEQ4dKX31lbGl0NDk5xmqHc881wgWnU8o6xv9nn31mfL/vvvLnb73V2J7p008r/UdBzSFgAADUTjk50pgxUkGBcfzUU9JJJ3n1ESmpubrq/SXKKjB6O4xOaKGHR3aWxcsrJAAAAADUjL4ljZ4laWmyD22T1KOH8YaqJC1aZG4tqL+WLDG+DxpU8bVBg4ywYMOGo98/f7506JCx2mH8eCkyUmrQQIqONlYpHN5XYckSY8ul+Pjy54ODpV693PXAp7FFElBGcXGx0tJ86AcMAEcVevvtCiz5wabopJOUddNNkhf//83KL9KEGWsUpnyFhUmJ8ZF66PSWysjwoWZwAAAAADzSOcqqVmHG3qdJO/YoLS3C5IrcwhMS5L9woZyrVys9JcVojAt4qLjY+IBcyJYtFcOqli2l2GNs97trl/u6w5We27nTCMSOpDR8mDJFstmM7ZKaN5e+/97o7fDvv0ZfhdIP7e3aJXXpcuS5WrY06s/NlUJCjl4zTEfAAJSRlZWlefPmmV0GgONoOWeOen/xhSSpICJCc669VgULF3r9OWNiJbl+9krVogULvP4MAAAAADXrnu6lowOaN++AmaWU07lZM3WQZLHb9e/HH+tg9+7HvQc4XFbJlkRtX3pJeuml8i8+8YT05JNHv7l0hUFgYMXXgoLKX3Pkhxvf09KMLY1Lw4MLLzS+f/qp9Mcf7t4MublHftbhzyNg8GkEDEAZ4eHhOsnLW6wA8C5rUpIiyjSVKnz3XfU77TSvze90OvXWX1s0a/1+SVKTBoF68cIeahDs77VnAAAAADDPlD83ae6mg5KkNy5PULPIYJMrMvjn5hoNbyUl5OYqn/cnUAm7SlYhbHngAQ0cNar8i0damVBW6Rv5BQXuLbtK5eWVv+ZISu/p37/iyoRx44yAYc4cd8AQEuLe9vhwJ/I8+AQChnpq64Fsfb9il+YmHVRKWq4KiuyKaxiqs7s31bghrRUSUP4/jQNZBXpp5gbN2bhfh/KL1SYmVFcPaqXL+sUdcf4fVu7StHlblbQvWyEBNg1p30gPjuiollEV/1Kozrk95efnp+jo6ONfCMAc+fnSTTcZ/Rck6cEHFX7RRV59xHvzt2nakgOSLAoP9NO7lw5Qq8bhXn0GAAAAAPN0iGumj5enSpLWpznUtY2PvA9w5pmuYcjKlQrh/QlUgl9Jc+bctm2lgQM9u7lFC+P7zp1S+/blXzvW9kmlSl9r1qzia6Xnym5t3KKF8awj2bVLiooiYKgFaPJcT321bKfenb9NsdEhuuO0dpowsrPaNArVK39s0ug3Fyq/yO66NjOvSBe/tVA/rd6tS/rE6qnzuqp5ZLAmzFijKX9uqjD3RwuTddf0lQrys+mxc7po3ODWmp90QBf+d6H2Hcovd211zg2gDho/Xlq1yhgPHCg984xXp5+zYb/+88t6SZLVIr1+RaLaES4AAAAAdYrPNnpu2FDq1MkYL1okORzm1oP6p29f4/uRtiBeuNDoC1L63+iR9O9vfN+xo+JrKSnG9yZNyj9v925p+/by1+blSStXuuuBTyNgqKdGdm+qRRNO12uXJejawa01dkC83rg8Ubef2k4b9mbpq2Xuvwje+muLklNzNWVMLz0wopMu6xen96/pqzM6N9YbczZrR5p777X0nEK9NHODurVooOk3DtDYAfG64/T2+mhcP+3PKtCkP8qHBtU5N4A6ZsYM6Y03jHFkpPTFF5K/97Yt2rg3S3d8sUIOo9+bnji3q07u0Mhr8wMAAADwDe0bhymiZAvUZcnpJldzmEGDjO8ZGUZDXKAmnX++sWJg6lSppFm0JGnZMmnuXOmSS6SAAOPcnj1GU+eyPRlatZKGDpWWLpX+/tt93ul0/z4/cqT7/OWXG98nTixfx3//a4QMY8d67Y+G6kPAUE/1aBnp+se0rLN7GMuVNuzNcp37YcUuxUYHa0S38subrhvSRkV2p35avdt1btb6fcoptOuaQa3lZ3P/59WjZaT6tYrWL2v2qLDYUSNzA6hDkpOl665zH7/3nhQf77XpU7MLdN1HS5VdYPwANXZAnK4a6L35AQAAAPgOq9WiPvFRkqStB3N0MPsoe8CboTRgkI78KXKgOsXESM89Jy1fLp1yivT229J//iONGGGsPHj6afe1EyZInTtLS5aUn+O114yVDsOHS48+agQLI0ZIP/5o9GEou23TWWdJo0YZ91x9tfG7/p13Sg88YDz/iitq4A+NqiJgQDl7S7YZigk10sj9WfnanZmvxLioCtcmxkfKYpFW7chwnVu50xj3jq94fe/4KGUXFGvLgexqnxtAHVJUJF12mfEJHkm67TZp9GivTV9QbNdNn/yjnelGA6kh7WL0xLldZbFYvPYMAAAAAL6lT5ltkpb50jZJgwe7xwsWmFcH6q+77jKaMefmSnffLU2aJJ1xhhF4lfZoOJYePYwtvk4/XXrzTenee40+C5MnS9OmVbx++nTpiSekefOkW2+Vvv/euOfnnyUrb13XBjR5hovd4dTU2Unys1p0foLxF8a+TCPFbxoRVOH6QD+bokMCtDfT3ftgX8m42RGuLz23NzNfnZs1qNa5j2V3Rp72ZJbv17A9NeeY9wAw0WOPuZdW9uolvfKK16Z2Op2aMGONlm03lkW3iQnVG5cnyt/GDzEAAABAXdavtfvDi0uT0yvsrGCaDh2k6GijES4rGGCWK644/uqBDz80vo6ka1djm+MTERgoPfmk8YVaiYABLk/+uE4rUjI0/swOatsoTJKUV9LsOfAob7YF+lld15S9PuAI1wf62cpdU51zH8uXS3fo1dlJ5c5lrdxy3PsAmGDmTOnFF41xaKj05ZdSUMWQsbLe+murZizfJUmKCPbXe9f0VUSI9/o6AAAAAPBN3VpEKMDPqsJih2+tYLBajS1kfvlFSkqSDhyQGtEbDoDvImCAJOmV3zfqk7+369K+sbrt1Hau88H+xhv3BfYj9zbIL3aoUck1Za8vtDsUZLUddq293DXVOfexjOkbq6GHNW6d8fkmPff7cW8FUJN275auusp9/NZbxqd5vOT3dXv10u8bJEl+Vov+OzZRrWNCvTY/AAAAAN8V6GdTr5aRWpKcprW7DymnoFihgT7yNtngwUbAIBmrGM4/39x6AOAY2AMCmjxrk16fs1mjE1vouQu6l9t3vElEoCSV26qoVH6RXem5heW2OGpSMj58C6Kyc5ReX51zH0vzyGD1jo8q9xXfkDcVAZ9it0tjxxqf1pGka64xjr1k3e5M3T19pZxO4/iZUd00qG2M1+YHAAAA4Pv6lmyTZHc4tbJMD0jT0egZQC1CwFDPTflzk16dnaQLElrolYt6ymot39S0cXiQmkUEaXlKeoV7V6RkyOmUerSMdJ3r2TJCkvTP9orX/7M9XaEBNtf2S9U5N4Ba7rnnpDlzjHGnTtLrr3tt6v1Z+br+o2WuLdXGDW6ty/rFeW1+AAAAALVD2UbPS31pm6S+fSW/ktUUBAwAfBwBQz326p9JmvJnkkb1aq5XLq4YLpQ6r1dz7UjL08y1e8qdf2/+VvlZLTq3R3PXuWFdmirY36YPF25TcZmtj1bvzNCS5DSd3aOZAvysNTI3gFpq7lx3c6fAQKPvQqh3VhnlF9l1w8f/uFZCndqxkR45u7NX5gYAAABQuyTGRal0EwefChhCQqSEBGO8dKlUUGBuPQBwDD6yuRxq2seLkjX5z01qERmsIe0b6cdVu8q9HhMWqJPaG30Kbj25nX5bs1f3fLlKa3ZlKjYqRLPW79PsDft152ntFNcwxHVfdGiA7h/eUU//vF6XvvO3LkhsofScQr03f5tiwgJ177CO5Z5TnXMDqIUOHpQuv1xylISIU6ZIPXp4ZWqn06n7v1mtVSVLnzs0CdPUyxJkO0q4CgAAAKBuiwj2V6emDfTvnkNakZKhYrtDfjYf+eDioEHucGHFCmnAALMrAoAjImCop1btyJQk7crI0/ivV1V4vX/raFfAEBHir29uHqiXft+o6Ut2KKugWK0ahujZUd00dkB8hXvHDWmt6NAATZu3VU//tF7BATYNaRejB0d0qtAjoTrnBlDLOJ3StddKu0oCz4sukm66yWvTT529WT+t2i3JCCzfu7qvwoP8vTY/AAAAgNqnT3yU/t1zSLmFdv27J0vdS7ZnNt3gwdKrrxrjhQsJGAD4LAKGemriJT018ZKeJ3x94wZBeuXiE79+VEILjUpoYfrcAGqRKVOkn382xq1aSdOmSRbvrC74efVuTf5zkyQpwGbV21f2Vmx0yHHuAgAAAFDX9Y6P0id/b5ck/bM9zXcChoED3eMFC6R77zWvFgA4Bh9Z9wUAqNeWLZMefNAY+/kZfRciI70y9aodGbrvK/dKredGd1ffMs3cAAAAANRfveOjXONl29NNrOQwLVtKcXHGeOFCY8U3APggAgYAgLlyc6UrrpCKiozj55+X+vXzytR7MvN0w8fLVFBs9HS4+eS2uqh3S6/MDQAAAKD2axkVrCYNAiVJ//hSwCAZ2yRJ0t690rZt5tYCAEdBwAAAMNfDD0ubjO2LNHy415b+5hYW6/qPlml/VoEk6cwuTfTAcJrBAwAAAHCzWCzqE2+scN6Tma9dGXkmV1TGoEHu8cKF5tUBAMdAwAAAMM///Z+7cVlkpPT++5K16v80OZ1O3ffVKq3bfUiS1LlZA00e00tWq3d6OgAAAACoO8ptk5ScZmIlhyFgAFALEDAAAMyRlSVde637+PXXpebNvTL1tHlb9dvavZKkmLBAvXd1H4UG+nllbgAAAAB1S59W7oDBp7ZJ6tFDCg01xgsWmFsLABwFAQMAwBzjx0vJycZ49Gjp8su9Mu3S5DS9OHOjJMnfZtE7V/VW88hgr8wNAAAAoO7p3KyBgv1tkqRlyT4UMPj5Sf37G+M1a6RDh8ytBwCOgIABAFDzZs6U3nnHGMfESP/9r2Sp+vZFB7MLdPvny2V3OCVJD4/srMS4qOPcBQAAAKA+87dZ1Ss2UpK0Ye8hZRcUm1tQWaWNnp1OafFic2sBgCMgYAAA1Kz0dOn6693Hb78tNW5c5WntDqfunr5S+w4ZTZ3P6tZU1wxqVeV5AQAAANR9pdskOZzSihQfWsVQtg8D2yQB8EEEDACAmnXXXdKuXcb4iiuM7ZG84LX/JWn+5oOSpFYNQ/TiRT1k8cKqCAAAAAB1X2K8j/ZhGDDAvdqbRs8AfBABAwCg5nz/vfTJJ8a4WTPptde8Mu28pAN6dXaSJCnQz6o3r+itBkH+XpkbAAAAQN2XGBfleh/fpwKGyEipa1dj/Pffkt1uajkAcDgCBgBAzThwQLrpJvfxu+9KUVXvj7A3M193T18pp9F2QU+f31Vdmjeo8rwAAAAA6o+IYH91aBwuSVqRkuHq6+YTSrdJysqS1q41txYAOAwBAwCg+jmd0q23Svv3G8fXXy+NHFnlaYvsDt3xxXKl5hRKkkYnttAlfWKrPC8AAACA+qd3SR+G7IJibdh7yORqyijbh4FtkgD4GAIGAED1+/JL6ZtvjHFcnDRxolemfeWPjVqabCxf7tAkTM+O6kbfBQAAAACV0sdX+zAMHuweEzAA8DEEDACA6rVnj7F6odQHH0gNqr6F0az1+/T2X1slSSEBNr15RW+FBPhVeV4AAAAA9VOf+GjXeFmyDwUMbdtKjRoZ4wULzK0FAA5DwAAAqD5Op3TDDVJ6yQ/nd9whnXZalafdkZar+75a6Tp+fnR3tWscVuV5AQAAANRfsdHBahQeKMnHVjBYLO5VDNu2GR/iAgAfQcAAAKg+H34o/fKLMW7XTnr++SpPWVBs122fL9eh/GJJ0tgBcTq/V4sqzwsAAACgfrNYLK5tknZl5GlPZp7JFZVBHwYAPoqAAQBQPbZvl+66yxhbrdJHH0mhoVWe9j+//KvVOzMlSd1bROixc7pUeU4AAAAAkKTeZfow+NQ2SQQMAHwUAQMAwPscDum666SsLON4/PjyPxBX0k+rduvjRdslSeFBfnrj8kQF+tmqPC8AAAAASFKfVu4+DD61TVLv3lJAgDEmYADgQwgYAADe99Zb0uzZxrhLF+mpp6o85ZYD2Xro29Wu44kX91Rcw5AqzwsAAAAApbo0a6BAP+PtMp8KGIKCjJBBkv75R8rzoe2bANRrBAwAAO/avFm6/35jbLNJH39s/DBcBXmFdt366XLlFNolSTcObaMzuzataqUAAAAAUE6An1U9YyMlSev3HFJOQbG5BZVVuiq8qMgIGQDABxAwAAC8x26Xrr1Wys01jh95xP0pmyp47Ie12rjP2G6pT3yU7h/escpzAgAAAMCRlDZ6tjucWrUjw9xiyho82D1mmyQAPoKAAQDgPVOmSPPnG+OEBCNgqKKvlu3QN//slCRFhwbotcsT5G/jny8AAAAA1aNPqzKNnn1pm6Syfe0WLDCvDgAog3doAADesX69O1AICJA++sjdhKyS/t1zSI99v1aSZLFIr17aS80igqtaKQAAAAAcVWKcjwYMTZpIbdsa44ULJafT3HoAQAQMAABvKC6Wrr5aKigwjp96SurevUpTZuUX6dbPlqug2CFJuvO09jqpfaOqVgoAAAAAxxQZEqD2jcMkSSu2p8vu8KE38ktXMRw8aPS/AwCTETAAAKruhRekZcuM8YAB0vjxVZrO6XTqoW/XaNvBHEnSkHYxuvP09lWtEgAAAABOSOk2SVkFxdpU0g/OJ7BNEgAfQ8AAAKialSuNFQuSFBxsbI3k51elKT9etF2/rNkjSWrSIFBTLu0lm9VSxUIBAAAA4MT0jo92jX1qmyQaPQPwMQQMAIDKKygwtkYqLjaOn39e6tChSlOu3JGhZ39ZL0myWS167bJExYQFVrVSAAAAADhhfeLdfRiW+1LA0KWL1KCBMSZgAOADCBgAAJX39NPS6tXG+OSTpTvuqNJ0GbmFuu2z5SqyG3uc3j+8o/q1jj7OXQAAAADgXfENQxQdGiBJWp7iQwGDzWZsSytJ69ZJ6T5UG4B6iYABAFA5ixcbvRckKSxM+uADyVr5f1YcDqfu+2qVdmXkSZLO6NxYN57UxhuVAgAAAIBHLBaLEuMiJUnbU3N1MLvA3ILKKrtN0t9/m1cHAIiAAQBQGXl5xtZIDodxPHGi1Lp1laZ8e+5Wzd6wX5LUMipYEy/uJSt9FwAAAACYJCHOvU3SypQM8wo5XNlGz2yTBMBkBAwAAM898oi0caMxHj5cuuGGKk23ZFuaXvnDmC/AZtUblycqIsS/qlUCAAAAQKUllgkYfGqbpP793avHFywwtxYA9R4BAwDAM0uWSFOmGOPISOm99yRL5VcaZOUX6Z4vV8ruMPouPHpOZ/WMjaxymQAAAABQFT1aRqh0UbVPBQzh4VKPHsZ48WKpuNjcegDUawQMAIATV1ws3XST5DTCAE2eLLVoUaUpn/l5vavvwsjuTXXlgPiqVgkAAAAAVRYa6KdOTRtIklbtyFSx3WFyRWWUbpOUmyutWmVuLQDqNQIGAMCJmzpVWrnSGJ9yitGHoQpm/7tPXy3bKUmKCQvUs6O6y1KF1RAAAAAA4E2J8ZGSpLwiuzbuyzK3mLLKNnqmDwMAExEwAABOTEqK9PjjxjggQHrrrSptjZSeU6iHZqxxHT8/uruiQwOqWiUAAAAAeE35PgwZ5hVyOBo9A/ARBAwAgBNzxx1STo4xnjBB6tixStM9/uM6HcgqkCRd1LulhnVpUtUKAQAAAMCrEsoEDCu2+1Afhvh4qVkzY0yjZwAmImAAABzf999LP/5ojNu3lx56qErT/bx6t35atVuS1DwiSI+f26WKBQIAAACA97VqGOJaae1TjZ4tFvc2STt2GF8AYAICBgDAsWVlSbff7j5+6y0pKKjS0+3Pytej3691Hb90UU81CPKvSoUAAAAAUC0sFosSYiMlScmpuUrNLjC3oLLKbpO0aJF5dQCo1wgYAADH9vjj0q5dxvjKK6XTTqv0VE6nUxO+XaOM3CJJ0lUD4zWkfYw3qgQAAACAapEY794maeWODPMKOVzZgIFtkgCYhIABAHB0y5dLU6ca46go6ZVXqjTdN//s1OwN+yUZS40fOqtTVSsEAAAAgGqVEBfpGvvUNkkJCe7V5TR6BmASAgYAwJHZ7dJNN0kOh3H80ktS48aVnm5XRp6e/mm9JMlqkSZe0lMhAX7eqBQAAAAAqk3PlpGyWozx8u0ZptZSTkCA1LevMV6xQsrJMbceAPUSAQMA4MjefFNatswYDxkijRtX6akcDqfu/3qVsgqKJUk3DG2j3vHR3qgSAAAAAKpVaKCfOjZtIElatTNDxXaHyRWVUdro2W6Xli41txYA9RIBAwCgol27pEceMcZ+fkZjZ2vl/8n4dPF2LdySKknq0CRM95zRwRtVAgAAAECNSCzZJim30K6N+7LMLaassn0Y2CYJgAkIGAAAFd11l5RV8kPzAw9IXbtWeqptB3P0/K8bJEl+VosmXtxLQf42b1QJAAAAADUiMc7d6HlFSoZ5hRxu4ED3mIABgAkIGAAA5f38s/Ttt8a4TRvp0UcrPZXd4dT4r1cpr8guSbr9tHbq3jLCG1UCAAAAQI3x2UbPMTFSx47GeOFCdw89AKghBAwAALecHOm229zHb74pBQdXerpp87bqn+3GD9/dW0TotlPbVbVCAAAAAKhxrWNCFRXiL8nHVjBI7m2S0tOljRvNrQVAvUPAAABwe+opKSXFGF96qTR8eKWn2rg3S5P+2CRJCvCzauIlPeVv458dAAAAALWPxWJRQsk2SdsO5igtp9Dkisoo24dhwQLz6gBQL/FODwDAsGqVNGmSMY6IkCZPrvRURXaH7v1qpQrtxvLc8Wd2UIcm4d6oEgAAAABMkVhmm6SVO3xom6TBg91jAgYANYyAAQBg7NN5002S3eiVoOefl5o2rfR0r/1vs9btPiRJ6tsqStcNaeONKgEAAADANGUbPS/fnmFeIYfr1Elq2NAYz5tnbi0A6h0CBgCA9Pbb0uLFxrh/fyNsqKTVOzP0xpzNkqRgf5teubinbFaLN6oEAAAAANP0iI1U6a82PtXo2WKRhgwxxlu2SHv2mFsPgHqFgAEA6ru9e6UJE4yxzSa9845krdw/D/lFdt371SrZHU5J0sNnd1Z8w1BvVQoAAAAApgkL9HNt/bpqR4br9x6fUBowSNL8+ebVAaDeIWAAgPrunnukzExjfO+9Uo8elZ5q0qxN2rw/W5J0UvsYje0f540KAQAAAMAnJMYb2yTlFNq1cW+WydWUcdJJ7jHbJAGoQQQMAFCf/f67NH26MY6Pl554otJTLdmWpmnztkqSwoP89OKFPWSxsDUSAAAAgLqjbB+GFb7U6DkxUQoJMcYEDABqEAEDANRXubnSLbe4j19/XQqt3HZGOQXFGv/1KjlLVgg/eW5XNY8M9kKRAAAAAOA7EuIiXWOfavTs7y8NGGCMV692r1IHgGpGwAAA9dWzz0rbthnjCy+Uzjmn0lM9/9u/SknLlSQN69JEoxNbeKNCAAAAAPApbWJCFRniL0la4UuNniV3HwaHQ1q0yNxaANQbBAwAUB+tWye9/LIxDg+XXn210lPN3XRAn/6dIkmKCvHXcxd0Z2skAAAAAHWSxWJRQmykJGnrwRyl5xSaW1BZ9GEAYAICBgCobxwO6eabpeJi4/jZZ6UWlVtxkJlXpAe+We06/s8F3dUoPNAbVQIAAACATyrbh2HljgzzCjncgAGSzWaMCRgA1BACBgCob95/X5o/3xj37i3ddlulp3rqp3XaeyhfknR+r+Ya2b2ZNyoEAAAAAJ+VUCZgWO5L2ySFhUkJCcZ4yRKpoMDcegDUCwQMAFCf7N8vPfCAMbZapXfecX/CxUO/r9urGct3SZIahwfqqfO6eqtKAAAAAPBZPWMjVLorrE8FDJJ7m6SCAmnZMnNrAVAvEDAAQH1y331SeskPwHfeKSUmVmqa1OwCPfLdGtfxixf2UGRIgDcqBAAAAACfFh7kr45NwiVJK1MyZHc4Ta6oDPowAKhhBAwAUF/Mni19+qkxbtlSevrpSk/12A9rdTDbaGZ2ad9YndqpsTcqBAAAAIBaoXSbpJxCuzbtyzK5mjKGDHGPCRgA1AACBgCoD/LzpVtucR9PnSqFh1dqqtn/7tOva/ZKklpGBevRc7p4o0IAAAAAqDUS4yJd4xUpGabVUUGjRlLHjsZ4wQLJ4TC3HgB1HgEDANQHzz8vJSUZ4/POk0aNqtQ0eYV2PfHjOve0o7srLNDPCwUCAAAAQO3hs42eJfc2SZmZ0tq15tYCoM4jYACAum7rVumFF4xxaKj02mtydSTz0Jv/t1k70/MkSef0aKaT2jfyVpUAAAAAUGu0iQlVRLC/JB8OGCS2SQJQ7QgYAKCue+ABqdDol6AnnpDi4io1zdYD2Xr7r62SpNAAmx49m62RAAAAANRPVqtFCSXbJG09kKOM3EJzCyqrbMAwf755dQCoFwgYAKAu++sv6dtvjXG7dtJdd1VqGqfTqcd/WKdCu7F/5z3DOqhpRJC3qgQAAACAWiexzDZJPtWHoVUrqXlzYzxvnuR0mloOgLqNgAEA6iq7Xbr7bvfxK69IAQGVmuqXNXs0f/NBSVKnpuG6ZlCrqtcHAAAAALVYQrlGzz60TZLF4l7FsGuXlJxsajkA6jYCBgCoqz74QFq50hiffrrR3LkSsguK9czP613Hz4zqJj8b/3wAAAAAqN96xUa62tst96UVDBJ9GADUGN4hAoC66NAh6ZFHjLHVKk2eXOnGzlNmbdK+QwWSpIt6t1TfVtHeqhIAAAAAaq3wIH91aBwuSVq5I0N2hw9tRTRkiHtMHwYA1YiAAQDqov/8R9q/3xjfeKPUvXulptmw95A+WJgsSYoI9teEszp5qUAAAAAAqP0S4yMlGSu/k/ZnmVtMWd26SRERxpgVDACqEQEDANQ1W7ZIU6YY44gI6emnKzWNw+HUo9+tdX0K5/7hHdUwLNBLRQIAAABA7Zfgq42ebTZp8GBjvGGDdOCAufUAqLMIGACgrrn/fqmw0Bg//rjUqFGlpvl2+U4t2240KuvZMkKX9YvzVoUAAAAAUCcklmn0vHy7DzV6lsr3YWCbJADVhIABAOqSOXOk774zxu3bS7ffXqlpMnIL9cJvGyQZrRueHdVdNmvlejgAAAAAQF3VJiZMDYL8JEnLU3wsYKAPA4AaQMAAAHWF3S7dc4/7eOJEKSCgUlO9/PtGpeYYqyDG9o9X95YR3qgQAAAAAOoUq9Xi2iZpy4EcZeQWmlxRGX37SoEl29zShwFANSFgAIC64r33pFWrjPGwYdI551RqmlU7MvT5khRJUkxYgMaf2dFbFQIAAABAnZNYtg/DjgzzCjlcYKDUr58xXr5cys42tx4AdRIBAwDUBZmZ0qOPGmOrVZo0ydjbyEN2h1OPfr9WTqOvsyac1VkRIf5eLBQAAAAA6paEMn0YfKrRsyQNHWp8t9ulRYvMrQVAnUTAAAB1wbPPSgcOGOObb5a6davUNJ8vSdGaXZmSpH6tojU6sYW3KgQAAACAOqlXXKTr810rfK0PQ9lGz3PnmlcHgDqLgAEAarvNm6VXXzXGkZHSU09VapoDWQV6aabR2NlmteiZUd1kqcQqCAAAAACoTxoE+at94zBJ0sqUDDkcTpMrKmPQIGOVu0QfBgDVgoABAGq78eOloiJj/MQTUkxMpaZ5/rd/lZVfLEm6bkhrdWwa7q0KAQAAAKBOK+3DkFVQrKT9PtTrIDxcSkw0xn//LRUUmFsPgDqHgAEAarPZs6UffjDGHTpIt95aqWkWb03VjOW7JElNGwTprtPbe6tCAAAAAKjzyvZhWO6r2yQVFEhLlphbC4A6h4ABAGqr4mLpnnvcx5MmSQEBHk9TZHfosR/Wuo4fP7eLQgP9vFEhAAAAANQLpSsYJB/sw1Da6FlimyQAXkfAAAC11XvvSWvWGOPhw6WRIys1zYcLkrVpn7GEd2iHRjqrW1NvVQgAAAAA9ULbRmEKDzI+qLUiJcPcYg43ZIh7/Ndf5tUBoE4iYACA2igjQ3r0UWNssxmrFyrRkHlPZp4m/7lJkhRgs+qp87rS2BkAAAAAPGS1WtQrNlKSlLQ/W5l5ReYWVFZMjNS1qzFeuNBYDQ8AXkLAAAC10bPPSgcPGuNbbpG6dKnUNM/8vF65hXZJ0s2ntFXrmFBvVQgAAAAA9UrZbZJW7sgwr5AjKd0mKTtbWrnS1FIA1C0EDABQ2yQlSVOnGuOoKOnJJys1zV+bDujXNXslSbHRwbr1lLZeKhAAAAAA6p/EeB/uwzBwoHu8erV5dQCocwgYAKC2GT9eKipZbvvkk1LDhh5PkV9k1xNlGjs/fV43BfnbvFQgAAAAANQ/vVpGusbLfa0PQ3i4e2y3m1cHgDqHgAEAapM//5R+/NEYd+pkbI9UCe/M3ark1FxJ0pldmujUTo29VSEAAAAA1EsRIf5q1zhMkrGCweFwmlwRAFQ/AgYAqC2Ki6V77nEfT5ok+ft7PE1Kaq7emLNZkhTsb9Pj51aufwMAAAAAoLzEuEhJUlZ+sbYezDa3GACoAQQMAFBbTJsmrS3Z1mjECOmsszyewul06okf16qg2CFJuuP0dmoZFeLNKgEAAACg3koo0+h5+fYM8woBgBpCwAAAtUFGhvTYY8bYZjNWL1TCH+v3ac7GA5Kkto1Cdf2QNl4qEAAAAACQWDZg8LVGzwBQDQgYAKA2ePppKTXVGN92m9S5s8dT5BYW66kf17mOnxnVTQF+/DMAAAAAAN7SvnGYwgP9JEkrfK3RMwBUA95ZAgBft2mT9Nprxjg6WnriiUpN89r/Nmt3Zr4k6fxezTWobYy3KgQAAAAASLJaLeoZGylJ2rQ/S4fyi8wtCACqGQEDAPi6++4zGjxL0lNPGSGDhzbvz9K0uVslSeGBfnpkpOcrIAAAAAAAx1fa6NnplFbtyDC1FgCobgQMAODL/vhD+vlnY9y5s3TTTR5P4XQ69fgP61TscEqS7j2zgxo3CPJmlQAAAACAEgnx7j4MbJMEoK4jYAAAX1VcLN17r/t48mTJ39/jaeZs3K+FW4z+DV2aNdCVA+K9VSEAAAAA4DAJJVskSTR6BlD3ETAAgK965x1pXUlT5pEjpeHDPZ7C7nDqxd82uo4fO6eL/Gz81Q8AAAAA1SUyJEBtGoVKMlYwOEpWkwNAXcS7TADgi9LTpccfN8Z+ftKkSZWa5tvlO7VxX5Yk6dSOjTSwbUNvVQgAAAAAOIrEOGObpMy8Im1LzTG5GgCoPgQMAOCLnn1WSjW2NdLtt0sdO3o8RX6RXZNnbZIkWSzSg2d18maFAAAAAICjSChp9CxJy7ezTRKAuouAAQB8TXKy9Prrxjg62r2SwUMfLkzWnsx8SdLohJbq1LSBlwoEAAAAABxL6QoGSVpOo2cAdRgBAwD4mscflwoLjfEjj0hRUce+/ggycgv15pzNkqQAP6vuPbODNysEAAAAABxDhybhCg2wSZJW0OgZtc0XX0i9e0vBwVJMjHTZZdL27Sd27ymnGNsoHOnr++/LX/t//3f0a3v18u6fCdXGz+wCAABlrFolffqpMY6Lk269tVLTvDFnsw7lF0uSrh3USi0ig71VIQAAAADgOGxWi3rGRmrhllRt2pel7IJihQXyNhxqgddfl+64Qxo8WJo8WTp4UJoyRZo7V1q6VGre/PhzxMQY9x6uT58jX3/jjdJJJ5U/Fx3tcekwB3+zAYAveeghyek0xs8+KwUFeTzFzvRcfbTQ+GRBgyA/3XpKO29WCAAAAAA4AYlxUVq4JVUOp7RqR4YGt4sxuyTg2FJTpQkTpMREY3WBX8lbxyNGSP36GTsuvPvu8ecJDZXGjj3x5w4c6Nn18ClskQQAvuJ//5NmzjTGPXpIl19eqWkmzdqkQrtDknTbqe0UEeLvrQoBAAAAACcoMT7SNWabJNQKP/wgZWdLd97pDhckY+XB0KHSV1+5t3Q+HodDOnTI+H4icnOl/HzPa4bpCBgAwBc4HNIDD7iPX3xRstk8nmb97kP6bsUuSVLziCBdPaiVlwoEAAAAAHiiVyyNnlHLLFlifB80qOJrgwZJWVnShg3Hn2fXLiksTIqIMFYzjBwpLVt29Ovvusu4LjhYat1aeuYZqaiocn8G1Di2SALKKC4uVlpamtlloB4K+O47hf3zjySpaMgQZfXtK1Xiv8V3Z69XfKixxdIdJ7dQblamcr1aKQAAAADgRA1qGajdGfk6cPCgUlNTZbFYTKnDPytL4SXjnJwcFfDeR51VXGz0YwzZskVatKj8iy1bSrGxR7951y73dYcrPbdzp7HrwtG0amWEEd27S4GB0ooV0tSpRk+H336TTjvNfa2/v3TOOUYA0bKltHevNH26sRXTggXSL79U6sOXqFkEDEAZWVlZmjdvntlloJ6xFBXptEcfdR0vPP98ZcyfX6m5Tm4gndy95ODARs07sNELFQIAAAAAKmNMrKRYSbJrfiV/z/OGpuvXq3/JOCkpSdt576POysrKkiS1fekl6aWXyr/4xBPSk08e/ebcko8oBgZWfK20R2TucT7G+OGH5Y9Hjzb6KyQmSjffLG3a5H5t8GDpp5/KX3/DDdL110vvvSd9+WWlt49GzSFgAMoIDw/XSYd3rQeqWeC0aQrdu1eSVDBqlLqPG+fxHA6HUw/NWK3N+3MkSY+c3Vm946OOcxcAAAAAoDrNXLtX78zdKkm647R2OrVTY1Pq8D90yDVu37694njvo87aVbIKYcsDD2jgqFHlXzzSyoSyQkKM7wUFxnZFZeXllb/GEx07SpdcYoQPSUlS+/bHvv6xx4yA4ZdfCBhqAQIGoAw/Pz9FR0ebXQbqk6wsaeJEY+znp8CXX1ZgJf4b/GnVbv25NVeSRQPaROuMXm1MW3oLAAAAADD0bGdT8q/bJEkr9hfpwkEmvecQHu4ahoaGKpT3Puosv5LmzLlt20oDB3p2c4sWxvedOyuGAMfaPulEtGplfD9w4PgBQ2yssTXSgQOVexZqFE2eAcBMr7zi/gfzppukdu08nqKw2KFX/nBvhTThrM6ECwAAAADgAzo2CVdIgLGH/PLtGeYWAxxP377G94ULK762cKHRuLlTp8rNnZRkfG/a9PjXbt0q2e0ndi1MR8AAAGbZt8+9eiEszFgCWAlfLEnR9lRjD8SzuzdTz9hILxUIAAAAAKgKP5tVPVpGSJI27D2knIJikysCjuH8840tkKZOlYrL/Le6bJk0d66xzVFAgHFuzx5pw4byPRnS06XCworzLlsmffWV1LWr1KaN+3zJdtHl2O3ShAnG+Lzzqv5nQrVjiyQAMMuzz0o5Rs8EjR8vNWni8RRZ+UWaOtv4FICf1aL7h3f0ZoUAAAAAgCpKiIvS31vT5HBKq3dmamDbhmaXBBxZTIz03HPS3XdLp5wiXXmldPCgNHmy8Z7F00+7r50wQfroI2nOHONaSfrrL2N3hosvNnZoCAyUVq40ei/4+0vTppV/3siRUsOG0pAhxvZM+/ZJX38trVplNIe+8MIa+WOjaggYAMAM27ZJb79tjBs1ku69t1LTTJu3Tak5xqcDLu8fp1Yxod6qEAAAAADgBYlxUa7x8pR0Agb4trvuMoKGiRONoCEkRBo2THr+eXePhqPp2FE6+WRp5kwjLCgokJo3l8aOlR56qGLvhTFjpB9/lN54w1j9EBIidetmvF9y/fUS2z/XCgQMAGCGp56SioqM8cMPl2u4daL2Z+Xr3XlbJUmhATbdefpxmiQBAAAAAGpcQlyka7wiJcO0OoATdsUVxtexfPih8VVW587GVkgn6sEHjS/UavRgAICatn699Mknxjg2Vrr55kpN8+qfScottEuSbhjaRjFhgd6qEAAAAADgJTFhgYqLDpEkrUhJl9PpNLkiAPAeAgYAqGmPPSY5HMb4iSekoCCPp9hyIFvTl+6QZPywesNJbY5zBwAAAADALIklqxhScwq1Iy3P3GIAwIsIGACgJi1dKs2YYYw7dpSuvrpS07zy+0bZHcanXu46o71CA9nxDgAAAAB8VcJhfRgAoK4gYACAmvTww+7xM89Ifp4HA8tT0vXb2r2SpNYxobq0b6y3qgMAAAAAVIOyjZ5XEDAAqEMIGACgpvzvf9KffxrjhATpwgs9nsLpdOqFXze4ju8f3lH+Nv4qBwAAAABf1qlZuIL8jd/dltPoGUAdwrtSAFATnM7yqxeee06yev5X8P827NeS5DRJUq/YSJ3Vram3KgQAAAAAVBN/m1U9WkRKkv7dc0h5hXZzCwIALyFgAICa8NNP0uLFxvikk6Thwz2ewu5w6sWZ7tULE87qJIvF4q0KAQAAAADVKKGk0XOxw6k1uzLNLQYAvISuoPXYG3M2a93uTK3ZlakdaXlqERmsBQ+ddsRrJ8/apFdnJx3xtWsHt9IT53atcP6Hlbs0bd5WJe3LVkiATUPaN9KDIzqqZVRIhWsPZBXopZkbNGfjfh3KL1abmFBdPaiVLusXd8RnejI3YDq7XXrkEffxc89JlQgGvv1npzbty5Yknd6psfq3aeitCgEAAAAA1ezwRs/9WkebWA0AeAcBQz328u8bFRnir27NI3Qor/iE7nnsnC6KDvUvd65do/AK1320MFlP/LhOfeKj9Ng5XZSeU6j3F2zTkm2p+vH2IWrSIMh1bWZekS5+a6H2HsrXuMGtFRsdolnr92nCjDXadyhfd5/RodJzAz7hiy+ktWuN8ciR0pAhHk+RV2jXpFmbJElWi/TAiE7erBAAAAAAUM0SS1YwSDR6BlB3EDDUY3PvP1VxDY1P/J85+S/lFBx//78zuzRRbPSxVwmk5xTqpZkb1K1FA02/cYD8ShrQntyxkc5/Y4Em/bFJL17Uw3X9W39tUXJqrt4am6gR3ZpJki7rF6frP1qqN+Zs1oWJLV3P9HRuwHRFRdITT7iP//OfSk3z4cJk7T2UL0m6MLGlOjatGOwBAAAAAHxX4wZBahEZrF0ZeVqekiGn08m2twBqPXow1GOl4YKnsguKVWR3HPX1Wev3KafQrmsGtXYFAJLUo2Wk+rWK1i9r9qiw2H3/Dyt2KTY62BUulLpuSBsV2Z36afXuSs8NmO6DD6StW43xmDFSr14eT5GeU6g3/2+zJCnQz6p7hnU4zh0AAAAAAF+UGG9sk3Qgq0C7MvJMrgYAqo6AAR4Z+eo8dXvid3V89Ded+9p8/bRqd4VrVu7MkCT1jo+q8Frv+ChlFxRrywFjH/n9WfnanZmvxLiK1ybGR8pikVbtyKjU3IDpCgqkZ581xlar9NRTlZrmjTmblZVvbGN2zeBWah4Z7K0KAQAAAAA1KCE20jVenpJhWh0A4C1skYQT0iDYX5f2jVXv+ChFhQRoe1quPl6UrDu+WKHkgzm64/T2rmv3ZRrbuDSLqNgLofTc3sx8dW7WQPsyCyRJTY9wbaCfTdEhAdpbMp+ncx/N7ow87SkzpyRtT8056vVApb37rrRjhzG+8kqpY0ePp9iZnquPF22XJEUE++vWk9t5s0IAAAAAQA1KLPOByRUp6TqvZ3MTqwGAqiNgwAm5bkjrCueu6B+n816fr1dnJ+mCxBZqGWVsuZRXZPRyCLBVXCAT6Gcrd03p98AjXGtcb3Vd4+ncR/Pl0h16dXZSuXNZK7cc8x7AY3l57n4LNpv02GOVmmbSH5tUWLIl2e2ntlNEiP9x7gAAAAAA+KouzRoowM+qwmIHKxgA1AkEDKi0IH+bbhzaVuO/XqV5SQd1Wb84SVKwv/FGf6HdoSCrrdw9+cX2cteUfi84Sk+H/GKHGvm75/Bk7qMZ0zdWQzs0Knduxueb9Nzvx7wN8Mxbb0l79hjja6+V2rb1eIr1uw/pu5W7JEktIoN15cB4b1YIAAAAAKhhAX5WdW8RoX+2p2v97kzlF9kVdJz3MQDAl9GDAVXSMsrYCz4tp9B1rknJVkWHb0MkybXdUemWSE0iAsudLyu/yK703MJy2yd5MvfRNI8MVu/4qHJf8Q1Dj3kP4JGcHOmFF4yxv7/06KOVmuaFmRvkdBrje4d14IdOAAAAAKgDSvswFNmdWrc709xiAKCKCBhQJckHjd4FjcICXed6toyQJP2zPb3C9f9sT1dogE1tG4VJkhqHB6lZRJCWp1S8dkVKhpxOqUfLyErNDZjmjTek/fuN8Q03SPGerzxYuPmg5m46IEnq1DRcoxJaeLNCAAAAAIBJyvZhWL49w7xCAMALCBhwXMV2h9LLrFAolZlXpDf/b4sCbNZyWw4N69JUwf42fbhwm4rLbH20emeGliSn6ewezRTg5/5P77xezbUjLU8z1+4pN/9787fKz2rRuT2aV3puoMZlZUkvvWSMAwOlhx/2eAqn06mJsza5jh86q5NsVou3KgQAAAAAmCghLtI1XrGj4gcoAaA2oQdDPTZj+U7tSs+TZGxxVFjs0GslzY8bBPvr6kGtJEk5hXYNeH62RnRrqo5NwxUVEqCUtFx9vWyHDmYX6vFzupTblig6NED3D++op39er0vf+VsXJLZQek6h3pu/TTFhgbp3WMdyddx6cjv9tmav7vlyldbsylRsVIhmrd+n2Rv2687T2imuYUil5wZq3NSpUmqqMb75ZqmF5ysP5iUddK3S6dsqSicf1jMEAAAAAFB7NYsIVrOIIO3JzNcKGj0DqOUIGOqxL5fu0OJtaeXOlX5qukVksCtgCPK3alSvFlq1M0NzNuxXbqFdEcH+6hUbqXFDWmtwu5gKc48b0lrRoQGaNm+rnv5pvYIDbBrSLkYPjuhUoUdCRIi/vrl5oF76faOmL9mhrIJitWoYomdHddPYARW3lvFkbqBGZWRIr7xijIODpYce8ngKp9OpKX+6Vy/cc0YHWSysXgAAAACAuiQhLlJ71uzVnsx87cnMU7OIYLNLAoBKIWCox768aeAJXRfoZ9OLF/XweP5RCS1OeN/4xg2C9MrFPatlbqDGTJ5shAySdPvtUtOmHk8xL+mglpd8gqVfq2gNbNvQe/UBAAAAAHxCYlyUfl2zV5LRg7JZdwIGALUTm9UDgDekphoBgySFhkr33+/xFIevXrh7WHtWLwAAAABAHVSuD0MKfRgA1F4EDADgDRMnGg2eJemuu6RGnvdNmFt29ULraA1sw+oFAAAAAKiLujaPkL/N+EDZcvowAKjFCBgAoKoOHjSaO0tSgwbSffd5PEWF1QtnsHoBAAAAAOqqIH+bujSPkCSt2ZWpwmKHyRUBQOUQMABAVX33nZSTY4xvv12KjvZ4irlJB7WC1QsAAAAAUG8kxEZKkgqLHVq/55C5xQBAJREwAEBVZWe7x0OHenz74asX7jmjA6sXAAAAAKCOS4yPco3pwwCgtiJgAABvstk8vuWvTQdcqxf6t47WwLasXgAAAACAuq50BYNEHwYAtRcBAwCYyFi9kOQ6vvuMDiZWAwAAAACoKS2jgtUoPFASKxgA1F4EDABgor82HdDKHRmSWL0AAAAAAPWJxWJxrWLYmZ6n/Vn55hYEAJXgZ3YBOLLCwkLNnj1bc+bM0bp167R//35ZLBY1atRI3bp108knn6wzzjhDAQEBZpcKoJJYvQAAAAAA9VtCXJT+WL9PkrQiJUPDuzY1uSIA8AwBg4/Zv3+/Jk6cqA8++ECpqalyOp3y8/NTdHS0nE6nVq5cqd9++02vvPKKoqOjNW7cON17771q0qSJ2aUD8FDZ1QsD2rB6AQAAAADqm8S4SNeYgAFAbcQWST7k+eefV/v27fXmm29qxIgR+vzzz5WcnKzCwkLt3btX+/btU2FhobZt26bPP/9cI0aM0Jtvvqn27dvr+eefN7t8AB5wOp16/X+bXcd3nc7qBQAAAACob7q3jJDNapEkLacPA4BaiBUMPmTq1Kl68skndeONNyo0NPSo18XHxys+Pl5jxoxRbm6u3n77bb388suaMGFCDVYLoCoWb0vTsu3GD4994qM0oE20yRUBAAAAAGpaSICfOjcL19pdh7R6Z4aK7Q752fg8MIDag7+xfMjWrVt1zz33HDNcOFxISIjuuecebdmypRorA+Btb8xxr1647bR2slgsJlYDAAAAADBLQmyUJCm/yKENe7NMrgYAPEPA4EOCg4NNuRdAzVq1I0Pzkg5Kkrq1aKBTOjQyuSIAAAAAgFkSyvVhYJskALULAYMPs9ls+vzzz4/6+pdffimbzVaDFQHwhtfLrl44hdULAAAAAFCfJcZFucYrUjLMKwQAKoGAwYc5nc4qvQ7A92zYe0iz1u+TJLVrHKbhXZuaXBEAAAAAwEzxDUMUHRogiUbPAGofAgYfd6xPNm/cuFERERE1WA2Aqnpzjrtfym2ntpXVyuoFAAAAAKjPLBaLEmIjJUnJqblKyyk0tyAA8ICf2QWgvI8++kgfffSR6/jZZ5/VtGnTKlyXnp6uNWvW6LzzzqvJ8gBUQfLBHP28erckKS46ROf2aG5yRQAAAAAAX5AQF6nZG/ZLklbuSNdpnZqYXBEAnBgCBh+TkZGhbdu2STIS7AMHDig3N7fcNRaLRWFhYbr22mv17LPPmlEmgEr47/9tkaNkZ7ObT24rPxuLyAAAAAAA5fswLN+eQcAAoNYgYPAhhw4d0m233aa77rpLkmS1WjVlyhRdfvnlJlcGoKp2Z+RpxoqdkqSmDYJ0Ye8WJlcEAAAAAPAVPWIjZbFITqe0Ygd9GADUHnx81odERUXpq6++ch1fffXVat26tYkVAfCWd+ZuVZHdWL5ww9A2CvSzmVwRAAAAAMBXhAX6qWOTcEnSypQM2UuXvwOAjyNg8CE2m012u911/PHHH7u2SwJQex3IKtAXS1IkSdGhAbqsX6zJFQEAAAAAfE1CyTZJOYV2Je3PMrkaADgxBAw+JD4+XnPnznUdO51OWSwWEysC4A3vzt+qgmKHJOm6Ia0VEsDudAAAAACA8hLiIl3jFSkZptUBAJ4gYPAh1157rd577z1FR0erTZs2kqS7775bbdq0OepX27ZtTa4agDZscI8DA8u9lJlbpE8XbZckhQf56cqB8TVZGQAAAACglkgsFzDQhwFA7cDHaH3Iww8/rJYtW+r333/X3r17tX37djVs2FBNmjQxuzQAR7N/v/Txx8a4SROpb99yL3+6eLtyCo2tz64e2EoNgvxrukIAAAAAQC3QJiZMDYL8dCi/WMtZwQCgliBg8DFXXXWVrrrqKkmS1WrVo48+qssvv9zkqgAc1RtvSPn5xvjOO6WgINdL+UV2fbDA6KMS6GfVNYNbmVAgAAAAAKA2sFot6hUXpbmbDmjz/mxl5hUpIpgPqQHwbWyR5MPmzJmjYcOGmV0GgKPJzTUCBkkKDZVuuaXcyzOW79LB7EJJ0sV9WiomLPDwGQAAAAAAcEmIjXSNV+3IMK0OADhRBAw+7OSTT1ajRo3MLgPA0Xz4oZSaaoyvv16KinK9ZHc4NW3eVkmS1SJdP6SNCQUCAAAAAGqTxHj375XL6cMAoBYgYPAhY8eOVVJSksf3JSUlaezYsdVQEYCjstulSZOMsc0m3X13uZdnrd+rbQdzJElndWumVjGhNVwgAAAAAKC26dUy0jVeQR8GALUAAYMP2bJli7p27arzzz9f3377rbKzs496bXZ2tr755hudf/756tq1q7Zt21aDlQLQd99JW7YY44svllq1cr3kdDr137+2uo5vHMrqBQAAAADA8UWE+KttI+MDait3ZMjhcJpcEQAcG02efciiRYv0xRdf6JlnntHFF18sq9Wqzp07q23btoqOjpbT6VR6ero2b96sDRs2yOFwqEuXLvrkk080ZswYs8sH6g+nU3r5Zffx+PHlXl6yLc21V+bANg3Vs8wemgAAAAAAHEtCXJS2HMhRZl6Rth7MUbvGYWaXBABHRcDgYy677DJddtllmjNnjr766ivNnTtXP//8sxwOhyS5QodbbrlFF198sYYOHWpyxUA9NH++tGSJMT71VKl373Ivvz3XvXrhppNZvQAAAAAAOHGJcVH65p+dkqQVKekEDAB8GgGDjzr11FN16qmnSpIcDodSU1NlsVjUsGFDWSwWk6sD6rmyqxfuv7/cSxv3Zul/G/ZLkjo1DdfJHWjUDgAAAAA4cQlxka7xih0ZurhPrHnFAMBxEDDUAlarVY0a8SYl4BM2bJB++skYd+smjRhR7uV3Dlu9QCAIAAAAAPBEhybhCg2wKafQTqNnAD6PJs8A4ImJE93j++6TygQIezLz9MPKXZKk5hFBOqdH85quDgAAAABQy9msFlcvv417Dym7oNjcggDgGAgYAOBE7d0rffyxMW7eXLr88nIvvz9/m4odTknSdSe1kb+Nv2IBAAAAAJ4r3SbJ4ZRW78wwtRYAOBbe/QKAE/Xaa1JhoTG+6y4pIMD1UmZekT5fnCJJigj216V92SMTAAAAAFA5CbFRrjHbJAHwZfRgAIATkZ0t/fe/xjg8XLrppnIvf7Z4u3IK7ZKkKwfEKzSQv14BAAAAAJVTrtFzSrp5hQC13KZNm7R582alpqbK6XRWeP2qq64yoaq6hXfAAOBEvP++lF7yQ90NN0gREa6XCort+mBBsiQpwM+qqwe1qvn6AAAAAAB1RsOwQMU3DNH21FytSMmQ0+mUpUwPQADHtm/fPl199dWaNWuWJB0xXLBYLAQMXkDAAADHU1wsTZ5sjP38pLvvLvfyn+v360BWgSTpwsSWahQeWMMFAgAAAADqmoTYSG1PzVVqTqF2pOUprmGI2SUBtcbtt9+uWbNm6ZZbbtFpp52mhg0bml1SnUXAUAvMnTtXf/zxh/bt26f77rtPnTp1UnZ2tpYvX64ePXooMjLS7BKBuu3bb6XkZGN86aVSbPn+Cnsy81zjMzo3rsHCAAAAAAB1VUJclL5fuVuStGJHOgED4IFZs2bppptu0uuvv252KXUeTZ59mN1u15gxY3Tqqafqueee0/vvv6/du41/WPz8/DRq1Ci9+eabJlcJ1HFOp/Tyy+7j8eOPeXmgn62aCwIAAAAA1AeJce5Gz8u304cB8ITD4VBCQoLZZdQLBAw+7MUXX9S3336rSZMm6d9//y23V1hQUJAuuOAC/frrryZWCNQD//d/0j//GONhw6SePU0tBwAAAABQP3RqFq5AP+OtuxU7MswtBqhlBg0apJUrV5pdRr1AwODDPv74Y1111VW66667FBMTU+H1zp07a8uWLSZUBtQjZVcv3H+/eXUAAAAAAOoVf5tVPVpGSJLW7z6k/CK7yRUBtcekSZM0Y8YMffvtt2aXUufRg8GHJScn67777jvq65GRkUpPZ4kcUG3WrpV++80Y9+wpnXGGufUAAAAAAOqVxLgoLU1OV7HDqTW7MtW3VbTZJQE+6bTTTqtwLjw8XJdccomaN2+uNm3ayGYrv621xWLR7Nmza6rEOouAwYeFh4crLS3tqK8nJSWpUaNGNVgRUM9MnOgejx8vWSzm1QIAAAAAqHcS4iJd4xUp6QQMwFFs3bpVliO8bxMXFydJSklJqemS6g0CBh82ZMgQffrpp3rggQcqvJaamqr3339fZ511lgmVAfXArl3SZ58Z49hYacwYc+sBAAAAANQ7CWUaPa9IyTCvEMDHJScnm11CvUUPBh/2yCOPKCkpSaeddpp++OEHSdLy5cv1xhtvKDExUbm5uXrooYdMrhKoo157TSoqMsZ33y35+5taDgD8P3v3HR9Vnf1//D3plRQSWgIhdBDpvQqiWFDBBoIIIrZddVlddfWra9lVdv2tq65gwwKKIjbWXhEEAaWjSA8kQAgllZBe7u+Pm0wSk5A2yZ2ZvJ6PRx453PnMZw54pcyZzzkAAABoflq38FO7ED9J0tbDaTIMw+KMAKAiCgxObNCgQfroo4+0e/duzZ07V5J0//33684771ReXp5WrFihXr16WZwl4IYyM6WXXjLjFi2kkv//AAAAAABoav1jzFMMJ07nKSkj1+JsANewbds2LVy4sNrHFy5cqO3btzddQm6MFklO7pJLLlFCQoK+/fZb7d69W4ZhqFu3bpo4caL8/f2tTg9wT4sWSRkZZnzbbWaRAQAAAAAAC/RvH6rPf0mSZLZJahfK+0FATR577DHl5+frj3/8Y5WPf/nll1q5cqU++uijJs7M/VBgcAG+vr6aNGmSJk2aZHUqgPsrKJCefdaMvb2lu+6yNB0AAAAAQPNWcQ5Dmi7t09bCbADXsGnTJt11lvd0xo4dq+eee64JM3JftEgCgPLee086csSMp0+XoqKszQcAAAAA0Kz1jmohH0/zLbyth9MszgZwDcnJyQoPD6/28dDQUCUnJzdhRu6LEwxOpFOnTnV+js1mU1xcXCNkAzRDhiH9v/9X9uO//MW6XAAAAAAAkOTr5ale7Vpo+5F07Tx2WnmFRfL18rQ6LcCptWrVSrt27ar28Z07d561AIHa4wSDE+nQoYNiYmIqfHl6eio+Pl4pKSkKCQlRSEiIUlJSFB8fL09PT3Xo0MHqtAH38d130o4dZnzxxVLv3tbmAwAAAACApP4dQiVJ+YXF2p2UaW0ygAuYMGGCFi1apD179lR6bNeuXXrttdc0YcIECzJzP5xgcCKrV6+u8ONt27bp/PPP17///W/dcccd8vHxkSTl5+frv//9r+bPn6/333/fgkwBN/Xvf5fF995rXR4AAAAAAJQzoEOY3lgXL0nampCmfu1DLc0HcHYPPfSQPvroIw0YMEA33nij+vTpI0navn27lixZIh8fHz388MMWZ+keKDA4sXvvvVdXXnml7r777grXfXx89Je//EW7d+/Wvffeq2+//daiDAE3smOH9M03ZjxggHTeeZamAwAAAABAqdITDJK07Ui6ZXkArqJz585auXKlZs+erRdffLHCY+ecc47eeOMNde3a1aLs3AsFBif2888/65prrqn28cGDB3OCAXCU359esNmsywUAAAAAgHKiQv0VGeyrU5l52sagZ6BWBg0apJ07d2r79u3av3+/DMNQ9+7d1bdvX6tTcysUGJyYl5eXdpT2g6/Cjh075OXFf0KgwY4ckd5914xjYqSrr7Y2HwAAAAAAyrHZbOrfPlTf7Dqho2k5OpmZq1bBflanBbiEfv36qV+/flan4bYY8uzELrroIi1atEiLFi1ScXGx/XpxcbFeeeUVvfrqq7r44ostzBBwE889JxUWmvGf/yxRuAMAAAAAOJkBMWH2eNvhdOsSAYByKDA4saefflrt27fXbbfdpjZt2mjkyJEaNWqU2rRpo9tvv10dOnTQv8u3dQFQdxkZ0iuvmHFYmHTTTdbmAwAAAABAFfqXG+xMgQGo2bp16zRp0iRFRkbKy8tLnp6eFb7oDOMYFBicWLt27bRt2zbdf//9atWqlbZu3aotW7aoVatWeuCBB7R161a1bdvW6jQB1/byy1JmphnffrsUFGRtPgAAAAAAVOHc6BB5epjzApnDAJzdmjVrNG7cOP38888aOnSoiouLNW7cOA0ePFiGYah3796aOXOm1Wm6Bco0Ti4kJERPPvmknnzySatTAdxPfr7ZHkmSfHykO++0Nh8AAAAAAKoR4OOlnm2DtTPxtH45mqHComJ5efLZYaAqTzzxhNq2bavNmzfLZrOpVatWevDBBzV+/Hh98803uvrqq/XCCy9YnaZb4HchAM3XsmXSsWNmPHOm1KZNvbbZdey0PQ709XREZgAAAAAAVNK/vTmHIaegSHuOZ1qcDeC8Nm7cqLlz5yoyMlIeHuZb4KUzbi+88ELNnDlTDz/8sJUpug1OMDixN998s1brbrjhhkbOBHBDhiGVn2Fyzz312iYjp0Bf7EySJEWF+qtPdKgDkgMAAAAAoLL+HUL11k8JkqRtR9LVOyrE4owA55SXl6eoqChJkq+vryQpM7OsKNevXz8tXbrUktzcDQUGJzZ79mzZbDYZhlHhus1mq/BjCgxAPXz9tbRzpxlfdpnUs2e9tvlkxzHlFpgV8KsHRtv7YQIAAAAA4GgDOoTZ420JaZo5LMbCbADn1bZtWyUlmR8IDQwMVGhoqHbu3KkpU6ZIko4ePcqQZwfhV9GJrVq1qtK1wsJCxcXF6YUXXlBAQICeeOIJCzID3MD/+39l8V/+Uu9tlm86LEmy2aRrBkU3NCsAAAAAAKoV0zJAYQHeSssu0LYj6VanAzitwYMH68cff7T/+MILL9QzzzyjmJgYFRcXa8GCBRo6dKiFGboPCgxObOzYsVVeP//88zVr1iwNGTJEW7du1bhx45o4M8DFbd0qff+9GQ8ZIo0eXa9tdiZmaGeiOX9hdNdIRYcFOCpDAAAAAAAqsdls6t8hTN/vOalDyVlKy8pXWKCP1WkBTuemm27S4sWLlZOTI39/fz355JNas2aNZs+eLUlq06aNnnrqKWuTdBMMeXZRvr6+uv7665l2DtRH+dML995rHj+oh/c2H7HH0wa3b2hWAAAAAADUqH/7UHu8nVMMQJUuuOACvf322/L395ckderUSfv27dP//vc/ffrpp9q9e7d69+5tcZbugRMMLszX11eJiYlWpwG4lvh46f33zbhTJ6mk915d5RYUacU28/+/8EAfTejZ2kEJAgAAAABQvQExZXMYth5O07gerSzMBnAdQUFBuvzyy61Ow+1QYHBRSUlJeumllxQbG2t1KoBrefZZqajIjO++W/L0rNc2X+5MUmZuoSTpyv5R8vHiQBgAAAAAoPH1iQ6RzSYZhrTtcLrV6QBOY/z48XVab7PZtHLlykbKpvmgwODEqvufIjU1VXv27FF+fr6WLFnSxFkBLiwtTXr1VTNu2VK68cZ6b/XuxrL2SFNpjwQAAAAAaCLBft7q1ipYe09kavuRdBUVG/L0qF/rX8CdrF69Wt7e3vLxqd1cEls9W2ajIgoMTuzgwYOVbnSbzabw8HBdeeWVuuOOOzRixAiLsgNc0EsvSVlZZvzHP0oB9RvKfCg5Sz8fSpUkDYwJU9fWwY7KEAAAAACAGg2ICdXeE5k6k1eoAyfPqHsb/l0KeHl5yTAMTZgwQTfeeKMmTZokDw86TjQ2CgxOLD4+3uoUAPeRlyf9979m7OdnFhjqqfxwZ04vAAAAAACaWv/2YVpWcrJ+2+E0CgyApMTERL355ptavHixpkyZolatWumGG27QnDlz1L17d6vTc1uUcJzYmjVrdOrUqWofT05O1po1a5owI8CFLV0qHT9uxrNmSa3qNwSroKhYH2w5KkkK9PHUpee2dVSGAAAAAADUSv8OofaYOQyAKTIyUvfcc49+/fVXbdiwQVdccYVeeeUV9erVS8OHD9err76qzMxMq9N0OxQYnNi4ceP07bffVvv4ypUrNW7cuCbMCHBRxcXSv/9txjabOdy5nlbtOalTmXmSpMv7tVOgLwfBAAAAAABNq3NkkIL9zH+Pbj2cZnE2gPMZMmSIXnrpJSUlJenNN99UYGCgbr31VrVr105Lly61Oj23wjtjTswwjLM+XlBQQB8xoDa++ELas8eMr7hC6tat3lst31S+PVKHhmYGAAAAAECdeXjY1K99qNbuT9b+k2eUkVOgEH9vq9MCnI6fn59mzJihjh07ysPDQ999950OHjxodVpuhXennVx108wzMjL05ZdfqlU927wAzcr/+39l8b331nub4xm5WrX3pCSpR5tg9Y0OaWhmAAAAAADUS/8OYfb4l6Pp1iUCOKljx47pn//8p3r06KExY8Zoz549evDBB3XjjTdanZpbocDgZB577DF5enrK09NTNptN119/vf3H5b/Cw8P17rvvatq0aVanDDi3TZuk0lklI0aYX/X04dajKi45WHTtoPbVFgABAAAAAGhszGEAKisoKNAHH3ygSy+9VDExMXrsscfUr18/ffHFF0pISNA//vEPtW/f3uo03QotkpxMv379dMMNN8gwDL355psaPXq0OnXqVGGNzWZTUFCQhg4dquuuu86iTAEX8fzzZfFf/lLvbYqLDXt7JB9PD03pH9XQzAAAAAAAqLf+7UPtMXMYAOmuu+7SO++8o7S0NPXv31/PPvuspk+frrCwsJqfjHqjwOBkrrjiCl1xxRWSpB9++EH33HOPLr/8couzAlzUyZPS8uVm3KGD1ID/l346mKLDqdmSpIm92ygs0McRGQIAAAAAUC+hAT7qFBmog6eytO1wugzD4KQ9mrUFCxbI399f1113nfr06aOsrCwtWrSo2vU2m033NqCVNkwUGJzYoUOHrE4BcG2vvirl55vxH/4geXrWe6vlm8uGO08bzFE6AAAAAID1+rcP08FTWcrIKdCh5Cx1igyyOiXAUjk5OXrnnXf0zjvv1LiWAoNjUGAA4J4KC6UXXzRjX1/pppvqvVV6dr6+3HlcktQ+3F/DO7V0RIYAAAAAADTIgJhQfbj1qCRp6+F0Cgxo1latWmV1Cs0SBQYnEhsbKw8PD+3Zs0fe3t6VZi9UxWazKS4urgmyA1zMxx9LR82/ZGn6dCkiot5b/W9bovILiyVJ1w5sLw8PjpwCAAAAAKzXv31Zb/lth9N09cBoC7MBrDV27FirU2iWKDA4kZiYGNlsNnu/vA4dOtA7D6ivBQvK4jvuqPc2hmHo3ZLhzh426epB/GUNAAAAAOAcurUOUoCPp7Lzi7TtcLrV6QBohigwOJHVq1ef9ccAaunXX6XS/3+GD5cGDKj/VokZ2nM8U5J0XvdWahvi74AEAQAAAABoOC9PD/WJDtFPB1O15/hpZeUVKtCXt/sANB0PqxNA9Q4fPqycnJxqH8/JydHhw4ebMCPARSxcWBY34PSCJPvpBUmaynBnAAAAAICTGdDBbJNUbEi/HM2wOBsAzQ0FBicWGxurFStWVPv4J598otjY2CbMCHAB6enSW2+ZcevW0tVX13ur7PxCfbL9mCQpIshX43u0ckCCAAAAAAA4Tv8OZXMYth5OszATuI1ly6SBAyV/f3Om5XXXSQkJtXvueedJNlvVX//7X+X1+fnS449LnTtLvr5STIx0//1SdrYjf0ZoRJyZcmKGYZz18aKiImY0AL+3eHHZH0K33ir5+NR7q89/SdKZvEJJ0lUDo+TtSU0WAAAAAOBc+ncItcfbj6RblgfcxIIF0p13SiNHSs88IyUnS88+K61ZI23aJLVrV/MeERHmc39v0KDK16ZPlz78UJo5UxozRtqxQ3r6aWnzZunbbyUP3otxdhQYnNzZCgg//fSTwsPDmzAbwMkVF5e1R/LyMgsMDbC8fHukQbRHAgAAAAA4n4ggX3UID9Dh1GxtO5wmwzD4QCrqJyVFeuABc5bl6tXmeyuSdNFF0pAh0t/+Jr36as37BAZK119f87qvvzaLC3feKf33v2XXO3aU/vIX6Z13arcPLEUJyMk899xz6tSpkzp16iRJmjdvnv3H5b/Cw8O1cOFCXXrppRZnDDiRr7+WDhww46uuql1VvRoHTp7R5gTzaOmQ2HB1igxyRIYAAAAAADhc6SmG5DP5OppW/TxP4Kw+/lg6c0a6666y4oJknjwYM0Z67z2zpVFtFBdLp0+b36vz9tvm93vuqXj9D38w2zMtXVq3/GEJTjA4mdDQUMXExEiSEhIS1LJlS7Vu3brCGpvNpqCgIA0dOlTz5s2zIEvASS1YUBY3cLjze5vLTi9MY7gzAAAAAMCJ9W8fqo9LZghuPZym9uEBFmcEl7Rxo/l9xIjKj40YIf3wg7Rnj9Snz9n3SUyUgoKknBzJz08aN86cs/D7FkkbN5ofDi15L9TO31/q168sHzg1CgxOZtasWZo1a5YkycPDQw899JCmT59ucVbNR2FhoVJTU61OA/XgcfCgQr78UjZJhb1763TPnlI9/1sWFBXr590J6hhkKMDHU8Oj/LgvAAAAAABOq2e4hzoGmbM89yYkKbWDf4XHvTMzFVwSZ2VlKY9/47qtwkJzlmRAXJy0YUPFB6OjpfZn+RBlYmLZut8rvXb06NkLDB07msWIc881hzZv22a2Pxo5UvryS2n8+Iqv16tX1ftER5v5Z2dLARTMnBkFBidWfLYjRGgUmZmZWrt2rdVpoB7Oef11hZYMRv917Fgd/vHHBu03p0tpVKSNP61rWHIAAAAAADSyP59bGiVq7drECo+12bVLQ0vi/fv3K4H3PtxWZmamJKnzU09JTz1V8cFHHpEefbT6J2dnm999fSs/5udXcU11Fi+u+OMrrzTnKAwYIN12m7RvX8XXq+q1fv96FBicGgUGoJzg4GCNHj3a6jRQV1lZCr3hBklScWioYv76V8U04A+ff3y+S1sT0iVJ/76mD/MXAAAAAABO78GPftWe45ny9JDenjtMPl5lo1e9T5+2x127dlUH3vtwW4klpxDi7rtPwydPrvhgVScTyit9LyUvz2xTVF5OTsU1ddG9u3TttWbxYf9+qWvXsr3y8qp+TkNeD02KAoMTGV/+iFAt2Ww2rVy5shGyaZ68vLwUHh5udRqoqw8+MAcHSfKYO1fhNf2BeRbH0nO0YleGDMOmc9q10KDuHRyVJQAAAAAAjaZ920h9deCMJCkxx0MDY8q9vxEcbA8DAwMVyHsfbsurZDhzdufO0vDhdXtyVJT5/ejRsiJAqbO1T6qNjh3N76dOle0dFWW+VlUSE6WwMAoMLoACgxM5ePCgbDab1WkArsUwpOefN2ObTbr99gZt9/7moyrptKSpDHcGAAAAALiI/h3CJB2SJG07nF6xwADUxuDB0ssvS+vXVy4wrF9vDm7u0aN+e+/fb35v06bi6y1dKiUkVBz0nJMjbd8ucdLGJVBgcCLx8fFWpwC4njVrpJ07zXjSJKlTp3pvVVxs6L3NRyRJvl4euqJvlCMyBAAAAACg0fXvEGqPtx5Osy4RuK4rrpDuusscyjxjhlRyGkKbN5vvv9x4o+TjY15LSpIyMqQOHcpOGaSlSYGBZWtKbd4svfeedM45Fd+3mT7dLDA8/bT5mqVefNEsMlx/feP9XOEwFBhcXFZWlgIDA61OA7DOggVl8R13NGirdXHJSkw3e/xdcm5bhQR4N2g/AAAAAACaStsQf7UN8VNSRq62HU63Oh24oogI6cknpXnzpPPOk2bOlJKTpWeekVq3lh5/vGztAw9IS5ZIq1aZayXphx+kW2+VrrlG6tLFHOC8fbs5e8HbW1q0qOLrXXyxNHmy2ZkiI0MaM0basUN64QVzzxkzmuAnjYaiwOCi1q9fr9dee00ffPCBMjIyrE4HsMaRI9KKFWbcrZs0YUKDtnt30xF7THskAAAAAICr6d8hVEm/HldSRq6SMnLUNsS/5icB5f3pT2ah4emnzUJDQIB0wQXS/PllMxqq0727NHas9NVX0okT5gDndu3Mkwh//WvltkuS9O675t5vvmnGrVtLd98tPfKI5OFReT2cDgUGF3Ly5EktWbJEr7/+uvbt2yfDMNSnTx+r0wKs8/LLUlGRGf/xjw36gyc1K1/f/HZcktSxZYCGxtKrEgAAAADgWvq3D9MXv5r/tt1+OF1tz6XAgHqYMaPm0wOLF5tf5fXsabZCqgtfX+nRR80vuCTKQE6uuLhYn332maZMmaL27dvrr3/9q3x8fDR//nzt379f27dvtzpFwBp5edIrr5hxUJA0e3aDtvto61EVFJnTna8d3J6B6wAAAAAAl8McBgBNjRMMTmr//v16/fXX9eabbyopKUlt27bVddddp7feekuPPPKIrrzySqtTBKz1/vvSqVNmfMMNUosW9d7KMAwtL2mP5Olh09UDoh2RIQAAAAAATap3VIi8PGwqLDaYwwCgSXCCwcm8+eabGjt2rLp3765nn31Wo0aN0ueff64jR47o4YcflmEYVqcIOIeFC8viP/6xQVttO5Ku/SfPSJLG92ilVi38GrQfAAAAAABW8PP21DntzA/g/ZqYofzCYoszAuDuOMHgZGbPnq0uXbroxRdf1LRp0xQSEmJ1SoDz2b5d+uknMx43TurVq0HbLd9YNtx5GsOdAQAAAAAurH+HMO04mqG8wmLtOX5afaJDrU4JgBvjBIOT8fPzU1xcnJYvX65PPvlE2dnZVqcEOJ+XXy6Lb7utQVudySvUp78ckyS1CvbV2G6RDdoPAAAAAAArVZjDkMAcBgCNiwKDkzl+/LgWLFigzMxMzZo1S23atNGcOXO0Zs0a2iMBkpSZKS1dasatWkmTJzdou892HFN2fpEk6ZpB0fLy5LdFAAAAAIDr6t8+zB5vO5JuXSIAmgXeSXMyLVq00O23365NmzZp+/btmj17tj755BONGzdOo0aNks1mU1oa1Wc0Y8uWSWfMeQmaM0fy8WnQdss3l7VHunYQ7ZEAAAAAAK6tfbi/IoLMfysz6BlAY6PA4MT69Omj//73vzp27JjefvttnXvuuZKkW265Reeee64ef/xx/fbbbxZnCTQhw5BeesmMbTbp5psbtN3e45n2v2yN6NxSMS0DG5ggAAAAAADWstls6ldyiuFwaraSz+RZnBEAd0aBwQX4+Pho2rRp+vbbb3Xw4EE99NBDyszM1KOPPqq+fftanR7QdDZvlrZtM+MLL5Q6dWrQdss3lZ1emMpwZwAAAACAmyg/h4FTDAAaEwUGFxMTE6PHHntMhw4d0pdffqmrrrrK6pSAplN6ekFq8HDnvMIifbTtqCQpxN9bE89p06D9AAAAAABwFhULDLTaBtB4vKxOAPVjs9k0ceJETZw40epUgKaRni69+64Zt2snTZrUoO2+3XVC6dkFkqQp/aPk5+3ZwAQBAAAAAHAOfaND5WGTio2SEwytrM4IgLviBAMA17B0qZSdbcZz50peDauP0h4JAAAAAOCuAn291L1NC0nSjqPpKio2LM4IgLuiwADA+RmG9PLLZuzhYRYYGuBIarbW7k+WJPWNDlHPti0amiEAAAAAAE6ltE1Sdn6RjqXnWJsMALdFgQGA81u/Xtq504wvvVRq37ATB+9vLju9cC2nFwAAAAAAbqh/+1B7fDD5jHWJAHBrFBgAOD8HDncuKjb0/hZzuLO/t6cu79uuQfsBAAAAAOCM+ncIs8cHT2VZmAkAd0aBAYBzS0mR3n/fjGNipAYONl+z/5SSMnIlSZf2aatgP++GZggAAAAAgNPpFBGoEH/z37wHkykwAGgcFBgAOLclS6S8PDO++WbJ07NB2y3fWNYeaRrtkQAAAAAAbsrDw6Z+JW2STpR80A4AHI0CAwDnVX64s5eXNGdOg7Y7lZmn73afkCR1igzUwJiwGp4BAAAAAIDrKh30DACNhQIDAOe1erW0b58ZX3GF1LZtg7b7aOtRFRYbkszTCzabrYEJAgAAAADgvMrPYQCAxkCBAYDzcuBwZ8MwtHyz2R7Jy8OmKwdEN2g/AAAAAACcXb/oUKtTAODmKDAAcE4nTkgrVphxly7S+PEN2m5zQpoOnjKHWl3Qq7UignwbmiEAAAAAAE4tJMBbXVoFWZ0GADfmZXUCsM7CVQf027EM/ZqYoSOpOYoK9de6v1b/Ju6pzDw99dUerdp7UqdzC9UpIlCzRnTUdUM6VLn+4+2JWrT2oPafOKMAH0+N6hqp+y/qruiwgCbdGy7qjTekggIzvuUWyaNh9dB3yw13nspwZwAAAABAM9G/fagyrE4CgNuiwNCM/b+v9yo0wFu924XodE7hWddm5BTompfW6/jpXM0ZGav24QH6dtcJPfDRrzpxOlfzJnSrsH7J+ng98slvGhQTpocn9VJaVr5eX3dIGw+l6JM7Rql1C78m2RsuqrhYeuUVM/bxkWbPbtB2p3ML9PmvxyRJ7UL8NLprZAMTBAAAAADANfTvEKbVVicBwG1RYGjG1tw7Th1amp/4v/CZH5SVV1Tt2pd+iFN8SrZeun6ALuptDtq9bkgHzV2ySQtXHdBVA6LVPtzcKy0rX099tUe9o1ro3VuGycvT/OT52O6RumLhOv3nm33619V9mmRvuKhvv5UOHTLjq66SIhtWEPh0xzHlFhRLkq4e1F6eHgx3BgAAAAA0D/07hFJgANBomMHQjJUWF2rj422Jah/uby8AlLppVCcVFBn69Jdj9mvf7jqhrPwizR4Ray8ASFKf6FAN6Riuz39NUn5hcZPsDRflwOHOkrR8k9keyWaTrhnIcGcAAAAAQPPRrXWwfL14CxBA4+B3F9ToZGaujmXkakCHsEqPDYgJlc0m7TiSbr+2/agZD4ypvH5gTJjO5BUq7tSZRt8bLioxUfr0UzPu2VMaPbpB2+06dlq/HDW7TY7qEmE/DQMAAAAAQHPg6WFTbESg/ce5BdV3sACAuqJFEmp0IiNPktQmpPJsA18vT4UH+Oh4Rm659Wbctor1pdeOZ+SqZ9sWjbp3dY6l5yip3J6SlJCSVe16NLHXXpOKSv6yc+ut5rGDBvh4e6I9vnYQw50BAAAAAM1PbGRZgeFoWo66WJgLAPdCgQE1yimpbPt6Vn3gxdfLw76m/HqfKtb7enlWWNOYe1dn+aYjem7l/grXMrfHnfU5aCJFRdKrr5qxn590ww0N2q642NBnvyRJkgJ9PHVBr9YNzRAAAAAAAJfTKSLIHsenZFFgAOAwFBhQI39v8437vKKqZxvkFhYrsmRN+fX5RcXy8/D83dqiCmsac+/qTB3cXmO6VRwa/NE7+/Tk12d9GprCN99IR8x5CZo6VQqr3AqrLrYeTlNieo4k6cJz2sivhnsDAAAAAAB31LV1WYEh7uQZTbAwFwDuhQIDatQ6xFeSKrQqKpVbUKS07HwN7hhWbr3ZqigpI7dCj7/ye5S2RGrMvavTLtRf7UL9K1zb0jKwmtVoUqWnFyRp7twGb/fJjrIB4Zf1bXuWlQAAAAAAuK8An7K3AA+nZis7v7DCNQCoL4Y8o0atgv3UNsRPWw+nVXps2+F0GYbUJzrUfq1vdIgkaUtC5fVbEtIU6OOpzpFBjb43XMzJk9Inn5hx9+7SyJEN2q6wqFhf/Gq2RwoN8NaoLpE1PAMAAAAAAPdXVGxo46FUq9MA4CYoMKBWLu/XTkdSc/TVzqQK11/78aC8PGy6rE87+7ULerWRv7enFq8/pMJyrY9+OZqujfGpurRPW/l4eTTJ3nAhb70lFRaa8Zw5DR7uvD4uRcln8iVJF/fmvgAAAAAAoNT6uBSrUwDgJjgL1Yx9tPWoEtPM/vSpWfnKLyzW8yXDj1v4e2vWiI72tX8Y20Vf/npcf16+Q78mZqh9WIC+3XVCK/ec1F3ju6hDywD72vBAH907sbse/2yXpr3yk6YMiFJaVr5e+/GQIoJ8dfcF3Svk0Zh7w0UYhvTaa2bs5dXg4c5SxfZIl/dtd5aVAAAAAAA0L+sOJFudAgA3QYGhGVu+6Yh+/t2RuKe/3SdJigr1r1BgCAnw1ge3DddTX+/VuxuPKDOvUB1bBugfk3vr+mExlfaeMypW4YE+WrT2oB7/dJf8fTw1qkuE7r+oR6UZCY25N1zEhg3S7t1mPGmS1KZNg7bLKyzS1zuPS5Jat/DVkNjwhmYIAAAAAIDb2JV0WmlZ+QoL9LE6FQAujgJDM7b81uF1Wt+qhZ/+fU3fWq+f3D9Kk/tHWb43XEDp6QVJuummBm+3eu8pZeaZ7ZYm9WknT4+GtVsCAAAAAMCdGIa04WCKLjm3rdWpAHBxNCUHYK3MTGn5cjNu10666KIGb1m+PdJltEcCAAAAAKAS2iQBcAQKDACs9d57UlaWGc+ebc5gaICsvEKt3H1CkhTTMkB9o0MamCAAAAAAAO7Dz9tTEoOeATgGBQYA1irfHmnOnAZv9+2uE8otKJYkXdannWw22iMBAAAAAFAqNiJQknQoOUvH0nMszgaAq6PAAMA6u3aZA54l6bzzpM6dG7xl+fZIl/ejPRIAAAAAAOV1aRVkjznFAKChKDAAsE750wtz5zZ4u7SsfK3Zd0qS1KNNsLq1Dm7wngAAAAAAuJMKBQbmMABoIAoMAKyRny+9+aYZh4RIV17Z4C2/+u24CosNSQx3BgAAAACgKq2CfRUZ7CtJWheXLMMwLM4IgCujwADAGp9+KiWXfFJixgzJ37/BW36yvVx7JAoMAAAAAABUYrPZNKJzS0nSidN5ijuVZXFGAFwZBQYA1nj11bL4ppsavN2J07n66ZDZO7Jf+1C1Dw9o8J4AAAAAALijkZ0j7PH6ONokAag/CgwAmt6RI9LXX5tx//7SgAEN3vKzX5JUeqqT0wsAAAAAAFRvRJeW9ngdcxgANAAFBgBNb/Fi2asBDji9IEmf7DDbI3nYpEl92jpkTwAAAAAA3FF0WIBiWpon/zfEpaiomDkMAOqHAgOAplVcLL3+uhn7+krTpzd4y4SULO04ki5JGtappVq18GvwngAAAAAAuLMRJW2STucW6rdjGRZnA8BVUWAA0LS+/16Kjzfjq66SwsIavOVnvyTZY9ojAQAAAABQs5EV2iSlWJgJAFdGgQFA03rttbJ47lyHbPnJdrM9krenTRf1buOQPQEAAAAAcGfDO5UVGBj0DKC+KDAAaDqpqdKKFWbcqZM0dmyDt9x7PFN7T2RKksZ0jVRogE+D9wQAAAAAwN21DPJVz7YtJEmb4lOVV1hkcUYAXBEFBgBN5+23pbw8M54zR/Jo+G9Bn+xItMeX96M9EgAAAAAAtTWys3mKIbegWFsT0q1NBoBLosAAoGkYhvTqq2bs4SHNnu2ALQ19usOcv+Dn7aEJPVs3eE8AAAAAAJqLkV0i7DFtkgDUBwUGAE1jyxbpl1/M+OKLpaioBm+5/Ui6DqdmS5Im9GytQF+vBu8JAAAAAEBzMSQ2XF4eNknSugMUGADUHQUGAE2j/HDnm25yyJalpxck6fK+tEcCAAAAAKAuAn291K99qCRpx9EMZeYWWJsQAJdDgQFA48vOlt55x4xbtZImTWrwlkXFhj775ZgkqYWfl8Z2j2zwngAAAAAANDcjStokFRUb2ngo1eJsALgaCgwAGt///iedPm3GN9wgeXs3eMufD6XoZKY5MPqi3m3k6+XZ4D0BAAAAAGhuSgc9S9K6AykWZgLAFVFgAND4liwpix0w3FmSPt1xzB5fRnskAAAAAADqpX+HMPl7mx/aY9AzgLqiwACgcR09Kn37rRkPHCidc06DtywsKtbXv52QJEUE+Wh4p5Y1PAMAAAAAAFTFx8tDg2PDJUl7jmfqVEm3AACoDQoMABrX0qWSYZjxrFkO2XJjfKpSs/IlSRee00ZenvxWBgAAAABAfY3qUvbBPU4xAKgL3pUD0HgMo6w9kre3dN11Dtn2q53H7fHFvds4ZE8AAAAAAJqrEZ0j7PF65jAAqAMKDAAaz6ZN0p49ZjxpkhQRcfb1tVBcbNgLDCH+3hpGeyQAAAAAABqkV9sWCgvwliT9eCBZRmknAgCoAQUGAI2n/HBnB7VH2nYkXSdL+kFO6Nla3rRHAgAAAACgQTw8bPZTDInpOTqcmm1xRgBcBe/MAWgceXnSsmVmHBEhXXyxQ7b9ameSPaY9EgAAAAAAjjGi3ByGdbRJAlBLFBgANI5PP5XS0sx4+nTJx6fBWxqGoS9L2iMF+nhqVNeGt1wCAAAAAADSyHJzGNYdYNAzgNqhwACgcZRvjzR7tkO2/O3YaR1Ny5EkjevRSn7eng7ZFwAAAACA5i6mZYCiQv0lSevjklVczBwGADWjwADA8U6ckL780ozPPVfq188h25YOd5aki3u3dcieAAAAAABAstlsGlnSJiktu0C7j5+2OCMAroACAwDHe+cdqajIjGfNkmw2h2z7Zcn8BV8vD53XPdIhewIAAAAAANPILrRJAlA3FBgAOF5peyRPT2nGDIdsuf9EpuJOZUmSxnaLVKCvl0P2BQAAAAAAphEV5jAw6BlAzSgwAHCs7dulHTvMeOJEqU0bh2z7Zbn2SBf1dsyeAAAAAACgTGSwr7q3DpYkbTyUqvzCYoszAuDsKDAAcKzyw51nzXLYtqXzF7w9bTq/Z2uH7QsAAAAAAMqUtknKKSjStsNpFmcDwNlRYADgOAUF0ttvm3FoqHT55Q7Z9nBKtnYlmcOlRnSOUIi/t0P2BQAAAAAAFZUOepakdXG0SQJwdhQYADjOV19Jp06Z8bRpkp+fQ7YtHe4sSRfTHgkAAAAAgEYzJDZcnh42SdJ6Bj0DqAEFBgCO00jtkUrnL3jYpAt60R4JAAAAAIDGEuznrX7tQyVJ24+k60xeobUJAXBqFBgAOEZqqvTpp2bcrZs0dKhDtk3KyNH2I+mSzE9RtAzydci+AAAAAACgaiM7m22SCosNbTxEmyQA1aPAAMAx3n1Xys8341mzJJvNIdt+XXJ6QZIu7t3WIXsCAAAAAIDqjSgZ9CxJ6w5QYABQPQoMABxj8WLzu80mzZzpsG2/LFdgmHgO8xcAAAAAAGhs/TuEyt/bU5K0jjkMAM6CAgOAhtu9W9q0yYzPP19q394h2yafydOm+FRJ5l9u2oQ4Zmg0AAAAAAConq+XpwbHhkuS9hzPVPKZPIszAuCsKDAAaLhGGu787a4TKjbM+OLenF4AAAAAAKCplM5hkKT1cbRJAlA1CgwAGqaoSHrrLTMOCpKmTHHY1uXbI110DvMXAAAAAABoKiPLz2HYT5skAFWjwACgYVaulI4dM+NrrpECAx2ybUZ2gdaX9Hns1baFOrQMcMi+AAAAAACgZr3atlBYgLck6ccDyTIMw+KMADgjCgwAGqaR2iN9t/uECkv6I9EeCQAAAACApuXhYdPwkjZJiek5OpyabXFGAJwRBQYA9Xf6tPTRR2YcGyuNHu2wrcu3R7r4XAoMAAAAAAA0tfJtkn48QJskAJVRYABQfytWSLm5ZjxzpuThmN9SsvIKtWb/KUlSl1ZB6tIq2CH7AgAAAACA2hvZuazAsP4Ag54BVEaBAUD9LV1aFs+Y4bBtV+09qfzCYknSRedwegEAAAAAACvEtAxQVKi/JGl9XLKKi5nDAKAiCgwA6icpSfr+ezMePFjq1s1hW5dvj3QR8xcAAAAAALCEzWbTqJI2SWnZBdqVdNrijAA4GwoMAOrn3XelYvOUgSNPL+QWFGnVnpOSpPbh/jqnXQuH7Q0AAAAAAOpmZNeyNknrmMMA4HcoMACon9L2SB4e0tSpDtt27f5kZecXSZIu7t1WNpvNYXsDAAAAAIC6GdG5pT1eF8ccBgAVUWAAUHe7d0tbt5rxBRdIbRzXxujLnUn2eCLzFwAAAAAAsFREkK96tAmWJG08lKK8wiKLMwLgTCgwAKi7t98uix3YHqmgqFjf7TohSWrdwlf924c6bG8AAAAAAFA/pXMYcguKtTUh3dpkADgVCgwA6sYwpHfeMWN/f2nyZIdtvSk+VadzCyVJF/ZqIw8P2iMBAAAAAGC1kV2YwwCgahQYANTNhg3SoUNmPHmyFBzssK2/23XSHk/o1dph+wIAAAAAgPobEhsur5IPAa6Lo8AAoAwFBgB1UzrcWXJoeyTDMLRyj9keKdDHU8M6hTtsbwAAAAAAUH+Bvl4a0CFMkrTjSLpO5xZYnBEAZ0GBAUDtFRRI771nxhER0oUXOmzruFNnlJCSLUka3TVSvl6eDtsbAAAAAAA0TGmbpGJD+ikuxeJsADgLCgwAau/rr6WUkr9ETJ0qeXs7bOvvdpe1Rzq/ZyuH7QsAAAAAABpuZJeW9pg5DABKUWAAUHuN1B5JklbuNtsj2WzSuB4UGAAAAAAAcCZ924cq0MfsNrCOEwwASlBgAFA7p09LH39sxp06ScOGOWzrtKx8bUlIkyT1bx+qiCBfh+0NAAAAAAAaztvTQ8M6macYDpw8o+MZuRZnBMAZUGAAUDsrVki5JX95mDHDPGrgIKv2nlSxYcbn92ztsH0BAAAAAIDjjCiZwyDRJgmAiQIDgNp5++2y2OHtkcrmL0ygwAAAAAAAgFMaVb7AEEeBAQAFBgC1kZQkrVxpxgMHSt27O2zr/MJi/bDvlCSpfbi/urUOctjeAAAAAADAcbq1DrK3NV53IFmGYVicEQCrUWAAULN335WKi834+usduvXGQ6k6k1coSTq/R2vZHNh6CQAAAAAAOI7NZtOoLuYchhOn8xR36ozFGQGwGgUGADUrbY/k4SFNm+bQrb/bfcIe0x4JAAAAAADnVn4Ow4/7aZMENHcUGACc3Z490pYtZnz++VKbNg7b2jAMrdxjFhiCfb00JDbcYXsDAAAAAADHG1lhDkOKhZkAcAYUGACcXfnhzg5uj7T/5BkdSc2RJI3pFikfL35LAgAAAADAmUWF+qtTRKAk6ae4FBUWFVucEQAr8W4egOoZRlmBwd9fmjLFoduXb490fs9WDt0bAAAAAAA0jhElcxgy8wr1S2KGxdkAsBIFBgDV27BBOnTIjC+/XAoOduj2K3eflCR52KRx3SkwAAAAAADgCkaVb5PEHAagWaPAAKB6jdgeKeVMnrYeTpMkDYwJU1igj0P3BwAAAAAAjWN4pwjZbGa8Lo4CA9CcUWAAULWCAmn5cjNu2VKaONGh26/ae0qGYcbn92zt0L0BAAAAAEDjCQnwVp+oEEnSloQ0ZecXWpwRAKtQYABQta+/llJSzPjaayVvb4duv7Lc/IUJzF8AAAAAAMCljCxpk1RQZGjjoVSLswFgFQoMAKrWiO2R8gqLtGbfKUlSTMsAdY4Mcuj+AAAAAACgGsXFDtmmwhyGA7RJAporCgwAKsvKkj75xIw7dpSGD3fo9j8fTFVWfpEk6fwerWUrbdwIAAAAAAAcr0WLsvi33xyy5YCYMPl5m28trmXQs3tZtkwaOFDy95ciIqTrrpMSEuq317XXSjab1KNH5cdWrzYfq+qrX7+G/AzQhLysTgCAE/rsMyk724ynTZMcXACgPRIAAAAAAE1o5EgpNFRKT5fee0965hnJ07NBW/p5e2pwx3Ct3Z+sPcczdSozT5HBvg5JFxZasEC6807znnnmGSk5WXr2WWnNGmnTJqldu9rv9fnn0ocfmoWKs7nlFmn06IrXwsPrnDqsQYEBQGXvvlsWT5vm0K0Nw9B3u09KkoL9vDQ4lj8wAAAAAABoVL6+0lVXSa+9Jp04Ia1aJU2Y0OBtR3eNsJ9eWB+XrCv6RTV4T1goJUV64AFpwADzdIFXyVvHF10kDRki/e1v0quv1m6vM2ekP/zB/Pr007OvHT7c4e250XRokQSgoowM6csvzbhHD6lPH4duv/dEphLTcyRJY7tFytuT34YAAAAAAGh0M2aUxeXnLjbAyHJzGH6kTZLr+/hjszBw111lxQVJGjRIGjPGPP2Sn1+7vR56SCookJ54onbrs7Ol3Ny65wzL8c4egIo+/ljKyzPjRmmPdNIeT+jZ2qF7AwAAAACAaowZU9be5sMPpZycBm/Zs00LtQz0kST9eCBZhmE0eE9YaONG8/uIEZUfGzFCysyU9uypeZ9Nm6TnnzdbLJWf/1GdP/1JCgw0WynFxkp//7tZnIBLoEUSUE5hYaFSU1OtTsNSQW+9JZ+SOH3iRBU7+NdjR9xRdQwy5OEh9W/t1ex/vQEAAAAAaCr+kyfL/4UXpMxMZS5froLLL2/wnhd3CzZPLxTlaOehY4oKraHfPhpVYWGhJCkgLk7asKHig9HRUvv21T85MbFs3e+VXjt69OzdLgoLpZtvNltwTZ169mS9vaVJk6RLLjH3P37cbNv9t79J69aZMxwaOCsEjY8CA1BOZmam1q5da3UalvE5fVoTV62SJGV07KgfTpwwezM60KWR5pckbd/0k0P3BgAAAAAA1Qvp3FnnlcSZL7+sTWFhDd5zsJ80+FwzPvjrZh1s8I5oiMzMTElS56eekp56quKDjzwiPfpo9U/Ozja/+1YxrNvPr+Ka6jz9tLR3r3lKpiYjR1aez3DzzdLcuea8kOXLpenTa94HlqLAAJQTHBys0b+fWt+M+C5ZIo+iIkmS98yZDv+1WLn7hBauipMkzRoRw/AnAAAAAACa0qhRKnrxRXkeOKC2W7dqTJ8+MkJCGrTlqcw83frWFknS4NgwPXBxT0dkinpKLDmFEHfffRo+eXLFB6s6mVBeQID5PS/PbFdUXmlLrdI1VYmLkx57THrwQalz59on/XsPP2wWGD7/nAKDC6DAAJTj5eWl8PBwq9OwTrmqccCNNyrAwb8W3x08qPgz5kyHMefGKjw8yKH7AwAAAACAGsycKT3yiGz5+QpbtUqaM6dB24WHSx5+QTqYnKWUfWc0f1qovDwZ+2oVr5LhzNmdO0vDh9ftyVElHwQ9elTq2rXiY2drn1TqnnuksDCzNVJ8fNn1wkJzpkJ8vFm4aF3DTM727c3WSKdO1S1/WIL/2wGYkpKk1avNeOhQc6iOA+UWFGnt/mRJUmxEoDpHUlwAAAAAAKDJlf9E+DvvOGTLkV0iJEmZeYXacTTDIXvCAoMHm9/Xr6/82Pr1UlCQ1KNH9c+Pj5eOHZO6dzffVyr9SkyUDh4041mzas7j4EGpqEhq06ZePw00LQoMAEwffCAZhhlPm+bw7X86mKLsfLP90vk9Wjl8fwAAAAAAUAtdukhDhpjx99+bbwg30KiuEfb4x5IPF8IFXXGF2QLpv/81Tx2U2rxZWrNGuvZaycfHvJaUJO3ZU3EmwzPPSCtWVP6KjDRPR6xYYc6BKHX8eOUcioqkBx4wYwcMIUfjo0USANO775rfbTbpmmscvv3K3Sft8fk9azgKBwAAAAAAGs/06dLGjeYHDZcvl/785wZtN6xTS3nYpGJDWncgWX+a0LXmJ8H5RERITz4pzZsnnXee2U4rOdksHLRuLT3+eNnaBx6QliyRVq0y10rSuHFV7ztvnjkk+vczIS65RGrZUho1yixAnDghvf++tGOHdOWV0lVXOfynCMfjBAMAKSGh7Pjb6NFlPfccxDAMrdx9QpLUws9LgzqGOXR/AAAAAABQB9deK3mUvC3ogDZJIf7e6ts+VJK09XCazuQVnv0JcF5/+pO0dKl5MmHePOk//5EmTDDfN3Lw+0WaOtV8nYULpdtvl556SgoMlF5+2Sw02GyOfT00Ck4wAJDee68sboT2SHtPZOpYRq4k6bzureTNsCcAAAAAAKzTtq00frz03Xdm+5t9+6Ru3Rq05aguEdp2OF2FxYY2HkrR+B50L3BZM2aYX2ezeLH5VRvlBz6Xd//95hdcGu/yATCPQ0qSp2ejHD/7Ye8pezye+QsAAAAAAFiv/BvIDjjFMKpL2RyGtcxhAJoNCgxAc7d/v7Rlixmff77UyvEFgB/2lRUYyg9+AgAAAAAAFpkyRfL1NeN33jHnMTRA/w5hCvDxlGTOYQDQPFBgAJq70tMLktn7zsGy8gq1OT5NknRuVIgignwd/hoAAAAAAKCOQkKkSZPMuPyHD+vJx8tDQ2PDJUn7TpzRidO5Dc0QgAugwAA0d+++a3739jY/veBgPx1MUX5RsSRpbLdIh+8PAAAAAADqycFtkkaWa5PEKQageaDAADRnO3dKv/1mxhddJIWFOfwlyrdHGkOBAQAAAAAA53HxxeZJBsn8AGJRUYO2G9217N/9PzKHAWgWKDAAzVn59kjTpjXKS6wpKTAE+3qpf4fQRnkNAAAAAABQD35+0lVXmXFSkrR6dYO269Y6SJHBZmvkHw8ky2jgXAcAzo8CA9BcGUZZeyR/f+nyyx3+EvHJWYpPyZZkHpP09uS3HAAAAAAAnMr06WXx2283aCubzaZRJW2STmbmaf/JMw3aD4Dz490+oLnaulU6cMCMJ02SgoIc/hJr9pe1RxrbnfZIAAAAAAA4nfPOk9q1M+MPPpCysxu0Xfk5DLRJAtwfBQaguSo9vSBJU6c2ykv8sJf5CwAAAAAAODVPz7JTDJmZ0iefNGi7UeULDAx6BtweBQagOSouLpu/EBQkXXKJw18ir7BIGw6mSJK6tApSVKi/w18DAAAAAAA4wMyZZfFbbzVoqzYhfurSyuyS8NPBFBUUFTdoPwDOjQID0Bz99JN05IgZT55szmBwsC3xacrOL5IkjeX0AgAAAAAAzqtPH/NLkr7+Wjp5skHblZ5iyM4v0rbD6Q1MDoAzo8AANEfl2yNNm9YoL/HDPtojAQAAAADgMkpPMRQVVXzfoB5okwQ0HxQYgOamqEh67z0zDguTLrigUV6mtMDg6+WhobHhjfIaAAAAAADAQaZPl2w2M25gm6ShncLl6WHu9eP+UzWsBuDKKDAAzc0PP0gnTpjxlVdKPj4Of4kTp3O153imJGlYp5by8/Z0+GsAAAAAAAAHatdOOv98M968Wdqzp95bBft5q3/7UEnSjqMZOp1b4IAEATgjCgxAc/P++2Xx1KmN8hLl2yMxfwEAAAAAABfhwGHPI0vaJBUVG/r5YGqD9gLgvCgwAM1JYaH04YdmHBEhjRvXKC/D/AUAAAAAAFzQlVdKAQFmvHSpVFxc761Gdy03h4E2SYDbosAANCc//CCdKvlD/aqrJC8vh79EUbGhH/ebA5yiQv3VOTLQ4a8BAAAAAAAaQVCQNGWKGR8+LK1dW++t+rYPVZCv+b4Dg54B90WBAWhOSoc7S9I11zTKS+w4mq6MHLO34tjukbKVDogCAAAAAADOz0Ftkrw9PTSsU7gkKe5UlpIychqaGQAnRIEBaC4KC6WPPjLjyEhp7NhGeZkf9jJ/AQAAAAAAl3X++VKbNmb8/vtSTv0LA6VzGCTZux0AcC8UGIDmYvVqKbnkD/Mrr2yU9kiStKakr6KXh00jOrdslNcAAAAAAACNxMtLmj7djE+flj79tN5bVZjDQJskwC1RYACai/Ltka69tlFeIi0rXzuOpEuSBsSEKdjPu1FeBwAAAAAANCIHtUnqHBmk1i18JUnrDiTLMIyGZgbAyVBgAJqDwkJpxQozjoyUxoxplJf58UCyikv+rkB7JAAAAAAAXFTfvlLv3mb81VfSqVNnX18Nm82mUV3M9weSz+Rrz/FMR2UIwElQYACagyZqj/TDPuYvAAAAAADg8my2slMMhYXS8uX13mpU17L2yetokwS4HQoMQHPw/vtlcSO1RzIMQ2tKCgwRQT7q1bZFo7wOAAAAAABoAtOnm4UGqUFtksoPel7LoGfA7VBgANxdYaH00Udm3IjtkfYcz9TJzDxJ0piukfLwsDXK6wAAAAAAgCYQHS2NH2/GGzdKe/fWa5tWwX7q3jrY3OZQqvIKixyVIQAnQIEBcHc//ND07ZG60x4JAAAAAACX56Bhz6O6mqcYcgqKtDUhvYFJAXAmFBgAd1e+PdI11zTay5S2R7LZpFHljj8CAAAAAAAXdeWVUkCAGS9ZIhXV7/RB+fcJmMMAuBcKDIA7O3lSevllM46IkMaObZSXycor1Kb4VEnSuVEhahnk2yivAwAAAAAAmlBwsHT11WZ89Ki0alW9thkSGy5vT7OV8loKDIBbocAAuLP588viyZMbrT3ShrgUFRQZkqSx3WiPBAAAAACA25g9uyxesqReWwT6eql/hzBJ0q9H05WRXeCAxAA4AwoMgDvr2bMsvvHGRnuZNfvL5i+MocAAAAAAAID7GDtWiokx4w8/lE6frtc2o0vaJBUb0oaDnGIA3AUFBsCd9esn/fWv0ooV0ogRjfYypQOeg/281L99aKO9DgAAAAAAaGIeHtINN5hxTo70wQf12mZk17I5DD/SJglwGxQYAHc2ZIjZJmny5EZ7ifjkLCWkZEsyhzZ5efLbCgAAAAAAbqW0wCBJixfXa4s+USEK9jNbN/+4nwID4C54JxBAg5SeXpCYvwAAAAAAgFvq0kUaNcqM166V4uLqvIWXp4eGd2opSYpPydaR1GxHZgjAIhQYADTImn3MXwAAAAAAwO3NmlUWv/lmvbYYXa5N0jraJAFuwcvqBOA6Ov7182of2/HIhQrx97b/+FRmnp76ao9W7T2p07mF6hQRqFkjOuq6IR2qfP7H2xO1aO1B7T9xRgE+nhrVNVL3X9Rd0WEBldbWdW80nrzCIq2PS5EkdW0VpHah/hZnBAAAAAAAGsU110h33WXOYViyRHrkEXM+Qx2M7FJxDsM03ssBXB4FBtTJkI7hum5o+0rXA3w87XFGToGueWm9jp/O1ZyRsWofHqBvd53QAx/9qhOnczVvQrcKz12yPl6PfPKbBsWE6eFJvZSWla/X1x3SxkMp+uSOUWrdwq/ee6NxbT+crpyCIknS6K6cXgAAAAAAwG2FhEhXXim9/baUkCCtWSOdd16dtoiNCFRUqL8S03O0Pi5FxcWGPDxsjZMvgCZBgQF10j48QFP6R591zUs/xCk+JVsvXT9AF/VuK0m6bkgHzV2ySQtXHdBVA6LVPtw8mZCWla+nvtqj3lEt9O4tw+wDgsd2j9QVC9fpP9/s07+u7lOvvdH41pWcXpCkkV1aWpgJAAAAAABodLNmmQUGyRz2XMcCg81m08guLfXe5qNKzcrXrqTT6h0V4vA0ATQdZjCgzvILi3Umr7Daxz/elqj24f72AkCpm0Z1UkGRoU9/OWa/9u2uE8rKL9LsEbH24oIk9YkO1ZCO4fr81yTlFxbXa280vvUl/RI9PWwaEhtucTYAAAAAAKBRjR8vRZd88PSDD6QzZ+q8xahyHRB+ZA4D4PIoMKBOvtyZpJ5/+0q9H/la/R7/Rvd/8ItOZubaHz+ZmatjGbka0CGs0nMHxITKZpN2HEm3X9t+1IwHxlRePzAmTGfyChV36ky99kbjysor1PaSX+++0SEK9vM++xMAAAAAAIBr8/SUZs4046ws6cMP67zFiM5lHRAY9Ay4Plokodb6Rofo4nPbqmPLQOUWFGlDXIre33JEa/ef0v/+OFKtWvjpREaeJKlNiF+l5/t6eSo8wEfHM8oKEidK4rZVrC+9djwjVz3btqjz3tU5lp6jpN+tS0jJqvF5qGhjfKoKiw1J0ojOETWsBgAAAAAAbmHWLGn+fDNevNj8cR1EBPmqV9sW2pV0WhsPpSq3oEh+3p41PxGAU6LAgFr7+I5RFX48uX+UhnYK193v7dAz3+3T/Cv72Af++npWfTjG18vDvkaSPfapYr2vl2eFNXXduzrLNx3Rcyv3V7iWuT2uxuehovXlPmUwgvkLAAAAAAA0D927S8OHSxs2SKtXS/HxUseOddpiVNcI7Uo6rbzCYm1JSNPILnxwEXBVtEhCg1w5IFrRYf76fs9JSZJ/ScU5r6i4yvW5hcX2NeXX51exPrewqMKauu5dnamD2+vD20dU+LptbOcan4eK1h0wBzz7enlU2bYKAAAAAAC4qfKnFt58s85PH1WuoLB2P22SAFdGgQENFh3mr9SsfElS6xBfSaqyVVFuQZHSsvMrtDhqXRL/vmVR+T1K19d17+q0C/XXwJiwCl8xLQNrfB7KpGbla1fSaUnSoI5hHGUEAAAAAKA5mTpV8jXfp9GSJVJx1R8Grc7gjuH2bhY/Hjjl6OwANCEKDGgQwzCUkJKtyCDzD5VWwX5qG+KnrYfTKq3ddjhdhiH1iQ61X+sbHSJJ2pJQef2WhDQF+niqc2RQvfZG4/npYIo9Zv4CAAAAAADNTGioNGWKGR88KP3wQ52e7u/jqUEdzW4Ivx07bf/gKgDXQ4EBtXIqM6/K64vXxyspI1cTerW2X7u8XzsdSc3RVzuTKqx97ceD8vKw6bI+7ezXLujVRv7enlq8/pAKy7U++uVoujbGp+rSPm3l4+VRr73ReNaVm79An0QAAAAAAJqhm24qi199tc5PH901UpJkGBXfZwDgWhjyjFp5YfUBrTuQrPE9WisqzF95BUX66WCKvtt9UrERgZo3oZt97R/GdtGXvx7Xn5fv0K+JGWofFqBvd53Qyj0nddf4LurQMsC+NjzQR/dO7K7HP9ulaa/8pCkDopSWla/XfjykiCBf3X1B9wp51GVvNJ71ceYJhmA/L/Vu18LibAAAAAAAQJMbP16KjZUOHZI+/FB6/nkpPLzWTx/dNUL/+sqM1+4/pcv68qFRwBVRYECtjOgcobhTWfrftkSlZufLJimmZYDuGNdFt4ztpBZ+3va1IQHe+uC24Xrq6716d+MRZeYVqmPLAP1jcm9dPyym0t5zRsUqPNBHi9Ye1OOf7pK/j6dGdYnQ/Rf1qDRToa57w/GOpefoUHKWJGlobEt5eXIQCgAAAACAZsfDwzzF8NBDUl6etHSpdNddtX56r7YtFB7oo9SsfP24P1mGYchmszViwgAaAwUG1MoFvVrrgnJtkGrSqoWf/n1N31qvn9w/SpP7RzXK3nCs0tMLkjSyS0sLMwEAAAAAAJaaPVv629/MIc+LFkl33inVskjg4WHTqC4R+mTHMR3LyFXcqSx1aRXUuPkCcDg+egygTtYzfwEAAAAAAEhSVJR0ySVmvHOntHFjnZ4+qmvZ+wpr959yZGYAmggFBgC1ZhiG1sWZBYaIIF915ZMFAAAAAAA0bzffXBbXcdjz6HIFhh/3M+gZcEUUGADU2sHkLJ04nSdJGtG5Jb0RAQAAAABo7i65RGrb1oyXLZMyM2v91LYh/vYPL244mKL8wuLGyBBAI6LAAKDWKrZHYv4CAAAAAADNnpeXOYtBkrKypPfeq9PTS9skZecXaevhNAcnB6CxUWAAUGvrDpQNeB7RmfkLAAAAAABA0k03lcWLFtXpqWO6Rtpj5jAArocCA4BaKSo2tOGgWWBoH+6v9uEBFmcEAAAAAACcQufO0vjxZvzzz9Kvv9b6qUM7hcvb02zBzBwGwPVQYABQK7uTTisjp0CSNJLTCwAAAAAAoLy5c8vi116r9dMCfLw0MCZMkvRLYobSsvIdnRmARkSBAUCtrCs3f2FEFwoMAAAAAACgnClTpPBwM37rLSk3t9ZPHV3SJskwpHVxnGIAXAkFBgC1si6ubP7C8E4MeAYAAAAAAOX4+UkzZ5pxaqq0YkWtn1p+DgNtkgDXQoEBQI3yC4u16VCqJKl762BFBvtanBEAAAAAAHA65dskvfpqrZ92TrsWCgvwliSt3Z8swzAcnRmARkKBAUCNth9JV05BkSRpRBdOLwAAAAAAgCr07i0NG2bG338vxcXV6mkeHjaNLGnHnJieo4PJWY2VIQAHo8AAoEYV5i8w4BkAAAAAAFSnnsOeaZMEuCYKDABqtL5kwJKHTRraKdzibAAAAAAAgNOaOlUKCjLjN96QCgtr9bRRXcs+0Lh2/6nGyAxAI6DAAOCssvMLte1wuiSpT3SoWvh5W5sQAAAAAABwXkFB0rRpZnz8uPT557V6WrtQf3WODJQkbYhLUUFRcWNlCMCBKDAAOKuNh1JVWGwOVxrJ/AUAAAAAAFCTm28ui+sw7Hl0SZukrPwi+4cdATg3CgwAzmp9XIo9Zv4CAAAAAACo0eDB0rnnmvEXX0iJibV62phutEkCXA0FBgBnVTrg2cfLQwNjwizOBgAAAAAAOD2brWzYc3GxOYuhFobGtpS3p02StIZBz4BLoMAAoFppWfnalXRakjQoJkx+3p4WZwQAAAAAAFzC9ddLvr5m/NprZqGhBoG+XhrQwfxw469H05Wend+YGQJwAAoMAKr108EUGeb4BY3ozPwFAAAAAABQS+Hh0lVXmXF8vPT997V62phu5hyGYqNi22YAzokCA4BqrYsrO444ogvzFwAAAAAAQB2UtkmSpEWLavWUUV2YwwC4EgoMAKq1/oD5SYFgXy/1iQqxOBsAAAAAAOBSzjtP6tLFjFeskJJrnqvQOypEoQHekqQ1+5JllLZWAOCUKDAAqFJSRo4OJmdJkoZ2CpeXJ79dAAAAAACAOrDZpJtuMuOCAumtt2p8iqeHTSNLTjEkpucoPiW7MTME0EC8YwigSqWnFyRpeGfaIwEAAAAAgHqYNUvy9DTjRYukWpxIGE2bJMBlUGAAUKXy8xdGdmHAMwAAAAAAqIe2baXLLjPj3bulDRtqfMqormUFhjX7am6rBMA6FBgAVOnng6mSpJaBPureOtjibAAAAAAAgMsqP+z51VdrXB4dFqBOkYGSpJ8OpqigqLixMgPQQBQYAFRyNC1biek5kqQhseGy2WwWZwQAAAAAAFzWxIlSVJQZL18unT5d41PGdI2UJJ3JK9T2I+mNmByAhqDAAKCSTfGp9nhIbLiFmQAAAAAAAJfn5SXNmWPG2dnSsmU1PmVU+TkM+5jDADgrCgwAKiltjyRJQ2OZvwAAAAAAABpozhyptENCLdokDevcUl4e5vq1B5jDADgrCgwAKtl4yCwwtPDzUvc2zF8AAAAAAAAN1LGjNGGCGW/eLG3fftblQb5eGhATJknacSRdGdkFjZsfgHqhwACggpOZuTqYnCVJGtwxXJ4ezF8AAAAAAAAOcPPNZXEtTjGMLmmTVGxI6+M4xQA4IwoMACrYdCjNHjN/AQAAAAAAOMzll0sRJbMVli6VcnLOunx0t0h7TJskwDlRYABQwcZDKfaYAgMAAAAAAHAYX1/phhvMOCND+vDDsy4/NypEIf7ekqQ1+07JMIzGzhBAHVFgAFDBzyXzF/y9PdU7KsTibAAAAAAAgFuZO7csXrTorEs9PWwa2aWlJOloWo4SUrIbMzMA9UCBAYBdena+9p7IlCQNjAmTtye/RQAAAAAAAAfq2VMaOdKM16yR9u076/LRXWmTBDgz3j0EYLc5Pk2lpw1pjwQAAAAAABpF+VMMr7121qWjSgY9S9LafacaKyMA9USBAYDdxvhUe0yBAQAAAAAANIprrpFatDDjN96Q8vKqXdo+PECxEYGSpA1xKSosKm6KDAHUEgUGAHal8xd8PD3Ur32otckAAAAAAAD3FBgozZhhxqdOSR98cNblo7uapxgy8wq142h6IycHoC4oMACQJGXlFWpnYoYkqW/7EPl5e1qcEQAAAAAAcFt//GNZvHDhWZeWn8OwZh9zGABnQoEBgCRp6+E0FRWbAxhojwQAAAAAABrVOedI551nxhs2SFu3Vrt0WKdweXnYJElr9zOHAXAmFBgASJI2Hio/f6GlhZkAAAAAAIBmoZanGIL9vNW/Q6gkacfRDGXkFDRyYgBqiwIDAEll8xc8bNLAmDCLswEAAAAAAG7viiukqCgzfucdKTW12qWlbZKKig1tiEtpiuwA1AIFBgDKLSjS9iPpkqTeUSEK8vWyNiEAAAAAAOD+vL2lW28149xc6fXXq11aOuhZok0S4EwoMADQL0czlF9YLEkayvwFAAAAAADQVG6+2Sw0SNKLL0rFxVUu6xMdqhZ+5gci1+5n0DPgLCgwANDPB8uOFjJ/AQAAAAAANJk2baSrrzbjgwelr76qcpmnh00ju5inGA6nZishJaupMgRwFhQYAGhjfFmPw8Edmb8AAAAAAACaUPlhzwsWVLusdA6DxCkGwFlQYACauYKiYm1JSJMk9WgTrNAAH4szAgAAAAAAzcqIEVK/fmb81VfSgQNVLmMOA+B8KDAAzdxvx04rO79IkjSE+QsAAAAAAKCp2WxlpxgMw5zFUIX24QHq2DJAkrQ+LkWFRVXPawDQdCgwAM3cxkPl5y9QYAAAAAAAABaYPl0KDTXj11+XsrOrXFbaJikzt1A7jmY0UXIAqkOBAWjmNh4qm78wpCMFBgAAAAAAYIGAAGnOHDNOT5eWLaty2SjaJAFOhQID0IwVFxv2AkNsRKBatfCzOCMAAAAAANBs3X57Wbxggdku6XeGd24pTw+bJOlHBj0DlqPAADRje09k6nRuoSROLwAAAAAAAIt16SJdfLEZb98ubdhQaUkLP2/1bx8qSdp2JF2ncwuaLj8AlVBgAJqxCu2RmL8AAAAAAACsVjrsWTJPMVShdA5DUbGhDXEpVa4B0DQoMADNGAUGAAAAAADgVC66SOrUyYw/+EA6frzSkvJzGNbsYw4DYCUKDEAzZRiGfi4pMLQL8VN0mL/FGQEAAAAAgGbP07NsFkNBgbRoUaUlfaND1MLPS5K0Zv8pGVXMagDQNCgwAM3UoeQsJZ/Jk2SeXrDZbBZnBAAAAAAAIGnOHMnPz4xfflkqLKzwsJenh/0Uw5HUHMWnZDd1hgBKUGAAmqmK7ZFaWpgJAAAAAABAOeHh0vTpZpyYKH38caUlY0rmMEi0SQKsRIEBaKaYvwAAAAAAAJxWDcOex3SjwAA4AwoMQDNVOn8hIshHnSMDLc4GAAAAAACgnAEDpOHDzXj1aum33yo83C7UX11aBUmSNhxMUX5hcRMnCECiwAA0S0fTspWYniOJ+QsAAAAAAMBJlT/FsHBhpYdL2yRl5xdpc0JqpccBND4KDEAztCm+XHukjrRHAgAAAAAATujqq6XIklZIb70lnT5d4eEx3SLs8Zp9yU2ZmXtbtkwaOFDy95ciIqTrrpMSEuq317XXSjab1KNH1Y/n50uPPy517iz5+koxMdL990vZDO52FRQYgGbo54MMeAYAAAAAAE7O11e65RYzPnNGevPNCg8PjW0pHy/z7U3mMDjIggXmgG1/f+mZZ6R586Rvv5VGjJCOHavbXp9/Ln34oblXdaZPlx55RBo50jylcvnl0tNPS5ddJhXT9soVUGAAmqHSAc8t/LzUvU2wxdkAAAAAAABU49ZbJY+StzAXLpQMw/6Qv4+nhsaanRl2JZ3Wqcw8KzJ0Hykp0gMPmPMvVq+WbrtNeugh6auvpKQk6W9/q/1eZ85If/iD+dWqVdVrvv7aLEDceadZPJo7V3r+eelf/5K+/1565x2H/LTQuCgwAM3MycxcHUzOkiQN7hguTw/mLwAAAAAAACfVvr00ebIZ79ljvvFcTukcBklau59TDA3y8cdmYeCuuyQvr7LrgwZJY8ZI771ntjSqjYcekgoKpCeeqH7N22+b3++5p+L1P/zBPPWwdGnd8oclKDAAzczm+DR7PDiW+QsAAAAAAMDJlR/2vGBBhYfGdCsrMNAmqYE2bjS/jxhR+bERI6TMTLPIU5NNm8yTCM88I7VocfbXa9fOnLtQnr+/1K9fWT5wal41LwGaj8LCQqWmpta80IX9dihRHYPM44R9Ir3c/ucLAAAAAABcXN++CunWTZ779sn45BNl/PKLiqOjJUkR3oYGtvZWSla+DiWeUHJyijyacbeGwsJCSVJAXJy0YUPFB6OjzRMh1UlMLFv3e6XXjh6V+vQ5WwLSzTdLEyZIU6eePdnERKlXr6ofi44288/OlgICzr4PLEWBASgnMzNTa9eutTqNRtVNUrdzzfjU/u06td/SdAAAAAAAAGoUe9556rNvn2zFxTr5979r9/XX2x+7oVNpVKR16360JD9nkZmZKUnq/NRT0lNPVXzwkUekRx+t/snZ2eZ3X9/Kj/n5VVxTnaeflvbuNWcr1CQ7u+rX+v3rUWBwahQYgHKCg4M1evRoq9NoNDn5RZr5+s8qLpZ6tWuhf0zubXVKAAAAAAAANevbV8bbb8uWlaUuq1cr4r//tb85/eP+ZP3n232SpBlDO+iqgVV8Ar+ZSCw5hRB3330aXjq7olRVJxPKK30jPy/PbFNUXk5OxTVViYuTHntMevBBqXPnmpMNCDBfqyq1eT04BQoMQDleXl4KD3ffuQTrDyTr4GnzmOAl7Vq59c8VAAAAAAC4kfBwafZsaeFCeSQnK3zlSqnkFMPo3kH60//2yzCk7w5m6eYLmu/7HV4lw5mzO3eWhg+v25OjoszvR49KXbtWfOxs7ZNK3XOPFBZmtkaKjy+7XlhoDnyOjzcLF61bl73e0aNV75WYaO5FgcHpMeQZaEY2lRvwPKhjmIWZAAAAAAAA1NEf/lAWlxv2HBboo77RoZKkLQlpyswtaOLE3MTgweb39esrP7Z+vRQUJPXoUf3z4+OlY8ek7t2l2Niyr8RE6eBBM541q+LrHTsmJSRU3CcnR9q+vSwfODUKDEAzsjmhbKDzwA7Nt5oPAAAAAABcUK9e0vjxZvzzz9KWLfaHxnSLlCQVFhvaEJdiRXau74orzBMD//2veeqg1ObN0po10rXXSj4+5rWkJGnPnoozGZ55RlqxovJXZKR5WmHFCnMORKnp083vTz9dMY8XXzSLDOXmbMB50SIJaCaKig1tO5wuSerWOkghAd7WJgQAAAAAAFBXf/yj9P33ZrxwofT665Kksd0i9N+V+yVJa/af0oXntLEqQ9cVESE9+aQ0b5503nnSzJlScrJZOGjdWnr88bK1DzwgLVkirVplrpWkceOq3nfePHNo8+9nQlx8sXnt+eeljAxpzBhpxw7phRfMPWfMcPBPEI2BEwxAM7Hn+GmdyTOrzwNjOL0AAAAAAABc0OWXl80BWLZMSjFPK/SNDlWwn/lZ6jX7kq3KzvX96U/S0qXmyYR586T//EeaMMFskVQ6o8GR3n3XPNWwdq3ZAut//5Puvlv67DPJg7euXQH/lYBmYmtCufkLMcxfAAAAAAAALsjLS7rtNjPOzZVeecW87OmhUV0iJEmHU7MVn5xlVYaub8YMaetWs01RSopZBIiNrbhm8WLJMMpOL5xNfLzZTqkqvr7So4+aMxry8qTDh6WnnpICAxv2c0CTocAANBObExjwDAAAAAAA3MDNN5tvTEtme538fEllcxgks00SgMZHgQFoJjbHmwWGiCAfdQgPsDgbAAAAAACAemrVSrrhBjNOSjI/Ya/fFRj2UWAAmgIFBqAZOHE6V4npOZKkgTFhstlsFmcEAAAAAADQAH/+c1n89NOSYSgq1F+dI83WOhviUpRfWGxRckDzQYEBaAZKTy9IZoEBAAAAAADApfXsKV1yiRn/8ou0cqWkslMMWflF2lKuXTSAxkGBAWgGyv+BOjAm3MJMAAAAAAAAHOSee8rip5+WxBwGoKlRYACagS2HzQKDj5eHeke1sDgbAAAAAAAABxg3TurXz4y/+kr67TcNi20pHy/zLU/mMACNjwID4OZy8ov0W2KGJKlPVIh8vTwtzggAAAAAAMABbLaKpxj+8x/5+3hqSEeze8Nvx07rVGaeRckBzQMFBsDN/XI0XYXFhiTmLwAAAAAAADczdaoUFWXGS5dKx49rTLcI+8M/HuAUA9CYKDAAbq60PZJEgQEAAAAAALgZb2/prrvMOD9fWriw4hyGfckWJQY0DxQYADe3NSHdHg+gwAAAAAAAANzNLbdIQUFm/OKL6h7sqdYtfCVJa/efUnFJZwcAjkeBAXBjhmFoa8kJho4tAxQR5GtxRgAAAAAAAA4WGirddJMZp6TI9uabGt3VPMWQfCZfu5JOW5cb4OYoMABuLD4lW6lZ+ZKkAR04vQAAAAAAANzUn/4keZS81fnMMxrTpaX9oTX7mcMANBYKDIAb25JQNn+hP+2RAAAAAACAu4qNla680oz379f4/T/LZjN/uGYfBQagsVBgANzYoeQz9nggJxgAAAAAAIA7u+ceexi08L/qExUiyfwAZlZeoVVZAW6NAgPgxu6d2ENbHpqgV2YOVPc2wVanAwAAAAAA0HiGDZNGjDDjNWt0jY5LkgqKDG2IS7EwMcB9UWAA3FzLIF9deE4beXrYrE4FAAAAAACgcZU7xXDxN8vsMXMYgMZBgQEAAAAAAACAe7jiCqlzZ0lS+Bcfq2tuqiTmMACNhQIDAAAAAAAAAPfg6SnNmydJshUV6b69X0mS4lOydTgl28LEAPdEgQEAAAAAAACA+7jxRiksTJJ03ppPFJyXJUn6gTZJgMNRYAAAAAAAAADgPgIDpdtukyR5Z5/R1B1fS6JNEtAYKDAAAAAAAAAAcC933CF5e0uSbt72mbyKCrUhLkX5hcUWJwa4FwoMAAAAAAAAANxLu3bSdddJklqnn9Qle9fpTF6hth5OszgxwL1QYAAAAAAAAADgfu6+2x7etOl/kmHQJglwMAoMAAAAAAAAANxP377ShAlmeHy/hhz9TWsY9Aw4FAUGAAAAAAAAAO7pnnvs4c0bV2hn4mkln8mzMCHAvVBgAAAAAAAAAOCeJk6UzjlHknT+gY2KTU3Uj/uTLU4KcB8UGAAAAAAAAAC4J5vNPovBQ4Zu2vQ/5jAADkSBAQAAAAAAAID7mjFDRuvWkqSrd67Uju1xKi42LE4KcA8UGAAAAAAAAAC4L19f2e64Q5LkV5ivS35cod3HT1ucFOAeKDAAAAAAAAAAcG+33aZCPz9J0g1bP9e6nYkWJwS4BwoMAAAAAAAAANxbRIQKZ8yUJEVmp8tYutTihAD3QIEBAAAAAAAAgNvzu+8vKrbZJEnjv3xbWbkFFmcEuD4KDAAAAAAAAADcX7duihs6TpLUNfmw9i953+KEANdHgQEAAAAAAABAs1Dwp3n22LZsmXWJAG7Cy+oEAAAAAAAAAKApdL36Em16/Sp5Tpyozjdfb3U6gMujwAAAAAAAAACgWfD28tTgbz6wOg3AbdAiCQAAAAAAAAAA1BkFBgAAAAAAAAAAUGcUGAAAAAAAAAAAQJ1RYAAAAAAAAAAAAHVGgQEAAAAAAAAAANQZBQYAAAAAAAAAAFBnFBgAAAAAAAAAAECdUWAAAAAAAAAAAAB1RoEBAAAAAAAAAADUGQUGAAAAAAAAAABQZxQYAAAAAAAAAABAnXlZnQBQHx9vT9SitQe1/8QZBfh4alTXSN1/UXdFhwVYnRoAAAAAAAAANAucYIDLWbI+Xn96d7v8vDz18KRemjMyVj/uP6WrXlyvE6dzrU4PAAAAAAAAAJoFTjDApaRl5eupr/aod1QLvXvLMHl5mjWysd0jdcXCdfrPN/v0r6v7WJwlAAAAAAAAALg/TjDApXy764Sy8os0e0SsvbggSX2iQzWkY7g+/zVJ+YXFFmYIAAAAAAAAAM0DBQa4lO1H0yVJA2PCKj02MCZMZ/IKFXfqTBNnBQAAAAAAAADNDy2S4FJOZJgzFtqG+FV6rPTa8Yxc9Wzboto9jqXnKCmj4qyGhJQsB2YJAAAAAAAAAO6PAgNcSk5BkSTJx7Py4RtfL88Ka6qzfNMRPbdyf4VrmdvjHJQhAAAAAAAAADQPFBjgUvy9zSJCflGx/Dw8KzyWW1hUYU11pg5urzHdIitc++idfXryawcmCgAAAAAAAABujgIDXErrkjZISRm5io0IrPDY8ZK2R22qaJ9UXrtQf7UL9a9wbUvLwGpWAwAAAAAAAACqwpBnuJS+0SGSpC0JaZUe25KQpkAfT3WODGrqtAAAAAAAAACg2aHAAJdyQa828vf21OL1h1RYVGy//svRdG2MT9WlfdrKx4vbGgAAAAAAAAAaGy2S4FLCA31078TuevyzXZr2yk+aMiBKaVn5eu3HQ4oI8tXdF3S3OkUAAAAAAAAAaBYoMMDlzBkVq/BAHy1ae1CPf7pL/j6eGtUlQvdf1KPG+QsAAAAAAAAAAMegwACXNLl/lCb3j7I6DQAAAAAAAABotmhWDwAAAAAAAAAA6owCAwAAAAAAAAAAqDMKDAAAAAAAAAAAoM6YwQBISk9PlyStWbPG2kQAAAAAAACAeip9b6v0vS6gsVFgACT98ssvkqS3335bb7/9tsXZAAAAAAAAAPVX+l4X0NgoMACS7r77bklSnz59FBoaam0yDhYXF6ennnpK9913nzp37mx1OkC9cS/DXXAvw11wL8NdcC/DXXAvw11wLzdMenq6fvnlF/t7XUBjsxmGYVidBIDGs2HDBo0YMULr16/X8OHDrU4HqDfuZbgL7mW4C+5luAvuZbgL7mW4C+5lwLUw5BkAAAAAAAAAANQZBQYAAAAAAAAAAFBnFBgAAAAAAAAAAECdUWAA3Fx0dLQeeeQRRUdHW50K0CDcy3AX3MtwF9zLcBfcy3AX3MtwF9zLgGthyDMAAAAAAAAAAKgzTjAAAAAAAAAAAIA6o8AAAAAAAAAAAADqjAIDAAAAAAAAAACoMwoMAAAAAAAAAACgzigwAAAAAAAAAACAOqPAAAAAAAAAAAAA6owCA+Cmli1bpoEDB8rf318RERG67rrrlJCQYHVagObPn69rrrlGnTp1ks1mU8eOHc+6/sSJE5ozZ45at24tPz8/9enTR4sWLap2Pfc+msK+ffv0t7/9TcOGDVNkZKSCg4PVr18/PfHEE8rKyqq0nvsYzmrv3r2aMWOGevbsqZCQEAUGBqpnz5665557dPz48UrruZfhSrKzs+1/37jtttsqPc79DGdls9mq/UpPT6+wlvsYzi4jI0MPPPCAunfvLj8/P4WHh2vEiBFasWJFhXXcy4Dr8rI6AQCOt2DBAt15550aOXKknnnmGSUnJ+vZZ5/VmjVrtGnTJrVr187qFNGMPfjggwoPD9eAAQMq/QPp99LT0zVq1CglJiZq3rx5io2N1ccff6xbbrlFx44d0yOPPFJhPfc+msrrr7+uBQsW6LLLLtP06dPl4+OjVatW6aGHHtJ7772nn376Sf7+/pK4j+Hcjh49quPHj2vKlCmKjo6Wl5eXfv31V7388statmyZtm3bptatW0viXobr+dvf/qZTp05V+Rj3M5zd6NGjdcstt1S6HhgYaI+5j+Hsjhw5onHjxik1NVU33nijevXqpezsbO3Zs0eHDx+2r+NeBlycAcCtJCcnG0FBQcaAAQOMgoIC+/VNmzYZNpvNuOmmmyzMDjCMuLg4e3zOOecYMTEx1a7961//akgyPvzwwwrXL7vsMsPb29s4ePCg/Rr3PprSpk2bjLS0tErX/+///s+QZCxYsMB+jfsYrmj58uWGJOOJJ56wX+NehivZunWr4enpafz73/82JBm33nprhce5n+HMJBmzZs2qcR33MZzd2LFjjTZt2hiHDx8+6zruZcC10SIJcDMff/yxzpw5o7vuukteXmWHlAYNGqQxY8bovffeU35+voUZornr1KlTrde+/fbbio2N1ZVXXlnh+t13362CggItX77cfo17H01p0KBBCg0NrXT92muvlST9+uuv9mvcx3BFsbGxkqS0tDT7Ne5luIqioiLdfPPNmjhxoq666qoq13A/wxXk5+crMzOz2se5j+HM1q5dqx9++EH333+/2rdvr8LCwipbiUrcy4Cro8AAuJmNGzdKkkaMGFHpsREjRigzM1N79uxp6rSAOjt+/LiOHDmi4cOHV3ps+PDhstls9vtd4t6Hc0hMTJQktWrVShL3MVxHbm6ukpOTdfToUX333Xe6/fbbJUmXXHKJJO5luJZnn31Wu3bt0oIFC6p8nPsZruCDDz5QQECAWrRooZYtW2ru3LkVZuNwH8PZffHFF5LMD5hdeeWV8vf3V1BQkDp27Fjh92fuZcD1UWAA3Ezpm1vR0dGVHiu9dvTo0SbNCaiPs93Lvr6+ioiIqHAvc+/DakVFRXr88cfl5eWlGTNmSOI+hut49dVXFRkZqfbt2+uCCy7QyZMntWTJEo0bN04S9zJcR0JCgh555BE9/PDD9pM4v8f9DGc3ePBg/e1vf9P777+vpUuXasqUKXrjjTc0ZMgQJSUlSeI+hvMrfZN/7ty5SkxM1GuvvaY333xTbdu21Z133qm///3vkriXAXfAkGfAzWRnZ0sy/yD+PT8/vwprAGd2tntZMu/n8vcy9z6sdtddd+mnn37SP/7xD3Xv3l0S9zFcx+TJk9WjRw+dOXNG27Zt06efflqhPRL3MlzF7bffrpiYGP3lL3+pdg33M5xd+U9rS9KMGTM0duxY3XDDDXrkkUf0yiuvcB/D6ZW29woMDNSaNWvs997UqVPVq1cvzZ8/X3fccQf3MuAGOMEAuJmAgABJUl5eXqXHcnJyKqwBnNnZ7mXJvJ/L38vc+7DSQw89pBdeeEFz587Vgw8+aL/OfQxXER0drQkTJmjy5Ml67LHHtHjxYt13332aP3++JO5luIZ33nlHX375pV588UV5e3tXu477Ga5o5syZ6tixoz7//HNJ3Mdwfv7+/pKk6dOnVygG+Pj4aMaMGcrJydHPP//MvQy4AQoMgJuJioqSVPWRwLMdJQSczdnu5dzcXKWkpFS4l7n3YZVHH31UTzzxhG644Qa9/PLLstls9se4j+Gq+vTpo/79++uFF16QxL0M55efn68///nPmjRpkjp06KD4+HjFx8fb78HMzEzFx8crIyOD+xkuq2PHjjp16pQkfl+G8yu9n9q2bVvpsdJrqamp3MuAG6DAALiZwYMHS5LWr19f6bH169crKChIPXr0aOq0gDpr06aNoqOjtWHDhkqP/fTTTzIMw36/S9z7sMZjjz2mxx57TNdff73eeOMNeXhU/KsV9zFcWU5OjlJTUyVxL8P5ZWdn6+TJk/rss88UGxtr/xo9erQk83RDbGysXnzxRe5nuCTDMHTgwAG1adNGEr8vw/kNGzZMknTkyJFKjx0+fFiS1Lp1a+5lwB0YANzKqVOnjICAAGPAgAFGQUGB/fqmTZsMm81mzJkzx8LsgIrOOeccIyYmptrH77vvPkOS8eGHH1a4ftlllxleXl5GXFyc/Rr3PpraY489ZkgyZsyYYRQWFla7jvsYziwpKanK699//73h4eFhjB8/3n6NexnOLD8/31ixYkWlr5dfftmQZEycONFYsWKFsW/fPsMwuJ/hvI4fP17l9eeee86QZPzxj3+0X+M+hjNLS0szWrRoYbRp08ZIT0+3Xz99+rTRrl07IywszMjKyjIMg3sZcHU2wzAMy6obABrFc889p3nz5mnkyJGaOXOmkpOT9cwzz8jb21ubN2+2HykErPDWW28pISFBkvT8888rPz9f99xzjyQpNDRUd9xxh31tWlqaBg0apOPHj2vevHmKjY3Vxx9/rM8++0wPP/ywHn/88Qp7c++jqSxcuFB33HGHOnTooMcff1yenp4VHm/durUuuOACSdzHcG5TpkxRUlKSxo8fr5iYGOXm5mrLli169913FRAQoNWrV6tfv36SuJfhmuLj4xUbG6tbb71VL730kv069zOc1bx58/Tdd99p0qRJiomJUU5OjlavXq1PP/1UXbt21fr16xURESGJ+xjO7/XXX9dNN92kbt26ae7cubLZbHrttde0d+9eLV68WDfccIMk7mXA5Vld4QDQOJYuXWr079/f8PPzM8LDw42pU6caBw8etDotwBg7dqwhqcqvqk4zHDt2zJg9e7YRGRlp+Pr6Guecc47x4osvVrs/9z6awqxZs6q9jyUZY8eOrbCe+xjOavny5cYll1xiREdHG76+voafn5/RvXt344477jASEhIqredehqs5dOiQIcm49dZbKz3G/Qxn9PHHHxsTJ040oqKi7L8vn3POOcb//d//VfgUeCnuYzi7Tz75xBg5cqQRGBhoBAQEGKNHjza++OKLSuu4lwHXxQkGAAAAAAAAAABQZwx5BgAAAAAAAAAAdUaBAQAAAAAAAAAA1BkFBgAAAAAAAAAAUGcUGAAAAAAAAAAAQJ1RYAAAAAAAAAAAAHVGgQEAAAAAAAAAANQZBQYAAAAAAAAAAFBnFBgAAAAAAAAAAECdUWAAAAAAAAAAAAB1RoEBAAAAAAAAAADUGQUGAAAAwEWsXr1aNptNixcvtjoVp/Xiiy8qODhYKSkpluZxxx13qGfPniosLLQ0DwAAAKAxUWAAAAAAmlhpoaD0y9PTU6GhoerZs6emT5+ujz76SEVFRQ59zcWLF+vZZ5916J7O5vTp03rkkUd01113qWXLlvbrjz76qP3X+bfffqv0vNL/Hv/85z8rXC/973PuuedW+5p9+/a1ryvvwQcfVHx8vF566aUG/qwAAAAA50WBAQAAALDI1KlT9dZbb2nx4sWaP3++Lr74Ym3evFlXXXWVhg8frqNHj1ZYP2bMGOXk5GjmzJl1fq3mUGB44YUXlJqaqjvvvLPKx4uLi/XAAw/UaU8/Pz/t3LlTmzZtqvTYli1b9Msvv8jPz6/SY+3atdPUqVP15JNPcooBAAAAbosCAwAAAGCRfv366frrr9fMmTN1++236z//+Y/27t2rf/7zn9q0aZMuvfTSCm9Oe3h4yM/PT56enhZm7ZyKi4v1yiuv6MILL1SbNm2qXDNo0CB9+umn+vHHH2u978iRI9WqVSu98cYblR57/fXXFRERodGjR1f53JkzZyopKUn/+9//av16AAAAgCuhwAAAAAA4EZvNpvvvv1/Tpk3TL7/8ouXLl9sfq2oGg2EYevbZZ9WnTx8FBwcrKChInTt31uzZs5WTk2Pf84cfflBCQkKF1kzx8fGSpG+++UZTp05Vp06d5O/vr9DQUF144YX64YcfKuV33nnnqWPHjjp69KiuvfZahYWFKTAwUBMnTtS+ffsqrc/Pz9dTTz2lfv36KSAgQCEhIRo0aJAWLFhQYV1GRobuv/9+denSRb6+voqMjNR1112ngwcP1urXbdOmTTp06JAuueSSatc89NBDCgoK0v3331+rPSXJy8tL119/vZYtW6bc3Fz79by8PC1btkwzZsyQj49Plc8977zzFBgYWOG/IQAAAOBOKDAAAAAATuiWW26RJH322WdnXfePf/xDf/7zn9WxY0f961//0tNPP62pU6dqy5YtysrKkiS99dZb6tGjhyIiIvTWW2/ZvyIjIyWZ7ZPS09N144036vnnn9ef//xn7d69W+eff77Wrl1b6TWzsrI0duxY+fj46Mknn9Qf//hHrV69WldccUWF2RH5+fmaOHGi7r//frVp00Z///vf9cQTT2jgwIH66KOP7OsyMjI0YsQIvfDCC7r00kv1/PPP64477tCqVas0dOhQJSQk1PjrVVoMGTp0aLVrWrdurbvvvlvr16+v06mCG2+8Uenp6VqxYoX92ooVK5SWlqY5c+ZU+zxPT08NHjxYP/zwgwzDqPXrAQAAAK7Cy+oEAAAAAFTWt29fSaryVEB5K1asUK9evfTJJ59UuP7kk0/a4+uvv16vvvqqcnJydP3111faY9GiRQoMDKxw7bbbbtM555yj+fPnV2oBlJycrHvvvVf33Xef/VpkZKTuu+8+fffdd5o4caIk6dlnn9Xq1av1f//3f/rHP/5RYY/i4mJ7/PDDD+vgwYP66aef7D9vSZo9e7bOPfdcPfLIIxVObVSldHhz586dz7ruL3/5i1566SU9+OCDuuyyy2rVbqp3794aNGiQ3njjDV133XWSzPZIAwcOVJ8+fc763M6dO2v16tU6efKkWrduXeNrAQAAAK6EEwwAAACAE2rRooUk6fTp02ddFxoaqqNHj9ZprsDvlS8unDlzRikpKfL09NTQoUP1888/V1rv4eGhu+66q8K18ePHS5L2799vv/b2228rJCREDz30UJV7SGaLp3feeUcjR45UVFSUkpOT7V+BgYEaNmyYvvnmmxp/DqdOnZLNZlNoaOhZ1wUHB+uhhx7S7t27q5yrUJ05c+Zo5cqVOnLkiI4cOaKVK1ee9fRCqZYtW0qSTp48WevXAgAAAFwFBQYAAADACZUWFkoLDdWZP3++AgICNHr0aLVr107Tp0/X0qVLlZeXV+vXiouL07Rp0xQWFqbg4GBFREQoMjJSX3zxhdLS0iqtb9eunfz8/CpcK30jPSUlxX5t//796t69e6W15Z06dUopKSlauXKlIiMjK319++23OnHiRI0/B5vNVtufrm677TZ16tRJjz76qH1ORU2uu+46+fj4aMmSJVq8eLF8fHzspxnOprQ1Ul3yAwAAAFwFLZIAAAAAJ7R9+3ZJUo8ePc66bujQoTpw4IC++eYbrVq1SqtWrdKyZcv0+OOPa+3atTW25cnMzNTo0aOVnZ2tefPm6dxzz1VwcLA8PDw0f/58ff/995Wec7a2QnWdNVC6fty4cXrwwQfr9NzyIiMjZRiG0tPTFR4efta13t7e+sc//qHp06frueee07Bhw2rcPzQ0VJMnT9bixYtlGIYmT56ssLCwGp+Xmppqzw8AAABwNxQYAAAAACf0yiuvSJImTZpU49rAwEBNmTJFU6ZMkWQObb7xxhv1wgsv6LHHHpNU/Sfov//+eyUlJen111/XjTfeWOGxqlob1UW3bt20d+9e5ebmVnuKITIyUqGhocrIyNCECRPq/Vq9e/eWJB04cEBDhgypcf20adP073//W//617/02muv1eo15syZo3fffVeS9NJLL9XqOQcOHFBkZKRatWpVq/UAAACAK6FFEgAAAOBEDMPQU089peXLl6tfv3669tprz7o+OTm50rWBAwdKKvv0vCQFBQUpPT290gmD0tMIv7/+zTffVDl/oS5mzJihjIyMSgOey7+eh4eHZsyYoa1bt9rfvP+92swvOO+88yRJGzdurFVuNptN//znP5Wenq758+fX6jnnn3++/v73v+vvf/+7zj///BrXFxUVafPmzRozZgwtkgAAAOCWOMEAAAAAWGT79u1aunSpJHO48oEDB/Tpp59q3759GjJkiD766KOztiOSpJ49e2rYsGEaMmSIoqKidOLECS1atEheXl6aMWOGfd3QoUP12Wef6a677tKwYcPk6empyy67TKNGjVKbNm10zz33KD4+XtHR0dq+fbveeustnXvuufr111/r/fP705/+pE8//VRPPPGENm/erAsvvFB+fn767bfftHfvXn333XeSpCeeeELr1q3T9OnTtWLFCg0fPlw+Pj5KSEjQF198oYEDB2rx4sVnfa2BAweqU6dO+uKLL3THHXfUKr8LLrhAEyZMsOdREw8Pjzqd6li9erWysrJqLBIBAAAArooCAwAAAGCR5cuXa/ny5fLw8FBQUJDatm2rgQMHav78+briiitqLC5I0j333KMvvvhCzz//vNLT09WqVSsNGTJE77zzToXZAvPmzdP+/fu1bNkyLVy4UIZh6NChQ+rYsaO+/vpr3XfffXr++edVWFiogQMH6osvvtBrr73WoAKDj4+PvvnmGz399NN655139OCDD8rPz09du3at0I4pJCRE69at09NPP6333ntPn3zyiby8vBQdHa1Ro0Zp7ty5Nb6WzWbTrbfeqgcffFAnTpyocfZEqX/9618aNGhQnWdH1MZbb72lNm3a2FtXAQAAAO7GZjTG36QBAAAAoImdPn1aXbt21c0331xlW6amlJSUpM6dO+tf//qX7rzzTktzAQAAABoLBQYAAAAAbuOll17Sfffdp0OHDqlly5aW5XHnnXfqu+++06+//iovLw6OAwAAwD1RYAAAAAAAAAAAAHXmYXUCAAAAAAAAAADA9VBgAAAAAAAAAAAAdUaBAQAAAAAAAAAA1BkFBgAAAAAAAAAAUGcUGAAAAAAAAAAAQJ1RYAAAAAAAAAAAAHVGgQEAAAAAAAAAANQZBQYAAAAAAAAAAFBnFBgAAAAAAAAAAECdUWAAAAAAAAAAAAB1RoEBAAAAAAAAAADUGQUGAAAAAAAAAABQZxQYAAAAAAAAAABAnVFgAAAAAAAAAAAAdUaBAQAAAAAAAAAA1BkFBgAAAAAAAAAAUGcUGAAAAAAAAAAAQJ1RYAAAAAAAAAD+f3t2LAAAAAAwyN96DPtLIwA2wQAAAAAAAGyCAQAAAAAA2AQDAAAAAACwCQYAAAAAAGATDAAAAAAAwCYYAAAAAACATTAAAAAAAACbYAAAAAAAADbBAAAAAAAAbIIBAAAAAADYBAMAAAAAALAJBgAAAAAAYBMMAAAAAADAJhgAAAAAAIBNMAAAAAAAAJtgAAAAAAAANsEAAAAAAABsggEAAAAAANgEAwAAAAAAsAkGAAAAAABgEwwAAAAAAMAmGAAAAAAAgE0wAAAAAAAAm2AAAAAAAAA2wQAAAAAAAGyCAQAAAAAA2AQDAAAAAACwBc11iLVUWCkkAAAAAElFTkSuQmCC' width=1560.0/>\n",
       "            </div>\n",
       "        "
      ],
      "text/plain": [
       "Canvas(toolbar=Toolbar(toolitems=[('Home', 'Reset original view', 'home', 'home'), ('Back', 'Back to previous …"
      ]
     },
     "metadata": {},
     "output_type": "display_data"
    }
   ],
   "source": [
    "altitude = np.array(output[\"altitude\"][0].split(']')[0].split('[')[1].split()).astype(float)\n",
    "mach = np.array(output[\"mach\"][0].split(']')[0].split('[')[1].split()).astype(float)\n",
    "distance = np.array(output[\"distance\"][0].split(']')[0].split('[')[1].split()).astype(float)\n",
    "draw_figure(distance,altitude, mach, \"Distance (NM)\", \"Altitude (ft)\", \"Mach\")"
   ]
  },
  {
   "cell_type": "code",
   "execution_count": 355,
   "metadata": {},
   "outputs": [
    {
     "data": {
      "application/vnd.jupyter.widget-view+json": {
       "model_id": "82f95e28cce449e5ab52332b877e1e08",
       "version_major": 2,
       "version_minor": 0
      },
      "image/png": "[encoded data removed]",
      "text/html": [
       "\n",
       "            <div style=\"display: inline-block;\">\n",
       "                <div class=\"jupyter-widgets widget-label\" style=\"text-align: center;\">\n",
       "                    Figure\n",
       "                </div>\n",
       "                <img src='data:image/png;base64,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' width=1560.0/>\n",
       "            </div>\n",
       "        "
      ],
      "text/plain": [
       "Canvas(toolbar=Toolbar(toolitems=[('Home', 'Reset original view', 'home', 'home'), ('Back', 'Back to previous …"
      ]
     },
     "metadata": {},
     "output_type": "display_data"
    }
   ],
   "source": [
    "draw_figure_alt_mach_multi(np.array(output[\"distance\"]),np.array(output[\"altitude\"]),np.array(output[\"mach\"]), 3, 3, \"Distance (NM)\", \"Altitude (ft)\", \"Mach\", input[\"WingArea\"],input[\"FanDiameter\"]/10)"
   ]
  },
  {
   "cell_type": "code",
   "execution_count": 284,
   "metadata": {},
   "outputs": [
    {
     "data": {
      "text/plain": [
       "0     135.0\n",
       "1     135.0\n",
       "2     135.0\n",
       "3     135.0\n",
       "4     140.0\n",
       "5     140.0\n",
       "6     140.0\n",
       "7     140.0\n",
       "8     145.0\n",
       "9     145.0\n",
       "10    145.0\n",
       "11    145.0\n",
       "12    150.0\n",
       "13    150.0\n",
       "14    150.0\n",
       "15    150.0\n",
       "Name: WingArea, dtype: float64"
      ]
     },
     "execution_count": 284,
     "metadata": {},
     "output_type": "execute_result"
    }
   ],
   "source": [
    "input[\"WingArea\"]"
   ]
  },
  {
   "cell_type": "code",
   "execution_count": 286,
   "metadata": {},
   "outputs": [
    {
     "name": "stdout",
     "output_type": "stream",
     "text": [
      "0\n",
      "1\n",
      "2\n",
      "3\n",
      "4\n"
     ]
    }
   ],
   "source": []
  },
  {
   "cell_type": "code",
   "execution_count": null,
   "metadata": {},
   "outputs": [],
   "source": []
  }
 ],
 "metadata": {
  "interpreter": {
   "hash": "2fc9de690da9f43bda2bdb2fbbe11d3a7272bb2ef4ae4279864674c01cdf294b"
  },
  "kernelspec": {
   "display_name": "Python 3.6.13 ('MDOAirB')",
   "language": "python",
   "name": "python3"
  },
  "language_info": {
   "codemirror_mode": {
    "name": "ipython",
    "version": 3
   },
   "file_extension": ".py",
   "mimetype": "text/x-python",
   "name": "python",
   "nbconvert_exporter": "python",
   "pygments_lexer": "ipython3",
   "version": "3.8.13"
  },
  "orig_nbformat": 4
 },
 "nbformat": 4,
 "nbformat_minor": 2
}
