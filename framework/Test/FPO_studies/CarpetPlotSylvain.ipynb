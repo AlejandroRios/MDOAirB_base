{
 "cells": [
  {
   "cell_type": "markdown",
   "metadata": {
    "slideshow": {
     "slide_type": "skip"
    }
   },
   "source": [
    "# Methods"
   ]
  },
  {
   "cell_type": "code",
   "execution_count": 1,
   "metadata": {
    "slideshow": {
     "slide_type": "skip"
    }
   },
   "outputs": [
    {
     "data": {
      "text/html": [
       "        <script type=\"text/javascript\">\n",
       "        window.PlotlyConfig = {MathJaxConfig: 'local'};\n",
       "        if (window.MathJax) {MathJax.Hub.Config({SVG: {font: \"STIX-Web\"}});}\n",
       "        if (typeof require !== 'undefined') {\n",
       "        require.undef(\"plotly\");\n",
       "        requirejs.config({\n",
       "            paths: {\n",
       "                'plotly': ['https://cdn.plot.ly/plotly-2.9.0.min']\n",
       "            }\n",
       "        });\n",
       "        require(['plotly'], function(Plotly) {\n",
       "            window._Plotly = Plotly;\n",
       "        });\n",
       "        }\n",
       "        </script>\n",
       "        "
      ]
     },
     "metadata": {},
     "output_type": "display_data"
    }
   ],
   "source": [
    "import plotly\n",
    "import plotly.graph_objs as go\n",
    "from plotly.offline import download_plotlyjs, init_notebook_mode, plot, iplot\n",
    "from plotly.subplots import make_subplots\n",
    "init_notebook_mode(connected=True)\n",
    "import pandas as pd\n",
    "import numpy as np\n",
    "from scipy import interpolate\n",
    "import math\n",
    "import matplotlib.pyplot as plt"
   ]
  },
  {
   "cell_type": "code",
   "execution_count": 2,
   "metadata": {
    "slideshow": {
     "slide_type": "skip"
    }
   },
   "outputs": [
    {
     "name": "stderr",
     "output_type": "stream",
     "text": [
      "/var/folders/cl/1j2m5n5d6tz7j370j52_b9v00000gn/T/ipykernel_74276/3777615979.py:1: DeprecationWarning:\n",
      "\n",
      "Importing display from IPython.core.display is deprecated since IPython 7.14, please import from IPython display\n",
      "\n"
     ]
    },
    {
     "data": {
      "text/html": [
       "<style>.container { width:100% !important; }</style>"
      ],
      "text/plain": [
       "<IPython.core.display.HTML object>"
      ]
     },
     "metadata": {},
     "output_type": "display_data"
    }
   ],
   "source": [
    "from IPython.core.display import display, HTML\n",
    "display(HTML(\"<style>.container { width:100% !important; }</style>\"))"
   ]
  },
  {
   "cell_type": "code",
   "execution_count": 3,
   "metadata": {
    "slideshow": {
     "slide_type": "skip"
    }
   },
   "outputs": [
    {
     "data": {
      "text/html": [
       "        <script type=\"text/javascript\">\n",
       "        window.PlotlyConfig = {MathJaxConfig: 'local'};\n",
       "        if (window.MathJax) {MathJax.Hub.Config({SVG: {font: \"STIX-Web\"}});}\n",
       "        if (typeof require !== 'undefined') {\n",
       "        require.undef(\"plotly\");\n",
       "        requirejs.config({\n",
       "            paths: {\n",
       "                'plotly': ['https://cdn.plot.ly/plotly-2.9.0.min']\n",
       "            }\n",
       "        });\n",
       "        require(['plotly'], function(Plotly) {\n",
       "            window._Plotly = Plotly;\n",
       "        });\n",
       "        }\n",
       "        </script>\n",
       "        "
      ]
     },
     "metadata": {},
     "output_type": "display_data"
    }
   ],
   "source": [
    "init_notebook_mode(connected=True)"
   ]
  },
  {
   "cell_type": "code",
   "execution_count": 4,
   "metadata": {
    "slideshow": {
     "slide_type": "skip"
    }
   },
   "outputs": [],
   "source": [
    "def TLARstatus(x, dico):\n",
    "    for k in [key for key in isoDict.keys() if 'tlar' in key]:  #for k in dico.keys():\n",
    "        if np.isnan(x[dico[k]['TLAR']]):\n",
    "            return False\n",
    "        else:\n",
    "            if dico[k]['crit'] == '>':\n",
    "                if x[dico[k]['TLAR']] < dico[k]['TLARtgt']:\n",
    "                    return False\n",
    "            else:\n",
    "                if x[dico[k]['TLAR']] > dico[k]['TLARtgt']:\n",
    "                    return False\n",
    "    return True\n",
    "\n",
    "\n",
    "\n",
    "def compute_isoTLAR(dico):\n",
    "    TLAR = dico['TLAR']\n",
    "    TLARtgt = dico['TLARtgt']\n",
    "    TLARe= []\n",
    "    TLARw = []\n",
    "    \n",
    "    if 'filter' in dico.keys(): #TODO: improve to be more generic with regards what dico['filter']['crit'] can be (use of eval function tbc)\n",
    "        if dico['filter']['crit'] == '>':\n",
    "            DOEflt = DOE[DOE[dico['filter']['by']] >=  dico['filter']['TLARtgt']]\n",
    "        else:\n",
    "            DOEflt = DOE[DOE[dico['filter']['by']] <=  dico['filter']['TLARtgt']]\n",
    "    else:\n",
    "        DOEflt = DOE.copy()\n",
    "\n",
    "    for S in DOEflt['Total_Area'].unique():\n",
    "        TLARw.append(S)\n",
    "        filt = DOEflt[DOEflt['Total_Area']==S]\n",
    "        \n",
    "        #f = interpolate.interp1d(filt[TLAR], filt['MTO_AET'], bounds_error=False, fill_value=\"extrapolate\")\n",
    "        f = interpolate.interp1d(filt[TLAR], filt['MTO_AET'], bounds_error=True)\n",
    "        try:\n",
    "            TLARe.append(float(f(TLARtgt)))\n",
    "        except:\n",
    "            TLARe.append(np.nan)\n",
    "    \n",
    "\n",
    "    for k in DOEflt['MTO_AET'].unique():\n",
    "        TLARe.append(k)\n",
    "        filt = DOEflt[DOEflt['MTO_AET']==k]\n",
    "        try:\n",
    "            #f1 = interpolate.interp1d(filt[TLAR], filt['Total_Area'], bounds_error=False, fill_value=\"extrapolate\")\n",
    "            f1 = interpolate.interp1d(filt[TLAR], filt['Total_Area'], bounds_error=True)\n",
    "            TLARw.append(float(f1(TLARtgt)))\n",
    "        except:\n",
    "            TLARw.append(np.nan)\n",
    "        #TLARw.append(float(f1(TLARtgt)))\n",
    "\n",
    "\n",
    "    isoTLAR = pd.DataFrame({'Total_Area': TLARw, 'MTO_AET': TLARe})\n",
    "\n",
    "    isoTLAR = isoTLAR[ (isoTLAR.MTO_AET <= DOEflt['MTO_AET'].max()) & \\\n",
    "                      (isoTLAR.MTO_AET >= DOEflt['MTO_AET'].min()) & \\\n",
    "                      (isoTLAR.Total_Area <= DOEflt['Total_Area'].max()) & \\\n",
    "                      (isoTLAR.Total_Area >= DOEflt['Total_Area'].min())]\n",
    "    isoTLAR = isoTLAR.sort_values(by=['Total_Area'])\n",
    "    return isoTLAR\n",
    "\n",
    "def compute_isoTLARmcl(dico, mcl):\n",
    "    TLAR = dico['TLAR']\n",
    "    TLARtgt = dico['TLARtgt']\n",
    "    TLARe= []\n",
    "    TLARw = []\n",
    "    \n",
    "    if 'filter' in dico.keys(): #TODO: improve to be more generic with regards what dico['filter']['crit'] can be (use of eval function tbc)\n",
    "        if dico['filter']['crit'] == '>':\n",
    "            DOEflt = DOE[(DOE[dico['filter']['by']] >=  dico['filter']['TLARtgt'])]\n",
    "        else:\n",
    "            DOEflt = DOE[(DOE[dico['filter']['by']] <=  dico['filter']['TLARtgt'])]\n",
    "    else:\n",
    "        DOEflt = DOE.copy()\n",
    "    \n",
    "    DOEflt = DOEflt[DOEflt.MCL==mcl]\n",
    "\n",
    "    for S in DOEflt['Total_Area'].unique():\n",
    "        TLARw.append(S)\n",
    "        filt = DOEflt[DOEflt['Total_Area']==S]\n",
    "        \n",
    "        #f = interpolate.interp1d(filt[TLAR], filt['MTO_AET'], bounds_error=False, fill_value=\"extrapolate\")\n",
    "        f = interpolate.interp1d(filt[TLAR], filt['MTO_AET'], bounds_error=True)\n",
    "        try:\n",
    "            TLARe.append(float(f(TLARtgt)))\n",
    "        except:\n",
    "            TLARe.append(np.nan)\n",
    "    \n",
    "\n",
    "    for k in DOEflt['MTO_AET'].unique():\n",
    "        TLARe.append(k)\n",
    "        filt = DOEflt[DOEflt['MTO_AET']==k]\n",
    "        try:\n",
    "            #f1 = interpolate.interp1d(filt[TLAR], filt['Total_Area'], bounds_error=False, fill_value=\"extrapolate\")\n",
    "            f1 = interpolate.interp1d(filt[TLAR], filt['Total_Area'], bounds_error=True)\n",
    "            TLARw.append(float(f1(TLARtgt)))\n",
    "        except:\n",
    "            TLARw.append(np.nan)\n",
    "        #TLARw.append(float(f1(TLARtgt)))\n",
    "\n",
    "\n",
    "    isoTLAR = pd.DataFrame({'Total_Area': TLARw, 'MTO_AET': TLARe})\n",
    "\n",
    "    isoTLAR = isoTLAR[ (isoTLAR.MTO_AET <= DOEflt['MTO_AET'].max()) & \\\n",
    "                      (isoTLAR.MTO_AET >= DOEflt['MTO_AET'].min()) & \\\n",
    "                      (isoTLAR.Total_Area <= DOEflt['Total_Area'].max()) & \\\n",
    "                      (isoTLAR.Total_Area >= DOEflt['Total_Area'].min())]\n",
    "    isoTLAR = isoTLAR.sort_values(by=['Total_Area'])\n",
    "    return isoTLAR\n",
    "\n",
    "\n",
    "def get_value_at(param, kfn, Sref):\n",
    "    param_interp = []\n",
    "    for S in np.sort(DOE['Total_Area'].unique()):\n",
    "        filt = DOE[DOE['Total_Area']==S]\n",
    "        fa = interpolate.interp1d(filt['MTO_AET'], filt[param])\n",
    "        param_interp.append(fa(kfn))\n",
    "    fb = interpolate.interp1d(np.sort(DOE['Total_Area'].unique()), param_interp)\n",
    "    return fb(Sref)\n",
    "\n",
    "def getMultiLinInterp(df, inputParam):\n",
    "    #inputParam: list of input parameters we want interpolate into \n",
    "    interp_dict = {}\n",
    "    for p in DOE.columns:\n",
    "        if (p not in inputParam) and (df[p].dtypes in ['float64', 'float32', 'int64', 'int32']):\n",
    "            interp_dict[p] = interpolate.LinearNDInterpolator(df[inputParam].values.tolist(), df[p], rescale=True)\n",
    "    return interp_dict"
   ]
  },
  {
   "cell_type": "code",
   "execution_count": 5,
   "metadata": {},
   "outputs": [],
   "source": [
    "def carpetplot(param, unit='', L = [], smooth = 0, cheaterslope=None):\n",
    "    dfDOE=DOE[DOE[param].notna()]\n",
    "    trace0 = go.Carpet(\n",
    "        a = dfDOE['Total_Area'],\n",
    "        b = dfDOE['MTO_AET'],\n",
    "        y = dfDOE[param],\n",
    "        cheaterslope = cheaterslope,\n",
    "        aaxis = dict(\n",
    "            #tickprefix = 'Sref = ',\n",
    "            #ticksuffix = 'm²',\n",
    "            smoothing = smooth,\n",
    "            minorgridcount = 4, #24,\n",
    "            gridcolor = 'black',\n",
    "            minorgridcolor = \"rgb(230, 230, 230)\",\n",
    "            title = \"Total area (m²)\"\n",
    "        ),\n",
    "        baxis = dict(\n",
    "            #tickprefix = 'MTO_AET = ',\n",
    "            #ticksuffix = '',\n",
    "            smoothing = smooth,\n",
    "            minorgridcount = 3, #24,\n",
    "            gridcolor = 'black',\n",
    "            minorgridcolor = \"rgb(230, 230, 230)\",\n",
    "            title = \"MTO_AET (lbf)\"\n",
    "        )\n",
    "    )\n",
    "\n",
    "    traceOK = go.Scattercarpet(\n",
    "        a = dfDOE[dfDOE.status==True]['Total_Area'],\n",
    "        b = dfDOE[dfDOE.status==True]['MTO_AET'],\n",
    "        showlegend = False,\n",
    "        mode = \"markers\",\n",
    "        marker = dict(\n",
    "            color = \"rgb(102, 255, 51)\"\n",
    "            ),\n",
    "        name = ''\n",
    "    )\n",
    "\n",
    "    traceKO = go.Scattercarpet(\n",
    "        a = dfDOE[dfDOE.status==False]['Total_Area'],\n",
    "        b = dfDOE[dfDOE.status==False]['MTO_AET'],\n",
    "        showlegend = False,\n",
    "        mode = \"markers\",\n",
    "        marker = dict(\n",
    "            color = 'red',\n",
    "            symbol = 'circle'\n",
    "            ),\n",
    "        name = ''\n",
    "    )\n",
    "    \n",
    "    data = [trace0, traceOK, traceKO]\n",
    "\n",
    "    if 'OPT_CONFIG' in dfDOE.columns : \n",
    "        traceConf = go.Scattercarpet(\n",
    "            a = dfDOE['Total_Area'],\n",
    "            b = dfDOE['MTO_AET'],\n",
    "            showlegend = False,\n",
    "            mode = \"text\",\n",
    "            text = dfDOE['OPT_CONFIG'],\n",
    "            textposition = \"top right\",\n",
    "            name = ''\n",
    "        )\n",
    "        data += traceConf\n",
    "    \n",
    "    if len(L)>0:\n",
    "        col = []\n",
    "        for l in L:\n",
    "            try:\n",
    "                col.append(l[2])\n",
    "            except:\n",
    "                col.append('blue')\n",
    "        data.append(go.Scattercarpet(\n",
    "            a = np.array([l[0] for l in L]),\n",
    "            b = np.array([l[1] for l in L]),\n",
    "            showlegend = False,\n",
    "            mode = \"markers\",\n",
    "            marker = dict(\n",
    "                color = col, #np.array([l[2] for l in L]),\n",
    "                symbol = \"star-square-open-dot\",\n",
    "                size = 12\n",
    "                ),\n",
    "            name = ''\n",
    "    )\n",
    "        )\n",
    "\n",
    "\n",
    "    for k in isoDict.keys():\n",
    "        if isoDict[k]['color'] != False:\n",
    "            isoTLAR = compute_isoTLAR(isoDict[k])\n",
    "            trace = go.Scattercarpet(\n",
    "                a = isoTLAR['Total_Area'],\n",
    "                b = isoTLAR['MTO_AET'],\n",
    "                mode = 'lines',\n",
    "                line = dict(\n",
    "                  shape = 'spline',\n",
    "                  smoothing = 1,\n",
    "                  color = isoDict[k]['color'],\n",
    "                  dash = isoDict[k]['linetype']\n",
    "                ),\n",
    "                name = isoDict[k]['TLAR'] + ': ' + str(isoDict[k]['TLARtgt'])\n",
    "              )\n",
    "            data.append(trace)\n",
    "\n",
    "    margin=(dfDOE[param].max()-dfDOE[param].min())/10\n",
    "    \n",
    "    layout = go.Layout(\n",
    "        width=640,\n",
    "        height=310,\n",
    "        margin=dict(t=5, b=5, l=60, r=5),\n",
    "        paper_bgcolor=\"LightSteelBlue\",\n",
    "        plot_bgcolor ='rgba(250,250,250,1)',\n",
    "        #title = dict(\n",
    "            #text='Carpet plot - {}'.format(param)),\n",
    "        yaxis = dict(\n",
    "            visible=True,\n",
    "            title = dict(\n",
    "                text= param +' '+ unit),\n",
    "            #nticks = 30 # to be improved,\n",
    "            range=[math.floor((dfDOE[param].min()-1.8*margin)/10)*10, math.floor((dfDOE[param].max()+margin)/10)*10],\n",
    "            gridcolor='rgba(220,220,220,0.8)',\n",
    "            gridwidth=1.2\n",
    "            ),        \n",
    "        xaxis = dict(\n",
    "            visible=False,\n",
    "            range=[-0.075, 1.075]\n",
    "            ),\n",
    "        legend=dict(\n",
    "            yanchor=\"top\",\n",
    "            y=0.99,\n",
    "            xanchor=\"left\",\n",
    "            x=0.01)\n",
    "        )\n",
    "\n",
    "    fig = go.Figure(data = data, layout=layout)\n",
    "\n",
    "    iplot(fig)"
   ]
  },
  {
   "cell_type": "code",
   "execution_count": 6,
   "metadata": {},
   "outputs": [],
   "source": [
    "def carpetplot3D(param, unit='', L = [], chSlope=1, chart_title=None):\n",
    "    dfDOE=DOE[DOE[param].notna()]\n",
    "    fig = go.Figure()\n",
    "    \n",
    "    #dataA = dfDOE[dfDOE.MCL==dfDOE.MCL.min()]['Total_Area'].astype(float)\n",
    "    #dataB = dfDOE[dfDOE.MCL==dfDOE.MCL.min()]['MTO_AET'].astype(float)\n",
    "    dataA = dfDOE['Total_Area'].astype(float)\n",
    "    dataB = dfDOE['MTO_AET'].astype(float)\n",
    "    slpA = (1-float(chSlope)/(1+chSlope))/(dataA.max()-dataA.min())\n",
    "    slpB = float(chSlope)/(1+chSlope)/(dataB.max()-dataB.min())\n",
    "    #dataX= dataA*slpA - dataB*slpB\n",
    "    #dataXnorm = ((dataX - dataX.min())/(dataX.max()-dataX.min()))\n",
    "    dfDOE['dataX']=dataA*slpA - dataB*slpB\n",
    "    dfDOE['dataXnorm']=((dfDOE.dataX - dfDOE.dataX.min())/(dfDOE.dataX.max()-dfDOE.dataX.min()))\n",
    "    \n",
    "    Xmargin = 0.5\n",
    "    \n",
    "    for i, mcl in enumerate(np.sort(dfDOE['MCL'].unique())):            \n",
    "        \n",
    "        fig.add_trace(go.Carpet(\n",
    "            a = dfDOE[dfDOE.MCL==mcl]['Total_Area'],\n",
    "            b = dfDOE[dfDOE.MCL==mcl]['MTO_AET'],\n",
    "            y = dfDOE[dfDOE.MCL==mcl][param],\n",
    "            x = dfDOE[dfDOE.MCL==mcl].dataXnorm + i*(1+Xmargin), #dataXnorm + i*(1+Xmargin),\n",
    "            #cheaterslope=chSlope,\n",
    "            carpet=\"c_{}\".format(mcl),\n",
    "            aaxis = dict(\n",
    "                #tickprefix = 'Sref = ',\n",
    "                #ticksuffix = 'm²',\n",
    "                smoothing = 0,\n",
    "                minorgridcount = 4, #24,\n",
    "                gridcolor = 'black',\n",
    "                minorgridcolor = \"rgb(230, 230, 230)\",\n",
    "                title = dict(\n",
    "                    text=\"Total area (m²)\",\n",
    "                    offset =-10)\n",
    "            ),\n",
    "            baxis = dict(\n",
    "                #tickprefix = 'MTO_AET = ',\n",
    "                #ticksuffix = '',\n",
    "                smoothing = 0,\n",
    "                minorgridcount = 3, #24,\n",
    "                gridcolor = 'black',\n",
    "                minorgridcolor = \"rgb(230, 230, 230)\",\n",
    "                title = dict(\n",
    "                    text=\"MTO_AET (lbf)\",\n",
    "                    offset =-10) \n",
    "            )\n",
    "        ))\n",
    "        \n",
    "        fig.add_annotation(x=0.5+ i*(1+Xmargin), y=dfDOE[dfDOE.MCL==mcl][param].min(),\n",
    "            text=\"MCL: {} lbf\".format(mcl),\n",
    "            showarrow=False,\n",
    "            yshift=-50)\n",
    "\n",
    "        fig.add_trace(go.Scattercarpet(\n",
    "            a = dfDOE[(dfDOE.MCL==mcl) & (dfDOE.status==True)]['Total_Area'],\n",
    "            b = dfDOE[(dfDOE.MCL==mcl) & (dfDOE.status==True)]['MTO_AET'],\n",
    "            carpet=\"c_{}\".format(mcl),\n",
    "            showlegend = False,\n",
    "            mode = \"markers\",\n",
    "            marker = dict(\n",
    "                color = \"rgb(102, 255, 51)\",\n",
    "                size = 5\n",
    "                ),\n",
    "            name = ''\n",
    "        ))\n",
    "\n",
    "        fig.add_trace(go.Scattercarpet(\n",
    "            a = dfDOE[(dfDOE.MCL==mcl) & (dfDOE.status==False)]['Total_Area'],\n",
    "            b = dfDOE[(dfDOE.MCL==mcl) & (dfDOE.status==False)]['MTO_AET'],\n",
    "            carpet=\"c_{}\".format(mcl),\n",
    "            showlegend = False,\n",
    "            mode = \"markers\",\n",
    "            marker = dict(\n",
    "                color = 'red',\n",
    "                symbol = 'circle',\n",
    "                size = 5\n",
    "                ),\n",
    "            name = ''\n",
    "        ))\n",
    "\n",
    "        if 'OPT_CONFIG' in dfDOE.columns : \n",
    "            fig.add_trace(go.Scattercarpet(\n",
    "                a = dfDOE[dfDOE.MCL==mcl]['Total_Area'],\n",
    "                b = dfDOE[dfDOE.MCL==mcl]['MTO_AET'],\n",
    "                carpet=\"c_{}\".format(mcl),\n",
    "                showlegend = False,\n",
    "                mode = \"text\",\n",
    "                text = dfDOE['OPT_CONFIG'],\n",
    "                textposition = \"top right\",\n",
    "                name = ''\n",
    "            ))\n",
    "\n",
    "        if len(L)>0:\n",
    "            col = []\n",
    "            for l in L:\n",
    "                try:\n",
    "                    col.append(l[3])\n",
    "                except:\n",
    "                    col.append('blue')\n",
    "            fig.add_trace(go.Scattercarpet(\n",
    "                a = np.array([l[0] for l in L]),\n",
    "                b = np.array([l[1] for l in L]),\n",
    "                carpet=\"c_{}\".format(l[2]),\n",
    "                showlegend = False,\n",
    "                mode = \"markers\",\n",
    "                marker = dict(\n",
    "                    color = col, #np.array([l[2] for l in L]),\n",
    "                    symbol = \"star-square-open-dot\",\n",
    "                    size = 12\n",
    "                    ),\n",
    "                name = ''\n",
    "        )\n",
    "            )\n",
    "\n",
    "\n",
    "        for k in isoDict.keys():\n",
    "            if i == 0:\n",
    "                shwlgd = True\n",
    "            else:\n",
    "                shwlgd = False\n",
    "            \n",
    "            if isoDict[k]['color'] != False:\n",
    "                isoTLAR = compute_isoTLARmcl(isoDict[k], mcl)\n",
    "                fig.add_trace(go.Scattercarpet(\n",
    "                    a = isoTLAR['Total_Area'],\n",
    "                    b = isoTLAR['MTO_AET'],\n",
    "                    carpet=\"c_{}\".format(mcl),\n",
    "                    showlegend = shwlgd,\n",
    "                    mode = 'lines',\n",
    "                    line = dict(\n",
    "                      shape = 'spline',\n",
    "                      smoothing = 1,\n",
    "                      color = isoDict[k]['color'],\n",
    "                      dash = isoDict[k]['linetype']\n",
    "                    ),\n",
    "                    name = isoDict[k]['TLAR'] + ': ' + str(isoDict[k]['TLARtgt'])\n",
    "                  ))\n",
    "\n",
    "    margin=(dfDOE[param].max()-dfDOE[param].min())/10\n",
    "    \n",
    "    fig.update_layout(go.Layout(\n",
    "        width=1100,\n",
    "        height=510,\n",
    "        margin=dict(t=5, b=35, l=60, r=5),\n",
    "        paper_bgcolor=\"LightSteelBlue\",\n",
    "        plot_bgcolor ='rgba(250,250,250,1)',\n",
    "        yaxis = dict(\n",
    "            visible=True,\n",
    "            title = dict(\n",
    "                text= param +' '+ unit),\n",
    "            #nticks = 30 # to be improved,\n",
    "            range=[math.floor((dfDOE[param].min()-1.8*margin)/10)*10, math.floor((dfDOE[param].max()+margin)/10)*10],\n",
    "            gridcolor='rgba(220,220,220,0.8)',\n",
    "            gridwidth=1.2,\n",
    "            showspikes = True,\n",
    "            spikethickness = 1,\n",
    "            spikedash = \"longdashdot\",\n",
    "            spikemode = \"across\",\n",
    "            spikesnap = \"cursor\"\n",
    "            ),\n",
    "        xaxis = dict(\n",
    "            visible=False),\n",
    "        legend=dict(\n",
    "            yanchor=\"top\",\n",
    "            y=0.99,\n",
    "            xanchor=\"left\",\n",
    "            x=0.01)\n",
    "        ))\n",
    "    if not (chart_title is None):\n",
    "        fig.update_layout(go.Layout(\n",
    "            title = dict(\n",
    "                text='{}'.format(chart_title),\n",
    "                y=0.97,\n",
    "                x=0.5,\n",
    "                xanchor= 'center',\n",
    "                yanchor= 'top',\n",
    "                )\n",
    "        ))\n",
    "\n",
    "    return fig"
   ]
  },
  {
   "cell_type": "code",
   "execution_count": 7,
   "metadata": {},
   "outputs": [
    {
     "data": {
      "text/plain": [
       "\"\\n    'trade1' : {\\n        'TLAR': 'TOFL',\\n        'TLARtgt': 1600.,\\n        'crit': '<',\\n        'color': 'orange',\\n        'linetype': 'dash'\\n        },\\n    'trade2' : {\\n        'TLAR': 'VAPP',\\n        'TLARtgt': 125.,\\n        'crit': '<',\\n        'color': 'green',\\n        'linetype': 'dash'\\n        },\\n    'trade3' : {\\n        'TLAR': 'Cruise_ratio',\\n        'TLARtgt': 0.25,\\n        'crit': '<',\\n        'color': 'blue',\\n        'linetype': 'dash',\\n        'filter': {\\n            'by': 'init_Cruise_Alt',\\n            'TLARtgt': 23001.,\\n            'crit': '>'}\\n        },\\n    'trade4' : {\\n        'TLAR': 'TOFL',\\n        'TLARtgt': 2000.,\\n        'crit': '<',\\n        'color': 'orange',\\n        'linetype': 'dot'\\n        },\\n        \\n}\""
      ]
     },
     "execution_count": 7,
     "metadata": {},
     "output_type": "execute_result"
    }
   ],
   "source": [
    "# if key contains tlar, it will be used to display green and red dot. Otherwise it will only be used to plot iso line\n",
    "isoDict = {  \n",
    "    'tlar1' : {\n",
    "        'TLAR': 'TOFL_generic',\n",
    "        'TLARtgt': 2400., # 1400.\n",
    "        'crit': '<',\n",
    "        'color': 'orange',\n",
    "        'linetype': 'solid',\n",
    "        'filter': {\n",
    "            'by': 'TOFL_generic',\n",
    "            'TLARtgt': 1.,\n",
    "            'crit': '>'}\n",
    "        },\n",
    "    'tlar2' : {\n",
    "        'TLAR': 'VLS',\n",
    "        'TLARtgt': 140., #120.\n",
    "        'crit': '<',\n",
    "        'color': 'green',\n",
    "        'linetype': 'solid'\n",
    "        },\n",
    "    'tlar3' : {\n",
    "        'TLAR':'TTC',\n",
    "        'TLARtgt': 25, # 0.3, \n",
    "        'crit': '<',\n",
    "        'color': 'blue',\n",
    "        'linetype': 'solid'\n",
    "        },\n",
    "    'tlar4' : {\n",
    "        'TLAR':'ICAC',\n",
    "        'TLARtgt':33000., # crit is 25000ft => \n",
    "        'crit': '>',\n",
    "        'color': 'purple', # do not plot iso lines (e.g. because not a continuous value)\n",
    "        'linetype': 'solid' # use to highlight low accuracy of curve due to the fact it is categorical variable (no interpoaltion)\n",
    "        } #,\n",
    "}\n",
    "'''\n",
    "    'trade1' : {\n",
    "        'TLAR': 'TOFL',\n",
    "        'TLARtgt': 1600.,\n",
    "        'crit': '<',\n",
    "        'color': 'orange',\n",
    "        'linetype': 'dash'\n",
    "        },\n",
    "    'trade2' : {\n",
    "        'TLAR': 'VAPP',\n",
    "        'TLARtgt': 125.,\n",
    "        'crit': '<',\n",
    "        'color': 'green',\n",
    "        'linetype': 'dash'\n",
    "        },\n",
    "    'trade3' : {\n",
    "        'TLAR': 'Cruise_ratio',\n",
    "        'TLARtgt': 0.25,\n",
    "        'crit': '<',\n",
    "        'color': 'blue',\n",
    "        'linetype': 'dash',\n",
    "        'filter': {\n",
    "            'by': 'init_Cruise_Alt',\n",
    "            'TLARtgt': 23001.,\n",
    "            'crit': '>'}\n",
    "        },\n",
    "    'trade4' : {\n",
    "        'TLAR': 'TOFL',\n",
    "        'TLARtgt': 2000.,\n",
    "        'crit': '<',\n",
    "        'color': 'orange',\n",
    "        'linetype': 'dot'\n",
    "        },\n",
    "        \n",
    "}'''"
   ]
  },
  {
   "cell_type": "markdown",
   "metadata": {},
   "source": [
    "# Generic 800nm"
   ]
  },
  {
   "cell_type": "code",
   "execution_count": 8,
   "metadata": {
    "scrolled": false
   },
   "outputs": [],
   "source": [
    "DOE=pd.read_csv('example.csv', sep=',')\n",
    "DOE=DOE[DOE.MCL==5800]\n",
    "# MWE_delta'  'Drag_factor'  'SFC_Factor'\n",
    "#DOE = DOE[(DOE.SFC_Factor==1.01)]\n",
    "DOE['status'] = DOE.apply(TLARstatus, axis=1, dico=isoDict)"
   ]
  },
  {
   "cell_type": "code",
   "execution_count": 10,
   "metadata": {
    "scrolled": false
   },
   "outputs": [
    {
     "data": {
      "application/vnd.plotly.v1+json": {
       "config": {
        "linkText": "Export to plot.ly",
        "plotlyServerURL": "https://plot.ly",
        "showLink": false
       },
       "data": [
        {
         "a": [
          145,
          145,
          145,
          145,
          145,
          145,
          150,
          150,
          150,
          150,
          150,
          150,
          155,
          155,
          155,
          155,
          155,
          155,
          160,
          160,
          160,
          160,
          160,
          160
         ],
         "aaxis": {
          "gridcolor": "black",
          "minorgridcolor": "rgb(230, 230, 230)",
          "minorgridcount": 4,
          "smoothing": 0,
          "title": {
           "text": "Total area (m²)"
          }
         },
         "b": [
          24000,
          26000,
          28000,
          30000,
          32000,
          34000,
          24000,
          26000,
          28000,
          30000,
          32000,
          34000,
          24000,
          26000,
          28000,
          30000,
          32000,
          34000,
          24000,
          26000,
          28000,
          30000,
          32000,
          34000
         ],
         "baxis": {
          "gridcolor": "black",
          "minorgridcolor": "rgb(230, 230, 230)",
          "minorgridcount": 3,
          "smoothing": 0,
          "title": {
           "text": "MTO_AET (lbf)"
          }
         },
         "type": "carpet",
         "y": [
          91831,
          92509,
          93164,
          93789,
          94427,
          95118,
          92066,
          92742,
          93391,
          94022,
          94655,
          95348,
          92344,
          93019,
          93670,
          94302,
          94937,
          95631,
          92674,
          93350,
          94000,
          94644,
          95280,
          95973
         ]
        },
        {
         "a": [
          145,
          150,
          150,
          150,
          155,
          155,
          155,
          155,
          160,
          160,
          160,
          160
         ],
         "b": [
          24000,
          24000,
          32000,
          34000,
          24000,
          30000,
          32000,
          34000,
          24000,
          30000,
          32000,
          34000
         ],
         "marker": {
          "color": "rgb(102, 255, 51)"
         },
         "mode": "markers",
         "name": "",
         "showlegend": false,
         "type": "scattercarpet"
        },
        {
         "a": [
          145,
          145,
          145,
          145,
          145,
          150,
          150,
          150,
          155,
          155,
          160,
          160
         ],
         "b": [
          26000,
          28000,
          30000,
          32000,
          34000,
          26000,
          28000,
          30000,
          26000,
          28000,
          26000,
          28000
         ],
         "marker": {
          "color": "red",
          "symbol": "circle"
         },
         "mode": "markers",
         "name": "",
         "showlegend": false,
         "type": "scattercarpet"
        },
        {
         "a": [
          147.2
         ],
         "b": [
          30400
         ],
         "marker": {
          "color": [
           "blue"
          ],
          "size": 12,
          "symbol": "star-square-open-dot"
         },
         "mode": "markers",
         "name": "",
         "showlegend": false,
         "type": "scattercarpet"
        },
        {
         "a": [
          145,
          150,
          150.63572910771552,
          155,
          160
         ],
         "b": [
          30657.01783911141,
          30074.13925860741,
          30000,
          29750.525691486495,
          29511.26878130217
         ],
         "line": {
          "color": "orange",
          "dash": "solid",
          "shape": "spline",
          "smoothing": 1
         },
         "mode": "lines",
         "name": "TOFL_generic: 2400.0",
         "type": "scattercarpet"
        },
        {
         "a": [
          145,
          145.6060606060606,
          146.35775862068965,
          147.0905172413793,
          147.78969957081546,
          148.46153846153845
         ],
         "b": [
          24486.486486486498,
          26000,
          28000,
          30000,
          32000,
          34000
         ],
         "line": {
          "color": "green",
          "dash": "solid",
          "shape": "spline",
          "smoothing": 1
         },
         "mode": "lines",
         "name": "VLS: 140.0",
         "type": "scattercarpet"
        },
        {
         "a": [],
         "b": [],
         "line": {
          "color": "blue",
          "dash": "solid",
          "shape": "spline",
          "smoothing": 1
         },
         "mode": "lines",
         "name": "TTC: 25",
         "type": "scattercarpet"
        },
        {
         "a": [],
         "b": [],
         "line": {
          "color": "purple",
          "dash": "solid",
          "shape": "spline",
          "smoothing": 1
         },
         "mode": "lines",
         "name": "ICAC: 33000.0",
         "type": "scattercarpet"
        }
       ],
       "layout": {
        "height": 310,
        "legend": {
         "x": 0.01,
         "xanchor": "left",
         "y": 0.99,
         "yanchor": "top"
        },
        "margin": {
         "b": 5,
         "l": 60,
         "r": 5,
         "t": 5
        },
        "paper_bgcolor": "LightSteelBlue",
        "plot_bgcolor": "rgba(250,250,250,1)",
        "template": {
         "data": {
          "bar": [
           {
            "error_x": {
             "color": "#2a3f5f"
            },
            "error_y": {
             "color": "#2a3f5f"
            },
            "marker": {
             "line": {
              "color": "#E5ECF6",
              "width": 0.5
             },
             "pattern": {
              "fillmode": "overlay",
              "size": 10,
              "solidity": 0.2
             }
            },
            "type": "bar"
           }
          ],
          "barpolar": [
           {
            "marker": {
             "line": {
              "color": "#E5ECF6",
              "width": 0.5
             },
             "pattern": {
              "fillmode": "overlay",
              "size": 10,
              "solidity": 0.2
             }
            },
            "type": "barpolar"
           }
          ],
          "carpet": [
           {
            "aaxis": {
             "endlinecolor": "#2a3f5f",
             "gridcolor": "white",
             "linecolor": "white",
             "minorgridcolor": "white",
             "startlinecolor": "#2a3f5f"
            },
            "baxis": {
             "endlinecolor": "#2a3f5f",
             "gridcolor": "white",
             "linecolor": "white",
             "minorgridcolor": "white",
             "startlinecolor": "#2a3f5f"
            },
            "type": "carpet"
           }
          ],
          "choropleth": [
           {
            "colorbar": {
             "outlinewidth": 0,
             "ticks": ""
            },
            "type": "choropleth"
           }
          ],
          "contour": [
           {
            "colorbar": {
             "outlinewidth": 0,
             "ticks": ""
            },
            "colorscale": [
             [
              0,
              "#0d0887"
             ],
             [
              0.1111111111111111,
              "#46039f"
             ],
             [
              0.2222222222222222,
              "#7201a8"
             ],
             [
              0.3333333333333333,
              "#9c179e"
             ],
             [
              0.4444444444444444,
              "#bd3786"
             ],
             [
              0.5555555555555556,
              "#d8576b"
             ],
             [
              0.6666666666666666,
              "#ed7953"
             ],
             [
              0.7777777777777778,
              "#fb9f3a"
             ],
             [
              0.8888888888888888,
              "#fdca26"
             ],
             [
              1,
              "#f0f921"
             ]
            ],
            "type": "contour"
           }
          ],
          "contourcarpet": [
           {
            "colorbar": {
             "outlinewidth": 0,
             "ticks": ""
            },
            "type": "contourcarpet"
           }
          ],
          "heatmap": [
           {
            "colorbar": {
             "outlinewidth": 0,
             "ticks": ""
            },
            "colorscale": [
             [
              0,
              "#0d0887"
             ],
             [
              0.1111111111111111,
              "#46039f"
             ],
             [
              0.2222222222222222,
              "#7201a8"
             ],
             [
              0.3333333333333333,
              "#9c179e"
             ],
             [
              0.4444444444444444,
              "#bd3786"
             ],
             [
              0.5555555555555556,
              "#d8576b"
             ],
             [
              0.6666666666666666,
              "#ed7953"
             ],
             [
              0.7777777777777778,
              "#fb9f3a"
             ],
             [
              0.8888888888888888,
              "#fdca26"
             ],
             [
              1,
              "#f0f921"
             ]
            ],
            "type": "heatmap"
           }
          ],
          "heatmapgl": [
           {
            "colorbar": {
             "outlinewidth": 0,
             "ticks": ""
            },
            "colorscale": [
             [
              0,
              "#0d0887"
             ],
             [
              0.1111111111111111,
              "#46039f"
             ],
             [
              0.2222222222222222,
              "#7201a8"
             ],
             [
              0.3333333333333333,
              "#9c179e"
             ],
             [
              0.4444444444444444,
              "#bd3786"
             ],
             [
              0.5555555555555556,
              "#d8576b"
             ],
             [
              0.6666666666666666,
              "#ed7953"
             ],
             [
              0.7777777777777778,
              "#fb9f3a"
             ],
             [
              0.8888888888888888,
              "#fdca26"
             ],
             [
              1,
              "#f0f921"
             ]
            ],
            "type": "heatmapgl"
           }
          ],
          "histogram": [
           {
            "marker": {
             "pattern": {
              "fillmode": "overlay",
              "size": 10,
              "solidity": 0.2
             }
            },
            "type": "histogram"
           }
          ],
          "histogram2d": [
           {
            "colorbar": {
             "outlinewidth": 0,
             "ticks": ""
            },
            "colorscale": [
             [
              0,
              "#0d0887"
             ],
             [
              0.1111111111111111,
              "#46039f"
             ],
             [
              0.2222222222222222,
              "#7201a8"
             ],
             [
              0.3333333333333333,
              "#9c179e"
             ],
             [
              0.4444444444444444,
              "#bd3786"
             ],
             [
              0.5555555555555556,
              "#d8576b"
             ],
             [
              0.6666666666666666,
              "#ed7953"
             ],
             [
              0.7777777777777778,
              "#fb9f3a"
             ],
             [
              0.8888888888888888,
              "#fdca26"
             ],
             [
              1,
              "#f0f921"
             ]
            ],
            "type": "histogram2d"
           }
          ],
          "histogram2dcontour": [
           {
            "colorbar": {
             "outlinewidth": 0,
             "ticks": ""
            },
            "colorscale": [
             [
              0,
              "#0d0887"
             ],
             [
              0.1111111111111111,
              "#46039f"
             ],
             [
              0.2222222222222222,
              "#7201a8"
             ],
             [
              0.3333333333333333,
              "#9c179e"
             ],
             [
              0.4444444444444444,
              "#bd3786"
             ],
             [
              0.5555555555555556,
              "#d8576b"
             ],
             [
              0.6666666666666666,
              "#ed7953"
             ],
             [
              0.7777777777777778,
              "#fb9f3a"
             ],
             [
              0.8888888888888888,
              "#fdca26"
             ],
             [
              1,
              "#f0f921"
             ]
            ],
            "type": "histogram2dcontour"
           }
          ],
          "mesh3d": [
           {
            "colorbar": {
             "outlinewidth": 0,
             "ticks": ""
            },
            "type": "mesh3d"
           }
          ],
          "parcoords": [
           {
            "line": {
             "colorbar": {
              "outlinewidth": 0,
              "ticks": ""
             }
            },
            "type": "parcoords"
           }
          ],
          "pie": [
           {
            "automargin": true,
            "type": "pie"
           }
          ],
          "scatter": [
           {
            "marker": {
             "colorbar": {
              "outlinewidth": 0,
              "ticks": ""
             }
            },
            "type": "scatter"
           }
          ],
          "scatter3d": [
           {
            "line": {
             "colorbar": {
              "outlinewidth": 0,
              "ticks": ""
             }
            },
            "marker": {
             "colorbar": {
              "outlinewidth": 0,
              "ticks": ""
             }
            },
            "type": "scatter3d"
           }
          ],
          "scattercarpet": [
           {
            "marker": {
             "colorbar": {
              "outlinewidth": 0,
              "ticks": ""
             }
            },
            "type": "scattercarpet"
           }
          ],
          "scattergeo": [
           {
            "marker": {
             "colorbar": {
              "outlinewidth": 0,
              "ticks": ""
             }
            },
            "type": "scattergeo"
           }
          ],
          "scattergl": [
           {
            "marker": {
             "colorbar": {
              "outlinewidth": 0,
              "ticks": ""
             }
            },
            "type": "scattergl"
           }
          ],
          "scattermapbox": [
           {
            "marker": {
             "colorbar": {
              "outlinewidth": 0,
              "ticks": ""
             }
            },
            "type": "scattermapbox"
           }
          ],
          "scatterpolar": [
           {
            "marker": {
             "colorbar": {
              "outlinewidth": 0,
              "ticks": ""
             }
            },
            "type": "scatterpolar"
           }
          ],
          "scatterpolargl": [
           {
            "marker": {
             "colorbar": {
              "outlinewidth": 0,
              "ticks": ""
             }
            },
            "type": "scatterpolargl"
           }
          ],
          "scatterternary": [
           {
            "marker": {
             "colorbar": {
              "outlinewidth": 0,
              "ticks": ""
             }
            },
            "type": "scatterternary"
           }
          ],
          "surface": [
           {
            "colorbar": {
             "outlinewidth": 0,
             "ticks": ""
            },
            "colorscale": [
             [
              0,
              "#0d0887"
             ],
             [
              0.1111111111111111,
              "#46039f"
             ],
             [
              0.2222222222222222,
              "#7201a8"
             ],
             [
              0.3333333333333333,
              "#9c179e"
             ],
             [
              0.4444444444444444,
              "#bd3786"
             ],
             [
              0.5555555555555556,
              "#d8576b"
             ],
             [
              0.6666666666666666,
              "#ed7953"
             ],
             [
              0.7777777777777778,
              "#fb9f3a"
             ],
             [
              0.8888888888888888,
              "#fdca26"
             ],
             [
              1,
              "#f0f921"
             ]
            ],
            "type": "surface"
           }
          ],
          "table": [
           {
            "cells": {
             "fill": {
              "color": "#EBF0F8"
             },
             "line": {
              "color": "white"
             }
            },
            "header": {
             "fill": {
              "color": "#C8D4E3"
             },
             "line": {
              "color": "white"
             }
            },
            "type": "table"
           }
          ]
         },
         "layout": {
          "annotationdefaults": {
           "arrowcolor": "#2a3f5f",
           "arrowhead": 0,
           "arrowwidth": 1
          },
          "autotypenumbers": "strict",
          "coloraxis": {
           "colorbar": {
            "outlinewidth": 0,
            "ticks": ""
           }
          },
          "colorscale": {
           "diverging": [
            [
             0,
             "#8e0152"
            ],
            [
             0.1,
             "#c51b7d"
            ],
            [
             0.2,
             "#de77ae"
            ],
            [
             0.3,
             "#f1b6da"
            ],
            [
             0.4,
             "#fde0ef"
            ],
            [
             0.5,
             "#f7f7f7"
            ],
            [
             0.6,
             "#e6f5d0"
            ],
            [
             0.7,
             "#b8e186"
            ],
            [
             0.8,
             "#7fbc41"
            ],
            [
             0.9,
             "#4d9221"
            ],
            [
             1,
             "#276419"
            ]
           ],
           "sequential": [
            [
             0,
             "#0d0887"
            ],
            [
             0.1111111111111111,
             "#46039f"
            ],
            [
             0.2222222222222222,
             "#7201a8"
            ],
            [
             0.3333333333333333,
             "#9c179e"
            ],
            [
             0.4444444444444444,
             "#bd3786"
            ],
            [
             0.5555555555555556,
             "#d8576b"
            ],
            [
             0.6666666666666666,
             "#ed7953"
            ],
            [
             0.7777777777777778,
             "#fb9f3a"
            ],
            [
             0.8888888888888888,
             "#fdca26"
            ],
            [
             1,
             "#f0f921"
            ]
           ],
           "sequentialminus": [
            [
             0,
             "#0d0887"
            ],
            [
             0.1111111111111111,
             "#46039f"
            ],
            [
             0.2222222222222222,
             "#7201a8"
            ],
            [
             0.3333333333333333,
             "#9c179e"
            ],
            [
             0.4444444444444444,
             "#bd3786"
            ],
            [
             0.5555555555555556,
             "#d8576b"
            ],
            [
             0.6666666666666666,
             "#ed7953"
            ],
            [
             0.7777777777777778,
             "#fb9f3a"
            ],
            [
             0.8888888888888888,
             "#fdca26"
            ],
            [
             1,
             "#f0f921"
            ]
           ]
          },
          "colorway": [
           "#636efa",
           "#EF553B",
           "#00cc96",
           "#ab63fa",
           "#FFA15A",
           "#19d3f3",
           "#FF6692",
           "#B6E880",
           "#FF97FF",
           "#FECB52"
          ],
          "font": {
           "color": "#2a3f5f"
          },
          "geo": {
           "bgcolor": "white",
           "lakecolor": "white",
           "landcolor": "#E5ECF6",
           "showlakes": true,
           "showland": true,
           "subunitcolor": "white"
          },
          "hoverlabel": {
           "align": "left"
          },
          "hovermode": "closest",
          "mapbox": {
           "style": "light"
          },
          "paper_bgcolor": "white",
          "plot_bgcolor": "#E5ECF6",
          "polar": {
           "angularaxis": {
            "gridcolor": "white",
            "linecolor": "white",
            "ticks": ""
           },
           "bgcolor": "#E5ECF6",
           "radialaxis": {
            "gridcolor": "white",
            "linecolor": "white",
            "ticks": ""
           }
          },
          "scene": {
           "xaxis": {
            "backgroundcolor": "#E5ECF6",
            "gridcolor": "white",
            "gridwidth": 2,
            "linecolor": "white",
            "showbackground": true,
            "ticks": "",
            "zerolinecolor": "white"
           },
           "yaxis": {
            "backgroundcolor": "#E5ECF6",
            "gridcolor": "white",
            "gridwidth": 2,
            "linecolor": "white",
            "showbackground": true,
            "ticks": "",
            "zerolinecolor": "white"
           },
           "zaxis": {
            "backgroundcolor": "#E5ECF6",
            "gridcolor": "white",
            "gridwidth": 2,
            "linecolor": "white",
            "showbackground": true,
            "ticks": "",
            "zerolinecolor": "white"
           }
          },
          "shapedefaults": {
           "line": {
            "color": "#2a3f5f"
           }
          },
          "ternary": {
           "aaxis": {
            "gridcolor": "white",
            "linecolor": "white",
            "ticks": ""
           },
           "baxis": {
            "gridcolor": "white",
            "linecolor": "white",
            "ticks": ""
           },
           "bgcolor": "#E5ECF6",
           "caxis": {
            "gridcolor": "white",
            "linecolor": "white",
            "ticks": ""
           }
          },
          "title": {
           "x": 0.05
          },
          "xaxis": {
           "automargin": true,
           "gridcolor": "white",
           "linecolor": "white",
           "ticks": "",
           "title": {
            "standoff": 15
           },
           "zerolinecolor": "white",
           "zerolinewidth": 2
          },
          "yaxis": {
           "automargin": true,
           "gridcolor": "white",
           "linecolor": "white",
           "ticks": "",
           "title": {
            "standoff": 15
           },
           "zerolinecolor": "white",
           "zerolinewidth": 2
          }
         }
        },
        "width": 640,
        "xaxis": {
         "range": [
          -0.075,
          1.075
         ],
         "visible": false
        },
        "yaxis": {
         "gridcolor": "rgba(220,220,220,0.8)",
         "gridwidth": 1.2,
         "range": [
          91080,
          96380
         ],
         "title": {
          "text": "MTOW [kg]"
         },
         "visible": true
        }
       }
      },
      "text/html": [
       "<div>                            <div id=\"8bab132f-2f81-4e05-bec6-b4f68e7bbaea\" class=\"plotly-graph-div\" style=\"height:310px; width:640px;\"></div>            <script type=\"text/javascript\">                require([\"plotly\"], function(Plotly) {                    window.PLOTLYENV=window.PLOTLYENV || {};                                    if (document.getElementById(\"8bab132f-2f81-4e05-bec6-b4f68e7bbaea\")) {                    Plotly.newPlot(                        \"8bab132f-2f81-4e05-bec6-b4f68e7bbaea\",                        [{\"a\":[145,145,145,145,145,145,150,150,150,150,150,150,155,155,155,155,155,155,160,160,160,160,160,160],\"aaxis\":{\"gridcolor\":\"black\",\"minorgridcolor\":\"rgb(230, 230, 230)\",\"minorgridcount\":4,\"smoothing\":0,\"title\":{\"text\":\"Total area (m\\u00b2)\"}},\"b\":[24000,26000,28000,30000,32000,34000,24000,26000,28000,30000,32000,34000,24000,26000,28000,30000,32000,34000,24000,26000,28000,30000,32000,34000],\"baxis\":{\"gridcolor\":\"black\",\"minorgridcolor\":\"rgb(230, 230, 230)\",\"minorgridcount\":3,\"smoothing\":0,\"title\":{\"text\":\"MTO_AET (lbf)\"}},\"y\":[91831,92509,93164,93789,94427,95118,92066,92742,93391,94022,94655,95348,92344,93019,93670,94302,94937,95631,92674,93350,94000,94644,95280,95973],\"type\":\"carpet\"},{\"a\":[145,150,150,150,155,155,155,155,160,160,160,160],\"b\":[24000,24000,32000,34000,24000,30000,32000,34000,24000,30000,32000,34000],\"marker\":{\"color\":\"rgb(102, 255, 51)\"},\"mode\":\"markers\",\"name\":\"\",\"showlegend\":false,\"type\":\"scattercarpet\"},{\"a\":[145,145,145,145,145,150,150,150,155,155,160,160],\"b\":[26000,28000,30000,32000,34000,26000,28000,30000,26000,28000,26000,28000],\"marker\":{\"color\":\"red\",\"symbol\":\"circle\"},\"mode\":\"markers\",\"name\":\"\",\"showlegend\":false,\"type\":\"scattercarpet\"},{\"a\":[147.2],\"b\":[30400],\"marker\":{\"color\":[\"blue\"],\"size\":12,\"symbol\":\"star-square-open-dot\"},\"mode\":\"markers\",\"name\":\"\",\"showlegend\":false,\"type\":\"scattercarpet\"},{\"a\":[145.0,150.0,150.63572910771552,155.0,160.0],\"b\":[30657.01783911141,30074.13925860741,30000.0,29750.525691486495,29511.26878130217],\"line\":{\"color\":\"orange\",\"dash\":\"solid\",\"shape\":\"spline\",\"smoothing\":1},\"mode\":\"lines\",\"name\":\"TOFL_generic: 2400.0\",\"type\":\"scattercarpet\"},{\"a\":[145.0,145.6060606060606,146.35775862068965,147.0905172413793,147.78969957081546,148.46153846153845],\"b\":[24486.486486486498,26000.0,28000.0,30000.0,32000.0,34000.0],\"line\":{\"color\":\"green\",\"dash\":\"solid\",\"shape\":\"spline\",\"smoothing\":1},\"mode\":\"lines\",\"name\":\"VLS: 140.0\",\"type\":\"scattercarpet\"},{\"a\":[],\"b\":[],\"line\":{\"color\":\"blue\",\"dash\":\"solid\",\"shape\":\"spline\",\"smoothing\":1},\"mode\":\"lines\",\"name\":\"TTC: 25\",\"type\":\"scattercarpet\"},{\"a\":[],\"b\":[],\"line\":{\"color\":\"purple\",\"dash\":\"solid\",\"shape\":\"spline\",\"smoothing\":1},\"mode\":\"lines\",\"name\":\"ICAC: 33000.0\",\"type\":\"scattercarpet\"}],                        {\"height\":310,\"legend\":{\"x\":0.01,\"xanchor\":\"left\",\"y\":0.99,\"yanchor\":\"top\"},\"margin\":{\"b\":5,\"l\":60,\"r\":5,\"t\":5},\"paper_bgcolor\":\"LightSteelBlue\",\"plot_bgcolor\":\"rgba(250,250,250,1)\",\"template\":{\"data\":{\"barpolar\":[{\"marker\":{\"line\":{\"color\":\"#E5ECF6\",\"width\":0.5},\"pattern\":{\"fillmode\":\"overlay\",\"size\":10,\"solidity\":0.2}},\"type\":\"barpolar\"}],\"bar\":[{\"error_x\":{\"color\":\"#2a3f5f\"},\"error_y\":{\"color\":\"#2a3f5f\"},\"marker\":{\"line\":{\"color\":\"#E5ECF6\",\"width\":0.5},\"pattern\":{\"fillmode\":\"overlay\",\"size\":10,\"solidity\":0.2}},\"type\":\"bar\"}],\"carpet\":[{\"aaxis\":{\"endlinecolor\":\"#2a3f5f\",\"gridcolor\":\"white\",\"linecolor\":\"white\",\"minorgridcolor\":\"white\",\"startlinecolor\":\"#2a3f5f\"},\"baxis\":{\"endlinecolor\":\"#2a3f5f\",\"gridcolor\":\"white\",\"linecolor\":\"white\",\"minorgridcolor\":\"white\",\"startlinecolor\":\"#2a3f5f\"},\"type\":\"carpet\"}],\"choropleth\":[{\"colorbar\":{\"outlinewidth\":0,\"ticks\":\"\"},\"type\":\"choropleth\"}],\"contourcarpet\":[{\"colorbar\":{\"outlinewidth\":0,\"ticks\":\"\"},\"type\":\"contourcarpet\"}],\"contour\":[{\"colorbar\":{\"outlinewidth\":0,\"ticks\":\"\"},\"colorscale\":[[0.0,\"#0d0887\"],[0.1111111111111111,\"#46039f\"],[0.2222222222222222,\"#7201a8\"],[0.3333333333333333,\"#9c179e\"],[0.4444444444444444,\"#bd3786\"],[0.5555555555555556,\"#d8576b\"],[0.6666666666666666,\"#ed7953\"],[0.7777777777777778,\"#fb9f3a\"],[0.8888888888888888,\"#fdca26\"],[1.0,\"#f0f921\"]],\"type\":\"contour\"}],\"heatmapgl\":[{\"colorbar\":{\"outlinewidth\":0,\"ticks\":\"\"},\"colorscale\":[[0.0,\"#0d0887\"],[0.1111111111111111,\"#46039f\"],[0.2222222222222222,\"#7201a8\"],[0.3333333333333333,\"#9c179e\"],[0.4444444444444444,\"#bd3786\"],[0.5555555555555556,\"#d8576b\"],[0.6666666666666666,\"#ed7953\"],[0.7777777777777778,\"#fb9f3a\"],[0.8888888888888888,\"#fdca26\"],[1.0,\"#f0f921\"]],\"type\":\"heatmapgl\"}],\"heatmap\":[{\"colorbar\":{\"outlinewidth\":0,\"ticks\":\"\"},\"colorscale\":[[0.0,\"#0d0887\"],[0.1111111111111111,\"#46039f\"],[0.2222222222222222,\"#7201a8\"],[0.3333333333333333,\"#9c179e\"],[0.4444444444444444,\"#bd3786\"],[0.5555555555555556,\"#d8576b\"],[0.6666666666666666,\"#ed7953\"],[0.7777777777777778,\"#fb9f3a\"],[0.8888888888888888,\"#fdca26\"],[1.0,\"#f0f921\"]],\"type\":\"heatmap\"}],\"histogram2dcontour\":[{\"colorbar\":{\"outlinewidth\":0,\"ticks\":\"\"},\"colorscale\":[[0.0,\"#0d0887\"],[0.1111111111111111,\"#46039f\"],[0.2222222222222222,\"#7201a8\"],[0.3333333333333333,\"#9c179e\"],[0.4444444444444444,\"#bd3786\"],[0.5555555555555556,\"#d8576b\"],[0.6666666666666666,\"#ed7953\"],[0.7777777777777778,\"#fb9f3a\"],[0.8888888888888888,\"#fdca26\"],[1.0,\"#f0f921\"]],\"type\":\"histogram2dcontour\"}],\"histogram2d\":[{\"colorbar\":{\"outlinewidth\":0,\"ticks\":\"\"},\"colorscale\":[[0.0,\"#0d0887\"],[0.1111111111111111,\"#46039f\"],[0.2222222222222222,\"#7201a8\"],[0.3333333333333333,\"#9c179e\"],[0.4444444444444444,\"#bd3786\"],[0.5555555555555556,\"#d8576b\"],[0.6666666666666666,\"#ed7953\"],[0.7777777777777778,\"#fb9f3a\"],[0.8888888888888888,\"#fdca26\"],[1.0,\"#f0f921\"]],\"type\":\"histogram2d\"}],\"histogram\":[{\"marker\":{\"pattern\":{\"fillmode\":\"overlay\",\"size\":10,\"solidity\":0.2}},\"type\":\"histogram\"}],\"mesh3d\":[{\"colorbar\":{\"outlinewidth\":0,\"ticks\":\"\"},\"type\":\"mesh3d\"}],\"parcoords\":[{\"line\":{\"colorbar\":{\"outlinewidth\":0,\"ticks\":\"\"}},\"type\":\"parcoords\"}],\"pie\":[{\"automargin\":true,\"type\":\"pie\"}],\"scatter3d\":[{\"line\":{\"colorbar\":{\"outlinewidth\":0,\"ticks\":\"\"}},\"marker\":{\"colorbar\":{\"outlinewidth\":0,\"ticks\":\"\"}},\"type\":\"scatter3d\"}],\"scattercarpet\":[{\"marker\":{\"colorbar\":{\"outlinewidth\":0,\"ticks\":\"\"}},\"type\":\"scattercarpet\"}],\"scattergeo\":[{\"marker\":{\"colorbar\":{\"outlinewidth\":0,\"ticks\":\"\"}},\"type\":\"scattergeo\"}],\"scattergl\":[{\"marker\":{\"colorbar\":{\"outlinewidth\":0,\"ticks\":\"\"}},\"type\":\"scattergl\"}],\"scattermapbox\":[{\"marker\":{\"colorbar\":{\"outlinewidth\":0,\"ticks\":\"\"}},\"type\":\"scattermapbox\"}],\"scatterpolargl\":[{\"marker\":{\"colorbar\":{\"outlinewidth\":0,\"ticks\":\"\"}},\"type\":\"scatterpolargl\"}],\"scatterpolar\":[{\"marker\":{\"colorbar\":{\"outlinewidth\":0,\"ticks\":\"\"}},\"type\":\"scatterpolar\"}],\"scatter\":[{\"marker\":{\"colorbar\":{\"outlinewidth\":0,\"ticks\":\"\"}},\"type\":\"scatter\"}],\"scatterternary\":[{\"marker\":{\"colorbar\":{\"outlinewidth\":0,\"ticks\":\"\"}},\"type\":\"scatterternary\"}],\"surface\":[{\"colorbar\":{\"outlinewidth\":0,\"ticks\":\"\"},\"colorscale\":[[0.0,\"#0d0887\"],[0.1111111111111111,\"#46039f\"],[0.2222222222222222,\"#7201a8\"],[0.3333333333333333,\"#9c179e\"],[0.4444444444444444,\"#bd3786\"],[0.5555555555555556,\"#d8576b\"],[0.6666666666666666,\"#ed7953\"],[0.7777777777777778,\"#fb9f3a\"],[0.8888888888888888,\"#fdca26\"],[1.0,\"#f0f921\"]],\"type\":\"surface\"}],\"table\":[{\"cells\":{\"fill\":{\"color\":\"#EBF0F8\"},\"line\":{\"color\":\"white\"}},\"header\":{\"fill\":{\"color\":\"#C8D4E3\"},\"line\":{\"color\":\"white\"}},\"type\":\"table\"}]},\"layout\":{\"annotationdefaults\":{\"arrowcolor\":\"#2a3f5f\",\"arrowhead\":0,\"arrowwidth\":1},\"autotypenumbers\":\"strict\",\"coloraxis\":{\"colorbar\":{\"outlinewidth\":0,\"ticks\":\"\"}},\"colorscale\":{\"diverging\":[[0,\"#8e0152\"],[0.1,\"#c51b7d\"],[0.2,\"#de77ae\"],[0.3,\"#f1b6da\"],[0.4,\"#fde0ef\"],[0.5,\"#f7f7f7\"],[0.6,\"#e6f5d0\"],[0.7,\"#b8e186\"],[0.8,\"#7fbc41\"],[0.9,\"#4d9221\"],[1,\"#276419\"]],\"sequential\":[[0.0,\"#0d0887\"],[0.1111111111111111,\"#46039f\"],[0.2222222222222222,\"#7201a8\"],[0.3333333333333333,\"#9c179e\"],[0.4444444444444444,\"#bd3786\"],[0.5555555555555556,\"#d8576b\"],[0.6666666666666666,\"#ed7953\"],[0.7777777777777778,\"#fb9f3a\"],[0.8888888888888888,\"#fdca26\"],[1.0,\"#f0f921\"]],\"sequentialminus\":[[0.0,\"#0d0887\"],[0.1111111111111111,\"#46039f\"],[0.2222222222222222,\"#7201a8\"],[0.3333333333333333,\"#9c179e\"],[0.4444444444444444,\"#bd3786\"],[0.5555555555555556,\"#d8576b\"],[0.6666666666666666,\"#ed7953\"],[0.7777777777777778,\"#fb9f3a\"],[0.8888888888888888,\"#fdca26\"],[1.0,\"#f0f921\"]]},\"colorway\":[\"#636efa\",\"#EF553B\",\"#00cc96\",\"#ab63fa\",\"#FFA15A\",\"#19d3f3\",\"#FF6692\",\"#B6E880\",\"#FF97FF\",\"#FECB52\"],\"font\":{\"color\":\"#2a3f5f\"},\"geo\":{\"bgcolor\":\"white\",\"lakecolor\":\"white\",\"landcolor\":\"#E5ECF6\",\"showlakes\":true,\"showland\":true,\"subunitcolor\":\"white\"},\"hoverlabel\":{\"align\":\"left\"},\"hovermode\":\"closest\",\"mapbox\":{\"style\":\"light\"},\"paper_bgcolor\":\"white\",\"plot_bgcolor\":\"#E5ECF6\",\"polar\":{\"angularaxis\":{\"gridcolor\":\"white\",\"linecolor\":\"white\",\"ticks\":\"\"},\"bgcolor\":\"#E5ECF6\",\"radialaxis\":{\"gridcolor\":\"white\",\"linecolor\":\"white\",\"ticks\":\"\"}},\"scene\":{\"xaxis\":{\"backgroundcolor\":\"#E5ECF6\",\"gridcolor\":\"white\",\"gridwidth\":2,\"linecolor\":\"white\",\"showbackground\":true,\"ticks\":\"\",\"zerolinecolor\":\"white\"},\"yaxis\":{\"backgroundcolor\":\"#E5ECF6\",\"gridcolor\":\"white\",\"gridwidth\":2,\"linecolor\":\"white\",\"showbackground\":true,\"ticks\":\"\",\"zerolinecolor\":\"white\"},\"zaxis\":{\"backgroundcolor\":\"#E5ECF6\",\"gridcolor\":\"white\",\"gridwidth\":2,\"linecolor\":\"white\",\"showbackground\":true,\"ticks\":\"\",\"zerolinecolor\":\"white\"}},\"shapedefaults\":{\"line\":{\"color\":\"#2a3f5f\"}},\"ternary\":{\"aaxis\":{\"gridcolor\":\"white\",\"linecolor\":\"white\",\"ticks\":\"\"},\"baxis\":{\"gridcolor\":\"white\",\"linecolor\":\"white\",\"ticks\":\"\"},\"bgcolor\":\"#E5ECF6\",\"caxis\":{\"gridcolor\":\"white\",\"linecolor\":\"white\",\"ticks\":\"\"}},\"title\":{\"x\":0.05},\"xaxis\":{\"automargin\":true,\"gridcolor\":\"white\",\"linecolor\":\"white\",\"ticks\":\"\",\"title\":{\"standoff\":15},\"zerolinecolor\":\"white\",\"zerolinewidth\":2},\"yaxis\":{\"automargin\":true,\"gridcolor\":\"white\",\"linecolor\":\"white\",\"ticks\":\"\",\"title\":{\"standoff\":15},\"zerolinecolor\":\"white\",\"zerolinewidth\":2}}},\"width\":640,\"xaxis\":{\"range\":[-0.075,1.075],\"visible\":false},\"yaxis\":{\"gridcolor\":\"rgba(220,220,220,0.8)\",\"gridwidth\":1.2,\"range\":[91080,96380],\"title\":{\"text\":\"MTOW [kg]\"},\"visible\":true}},                        {\"responsive\": true}                    ).then(function(){\n",
       "                            \n",
       "var gd = document.getElementById('8bab132f-2f81-4e05-bec6-b4f68e7bbaea');\n",
       "var x = new MutationObserver(function (mutations, observer) {{\n",
       "        var display = window.getComputedStyle(gd).display;\n",
       "        if (!display || display === 'none') {{\n",
       "            console.log([gd, 'removed!']);\n",
       "            Plotly.purge(gd);\n",
       "            observer.disconnect();\n",
       "        }}\n",
       "}});\n",
       "\n",
       "// Listen for the removal of the full notebook cells\n",
       "var notebookContainer = gd.closest('#notebook-container');\n",
       "if (notebookContainer) {{\n",
       "    x.observe(notebookContainer, {childList: true});\n",
       "}}\n",
       "\n",
       "// Listen for the clearing of the current output cell\n",
       "var outputEl = gd.closest('.output');\n",
       "if (outputEl) {{\n",
       "    x.observe(outputEl, {childList: true});\n",
       "}}\n",
       "\n",
       "                        })                };                });            </script>        </div>"
      ]
     },
     "metadata": {},
     "output_type": "display_data"
    },
    {
     "name": "stdout",
     "output_type": "stream",
     "text": [
      "MTOW sensitivities:\n",
      "+5% eng => 0.5% \n",
      "+5% wing => 0.5%\n"
     ]
    }
   ],
   "source": [
    "p = 'MTOW'\n",
    "carpetplot(p, unit='[kg]', L = [[147.2, 30400]])\n",
    "e= round((get_value_at(p, 30000*1.05, 150)/get_value_at(p, 30000, 150)-1)*100,1)\n",
    "w= round((get_value_at(p, 30000, 150*1.05)/get_value_at(p, 30000, 150)-1)*100,1)\n",
    "print(\"{} sensitivities:\\n+5% eng => {}% \\n+5% wing => {}%\".format(p, e,w))"
   ]
  },
  {
   "cell_type": "markdown",
   "metadata": {
    "collapsed": true
   },
   "source": [
    "# MCL parameters"
   ]
  },
  {
   "cell_type": "markdown",
   "metadata": {},
   "source": [
    "The purpose here is to check whether the optimum MCL thrust is influenced by the use cases. This can be done only considering fuel_cost as MCL effects on other costs (e.g. engine DMC) is not totally captured."
   ]
  },
  {
   "cell_type": "code",
   "execution_count": 11,
   "metadata": {},
   "outputs": [
    {
     "name": "stderr",
     "output_type": "stream",
     "text": [
      "/var/folders/cl/1j2m5n5d6tz7j370j52_b9v00000gn/T/ipykernel_74276/1155081908.py:13: SettingWithCopyWarning:\n",
      "\n",
      "\n",
      "A value is trying to be set on a copy of a slice from a DataFrame.\n",
      "Try using .loc[row_indexer,col_indexer] = value instead\n",
      "\n",
      "See the caveats in the documentation: https://pandas.pydata.org/pandas-docs/stable/user_guide/indexing.html#returning-a-view-versus-a-copy\n",
      "\n",
      "/var/folders/cl/1j2m5n5d6tz7j370j52_b9v00000gn/T/ipykernel_74276/1155081908.py:14: SettingWithCopyWarning:\n",
      "\n",
      "\n",
      "A value is trying to be set on a copy of a slice from a DataFrame.\n",
      "Try using .loc[row_indexer,col_indexer] = value instead\n",
      "\n",
      "See the caveats in the documentation: https://pandas.pydata.org/pandas-docs/stable/user_guide/indexing.html#returning-a-view-versus-a-copy\n",
      "\n",
      "/Users/to127534/opt/anaconda3/lib/python3.8/site-packages/scipy/interpolate/interpolate.py:630: RuntimeWarning:\n",
      "\n",
      "divide by zero encountered in true_divide\n",
      "\n"
     ]
    },
    {
     "data": {
      "application/vnd.plotly.v1+json": {
       "config": {
        "linkText": "Export to plot.ly",
        "plotlyServerURL": "https://plot.ly",
        "showLink": false
       },
       "data": [
        {
         "a": [
          145,
          145,
          145,
          145,
          150,
          150,
          150,
          150,
          155,
          155,
          155,
          155,
          160,
          160,
          160,
          160
         ],
         "aaxis": {
          "gridcolor": "black",
          "minorgridcolor": "rgb(230, 230, 230)",
          "minorgridcount": 4,
          "smoothing": 0,
          "title": {
           "offset": -10,
           "text": "Total area (m²)"
          }
         },
         "b": [
          28000,
          30000,
          32000,
          34000,
          28000,
          30000,
          32000,
          34000,
          28000,
          30000,
          32000,
          34000,
          28000,
          30000,
          32000,
          34000
         ],
         "baxis": {
          "gridcolor": "black",
          "minorgridcolor": "rgb(230, 230, 230)",
          "minorgridcount": 3,
          "smoothing": 0,
          "title": {
           "offset": -10,
           "text": "MTO_AET (lbf)"
          }
         },
         "carpet": "c_5600",
         "type": "carpet",
         "x": [
          0.5,
          0.33333333333333304,
          0.16666666666666652,
          0,
          0.666666666666667,
          0.5,
          0.3333333333333335,
          0.16666666666666696,
          0.8333333333333339,
          0.666666666666667,
          0.5000000000000004,
          0.3333333333333339,
          1,
          0.833333333333333,
          0.6666666666666665,
          0.5
         ],
         "y": [
          2843,
          2873,
          2921,
          2974,
          2872,
          2902,
          2948,
          3001,
          2902,
          2933,
          2978,
          3030,
          2934,
          2964,
          3010,
          3060
         ]
        },
        {
         "a": [],
         "b": [],
         "carpet": "c_5600",
         "marker": {
          "color": "rgb(102, 255, 51)",
          "size": 5
         },
         "mode": "markers",
         "name": "",
         "showlegend": false,
         "type": "scattercarpet"
        },
        {
         "a": [
          145,
          145,
          145,
          145,
          150,
          150,
          150,
          150,
          155,
          155,
          155,
          155,
          160,
          160,
          160,
          160
         ],
         "b": [
          28000,
          30000,
          32000,
          34000,
          28000,
          30000,
          32000,
          34000,
          28000,
          30000,
          32000,
          34000,
          28000,
          30000,
          32000,
          34000
         ],
         "carpet": "c_5600",
         "marker": {
          "color": "red",
          "size": 5,
          "symbol": "circle"
         },
         "mode": "markers",
         "name": "",
         "showlegend": false,
         "type": "scattercarpet"
        },
        {
         "a": [
          148.5
         ],
         "b": [
          30550
         ],
         "carpet": "c_6600",
         "marker": {
          "color": [
           "blue"
          ],
          "size": 12,
          "symbol": "star-square-open-dot"
         },
         "mode": "markers",
         "name": "",
         "showlegend": false,
         "type": "scattercarpet"
        },
        {
         "a": [
          145,
          150,
          150.5951642901426,
          155,
          160
         ],
         "b": [
          30607.08526752993,
          30032.130306241983,
          30000,
          29508.471892319874,
          29529.44217546399
         ],
         "carpet": "c_5600",
         "line": {
          "color": "orange",
          "dash": "solid",
          "shape": "spline",
          "smoothing": 1
         },
         "mode": "lines",
         "name": "TOFL_generic: 2400.0",
         "showlegend": true,
         "type": "scattercarpet"
        },
        {
         "a": [
          146.0606060606061,
          146.78879310344828,
          147.4784482758621,
          148.17596566523605
         ],
         "b": [
          28000,
          30000,
          32000,
          34000
         ],
         "carpet": "c_5600",
         "line": {
          "color": "green",
          "dash": "solid",
          "shape": "spline",
          "smoothing": 1
         },
         "mode": "lines",
         "name": "VLS: 140.0",
         "showlegend": true,
         "type": "scattercarpet"
        },
        {
         "a": [],
         "b": [],
         "carpet": "c_5600",
         "line": {
          "color": "blue",
          "dash": "solid",
          "shape": "spline",
          "smoothing": 1
         },
         "mode": "lines",
         "name": "TTC: 25",
         "showlegend": true,
         "type": "scattercarpet"
        },
        {
         "a": [
          145,
          149.6031746031746,
          150,
          155,
          155
         ],
         "b": [
          31110.047846889953,
          30000,
          29895.833333333332,
          28000,
          28000
         ],
         "carpet": "c_5600",
         "line": {
          "color": "purple",
          "dash": "solid",
          "shape": "spline",
          "smoothing": 1
         },
         "mode": "lines",
         "name": "ICAC: 33000.0",
         "showlegend": true,
         "type": "scattercarpet"
        },
        {
         "a": [
          145,
          145,
          145,
          145,
          150,
          150,
          150,
          150,
          155,
          155,
          155,
          155,
          160,
          160,
          160,
          160
         ],
         "aaxis": {
          "gridcolor": "black",
          "minorgridcolor": "rgb(230, 230, 230)",
          "minorgridcount": 4,
          "smoothing": 0,
          "title": {
           "offset": -10,
           "text": "Total area (m²)"
          }
         },
         "b": [
          28000,
          30000,
          32000,
          34000,
          28000,
          30000,
          32000,
          34000,
          28000,
          30000,
          32000,
          34000,
          28000,
          30000,
          32000,
          34000
         ],
         "baxis": {
          "gridcolor": "black",
          "minorgridcolor": "rgb(230, 230, 230)",
          "minorgridcount": 3,
          "smoothing": 0,
          "title": {
           "offset": -10,
           "text": "MTO_AET (lbf)"
          }
         },
         "carpet": "c_5800",
         "type": "carpet",
         "x": [
          2,
          1.833333333333333,
          1.6666666666666665,
          1.5,
          2.166666666666667,
          2,
          1.8333333333333335,
          1.666666666666667,
          2.333333333333334,
          2.166666666666667,
          2.0000000000000004,
          1.833333333333334,
          2.5,
          2.333333333333333,
          2.1666666666666665,
          2
         ],
         "y": [
          2843,
          2871,
          2909,
          2961,
          2870,
          2899,
          2937,
          2989,
          2900,
          2930,
          2967,
          3017,
          2931,
          2960,
          2998,
          3047
         ]
        },
        {
         "a": [
          150,
          150,
          155,
          155,
          155,
          160,
          160,
          160
         ],
         "b": [
          32000,
          34000,
          30000,
          32000,
          34000,
          30000,
          32000,
          34000
         ],
         "carpet": "c_5800",
         "marker": {
          "color": "rgb(102, 255, 51)",
          "size": 5
         },
         "mode": "markers",
         "name": "",
         "showlegend": false,
         "type": "scattercarpet"
        },
        {
         "a": [
          145,
          145,
          145,
          145,
          150,
          150,
          155,
          160
         ],
         "b": [
          28000,
          30000,
          32000,
          34000,
          28000,
          30000,
          28000,
          28000
         ],
         "carpet": "c_5800",
         "marker": {
          "color": "red",
          "size": 5,
          "symbol": "circle"
         },
         "mode": "markers",
         "name": "",
         "showlegend": false,
         "type": "scattercarpet"
        },
        {
         "a": [
          148.5
         ],
         "b": [
          30550
         ],
         "carpet": "c_6600",
         "marker": {
          "color": [
           "blue"
          ],
          "size": 12,
          "symbol": "star-square-open-dot"
         },
         "mode": "markers",
         "name": "",
         "showlegend": false,
         "type": "scattercarpet"
        },
        {
         "a": [
          145,
          150,
          150.63572910771552,
          155,
          160
         ],
         "b": [
          30657.01783911141,
          30074.13925860741,
          30000,
          29750.525691486495,
          29511.26878130217
         ],
         "carpet": "c_5800",
         "line": {
          "color": "orange",
          "dash": "solid",
          "shape": "spline",
          "smoothing": 1
         },
         "mode": "lines",
         "name": "TOFL_generic: 2400.0",
         "showlegend": false,
         "type": "scattercarpet"
        },
        {
         "a": [
          145,
          145.6060606060606,
          146.35775862068965,
          147.0905172413793,
          147.78969957081546,
          148.46153846153845
         ],
         "b": [
          24486.486486486498,
          26000,
          28000,
          30000,
          32000,
          34000
         ],
         "carpet": "c_5800",
         "line": {
          "color": "green",
          "dash": "solid",
          "shape": "spline",
          "smoothing": 1
         },
         "mode": "lines",
         "name": "VLS: 140.0",
         "showlegend": false,
         "type": "scattercarpet"
        },
        {
         "a": [],
         "b": [],
         "carpet": "c_5800",
         "line": {
          "color": "blue",
          "dash": "solid",
          "shape": "spline",
          "smoothing": 1
         },
         "mode": "lines",
         "name": "TTC: 25",
         "showlegend": false,
         "type": "scattercarpet"
        },
        {
         "a": [],
         "b": [],
         "carpet": "c_5800",
         "line": {
          "color": "purple",
          "dash": "solid",
          "shape": "spline",
          "smoothing": 1
         },
         "mode": "lines",
         "name": "ICAC: 33000.0",
         "showlegend": false,
         "type": "scattercarpet"
        },
        {
         "a": [
          145,
          145,
          145,
          145,
          150,
          150,
          150,
          150,
          155,
          155,
          155,
          155,
          160,
          160,
          160,
          160
         ],
         "aaxis": {
          "gridcolor": "black",
          "minorgridcolor": "rgb(230, 230, 230)",
          "minorgridcount": 4,
          "smoothing": 0,
          "title": {
           "offset": -10,
           "text": "Total area (m²)"
          }
         },
         "b": [
          28000,
          30000,
          32000,
          34000,
          28000,
          30000,
          32000,
          34000,
          28000,
          30000,
          32000,
          34000,
          28000,
          30000,
          32000,
          34000
         ],
         "baxis": {
          "gridcolor": "black",
          "minorgridcolor": "rgb(230, 230, 230)",
          "minorgridcount": 3,
          "smoothing": 0,
          "title": {
           "offset": -10,
           "text": "MTO_AET (lbf)"
          }
         },
         "carpet": "c_6000",
         "type": "carpet",
         "x": [
          3.5,
          3.333333333333333,
          3.1666666666666665,
          3,
          3.666666666666667,
          3.5,
          3.3333333333333335,
          3.166666666666667,
          3.833333333333334,
          3.666666666666667,
          3.5000000000000004,
          3.333333333333334,
          4,
          3.833333333333333,
          3.6666666666666665,
          3.5
         ],
         "y": [
          2843,
          2872,
          2900,
          2950,
          2871,
          2899,
          2927,
          2977,
          2899,
          2929,
          2958,
          3006,
          2929,
          2959,
          2987,
          3035
         ]
        },
        {
         "a": [
          150,
          150,
          155,
          155,
          155,
          160,
          160,
          160
         ],
         "b": [
          32000,
          34000,
          30000,
          32000,
          34000,
          30000,
          32000,
          34000
         ],
         "carpet": "c_6000",
         "marker": {
          "color": "rgb(102, 255, 51)",
          "size": 5
         },
         "mode": "markers",
         "name": "",
         "showlegend": false,
         "type": "scattercarpet"
        },
        {
         "a": [
          145,
          145,
          145,
          145,
          150,
          150,
          155,
          160
         ],
         "b": [
          28000,
          30000,
          32000,
          34000,
          28000,
          30000,
          28000,
          28000
         ],
         "carpet": "c_6000",
         "marker": {
          "color": "red",
          "size": 5,
          "symbol": "circle"
         },
         "mode": "markers",
         "name": "",
         "showlegend": false,
         "type": "scattercarpet"
        },
        {
         "a": [
          148.5
         ],
         "b": [
          30550
         ],
         "carpet": "c_6600",
         "marker": {
          "color": [
           "blue"
          ],
          "size": 12,
          "symbol": "star-square-open-dot"
         },
         "mode": "markers",
         "name": "",
         "showlegend": false,
         "type": "scattercarpet"
        },
        {
         "a": [
          145,
          150,
          151.2182086251382,
          155,
          160
         ],
         "b": [
          30714.306131199082,
          30143.93815667701,
          30000,
          29595.20639147803,
          29563.90977443609
         ],
         "carpet": "c_6000",
         "line": {
          "color": "orange",
          "dash": "solid",
          "shape": "spline",
          "smoothing": 1
         },
         "mode": "lines",
         "name": "TOFL_generic: 2400.0",
         "showlegend": false,
         "type": "scattercarpet"
        },
        {
         "a": [
          146.6594827586207,
          147.38197424892707,
          148.09012875536482,
          148.76068376068375
         ],
         "b": [
          28000,
          30000,
          32000,
          34000
         ],
         "carpet": "c_6000",
         "line": {
          "color": "green",
          "dash": "solid",
          "shape": "spline",
          "smoothing": 1
         },
         "mode": "lines",
         "name": "VLS: 140.0",
         "showlegend": false,
         "type": "scattercarpet"
        },
        {
         "a": [],
         "b": [],
         "carpet": "c_6000",
         "line": {
          "color": "blue",
          "dash": "solid",
          "shape": "spline",
          "smoothing": 1
         },
         "mode": "lines",
         "name": "TTC: 25",
         "showlegend": false,
         "type": "scattercarpet"
        },
        {
         "a": [],
         "b": [],
         "carpet": "c_6000",
         "line": {
          "color": "purple",
          "dash": "solid",
          "shape": "spline",
          "smoothing": 1
         },
         "mode": "lines",
         "name": "ICAC: 33000.0",
         "showlegend": false,
         "type": "scattercarpet"
        },
        {
         "a": [
          145,
          145,
          145,
          145,
          150,
          150,
          150,
          150,
          155,
          155,
          155,
          155,
          160,
          160,
          160,
          160
         ],
         "aaxis": {
          "gridcolor": "black",
          "minorgridcolor": "rgb(230, 230, 230)",
          "minorgridcount": 4,
          "smoothing": 0,
          "title": {
           "offset": -10,
           "text": "Total area (m²)"
          }
         },
         "b": [
          28000,
          30000,
          32000,
          34000,
          28000,
          30000,
          32000,
          34000,
          28000,
          30000,
          32000,
          34000,
          28000,
          30000,
          32000,
          34000
         ],
         "baxis": {
          "gridcolor": "black",
          "minorgridcolor": "rgb(230, 230, 230)",
          "minorgridcount": 3,
          "smoothing": 0,
          "title": {
           "offset": -10,
           "text": "MTO_AET (lbf)"
          }
         },
         "carpet": "c_6200",
         "type": "carpet",
         "x": [
          5,
          4.833333333333333,
          4.666666666666666,
          4.5,
          5.166666666666667,
          5,
          4.833333333333334,
          4.666666666666667,
          5.333333333333334,
          5.166666666666667,
          5,
          4.833333333333334,
          5.5,
          5.333333333333333,
          5.166666666666666,
          5
         ],
         "y": [
          2845,
          2874,
          2903,
          2940,
          2871,
          2901,
          2930,
          2967,
          2900,
          2929,
          2958,
          2996,
          2929,
          2959,
          2987,
          3025
         ]
        },
        {
         "a": [
          150,
          150,
          155,
          155,
          155,
          160,
          160,
          160
         ],
         "b": [
          32000,
          34000,
          30000,
          32000,
          34000,
          30000,
          32000,
          34000
         ],
         "carpet": "c_6200",
         "marker": {
          "color": "rgb(102, 255, 51)",
          "size": 5
         },
         "mode": "markers",
         "name": "",
         "showlegend": false,
         "type": "scattercarpet"
        },
        {
         "a": [
          145,
          145,
          145,
          145,
          150,
          150,
          155,
          160
         ],
         "b": [
          28000,
          30000,
          32000,
          34000,
          28000,
          30000,
          28000,
          28000
         ],
         "carpet": "c_6200",
         "marker": {
          "color": "red",
          "size": 5,
          "symbol": "circle"
         },
         "mode": "markers",
         "name": "",
         "showlegend": false,
         "type": "scattercarpet"
        },
        {
         "a": [
          148.5
         ],
         "b": [
          30550
         ],
         "carpet": "c_6600",
         "marker": {
          "color": [
           "blue"
          ],
          "size": 12,
          "symbol": "star-square-open-dot"
         },
         "mode": "markers",
         "name": "",
         "showlegend": false,
         "type": "scattercarpet"
        },
        {
         "a": [
          145,
          150,
          151.84020044543428,
          155,
          160
         ],
         "b": [
          30784.109379481786,
          30215.87197909863,
          30000,
          29680.146540791884,
          29634.82420473571
         ],
         "carpet": "c_6200",
         "line": {
          "color": "orange",
          "dash": "solid",
          "shape": "spline",
          "smoothing": 1
         },
         "mode": "lines",
         "name": "TOFL_generic: 2400.0",
         "showlegend": false,
         "type": "scattercarpet"
        },
        {
         "a": [
          146.9396551724138,
          147.68240343347637,
          148.39055793991417,
          149.06382978723406
         ],
         "b": [
          28000,
          30000,
          32000,
          34000
         ],
         "carpet": "c_6200",
         "line": {
          "color": "green",
          "dash": "solid",
          "shape": "spline",
          "smoothing": 1
         },
         "mode": "lines",
         "name": "VLS: 140.0",
         "showlegend": false,
         "type": "scattercarpet"
        },
        {
         "a": [],
         "b": [],
         "carpet": "c_6200",
         "line": {
          "color": "blue",
          "dash": "solid",
          "shape": "spline",
          "smoothing": 1
         },
         "mode": "lines",
         "name": "TTC: 25",
         "showlegend": false,
         "type": "scattercarpet"
        },
        {
         "a": [],
         "b": [],
         "carpet": "c_6200",
         "line": {
          "color": "purple",
          "dash": "solid",
          "shape": "spline",
          "smoothing": 1
         },
         "mode": "lines",
         "name": "ICAC: 33000.0",
         "showlegend": false,
         "type": "scattercarpet"
        },
        {
         "a": [
          145,
          145,
          145,
          145,
          150,
          150,
          150,
          150,
          155,
          155,
          155,
          155,
          160,
          160,
          160,
          160
         ],
         "aaxis": {
          "gridcolor": "black",
          "minorgridcolor": "rgb(230, 230, 230)",
          "minorgridcount": 4,
          "smoothing": 0,
          "title": {
           "offset": -10,
           "text": "Total area (m²)"
          }
         },
         "b": [
          28000,
          30000,
          32000,
          34000,
          28000,
          30000,
          32000,
          34000,
          28000,
          30000,
          32000,
          34000,
          28000,
          30000,
          32000,
          34000
         ],
         "baxis": {
          "gridcolor": "black",
          "minorgridcolor": "rgb(230, 230, 230)",
          "minorgridcount": 3,
          "smoothing": 0,
          "title": {
           "offset": -10,
           "text": "MTO_AET (lbf)"
          }
         },
         "carpet": "c_6400",
         "type": "carpet",
         "x": [
          6.5,
          6.333333333333333,
          6.166666666666666,
          6,
          6.666666666666667,
          6.5,
          6.333333333333334,
          6.166666666666667,
          6.833333333333334,
          6.666666666666667,
          6.5,
          6.333333333333334,
          7,
          6.833333333333333,
          6.666666666666666,
          6.5
         ],
         "y": [
          2848,
          2877,
          2906,
          2933,
          2874,
          2904,
          2933,
          2960,
          2902,
          2932,
          2960,
          2988,
          2931,
          2961,
          2989,
          3017
         ]
        },
        {
         "a": [
          150,
          150,
          155,
          155,
          155,
          160,
          160,
          160
         ],
         "b": [
          32000,
          34000,
          30000,
          32000,
          34000,
          30000,
          32000,
          34000
         ],
         "carpet": "c_6400",
         "marker": {
          "color": "rgb(102, 255, 51)",
          "size": 5
         },
         "mode": "markers",
         "name": "",
         "showlegend": false,
         "type": "scattercarpet"
        },
        {
         "a": [
          145,
          145,
          145,
          145,
          150,
          150,
          155,
          160
         ],
         "b": [
          28000,
          30000,
          32000,
          34000,
          28000,
          30000,
          28000,
          28000
         ],
         "carpet": "c_6400",
         "marker": {
          "color": "red",
          "size": 5,
          "symbol": "circle"
         },
         "mode": "markers",
         "name": "",
         "showlegend": false,
         "type": "scattercarpet"
        },
        {
         "a": [
          148.5
         ],
         "b": [
          30550
         ],
         "carpet": "c_6600",
         "marker": {
          "color": [
           "blue"
          ],
          "size": 12,
          "symbol": "star-square-open-dot"
         },
         "mode": "markers",
         "name": "",
         "showlegend": false,
         "type": "scattercarpet"
        },
        {
         "a": [
          145,
          150,
          152.54195993502978,
          155,
          160
         ],
         "b": [
          30858.728652751426,
          30304.58993350273,
          30000,
          29759.86247630802,
          29718.089698732223
         ],
         "carpet": "c_6400",
         "line": {
          "color": "orange",
          "dash": "solid",
          "shape": "spline",
          "smoothing": 1
         },
         "mode": "lines",
         "name": "TOFL_generic: 2400.0",
         "showlegend": false,
         "type": "scattercarpet"
        },
        {
         "a": [
          147.21982758620692,
          147.96137339055795,
          148.67521367521366,
          149.36170212765956
         ],
         "b": [
          28000,
          30000,
          32000,
          34000
         ],
         "carpet": "c_6400",
         "line": {
          "color": "green",
          "dash": "solid",
          "shape": "spline",
          "smoothing": 1
         },
         "mode": "lines",
         "name": "VLS: 140.0",
         "showlegend": false,
         "type": "scattercarpet"
        },
        {
         "a": [],
         "b": [],
         "carpet": "c_6400",
         "line": {
          "color": "blue",
          "dash": "solid",
          "shape": "spline",
          "smoothing": 1
         },
         "mode": "lines",
         "name": "TTC: 25",
         "showlegend": false,
         "type": "scattercarpet"
        },
        {
         "a": [],
         "b": [],
         "carpet": "c_6400",
         "line": {
          "color": "purple",
          "dash": "solid",
          "shape": "spline",
          "smoothing": 1
         },
         "mode": "lines",
         "name": "ICAC: 33000.0",
         "showlegend": false,
         "type": "scattercarpet"
        },
        {
         "a": [
          145,
          145,
          145,
          145,
          150,
          150,
          150,
          150,
          155,
          155,
          155,
          155,
          160,
          160,
          160,
          160
         ],
         "aaxis": {
          "gridcolor": "black",
          "minorgridcolor": "rgb(230, 230, 230)",
          "minorgridcount": 4,
          "smoothing": 0,
          "title": {
           "offset": -10,
           "text": "Total area (m²)"
          }
         },
         "b": [
          28000,
          30000,
          32000,
          34000,
          28000,
          30000,
          32000,
          34000,
          28000,
          30000,
          32000,
          34000,
          28000,
          30000,
          32000,
          34000
         ],
         "baxis": {
          "gridcolor": "black",
          "minorgridcolor": "rgb(230, 230, 230)",
          "minorgridcount": 3,
          "smoothing": 0,
          "title": {
           "offset": -10,
           "text": "MTO_AET (lbf)"
          }
         },
         "carpet": "c_6600",
         "type": "carpet",
         "x": [
          8,
          7.833333333333333,
          7.666666666666666,
          7.5,
          8.166666666666668,
          8,
          7.833333333333334,
          7.666666666666667,
          8.333333333333334,
          8.166666666666668,
          8,
          7.833333333333334,
          8.5,
          8.333333333333332,
          8.166666666666666,
          8
         ],
         "y": [
          2851,
          2880,
          2910,
          2937,
          2877,
          2907,
          2936,
          2963,
          2904,
          2934,
          2963,
          2991,
          2932,
          2962,
          2992,
          3020
         ]
        },
        {
         "a": [
          150,
          150,
          155,
          155,
          155,
          160,
          160,
          160
         ],
         "b": [
          32000,
          34000,
          30000,
          32000,
          34000,
          30000,
          32000,
          34000
         ],
         "carpet": "c_6600",
         "marker": {
          "color": "rgb(102, 255, 51)",
          "size": 5
         },
         "mode": "markers",
         "name": "",
         "showlegend": false,
         "type": "scattercarpet"
        },
        {
         "a": [
          145,
          145,
          145,
          145,
          150,
          150,
          155,
          160
         ],
         "b": [
          28000,
          30000,
          32000,
          34000,
          28000,
          30000,
          28000,
          28000
         ],
         "carpet": "c_6600",
         "marker": {
          "color": "red",
          "size": 5,
          "symbol": "circle"
         },
         "mode": "markers",
         "name": "",
         "showlegend": false,
         "type": "scattercarpet"
        },
        {
         "a": [
          148.5
         ],
         "b": [
          30550
         ],
         "carpet": "c_6600",
         "marker": {
          "color": [
           "blue"
          ],
          "size": 12,
          "symbol": "star-square-open-dot"
         },
         "mode": "markers",
         "name": "",
         "showlegend": false,
         "type": "scattercarpet"
        },
        {
         "a": [
          145,
          150,
          153.18630910374029,
          155,
          160
         ],
         "b": [
          30934.35345234722,
          30389.475954280784,
          30000,
          29827.386449500464,
          29792.797449814767
         ],
         "carpet": "c_6600",
         "line": {
          "color": "orange",
          "dash": "solid",
          "shape": "spline",
          "smoothing": 1
         },
         "mode": "lines",
         "name": "TOFL_generic: 2400.0",
         "showlegend": false,
         "type": "scattercarpet"
        },
        {
         "a": [
          147.5,
          148.24786324786328,
          148.974358974359,
          149.6595744680851
         ],
         "b": [
          28000,
          30000,
          32000,
          34000
         ],
         "carpet": "c_6600",
         "line": {
          "color": "green",
          "dash": "solid",
          "shape": "spline",
          "smoothing": 1
         },
         "mode": "lines",
         "name": "VLS: 140.0",
         "showlegend": false,
         "type": "scattercarpet"
        },
        {
         "a": [],
         "b": [],
         "carpet": "c_6600",
         "line": {
          "color": "blue",
          "dash": "solid",
          "shape": "spline",
          "smoothing": 1
         },
         "mode": "lines",
         "name": "TTC: 25",
         "showlegend": false,
         "type": "scattercarpet"
        },
        {
         "a": [],
         "b": [],
         "carpet": "c_6600",
         "line": {
          "color": "purple",
          "dash": "solid",
          "shape": "spline",
          "smoothing": 1
         },
         "mode": "lines",
         "name": "ICAC: 33000.0",
         "showlegend": false,
         "type": "scattercarpet"
        },
        {
         "a": [
          145,
          145,
          145,
          145,
          150,
          150,
          150,
          150,
          155,
          155,
          155,
          155,
          160,
          160,
          160,
          160
         ],
         "aaxis": {
          "gridcolor": "black",
          "minorgridcolor": "rgb(230, 230, 230)",
          "minorgridcount": 4,
          "smoothing": 0,
          "title": {
           "offset": -10,
           "text": "Total area (m²)"
          }
         },
         "b": [
          28000,
          30000,
          32000,
          34000,
          28000,
          30000,
          32000,
          34000,
          28000,
          30000,
          32000,
          34000,
          28000,
          30000,
          32000,
          34000
         ],
         "baxis": {
          "gridcolor": "black",
          "minorgridcolor": "rgb(230, 230, 230)",
          "minorgridcount": 3,
          "smoothing": 0,
          "title": {
           "offset": -10,
           "text": "MTO_AET (lbf)"
          }
         },
         "carpet": "c_6800",
         "type": "carpet",
         "x": [
          9.5,
          9.333333333333332,
          9.166666666666666,
          9,
          9.666666666666668,
          9.5,
          9.333333333333334,
          9.166666666666668,
          9.833333333333334,
          9.666666666666668,
          9.5,
          9.333333333333334,
          10,
          9.833333333333332,
          9.666666666666666,
          9.5
         ],
         "y": [
          2854,
          2884,
          2914,
          2941,
          2880,
          2910,
          2940,
          2968,
          2906,
          2938,
          2967,
          2995,
          2935,
          2965,
          2995,
          3023
         ]
        },
        {
         "a": [
          150,
          150,
          155,
          155,
          155,
          160,
          160,
          160
         ],
         "b": [
          32000,
          34000,
          30000,
          32000,
          34000,
          30000,
          32000,
          34000
         ],
         "carpet": "c_6800",
         "marker": {
          "color": "rgb(102, 255, 51)",
          "size": 5
         },
         "mode": "markers",
         "name": "",
         "showlegend": false,
         "type": "scattercarpet"
        },
        {
         "a": [
          145,
          145,
          145,
          145,
          150,
          150,
          155,
          160
         ],
         "b": [
          28000,
          30000,
          32000,
          34000,
          28000,
          30000,
          28000,
          28000
         ],
         "carpet": "c_6800",
         "marker": {
          "color": "red",
          "size": 5,
          "symbol": "circle"
         },
         "mode": "markers",
         "name": "",
         "showlegend": false,
         "type": "scattercarpet"
        },
        {
         "a": [
          148.5
         ],
         "b": [
          30550
         ],
         "carpet": "c_6600",
         "marker": {
          "color": [
           "blue"
          ],
          "size": 12,
          "symbol": "star-square-open-dot"
         },
         "mode": "markers",
         "name": "",
         "showlegend": false,
         "type": "scattercarpet"
        },
        {
         "a": [
          145,
          150,
          153.8909640697261,
          155,
          160
         ],
         "b": [
          31017.692055000236,
          30472.513230370452,
          30000,
          29902.18073423282,
          29862.718597698324
         ],
         "carpet": "c_6800",
         "line": {
          "color": "orange",
          "dash": "solid",
          "shape": "spline",
          "smoothing": 1
         },
         "mode": "lines",
         "name": "TOFL_generic: 2400.0",
         "showlegend": false,
         "type": "scattercarpet"
        },
        {
         "a": [
          147.76824034334763,
          148.52564102564102,
          149.25213675213678,
          149.9364406779661
         ],
         "b": [
          28000,
          30000,
          32000,
          34000
         ],
         "carpet": "c_6800",
         "line": {
          "color": "green",
          "dash": "solid",
          "shape": "spline",
          "smoothing": 1
         },
         "mode": "lines",
         "name": "VLS: 140.0",
         "showlegend": false,
         "type": "scattercarpet"
        },
        {
         "a": [],
         "b": [],
         "carpet": "c_6800",
         "line": {
          "color": "blue",
          "dash": "solid",
          "shape": "spline",
          "smoothing": 1
         },
         "mode": "lines",
         "name": "TTC: 25",
         "showlegend": false,
         "type": "scattercarpet"
        },
        {
         "a": [],
         "b": [],
         "carpet": "c_6800",
         "line": {
          "color": "purple",
          "dash": "solid",
          "shape": "spline",
          "smoothing": 1
         },
         "mode": "lines",
         "name": "ICAC: 33000.0",
         "showlegend": false,
         "type": "scattercarpet"
        }
       ],
       "layout": {
        "annotations": [
         {
          "showarrow": false,
          "text": "MCL: 5600 lbf",
          "x": 0.5,
          "y": 2843,
          "yshift": -50
         },
         {
          "showarrow": false,
          "text": "MCL: 5800 lbf",
          "x": 2,
          "y": 2843,
          "yshift": -50
         },
         {
          "showarrow": false,
          "text": "MCL: 6000 lbf",
          "x": 3.5,
          "y": 2843,
          "yshift": -50
         },
         {
          "showarrow": false,
          "text": "MCL: 6200 lbf",
          "x": 5,
          "y": 2845,
          "yshift": -50
         },
         {
          "showarrow": false,
          "text": "MCL: 6400 lbf",
          "x": 6.5,
          "y": 2848,
          "yshift": -50
         },
         {
          "showarrow": false,
          "text": "MCL: 6600 lbf",
          "x": 8,
          "y": 2851,
          "yshift": -50
         },
         {
          "showarrow": false,
          "text": "MCL: 6800 lbf",
          "x": 9.5,
          "y": 2854,
          "yshift": -50
         }
        ],
        "height": 510,
        "legend": {
         "x": 0.01,
         "xanchor": "left",
         "y": 0.99,
         "yanchor": "top"
        },
        "margin": {
         "b": 35,
         "l": 60,
         "r": 5,
         "t": 5
        },
        "paper_bgcolor": "LightSteelBlue",
        "plot_bgcolor": "rgba(250,250,250,1)",
        "template": {
         "data": {
          "bar": [
           {
            "error_x": {
             "color": "#2a3f5f"
            },
            "error_y": {
             "color": "#2a3f5f"
            },
            "marker": {
             "line": {
              "color": "#E5ECF6",
              "width": 0.5
             },
             "pattern": {
              "fillmode": "overlay",
              "size": 10,
              "solidity": 0.2
             }
            },
            "type": "bar"
           }
          ],
          "barpolar": [
           {
            "marker": {
             "line": {
              "color": "#E5ECF6",
              "width": 0.5
             },
             "pattern": {
              "fillmode": "overlay",
              "size": 10,
              "solidity": 0.2
             }
            },
            "type": "barpolar"
           }
          ],
          "carpet": [
           {
            "aaxis": {
             "endlinecolor": "#2a3f5f",
             "gridcolor": "white",
             "linecolor": "white",
             "minorgridcolor": "white",
             "startlinecolor": "#2a3f5f"
            },
            "baxis": {
             "endlinecolor": "#2a3f5f",
             "gridcolor": "white",
             "linecolor": "white",
             "minorgridcolor": "white",
             "startlinecolor": "#2a3f5f"
            },
            "type": "carpet"
           }
          ],
          "choropleth": [
           {
            "colorbar": {
             "outlinewidth": 0,
             "ticks": ""
            },
            "type": "choropleth"
           }
          ],
          "contour": [
           {
            "colorbar": {
             "outlinewidth": 0,
             "ticks": ""
            },
            "colorscale": [
             [
              0,
              "#0d0887"
             ],
             [
              0.1111111111111111,
              "#46039f"
             ],
             [
              0.2222222222222222,
              "#7201a8"
             ],
             [
              0.3333333333333333,
              "#9c179e"
             ],
             [
              0.4444444444444444,
              "#bd3786"
             ],
             [
              0.5555555555555556,
              "#d8576b"
             ],
             [
              0.6666666666666666,
              "#ed7953"
             ],
             [
              0.7777777777777778,
              "#fb9f3a"
             ],
             [
              0.8888888888888888,
              "#fdca26"
             ],
             [
              1,
              "#f0f921"
             ]
            ],
            "type": "contour"
           }
          ],
          "contourcarpet": [
           {
            "colorbar": {
             "outlinewidth": 0,
             "ticks": ""
            },
            "type": "contourcarpet"
           }
          ],
          "heatmap": [
           {
            "colorbar": {
             "outlinewidth": 0,
             "ticks": ""
            },
            "colorscale": [
             [
              0,
              "#0d0887"
             ],
             [
              0.1111111111111111,
              "#46039f"
             ],
             [
              0.2222222222222222,
              "#7201a8"
             ],
             [
              0.3333333333333333,
              "#9c179e"
             ],
             [
              0.4444444444444444,
              "#bd3786"
             ],
             [
              0.5555555555555556,
              "#d8576b"
             ],
             [
              0.6666666666666666,
              "#ed7953"
             ],
             [
              0.7777777777777778,
              "#fb9f3a"
             ],
             [
              0.8888888888888888,
              "#fdca26"
             ],
             [
              1,
              "#f0f921"
             ]
            ],
            "type": "heatmap"
           }
          ],
          "heatmapgl": [
           {
            "colorbar": {
             "outlinewidth": 0,
             "ticks": ""
            },
            "colorscale": [
             [
              0,
              "#0d0887"
             ],
             [
              0.1111111111111111,
              "#46039f"
             ],
             [
              0.2222222222222222,
              "#7201a8"
             ],
             [
              0.3333333333333333,
              "#9c179e"
             ],
             [
              0.4444444444444444,
              "#bd3786"
             ],
             [
              0.5555555555555556,
              "#d8576b"
             ],
             [
              0.6666666666666666,
              "#ed7953"
             ],
             [
              0.7777777777777778,
              "#fb9f3a"
             ],
             [
              0.8888888888888888,
              "#fdca26"
             ],
             [
              1,
              "#f0f921"
             ]
            ],
            "type": "heatmapgl"
           }
          ],
          "histogram": [
           {
            "marker": {
             "pattern": {
              "fillmode": "overlay",
              "size": 10,
              "solidity": 0.2
             }
            },
            "type": "histogram"
           }
          ],
          "histogram2d": [
           {
            "colorbar": {
             "outlinewidth": 0,
             "ticks": ""
            },
            "colorscale": [
             [
              0,
              "#0d0887"
             ],
             [
              0.1111111111111111,
              "#46039f"
             ],
             [
              0.2222222222222222,
              "#7201a8"
             ],
             [
              0.3333333333333333,
              "#9c179e"
             ],
             [
              0.4444444444444444,
              "#bd3786"
             ],
             [
              0.5555555555555556,
              "#d8576b"
             ],
             [
              0.6666666666666666,
              "#ed7953"
             ],
             [
              0.7777777777777778,
              "#fb9f3a"
             ],
             [
              0.8888888888888888,
              "#fdca26"
             ],
             [
              1,
              "#f0f921"
             ]
            ],
            "type": "histogram2d"
           }
          ],
          "histogram2dcontour": [
           {
            "colorbar": {
             "outlinewidth": 0,
             "ticks": ""
            },
            "colorscale": [
             [
              0,
              "#0d0887"
             ],
             [
              0.1111111111111111,
              "#46039f"
             ],
             [
              0.2222222222222222,
              "#7201a8"
             ],
             [
              0.3333333333333333,
              "#9c179e"
             ],
             [
              0.4444444444444444,
              "#bd3786"
             ],
             [
              0.5555555555555556,
              "#d8576b"
             ],
             [
              0.6666666666666666,
              "#ed7953"
             ],
             [
              0.7777777777777778,
              "#fb9f3a"
             ],
             [
              0.8888888888888888,
              "#fdca26"
             ],
             [
              1,
              "#f0f921"
             ]
            ],
            "type": "histogram2dcontour"
           }
          ],
          "mesh3d": [
           {
            "colorbar": {
             "outlinewidth": 0,
             "ticks": ""
            },
            "type": "mesh3d"
           }
          ],
          "parcoords": [
           {
            "line": {
             "colorbar": {
              "outlinewidth": 0,
              "ticks": ""
             }
            },
            "type": "parcoords"
           }
          ],
          "pie": [
           {
            "automargin": true,
            "type": "pie"
           }
          ],
          "scatter": [
           {
            "marker": {
             "colorbar": {
              "outlinewidth": 0,
              "ticks": ""
             }
            },
            "type": "scatter"
           }
          ],
          "scatter3d": [
           {
            "line": {
             "colorbar": {
              "outlinewidth": 0,
              "ticks": ""
             }
            },
            "marker": {
             "colorbar": {
              "outlinewidth": 0,
              "ticks": ""
             }
            },
            "type": "scatter3d"
           }
          ],
          "scattercarpet": [
           {
            "marker": {
             "colorbar": {
              "outlinewidth": 0,
              "ticks": ""
             }
            },
            "type": "scattercarpet"
           }
          ],
          "scattergeo": [
           {
            "marker": {
             "colorbar": {
              "outlinewidth": 0,
              "ticks": ""
             }
            },
            "type": "scattergeo"
           }
          ],
          "scattergl": [
           {
            "marker": {
             "colorbar": {
              "outlinewidth": 0,
              "ticks": ""
             }
            },
            "type": "scattergl"
           }
          ],
          "scattermapbox": [
           {
            "marker": {
             "colorbar": {
              "outlinewidth": 0,
              "ticks": ""
             }
            },
            "type": "scattermapbox"
           }
          ],
          "scatterpolar": [
           {
            "marker": {
             "colorbar": {
              "outlinewidth": 0,
              "ticks": ""
             }
            },
            "type": "scatterpolar"
           }
          ],
          "scatterpolargl": [
           {
            "marker": {
             "colorbar": {
              "outlinewidth": 0,
              "ticks": ""
             }
            },
            "type": "scatterpolargl"
           }
          ],
          "scatterternary": [
           {
            "marker": {
             "colorbar": {
              "outlinewidth": 0,
              "ticks": ""
             }
            },
            "type": "scatterternary"
           }
          ],
          "surface": [
           {
            "colorbar": {
             "outlinewidth": 0,
             "ticks": ""
            },
            "colorscale": [
             [
              0,
              "#0d0887"
             ],
             [
              0.1111111111111111,
              "#46039f"
             ],
             [
              0.2222222222222222,
              "#7201a8"
             ],
             [
              0.3333333333333333,
              "#9c179e"
             ],
             [
              0.4444444444444444,
              "#bd3786"
             ],
             [
              0.5555555555555556,
              "#d8576b"
             ],
             [
              0.6666666666666666,
              "#ed7953"
             ],
             [
              0.7777777777777778,
              "#fb9f3a"
             ],
             [
              0.8888888888888888,
              "#fdca26"
             ],
             [
              1,
              "#f0f921"
             ]
            ],
            "type": "surface"
           }
          ],
          "table": [
           {
            "cells": {
             "fill": {
              "color": "#EBF0F8"
             },
             "line": {
              "color": "white"
             }
            },
            "header": {
             "fill": {
              "color": "#C8D4E3"
             },
             "line": {
              "color": "white"
             }
            },
            "type": "table"
           }
          ]
         },
         "layout": {
          "annotationdefaults": {
           "arrowcolor": "#2a3f5f",
           "arrowhead": 0,
           "arrowwidth": 1
          },
          "autotypenumbers": "strict",
          "coloraxis": {
           "colorbar": {
            "outlinewidth": 0,
            "ticks": ""
           }
          },
          "colorscale": {
           "diverging": [
            [
             0,
             "#8e0152"
            ],
            [
             0.1,
             "#c51b7d"
            ],
            [
             0.2,
             "#de77ae"
            ],
            [
             0.3,
             "#f1b6da"
            ],
            [
             0.4,
             "#fde0ef"
            ],
            [
             0.5,
             "#f7f7f7"
            ],
            [
             0.6,
             "#e6f5d0"
            ],
            [
             0.7,
             "#b8e186"
            ],
            [
             0.8,
             "#7fbc41"
            ],
            [
             0.9,
             "#4d9221"
            ],
            [
             1,
             "#276419"
            ]
           ],
           "sequential": [
            [
             0,
             "#0d0887"
            ],
            [
             0.1111111111111111,
             "#46039f"
            ],
            [
             0.2222222222222222,
             "#7201a8"
            ],
            [
             0.3333333333333333,
             "#9c179e"
            ],
            [
             0.4444444444444444,
             "#bd3786"
            ],
            [
             0.5555555555555556,
             "#d8576b"
            ],
            [
             0.6666666666666666,
             "#ed7953"
            ],
            [
             0.7777777777777778,
             "#fb9f3a"
            ],
            [
             0.8888888888888888,
             "#fdca26"
            ],
            [
             1,
             "#f0f921"
            ]
           ],
           "sequentialminus": [
            [
             0,
             "#0d0887"
            ],
            [
             0.1111111111111111,
             "#46039f"
            ],
            [
             0.2222222222222222,
             "#7201a8"
            ],
            [
             0.3333333333333333,
             "#9c179e"
            ],
            [
             0.4444444444444444,
             "#bd3786"
            ],
            [
             0.5555555555555556,
             "#d8576b"
            ],
            [
             0.6666666666666666,
             "#ed7953"
            ],
            [
             0.7777777777777778,
             "#fb9f3a"
            ],
            [
             0.8888888888888888,
             "#fdca26"
            ],
            [
             1,
             "#f0f921"
            ]
           ]
          },
          "colorway": [
           "#636efa",
           "#EF553B",
           "#00cc96",
           "#ab63fa",
           "#FFA15A",
           "#19d3f3",
           "#FF6692",
           "#B6E880",
           "#FF97FF",
           "#FECB52"
          ],
          "font": {
           "color": "#2a3f5f"
          },
          "geo": {
           "bgcolor": "white",
           "lakecolor": "white",
           "landcolor": "#E5ECF6",
           "showlakes": true,
           "showland": true,
           "subunitcolor": "white"
          },
          "hoverlabel": {
           "align": "left"
          },
          "hovermode": "closest",
          "mapbox": {
           "style": "light"
          },
          "paper_bgcolor": "white",
          "plot_bgcolor": "#E5ECF6",
          "polar": {
           "angularaxis": {
            "gridcolor": "white",
            "linecolor": "white",
            "ticks": ""
           },
           "bgcolor": "#E5ECF6",
           "radialaxis": {
            "gridcolor": "white",
            "linecolor": "white",
            "ticks": ""
           }
          },
          "scene": {
           "xaxis": {
            "backgroundcolor": "#E5ECF6",
            "gridcolor": "white",
            "gridwidth": 2,
            "linecolor": "white",
            "showbackground": true,
            "ticks": "",
            "zerolinecolor": "white"
           },
           "yaxis": {
            "backgroundcolor": "#E5ECF6",
            "gridcolor": "white",
            "gridwidth": 2,
            "linecolor": "white",
            "showbackground": true,
            "ticks": "",
            "zerolinecolor": "white"
           },
           "zaxis": {
            "backgroundcolor": "#E5ECF6",
            "gridcolor": "white",
            "gridwidth": 2,
            "linecolor": "white",
            "showbackground": true,
            "ticks": "",
            "zerolinecolor": "white"
           }
          },
          "shapedefaults": {
           "line": {
            "color": "#2a3f5f"
           }
          },
          "ternary": {
           "aaxis": {
            "gridcolor": "white",
            "linecolor": "white",
            "ticks": ""
           },
           "baxis": {
            "gridcolor": "white",
            "linecolor": "white",
            "ticks": ""
           },
           "bgcolor": "#E5ECF6",
           "caxis": {
            "gridcolor": "white",
            "linecolor": "white",
            "ticks": ""
           }
          },
          "title": {
           "x": 0.05
          },
          "xaxis": {
           "automargin": true,
           "gridcolor": "white",
           "linecolor": "white",
           "ticks": "",
           "title": {
            "standoff": 15
           },
           "zerolinecolor": "white",
           "zerolinewidth": 2
          },
          "yaxis": {
           "automargin": true,
           "gridcolor": "white",
           "linecolor": "white",
           "ticks": "",
           "title": {
            "standoff": 15
           },
           "zerolinecolor": "white",
           "zerolinewidth": 2
          }
         }
        },
        "title": {
         "text": "Generic800",
         "x": 0.5,
         "xanchor": "center",
         "y": 0.97,
         "yanchor": "top"
        },
        "width": 1100,
        "xaxis": {
         "visible": false
        },
        "yaxis": {
         "gridcolor": "rgba(220,220,220,0.8)",
         "gridwidth": 1.2,
         "range": [
          2800,
          3080
         ],
         "showspikes": true,
         "spikedash": "longdashdot",
         "spikemode": "across",
         "spikesnap": "cursor",
         "spikethickness": 1,
         "title": {
          "text": "fuel_cost [$]"
         },
         "visible": true
        }
       }
      },
      "text/html": [
       "<div>                            <div id=\"b231d4ba-a5ca-45e3-a205-dbf7af3f84ee\" class=\"plotly-graph-div\" style=\"height:510px; width:1100px;\"></div>            <script type=\"text/javascript\">                require([\"plotly\"], function(Plotly) {                    window.PLOTLYENV=window.PLOTLYENV || {};                                    if (document.getElementById(\"b231d4ba-a5ca-45e3-a205-dbf7af3f84ee\")) {                    Plotly.newPlot(                        \"b231d4ba-a5ca-45e3-a205-dbf7af3f84ee\",                        [{\"a\":[145,145,145,145,150,150,150,150,155,155,155,155,160,160,160,160],\"aaxis\":{\"gridcolor\":\"black\",\"minorgridcolor\":\"rgb(230, 230, 230)\",\"minorgridcount\":4,\"smoothing\":0,\"title\":{\"offset\":-10,\"text\":\"Total area (m\\u00b2)\"}},\"b\":[28000,30000,32000,34000,28000,30000,32000,34000,28000,30000,32000,34000,28000,30000,32000,34000],\"baxis\":{\"gridcolor\":\"black\",\"minorgridcolor\":\"rgb(230, 230, 230)\",\"minorgridcount\":3,\"smoothing\":0,\"title\":{\"offset\":-10,\"text\":\"MTO_AET (lbf)\"}},\"carpet\":\"c_5600\",\"x\":[0.5,0.33333333333333304,0.16666666666666652,0.0,0.666666666666667,0.5,0.3333333333333335,0.16666666666666696,0.8333333333333339,0.666666666666667,0.5000000000000004,0.3333333333333339,1.0,0.833333333333333,0.6666666666666665,0.5],\"y\":[2843.0,2873.0,2921.0,2974.0,2872.0,2902.0,2948.0,3001.0,2902.0,2933.0,2978.0,3030.0,2934.0,2964.0,3010.0,3060.0],\"type\":\"carpet\"},{\"a\":[],\"b\":[],\"carpet\":\"c_5600\",\"marker\":{\"color\":\"rgb(102, 255, 51)\",\"size\":5},\"mode\":\"markers\",\"name\":\"\",\"showlegend\":false,\"type\":\"scattercarpet\"},{\"a\":[145,145,145,145,150,150,150,150,155,155,155,155,160,160,160,160],\"b\":[28000,30000,32000,34000,28000,30000,32000,34000,28000,30000,32000,34000,28000,30000,32000,34000],\"carpet\":\"c_5600\",\"marker\":{\"color\":\"red\",\"size\":5,\"symbol\":\"circle\"},\"mode\":\"markers\",\"name\":\"\",\"showlegend\":false,\"type\":\"scattercarpet\"},{\"a\":[148.5],\"b\":[30550],\"carpet\":\"c_6600\",\"marker\":{\"color\":[\"blue\"],\"size\":12,\"symbol\":\"star-square-open-dot\"},\"mode\":\"markers\",\"name\":\"\",\"showlegend\":false,\"type\":\"scattercarpet\"},{\"a\":[145.0,150.0,150.5951642901426,155.0,160.0],\"b\":[30607.08526752993,30032.130306241983,30000.0,29508.471892319874,29529.44217546399],\"carpet\":\"c_5600\",\"line\":{\"color\":\"orange\",\"dash\":\"solid\",\"shape\":\"spline\",\"smoothing\":1},\"mode\":\"lines\",\"name\":\"TOFL_generic: 2400.0\",\"showlegend\":true,\"type\":\"scattercarpet\"},{\"a\":[146.0606060606061,146.78879310344828,147.4784482758621,148.17596566523605],\"b\":[28000.0,30000.0,32000.0,34000.0],\"carpet\":\"c_5600\",\"line\":{\"color\":\"green\",\"dash\":\"solid\",\"shape\":\"spline\",\"smoothing\":1},\"mode\":\"lines\",\"name\":\"VLS: 140.0\",\"showlegend\":true,\"type\":\"scattercarpet\"},{\"a\":[],\"b\":[],\"carpet\":\"c_5600\",\"line\":{\"color\":\"blue\",\"dash\":\"solid\",\"shape\":\"spline\",\"smoothing\":1},\"mode\":\"lines\",\"name\":\"TTC: 25\",\"showlegend\":true,\"type\":\"scattercarpet\"},{\"a\":[145.0,149.6031746031746,150.0,155.0,155.0],\"b\":[31110.047846889953,30000.0,29895.833333333332,28000.0,28000.0],\"carpet\":\"c_5600\",\"line\":{\"color\":\"purple\",\"dash\":\"solid\",\"shape\":\"spline\",\"smoothing\":1},\"mode\":\"lines\",\"name\":\"ICAC: 33000.0\",\"showlegend\":true,\"type\":\"scattercarpet\"},{\"a\":[145,145,145,145,150,150,150,150,155,155,155,155,160,160,160,160],\"aaxis\":{\"gridcolor\":\"black\",\"minorgridcolor\":\"rgb(230, 230, 230)\",\"minorgridcount\":4,\"smoothing\":0,\"title\":{\"offset\":-10,\"text\":\"Total area (m\\u00b2)\"}},\"b\":[28000,30000,32000,34000,28000,30000,32000,34000,28000,30000,32000,34000,28000,30000,32000,34000],\"baxis\":{\"gridcolor\":\"black\",\"minorgridcolor\":\"rgb(230, 230, 230)\",\"minorgridcount\":3,\"smoothing\":0,\"title\":{\"offset\":-10,\"text\":\"MTO_AET (lbf)\"}},\"carpet\":\"c_5800\",\"x\":[2.0,1.833333333333333,1.6666666666666665,1.5,2.166666666666667,2.0,1.8333333333333335,1.666666666666667,2.333333333333334,2.166666666666667,2.0000000000000004,1.833333333333334,2.5,2.333333333333333,2.1666666666666665,2.0],\"y\":[2843.0,2871.0,2909.0,2961.0,2870.0,2899.0,2937.0,2989.0,2900.0,2930.0,2967.0,3017.0,2931.0,2960.0,2998.0,3047.0],\"type\":\"carpet\"},{\"a\":[150,150,155,155,155,160,160,160],\"b\":[32000,34000,30000,32000,34000,30000,32000,34000],\"carpet\":\"c_5800\",\"marker\":{\"color\":\"rgb(102, 255, 51)\",\"size\":5},\"mode\":\"markers\",\"name\":\"\",\"showlegend\":false,\"type\":\"scattercarpet\"},{\"a\":[145,145,145,145,150,150,155,160],\"b\":[28000,30000,32000,34000,28000,30000,28000,28000],\"carpet\":\"c_5800\",\"marker\":{\"color\":\"red\",\"size\":5,\"symbol\":\"circle\"},\"mode\":\"markers\",\"name\":\"\",\"showlegend\":false,\"type\":\"scattercarpet\"},{\"a\":[148.5],\"b\":[30550],\"carpet\":\"c_6600\",\"marker\":{\"color\":[\"blue\"],\"size\":12,\"symbol\":\"star-square-open-dot\"},\"mode\":\"markers\",\"name\":\"\",\"showlegend\":false,\"type\":\"scattercarpet\"},{\"a\":[145.0,150.0,150.63572910771552,155.0,160.0],\"b\":[30657.01783911141,30074.13925860741,30000.0,29750.525691486495,29511.26878130217],\"carpet\":\"c_5800\",\"line\":{\"color\":\"orange\",\"dash\":\"solid\",\"shape\":\"spline\",\"smoothing\":1},\"mode\":\"lines\",\"name\":\"TOFL_generic: 2400.0\",\"showlegend\":false,\"type\":\"scattercarpet\"},{\"a\":[145.0,145.6060606060606,146.35775862068965,147.0905172413793,147.78969957081546,148.46153846153845],\"b\":[24486.486486486498,26000.0,28000.0,30000.0,32000.0,34000.0],\"carpet\":\"c_5800\",\"line\":{\"color\":\"green\",\"dash\":\"solid\",\"shape\":\"spline\",\"smoothing\":1},\"mode\":\"lines\",\"name\":\"VLS: 140.0\",\"showlegend\":false,\"type\":\"scattercarpet\"},{\"a\":[],\"b\":[],\"carpet\":\"c_5800\",\"line\":{\"color\":\"blue\",\"dash\":\"solid\",\"shape\":\"spline\",\"smoothing\":1},\"mode\":\"lines\",\"name\":\"TTC: 25\",\"showlegend\":false,\"type\":\"scattercarpet\"},{\"a\":[],\"b\":[],\"carpet\":\"c_5800\",\"line\":{\"color\":\"purple\",\"dash\":\"solid\",\"shape\":\"spline\",\"smoothing\":1},\"mode\":\"lines\",\"name\":\"ICAC: 33000.0\",\"showlegend\":false,\"type\":\"scattercarpet\"},{\"a\":[145,145,145,145,150,150,150,150,155,155,155,155,160,160,160,160],\"aaxis\":{\"gridcolor\":\"black\",\"minorgridcolor\":\"rgb(230, 230, 230)\",\"minorgridcount\":4,\"smoothing\":0,\"title\":{\"offset\":-10,\"text\":\"Total area (m\\u00b2)\"}},\"b\":[28000,30000,32000,34000,28000,30000,32000,34000,28000,30000,32000,34000,28000,30000,32000,34000],\"baxis\":{\"gridcolor\":\"black\",\"minorgridcolor\":\"rgb(230, 230, 230)\",\"minorgridcount\":3,\"smoothing\":0,\"title\":{\"offset\":-10,\"text\":\"MTO_AET (lbf)\"}},\"carpet\":\"c_6000\",\"x\":[3.5,3.333333333333333,3.1666666666666665,3.0,3.666666666666667,3.5,3.3333333333333335,3.166666666666667,3.833333333333334,3.666666666666667,3.5000000000000004,3.333333333333334,4.0,3.833333333333333,3.6666666666666665,3.5],\"y\":[2843.0,2872.0,2900.0,2950.0,2871.0,2899.0,2927.0,2977.0,2899.0,2929.0,2958.0,3006.0,2929.0,2959.0,2987.0,3035.0],\"type\":\"carpet\"},{\"a\":[150,150,155,155,155,160,160,160],\"b\":[32000,34000,30000,32000,34000,30000,32000,34000],\"carpet\":\"c_6000\",\"marker\":{\"color\":\"rgb(102, 255, 51)\",\"size\":5},\"mode\":\"markers\",\"name\":\"\",\"showlegend\":false,\"type\":\"scattercarpet\"},{\"a\":[145,145,145,145,150,150,155,160],\"b\":[28000,30000,32000,34000,28000,30000,28000,28000],\"carpet\":\"c_6000\",\"marker\":{\"color\":\"red\",\"size\":5,\"symbol\":\"circle\"},\"mode\":\"markers\",\"name\":\"\",\"showlegend\":false,\"type\":\"scattercarpet\"},{\"a\":[148.5],\"b\":[30550],\"carpet\":\"c_6600\",\"marker\":{\"color\":[\"blue\"],\"size\":12,\"symbol\":\"star-square-open-dot\"},\"mode\":\"markers\",\"name\":\"\",\"showlegend\":false,\"type\":\"scattercarpet\"},{\"a\":[145.0,150.0,151.2182086251382,155.0,160.0],\"b\":[30714.306131199082,30143.93815667701,30000.0,29595.20639147803,29563.90977443609],\"carpet\":\"c_6000\",\"line\":{\"color\":\"orange\",\"dash\":\"solid\",\"shape\":\"spline\",\"smoothing\":1},\"mode\":\"lines\",\"name\":\"TOFL_generic: 2400.0\",\"showlegend\":false,\"type\":\"scattercarpet\"},{\"a\":[146.6594827586207,147.38197424892707,148.09012875536482,148.76068376068375],\"b\":[28000.0,30000.0,32000.0,34000.0],\"carpet\":\"c_6000\",\"line\":{\"color\":\"green\",\"dash\":\"solid\",\"shape\":\"spline\",\"smoothing\":1},\"mode\":\"lines\",\"name\":\"VLS: 140.0\",\"showlegend\":false,\"type\":\"scattercarpet\"},{\"a\":[],\"b\":[],\"carpet\":\"c_6000\",\"line\":{\"color\":\"blue\",\"dash\":\"solid\",\"shape\":\"spline\",\"smoothing\":1},\"mode\":\"lines\",\"name\":\"TTC: 25\",\"showlegend\":false,\"type\":\"scattercarpet\"},{\"a\":[],\"b\":[],\"carpet\":\"c_6000\",\"line\":{\"color\":\"purple\",\"dash\":\"solid\",\"shape\":\"spline\",\"smoothing\":1},\"mode\":\"lines\",\"name\":\"ICAC: 33000.0\",\"showlegend\":false,\"type\":\"scattercarpet\"},{\"a\":[145,145,145,145,150,150,150,150,155,155,155,155,160,160,160,160],\"aaxis\":{\"gridcolor\":\"black\",\"minorgridcolor\":\"rgb(230, 230, 230)\",\"minorgridcount\":4,\"smoothing\":0,\"title\":{\"offset\":-10,\"text\":\"Total area (m\\u00b2)\"}},\"b\":[28000,30000,32000,34000,28000,30000,32000,34000,28000,30000,32000,34000,28000,30000,32000,34000],\"baxis\":{\"gridcolor\":\"black\",\"minorgridcolor\":\"rgb(230, 230, 230)\",\"minorgridcount\":3,\"smoothing\":0,\"title\":{\"offset\":-10,\"text\":\"MTO_AET (lbf)\"}},\"carpet\":\"c_6200\",\"x\":[5.0,4.833333333333333,4.666666666666666,4.5,5.166666666666667,5.0,4.833333333333334,4.666666666666667,5.333333333333334,5.166666666666667,5.0,4.833333333333334,5.5,5.333333333333333,5.166666666666666,5.0],\"y\":[2845.0,2874.0,2903.0,2940.0,2871.0,2901.0,2930.0,2967.0,2900.0,2929.0,2958.0,2996.0,2929.0,2959.0,2987.0,3025.0],\"type\":\"carpet\"},{\"a\":[150,150,155,155,155,160,160,160],\"b\":[32000,34000,30000,32000,34000,30000,32000,34000],\"carpet\":\"c_6200\",\"marker\":{\"color\":\"rgb(102, 255, 51)\",\"size\":5},\"mode\":\"markers\",\"name\":\"\",\"showlegend\":false,\"type\":\"scattercarpet\"},{\"a\":[145,145,145,145,150,150,155,160],\"b\":[28000,30000,32000,34000,28000,30000,28000,28000],\"carpet\":\"c_6200\",\"marker\":{\"color\":\"red\",\"size\":5,\"symbol\":\"circle\"},\"mode\":\"markers\",\"name\":\"\",\"showlegend\":false,\"type\":\"scattercarpet\"},{\"a\":[148.5],\"b\":[30550],\"carpet\":\"c_6600\",\"marker\":{\"color\":[\"blue\"],\"size\":12,\"symbol\":\"star-square-open-dot\"},\"mode\":\"markers\",\"name\":\"\",\"showlegend\":false,\"type\":\"scattercarpet\"},{\"a\":[145.0,150.0,151.84020044543428,155.0,160.0],\"b\":[30784.109379481786,30215.87197909863,30000.0,29680.146540791884,29634.82420473571],\"carpet\":\"c_6200\",\"line\":{\"color\":\"orange\",\"dash\":\"solid\",\"shape\":\"spline\",\"smoothing\":1},\"mode\":\"lines\",\"name\":\"TOFL_generic: 2400.0\",\"showlegend\":false,\"type\":\"scattercarpet\"},{\"a\":[146.9396551724138,147.68240343347637,148.39055793991417,149.06382978723406],\"b\":[28000.0,30000.0,32000.0,34000.0],\"carpet\":\"c_6200\",\"line\":{\"color\":\"green\",\"dash\":\"solid\",\"shape\":\"spline\",\"smoothing\":1},\"mode\":\"lines\",\"name\":\"VLS: 140.0\",\"showlegend\":false,\"type\":\"scattercarpet\"},{\"a\":[],\"b\":[],\"carpet\":\"c_6200\",\"line\":{\"color\":\"blue\",\"dash\":\"solid\",\"shape\":\"spline\",\"smoothing\":1},\"mode\":\"lines\",\"name\":\"TTC: 25\",\"showlegend\":false,\"type\":\"scattercarpet\"},{\"a\":[],\"b\":[],\"carpet\":\"c_6200\",\"line\":{\"color\":\"purple\",\"dash\":\"solid\",\"shape\":\"spline\",\"smoothing\":1},\"mode\":\"lines\",\"name\":\"ICAC: 33000.0\",\"showlegend\":false,\"type\":\"scattercarpet\"},{\"a\":[145,145,145,145,150,150,150,150,155,155,155,155,160,160,160,160],\"aaxis\":{\"gridcolor\":\"black\",\"minorgridcolor\":\"rgb(230, 230, 230)\",\"minorgridcount\":4,\"smoothing\":0,\"title\":{\"offset\":-10,\"text\":\"Total area (m\\u00b2)\"}},\"b\":[28000,30000,32000,34000,28000,30000,32000,34000,28000,30000,32000,34000,28000,30000,32000,34000],\"baxis\":{\"gridcolor\":\"black\",\"minorgridcolor\":\"rgb(230, 230, 230)\",\"minorgridcount\":3,\"smoothing\":0,\"title\":{\"offset\":-10,\"text\":\"MTO_AET (lbf)\"}},\"carpet\":\"c_6400\",\"x\":[6.5,6.333333333333333,6.166666666666666,6.0,6.666666666666667,6.5,6.333333333333334,6.166666666666667,6.833333333333334,6.666666666666667,6.5,6.333333333333334,7.0,6.833333333333333,6.666666666666666,6.5],\"y\":[2848.0,2877.0,2906.0,2933.0,2874.0,2904.0,2933.0,2960.0,2902.0,2932.0,2960.0,2988.0,2931.0,2961.0,2989.0,3017.0],\"type\":\"carpet\"},{\"a\":[150,150,155,155,155,160,160,160],\"b\":[32000,34000,30000,32000,34000,30000,32000,34000],\"carpet\":\"c_6400\",\"marker\":{\"color\":\"rgb(102, 255, 51)\",\"size\":5},\"mode\":\"markers\",\"name\":\"\",\"showlegend\":false,\"type\":\"scattercarpet\"},{\"a\":[145,145,145,145,150,150,155,160],\"b\":[28000,30000,32000,34000,28000,30000,28000,28000],\"carpet\":\"c_6400\",\"marker\":{\"color\":\"red\",\"size\":5,\"symbol\":\"circle\"},\"mode\":\"markers\",\"name\":\"\",\"showlegend\":false,\"type\":\"scattercarpet\"},{\"a\":[148.5],\"b\":[30550],\"carpet\":\"c_6600\",\"marker\":{\"color\":[\"blue\"],\"size\":12,\"symbol\":\"star-square-open-dot\"},\"mode\":\"markers\",\"name\":\"\",\"showlegend\":false,\"type\":\"scattercarpet\"},{\"a\":[145.0,150.0,152.54195993502978,155.0,160.0],\"b\":[30858.728652751426,30304.58993350273,30000.0,29759.86247630802,29718.089698732223],\"carpet\":\"c_6400\",\"line\":{\"color\":\"orange\",\"dash\":\"solid\",\"shape\":\"spline\",\"smoothing\":1},\"mode\":\"lines\",\"name\":\"TOFL_generic: 2400.0\",\"showlegend\":false,\"type\":\"scattercarpet\"},{\"a\":[147.21982758620692,147.96137339055795,148.67521367521366,149.36170212765956],\"b\":[28000.0,30000.0,32000.0,34000.0],\"carpet\":\"c_6400\",\"line\":{\"color\":\"green\",\"dash\":\"solid\",\"shape\":\"spline\",\"smoothing\":1},\"mode\":\"lines\",\"name\":\"VLS: 140.0\",\"showlegend\":false,\"type\":\"scattercarpet\"},{\"a\":[],\"b\":[],\"carpet\":\"c_6400\",\"line\":{\"color\":\"blue\",\"dash\":\"solid\",\"shape\":\"spline\",\"smoothing\":1},\"mode\":\"lines\",\"name\":\"TTC: 25\",\"showlegend\":false,\"type\":\"scattercarpet\"},{\"a\":[],\"b\":[],\"carpet\":\"c_6400\",\"line\":{\"color\":\"purple\",\"dash\":\"solid\",\"shape\":\"spline\",\"smoothing\":1},\"mode\":\"lines\",\"name\":\"ICAC: 33000.0\",\"showlegend\":false,\"type\":\"scattercarpet\"},{\"a\":[145,145,145,145,150,150,150,150,155,155,155,155,160,160,160,160],\"aaxis\":{\"gridcolor\":\"black\",\"minorgridcolor\":\"rgb(230, 230, 230)\",\"minorgridcount\":4,\"smoothing\":0,\"title\":{\"offset\":-10,\"text\":\"Total area (m\\u00b2)\"}},\"b\":[28000,30000,32000,34000,28000,30000,32000,34000,28000,30000,32000,34000,28000,30000,32000,34000],\"baxis\":{\"gridcolor\":\"black\",\"minorgridcolor\":\"rgb(230, 230, 230)\",\"minorgridcount\":3,\"smoothing\":0,\"title\":{\"offset\":-10,\"text\":\"MTO_AET (lbf)\"}},\"carpet\":\"c_6600\",\"x\":[8.0,7.833333333333333,7.666666666666666,7.5,8.166666666666668,8.0,7.833333333333334,7.666666666666667,8.333333333333334,8.166666666666668,8.0,7.833333333333334,8.5,8.333333333333332,8.166666666666666,8.0],\"y\":[2851.0,2880.0,2910.0,2937.0,2877.0,2907.0,2936.0,2963.0,2904.0,2934.0,2963.0,2991.0,2932.0,2962.0,2992.0,3020.0],\"type\":\"carpet\"},{\"a\":[150,150,155,155,155,160,160,160],\"b\":[32000,34000,30000,32000,34000,30000,32000,34000],\"carpet\":\"c_6600\",\"marker\":{\"color\":\"rgb(102, 255, 51)\",\"size\":5},\"mode\":\"markers\",\"name\":\"\",\"showlegend\":false,\"type\":\"scattercarpet\"},{\"a\":[145,145,145,145,150,150,155,160],\"b\":[28000,30000,32000,34000,28000,30000,28000,28000],\"carpet\":\"c_6600\",\"marker\":{\"color\":\"red\",\"size\":5,\"symbol\":\"circle\"},\"mode\":\"markers\",\"name\":\"\",\"showlegend\":false,\"type\":\"scattercarpet\"},{\"a\":[148.5],\"b\":[30550],\"carpet\":\"c_6600\",\"marker\":{\"color\":[\"blue\"],\"size\":12,\"symbol\":\"star-square-open-dot\"},\"mode\":\"markers\",\"name\":\"\",\"showlegend\":false,\"type\":\"scattercarpet\"},{\"a\":[145.0,150.0,153.18630910374029,155.0,160.0],\"b\":[30934.35345234722,30389.475954280784,30000.0,29827.386449500464,29792.797449814767],\"carpet\":\"c_6600\",\"line\":{\"color\":\"orange\",\"dash\":\"solid\",\"shape\":\"spline\",\"smoothing\":1},\"mode\":\"lines\",\"name\":\"TOFL_generic: 2400.0\",\"showlegend\":false,\"type\":\"scattercarpet\"},{\"a\":[147.5,148.24786324786328,148.974358974359,149.6595744680851],\"b\":[28000.0,30000.0,32000.0,34000.0],\"carpet\":\"c_6600\",\"line\":{\"color\":\"green\",\"dash\":\"solid\",\"shape\":\"spline\",\"smoothing\":1},\"mode\":\"lines\",\"name\":\"VLS: 140.0\",\"showlegend\":false,\"type\":\"scattercarpet\"},{\"a\":[],\"b\":[],\"carpet\":\"c_6600\",\"line\":{\"color\":\"blue\",\"dash\":\"solid\",\"shape\":\"spline\",\"smoothing\":1},\"mode\":\"lines\",\"name\":\"TTC: 25\",\"showlegend\":false,\"type\":\"scattercarpet\"},{\"a\":[],\"b\":[],\"carpet\":\"c_6600\",\"line\":{\"color\":\"purple\",\"dash\":\"solid\",\"shape\":\"spline\",\"smoothing\":1},\"mode\":\"lines\",\"name\":\"ICAC: 33000.0\",\"showlegend\":false,\"type\":\"scattercarpet\"},{\"a\":[145,145,145,145,150,150,150,150,155,155,155,155,160,160,160,160],\"aaxis\":{\"gridcolor\":\"black\",\"minorgridcolor\":\"rgb(230, 230, 230)\",\"minorgridcount\":4,\"smoothing\":0,\"title\":{\"offset\":-10,\"text\":\"Total area (m\\u00b2)\"}},\"b\":[28000,30000,32000,34000,28000,30000,32000,34000,28000,30000,32000,34000,28000,30000,32000,34000],\"baxis\":{\"gridcolor\":\"black\",\"minorgridcolor\":\"rgb(230, 230, 230)\",\"minorgridcount\":3,\"smoothing\":0,\"title\":{\"offset\":-10,\"text\":\"MTO_AET (lbf)\"}},\"carpet\":\"c_6800\",\"x\":[9.5,9.333333333333332,9.166666666666666,9.0,9.666666666666668,9.5,9.333333333333334,9.166666666666668,9.833333333333334,9.666666666666668,9.5,9.333333333333334,10.0,9.833333333333332,9.666666666666666,9.5],\"y\":[2854.0,2884.0,2914.0,2941.0,2880.0,2910.0,2940.0,2968.0,2906.0,2938.0,2967.0,2995.0,2935.0,2965.0,2995.0,3023.0],\"type\":\"carpet\"},{\"a\":[150,150,155,155,155,160,160,160],\"b\":[32000,34000,30000,32000,34000,30000,32000,34000],\"carpet\":\"c_6800\",\"marker\":{\"color\":\"rgb(102, 255, 51)\",\"size\":5},\"mode\":\"markers\",\"name\":\"\",\"showlegend\":false,\"type\":\"scattercarpet\"},{\"a\":[145,145,145,145,150,150,155,160],\"b\":[28000,30000,32000,34000,28000,30000,28000,28000],\"carpet\":\"c_6800\",\"marker\":{\"color\":\"red\",\"size\":5,\"symbol\":\"circle\"},\"mode\":\"markers\",\"name\":\"\",\"showlegend\":false,\"type\":\"scattercarpet\"},{\"a\":[148.5],\"b\":[30550],\"carpet\":\"c_6600\",\"marker\":{\"color\":[\"blue\"],\"size\":12,\"symbol\":\"star-square-open-dot\"},\"mode\":\"markers\",\"name\":\"\",\"showlegend\":false,\"type\":\"scattercarpet\"},{\"a\":[145.0,150.0,153.8909640697261,155.0,160.0],\"b\":[31017.692055000236,30472.513230370452,30000.0,29902.18073423282,29862.718597698324],\"carpet\":\"c_6800\",\"line\":{\"color\":\"orange\",\"dash\":\"solid\",\"shape\":\"spline\",\"smoothing\":1},\"mode\":\"lines\",\"name\":\"TOFL_generic: 2400.0\",\"showlegend\":false,\"type\":\"scattercarpet\"},{\"a\":[147.76824034334763,148.52564102564102,149.25213675213678,149.9364406779661],\"b\":[28000.0,30000.0,32000.0,34000.0],\"carpet\":\"c_6800\",\"line\":{\"color\":\"green\",\"dash\":\"solid\",\"shape\":\"spline\",\"smoothing\":1},\"mode\":\"lines\",\"name\":\"VLS: 140.0\",\"showlegend\":false,\"type\":\"scattercarpet\"},{\"a\":[],\"b\":[],\"carpet\":\"c_6800\",\"line\":{\"color\":\"blue\",\"dash\":\"solid\",\"shape\":\"spline\",\"smoothing\":1},\"mode\":\"lines\",\"name\":\"TTC: 25\",\"showlegend\":false,\"type\":\"scattercarpet\"},{\"a\":[],\"b\":[],\"carpet\":\"c_6800\",\"line\":{\"color\":\"purple\",\"dash\":\"solid\",\"shape\":\"spline\",\"smoothing\":1},\"mode\":\"lines\",\"name\":\"ICAC: 33000.0\",\"showlegend\":false,\"type\":\"scattercarpet\"}],                        {\"annotations\":[{\"showarrow\":false,\"text\":\"MCL: 5600 lbf\",\"x\":0.5,\"y\":2843.0,\"yshift\":-50},{\"showarrow\":false,\"text\":\"MCL: 5800 lbf\",\"x\":2.0,\"y\":2843.0,\"yshift\":-50},{\"showarrow\":false,\"text\":\"MCL: 6000 lbf\",\"x\":3.5,\"y\":2843.0,\"yshift\":-50},{\"showarrow\":false,\"text\":\"MCL: 6200 lbf\",\"x\":5.0,\"y\":2845.0,\"yshift\":-50},{\"showarrow\":false,\"text\":\"MCL: 6400 lbf\",\"x\":6.5,\"y\":2848.0,\"yshift\":-50},{\"showarrow\":false,\"text\":\"MCL: 6600 lbf\",\"x\":8.0,\"y\":2851.0,\"yshift\":-50},{\"showarrow\":false,\"text\":\"MCL: 6800 lbf\",\"x\":9.5,\"y\":2854.0,\"yshift\":-50}],\"height\":510,\"legend\":{\"x\":0.01,\"xanchor\":\"left\",\"y\":0.99,\"yanchor\":\"top\"},\"margin\":{\"b\":35,\"l\":60,\"r\":5,\"t\":5},\"paper_bgcolor\":\"LightSteelBlue\",\"plot_bgcolor\":\"rgba(250,250,250,1)\",\"template\":{\"data\":{\"barpolar\":[{\"marker\":{\"line\":{\"color\":\"#E5ECF6\",\"width\":0.5},\"pattern\":{\"fillmode\":\"overlay\",\"size\":10,\"solidity\":0.2}},\"type\":\"barpolar\"}],\"bar\":[{\"error_x\":{\"color\":\"#2a3f5f\"},\"error_y\":{\"color\":\"#2a3f5f\"},\"marker\":{\"line\":{\"color\":\"#E5ECF6\",\"width\":0.5},\"pattern\":{\"fillmode\":\"overlay\",\"size\":10,\"solidity\":0.2}},\"type\":\"bar\"}],\"carpet\":[{\"aaxis\":{\"endlinecolor\":\"#2a3f5f\",\"gridcolor\":\"white\",\"linecolor\":\"white\",\"minorgridcolor\":\"white\",\"startlinecolor\":\"#2a3f5f\"},\"baxis\":{\"endlinecolor\":\"#2a3f5f\",\"gridcolor\":\"white\",\"linecolor\":\"white\",\"minorgridcolor\":\"white\",\"startlinecolor\":\"#2a3f5f\"},\"type\":\"carpet\"}],\"choropleth\":[{\"colorbar\":{\"outlinewidth\":0,\"ticks\":\"\"},\"type\":\"choropleth\"}],\"contourcarpet\":[{\"colorbar\":{\"outlinewidth\":0,\"ticks\":\"\"},\"type\":\"contourcarpet\"}],\"contour\":[{\"colorbar\":{\"outlinewidth\":0,\"ticks\":\"\"},\"colorscale\":[[0.0,\"#0d0887\"],[0.1111111111111111,\"#46039f\"],[0.2222222222222222,\"#7201a8\"],[0.3333333333333333,\"#9c179e\"],[0.4444444444444444,\"#bd3786\"],[0.5555555555555556,\"#d8576b\"],[0.6666666666666666,\"#ed7953\"],[0.7777777777777778,\"#fb9f3a\"],[0.8888888888888888,\"#fdca26\"],[1.0,\"#f0f921\"]],\"type\":\"contour\"}],\"heatmapgl\":[{\"colorbar\":{\"outlinewidth\":0,\"ticks\":\"\"},\"colorscale\":[[0.0,\"#0d0887\"],[0.1111111111111111,\"#46039f\"],[0.2222222222222222,\"#7201a8\"],[0.3333333333333333,\"#9c179e\"],[0.4444444444444444,\"#bd3786\"],[0.5555555555555556,\"#d8576b\"],[0.6666666666666666,\"#ed7953\"],[0.7777777777777778,\"#fb9f3a\"],[0.8888888888888888,\"#fdca26\"],[1.0,\"#f0f921\"]],\"type\":\"heatmapgl\"}],\"heatmap\":[{\"colorbar\":{\"outlinewidth\":0,\"ticks\":\"\"},\"colorscale\":[[0.0,\"#0d0887\"],[0.1111111111111111,\"#46039f\"],[0.2222222222222222,\"#7201a8\"],[0.3333333333333333,\"#9c179e\"],[0.4444444444444444,\"#bd3786\"],[0.5555555555555556,\"#d8576b\"],[0.6666666666666666,\"#ed7953\"],[0.7777777777777778,\"#fb9f3a\"],[0.8888888888888888,\"#fdca26\"],[1.0,\"#f0f921\"]],\"type\":\"heatmap\"}],\"histogram2dcontour\":[{\"colorbar\":{\"outlinewidth\":0,\"ticks\":\"\"},\"colorscale\":[[0.0,\"#0d0887\"],[0.1111111111111111,\"#46039f\"],[0.2222222222222222,\"#7201a8\"],[0.3333333333333333,\"#9c179e\"],[0.4444444444444444,\"#bd3786\"],[0.5555555555555556,\"#d8576b\"],[0.6666666666666666,\"#ed7953\"],[0.7777777777777778,\"#fb9f3a\"],[0.8888888888888888,\"#fdca26\"],[1.0,\"#f0f921\"]],\"type\":\"histogram2dcontour\"}],\"histogram2d\":[{\"colorbar\":{\"outlinewidth\":0,\"ticks\":\"\"},\"colorscale\":[[0.0,\"#0d0887\"],[0.1111111111111111,\"#46039f\"],[0.2222222222222222,\"#7201a8\"],[0.3333333333333333,\"#9c179e\"],[0.4444444444444444,\"#bd3786\"],[0.5555555555555556,\"#d8576b\"],[0.6666666666666666,\"#ed7953\"],[0.7777777777777778,\"#fb9f3a\"],[0.8888888888888888,\"#fdca26\"],[1.0,\"#f0f921\"]],\"type\":\"histogram2d\"}],\"histogram\":[{\"marker\":{\"pattern\":{\"fillmode\":\"overlay\",\"size\":10,\"solidity\":0.2}},\"type\":\"histogram\"}],\"mesh3d\":[{\"colorbar\":{\"outlinewidth\":0,\"ticks\":\"\"},\"type\":\"mesh3d\"}],\"parcoords\":[{\"line\":{\"colorbar\":{\"outlinewidth\":0,\"ticks\":\"\"}},\"type\":\"parcoords\"}],\"pie\":[{\"automargin\":true,\"type\":\"pie\"}],\"scatter3d\":[{\"line\":{\"colorbar\":{\"outlinewidth\":0,\"ticks\":\"\"}},\"marker\":{\"colorbar\":{\"outlinewidth\":0,\"ticks\":\"\"}},\"type\":\"scatter3d\"}],\"scattercarpet\":[{\"marker\":{\"colorbar\":{\"outlinewidth\":0,\"ticks\":\"\"}},\"type\":\"scattercarpet\"}],\"scattergeo\":[{\"marker\":{\"colorbar\":{\"outlinewidth\":0,\"ticks\":\"\"}},\"type\":\"scattergeo\"}],\"scattergl\":[{\"marker\":{\"colorbar\":{\"outlinewidth\":0,\"ticks\":\"\"}},\"type\":\"scattergl\"}],\"scattermapbox\":[{\"marker\":{\"colorbar\":{\"outlinewidth\":0,\"ticks\":\"\"}},\"type\":\"scattermapbox\"}],\"scatterpolargl\":[{\"marker\":{\"colorbar\":{\"outlinewidth\":0,\"ticks\":\"\"}},\"type\":\"scatterpolargl\"}],\"scatterpolar\":[{\"marker\":{\"colorbar\":{\"outlinewidth\":0,\"ticks\":\"\"}},\"type\":\"scatterpolar\"}],\"scatter\":[{\"marker\":{\"colorbar\":{\"outlinewidth\":0,\"ticks\":\"\"}},\"type\":\"scatter\"}],\"scatterternary\":[{\"marker\":{\"colorbar\":{\"outlinewidth\":0,\"ticks\":\"\"}},\"type\":\"scatterternary\"}],\"surface\":[{\"colorbar\":{\"outlinewidth\":0,\"ticks\":\"\"},\"colorscale\":[[0.0,\"#0d0887\"],[0.1111111111111111,\"#46039f\"],[0.2222222222222222,\"#7201a8\"],[0.3333333333333333,\"#9c179e\"],[0.4444444444444444,\"#bd3786\"],[0.5555555555555556,\"#d8576b\"],[0.6666666666666666,\"#ed7953\"],[0.7777777777777778,\"#fb9f3a\"],[0.8888888888888888,\"#fdca26\"],[1.0,\"#f0f921\"]],\"type\":\"surface\"}],\"table\":[{\"cells\":{\"fill\":{\"color\":\"#EBF0F8\"},\"line\":{\"color\":\"white\"}},\"header\":{\"fill\":{\"color\":\"#C8D4E3\"},\"line\":{\"color\":\"white\"}},\"type\":\"table\"}]},\"layout\":{\"annotationdefaults\":{\"arrowcolor\":\"#2a3f5f\",\"arrowhead\":0,\"arrowwidth\":1},\"autotypenumbers\":\"strict\",\"coloraxis\":{\"colorbar\":{\"outlinewidth\":0,\"ticks\":\"\"}},\"colorscale\":{\"diverging\":[[0,\"#8e0152\"],[0.1,\"#c51b7d\"],[0.2,\"#de77ae\"],[0.3,\"#f1b6da\"],[0.4,\"#fde0ef\"],[0.5,\"#f7f7f7\"],[0.6,\"#e6f5d0\"],[0.7,\"#b8e186\"],[0.8,\"#7fbc41\"],[0.9,\"#4d9221\"],[1,\"#276419\"]],\"sequential\":[[0.0,\"#0d0887\"],[0.1111111111111111,\"#46039f\"],[0.2222222222222222,\"#7201a8\"],[0.3333333333333333,\"#9c179e\"],[0.4444444444444444,\"#bd3786\"],[0.5555555555555556,\"#d8576b\"],[0.6666666666666666,\"#ed7953\"],[0.7777777777777778,\"#fb9f3a\"],[0.8888888888888888,\"#fdca26\"],[1.0,\"#f0f921\"]],\"sequentialminus\":[[0.0,\"#0d0887\"],[0.1111111111111111,\"#46039f\"],[0.2222222222222222,\"#7201a8\"],[0.3333333333333333,\"#9c179e\"],[0.4444444444444444,\"#bd3786\"],[0.5555555555555556,\"#d8576b\"],[0.6666666666666666,\"#ed7953\"],[0.7777777777777778,\"#fb9f3a\"],[0.8888888888888888,\"#fdca26\"],[1.0,\"#f0f921\"]]},\"colorway\":[\"#636efa\",\"#EF553B\",\"#00cc96\",\"#ab63fa\",\"#FFA15A\",\"#19d3f3\",\"#FF6692\",\"#B6E880\",\"#FF97FF\",\"#FECB52\"],\"font\":{\"color\":\"#2a3f5f\"},\"geo\":{\"bgcolor\":\"white\",\"lakecolor\":\"white\",\"landcolor\":\"#E5ECF6\",\"showlakes\":true,\"showland\":true,\"subunitcolor\":\"white\"},\"hoverlabel\":{\"align\":\"left\"},\"hovermode\":\"closest\",\"mapbox\":{\"style\":\"light\"},\"paper_bgcolor\":\"white\",\"plot_bgcolor\":\"#E5ECF6\",\"polar\":{\"angularaxis\":{\"gridcolor\":\"white\",\"linecolor\":\"white\",\"ticks\":\"\"},\"bgcolor\":\"#E5ECF6\",\"radialaxis\":{\"gridcolor\":\"white\",\"linecolor\":\"white\",\"ticks\":\"\"}},\"scene\":{\"xaxis\":{\"backgroundcolor\":\"#E5ECF6\",\"gridcolor\":\"white\",\"gridwidth\":2,\"linecolor\":\"white\",\"showbackground\":true,\"ticks\":\"\",\"zerolinecolor\":\"white\"},\"yaxis\":{\"backgroundcolor\":\"#E5ECF6\",\"gridcolor\":\"white\",\"gridwidth\":2,\"linecolor\":\"white\",\"showbackground\":true,\"ticks\":\"\",\"zerolinecolor\":\"white\"},\"zaxis\":{\"backgroundcolor\":\"#E5ECF6\",\"gridcolor\":\"white\",\"gridwidth\":2,\"linecolor\":\"white\",\"showbackground\":true,\"ticks\":\"\",\"zerolinecolor\":\"white\"}},\"shapedefaults\":{\"line\":{\"color\":\"#2a3f5f\"}},\"ternary\":{\"aaxis\":{\"gridcolor\":\"white\",\"linecolor\":\"white\",\"ticks\":\"\"},\"baxis\":{\"gridcolor\":\"white\",\"linecolor\":\"white\",\"ticks\":\"\"},\"bgcolor\":\"#E5ECF6\",\"caxis\":{\"gridcolor\":\"white\",\"linecolor\":\"white\",\"ticks\":\"\"}},\"title\":{\"x\":0.05},\"xaxis\":{\"automargin\":true,\"gridcolor\":\"white\",\"linecolor\":\"white\",\"ticks\":\"\",\"title\":{\"standoff\":15},\"zerolinecolor\":\"white\",\"zerolinewidth\":2},\"yaxis\":{\"automargin\":true,\"gridcolor\":\"white\",\"linecolor\":\"white\",\"ticks\":\"\",\"title\":{\"standoff\":15},\"zerolinecolor\":\"white\",\"zerolinewidth\":2}}},\"title\":{\"text\":\"Generic800\",\"x\":0.5,\"xanchor\":\"center\",\"y\":0.97,\"yanchor\":\"top\"},\"width\":1100,\"xaxis\":{\"visible\":false},\"yaxis\":{\"gridcolor\":\"rgba(220,220,220,0.8)\",\"gridwidth\":1.2,\"range\":[2800,3080],\"showspikes\":true,\"spikedash\":\"longdashdot\",\"spikemode\":\"across\",\"spikesnap\":\"cursor\",\"spikethickness\":1,\"title\":{\"text\":\"fuel_cost [$]\"},\"visible\":true}},                        {\"responsive\": true}                    ).then(function(){\n",
       "                            \n",
       "var gd = document.getElementById('b231d4ba-a5ca-45e3-a205-dbf7af3f84ee');\n",
       "var x = new MutationObserver(function (mutations, observer) {{\n",
       "        var display = window.getComputedStyle(gd).display;\n",
       "        if (!display || display === 'none') {{\n",
       "            console.log([gd, 'removed!']);\n",
       "            Plotly.purge(gd);\n",
       "            observer.disconnect();\n",
       "        }}\n",
       "}});\n",
       "\n",
       "// Listen for the removal of the full notebook cells\n",
       "var notebookContainer = gd.closest('#notebook-container');\n",
       "if (notebookContainer) {{\n",
       "    x.observe(notebookContainer, {childList: true});\n",
       "}}\n",
       "\n",
       "// Listen for the clearing of the current output cell\n",
       "var outputEl = gd.closest('.output');\n",
       "if (outputEl) {{\n",
       "    x.observe(outputEl, {childList: true});\n",
       "}}\n",
       "\n",
       "                        })                };                });            </script>        </div>"
      ]
     },
     "metadata": {},
     "output_type": "display_data"
    },
    {
     "ename": "TypeError",
     "evalue": "type numpy.ndarray doesn't define __round__ method",
     "output_type": "error",
     "traceback": [
      "\u001b[0;31m---------------------------------------------------------------------------\u001b[0m",
      "\u001b[0;31mTypeError\u001b[0m                                 Traceback (most recent call last)",
      "\u001b[1;32m/Users/to127534/MDO_Projects/MDOAirB_base/framework/Test/FPO_studies/CarpetPlotSylvain.ipynb Cell 14'\u001b[0m in \u001b[0;36m<cell line: 11>\u001b[0;34m()\u001b[0m\n\u001b[1;32m      <a href='vscode-notebook-cell:/Users/to127534/MDO_Projects/MDOAirB_base/framework/Test/FPO_studies/CarpetPlotSylvain.ipynb#ch0000013?line=8'>9</a>\u001b[0m mclref\u001b[39m=\u001b[39m\u001b[39m6600\u001b[39m\n\u001b[1;32m     <a href='vscode-notebook-cell:/Users/to127534/MDO_Projects/MDOAirB_base/framework/Test/FPO_studies/CarpetPlotSylvain.ipynb#ch0000013?line=9'>10</a>\u001b[0m d\u001b[39m=\u001b[39m\u001b[39m-\u001b[39m\u001b[39m5\u001b[39m\n\u001b[0;32m---> <a href='vscode-notebook-cell:/Users/to127534/MDO_Projects/MDOAirB_base/framework/Test/FPO_studies/CarpetPlotSylvain.ipynb#ch0000013?line=10'>11</a>\u001b[0m clb\u001b[39m=\u001b[39m \u001b[39mround\u001b[39;49m((interp[p]([\u001b[39m148.5\u001b[39;49m, \u001b[39m30550\u001b[39;49m, mclref\u001b[39m*\u001b[39;49m(\u001b[39m1\u001b[39;49m\u001b[39m+\u001b[39;49md\u001b[39m/\u001b[39;49m\u001b[39m100.\u001b[39;49m)])\u001b[39m/\u001b[39;49minterp[p]([\u001b[39m148.5\u001b[39;49m, \u001b[39m30550\u001b[39;49m, mclref])\u001b[39m-\u001b[39;49m\u001b[39m1\u001b[39;49m)\u001b[39m*\u001b[39;49m\u001b[39m100\u001b[39;49m,\u001b[39m1\u001b[39;49m)\n\u001b[1;32m     <a href='vscode-notebook-cell:/Users/to127534/MDO_Projects/MDOAirB_base/framework/Test/FPO_studies/CarpetPlotSylvain.ipynb#ch0000013?line=11'>12</a>\u001b[0m \u001b[39mprint\u001b[39m(\u001b[39m\"\u001b[39m\u001b[39m{}\u001b[39;00m\u001b[39m sensitivities:\u001b[39m\u001b[39m\\n\u001b[39;00m\u001b[39m@ \u001b[39m\u001b[39m{}\u001b[39;00m\u001b[39mlbf \u001b[39m\u001b[39m{}\u001b[39;00m\u001b[39m%\u001b[39m\u001b[39m MCL => \u001b[39m\u001b[39m{}\u001b[39;00m\u001b[39m%\u001b[39m\u001b[39m\"\u001b[39m\u001b[39m.\u001b[39mformat(p, mclref, d, clb))\n\u001b[1;32m     <a href='vscode-notebook-cell:/Users/to127534/MDO_Projects/MDOAirB_base/framework/Test/FPO_studies/CarpetPlotSylvain.ipynb#ch0000013?line=12'>13</a>\u001b[0m mclref\u001b[39m=\u001b[39m\u001b[39m5800\u001b[39m\n",
      "\u001b[0;31mTypeError\u001b[0m: type numpy.ndarray doesn't define __round__ method"
     ]
    }
   ],
   "source": [
    "UC = 'Generic800'\n",
    "DOE=pd.read_csv('example.csv'.format(UC), sep=',')\n",
    "DOE['status'] = DOE.apply(TLARstatus, axis=1, dico=isoDict)\n",
    "interp=getMultiLinInterp(DOE, ['Total_Area', \"MTO_AET\", \"MCL\"])\n",
    "\n",
    "p = 'fuel_cost'\n",
    "f = carpetplot3D(p, unit='[$]', L = [[148.5, 30550, 6600]], chSlope=1, chart_title=UC)\n",
    "iplot(f)\n",
    "mclref=6600\n",
    "d=-5\n",
    "clb= round((interp[p]([148.5, 30550, mclref*(1+d/100.)])/interp[p]([148.5, 30550, mclref])-1)*100,1)\n",
    "print(\"{} sensitivities:\\n@ {}lbf {}% MCL => {}%\".format(p, mclref, d, clb))\n",
    "mclref=5800\n",
    "d=+5\n",
    "clb= round((interp[p]([148.5, 30550, mclref*(1+d/100.)])/interp[p]([148.5, 30550, mclref])-1)*100,1)\n",
    "print(\"@ {}lbf {}% MCL => {}%\".format(mclref, d, clb))"
   ]
  },
  {
   "cell_type": "code",
   "execution_count": null,
   "metadata": {},
   "outputs": [],
   "source": []
  }
 ],
 "metadata": {
  "hide_input": false,
  "interpreter": {
   "hash": "91e835e138cad369abd57fd16d332242f4cebb53fe2806dcb88848f485cbe15b"
  },
  "kernelspec": {
   "display_name": "py27",
   "language": "python",
   "name": "python3"
  },
  "language_info": {
   "codemirror_mode": {
    "name": "ipython",
    "version": 3
   },
   "file_extension": ".py",
   "mimetype": "text/x-python",
   "name": "python",
   "nbconvert_exporter": "python",
   "pygments_lexer": "ipython3",
   "version": "3.8.13"
  },
  "toc": {
   "base_numbering": 1,
   "nav_menu": {},
   "number_sections": false,
   "sideBar": true,
   "skip_h1_title": false,
   "title_cell": "Table of Contents",
   "title_sidebar": "Contents",
   "toc_cell": false,
   "toc_position": {
    "height": "298px",
    "left": "1091px",
    "top": "110px",
    "width": "212px"
   },
   "toc_section_display": true,
   "toc_window_display": true
  }
 },
 "nbformat": 4,
 "nbformat_minor": 1
}
